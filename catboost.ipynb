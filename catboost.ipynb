{
  "cells": [
    {
      "cell_type": "markdown",
      "metadata": {
        "id": "view-in-github",
        "colab_type": "text"
      },
      "source": [
        "<a href=\"https://colab.research.google.com/github/DHarley22/Prediction_case_malaria_mozambique/blob/1-xgboost-predictor-python-version/catboost.ipynb\" target=\"_parent\"><img src=\"https://colab.research.google.com/assets/colab-badge.svg\" alt=\"Open In Colab\"/></a>"
      ]
    },
    {
      "cell_type": "code",
      "execution_count": null,
      "metadata": {
        "id": "Z0RUPL4BZQbT"
      },
      "outputs": [],
      "source": [
        "%%capture\n",
        "!pip install gdown optuna lightgbm catboost\n"
      ]
    },
    {
      "cell_type": "code",
      "execution_count": null,
      "metadata": {
        "id": "NgYbeDN7ZiJi"
      },
      "outputs": [],
      "source": [
        "import pandas as pd\n",
        "import seaborn as sns\n",
        "import matplotlib.pyplot as plt\n",
        "import geopandas as gpd\n",
        "import os\n",
        "import numpy as np\n",
        "import xgboost as xgb\n",
        "import sklearn\n",
        "import gdown\n",
        "import optuna\n",
        "from sklearn.metrics import mean_squared_error\n",
        "from sklearn.model_selection import train_test_split as split_into_two\n",
        "from sklearn.model_selection import GridSearchCV\n",
        "from sklearn.model_selection import RandomizedSearchCV\n",
        "from sklearn.model_selection import cross_val_score\n",
        "from sklearn.model_selection import KFold\n",
        "from xgboost import XGBRegressor\n",
        "from catboost import CatBoostRegressor"
      ]
    },
    {
      "cell_type": "code",
      "execution_count": null,
      "metadata": {
        "id": "5u85q7shZkTO"
      },
      "outputs": [],
      "source": [
        "%%capture\n",
        "\n",
        "# The mozambique dataset is hosted here\n",
        "# https://drive.google.com/file/d/1uHGOjxlxfDYY5E-aL9HVRGvheDa_wNyq/view?usp=sharing\n",
        "dataset_drive_id = '1uHGOjxlxfDYY5E-aL9HVRGvheDa_wNyq'\n",
        "dataset_output_file = 'downloaded_sheet.xlsx'\n",
        "\n",
        "# The shape file relatd to the dataset is hosted here\n",
        "# https://drive.google.com/drive/folders/14UJ7ZXWmNeL28sYAv6dObNsC42kQr4Ja?usp=sharing\n",
        "shape_file_drive_id = '14UJ7ZXWmNeL28sYAv6dObNsC42kQr4Ja'\n",
        "shape_output_folder = 'shape_files'\n",
        "\n",
        "gdown.download_folder(id=shape_file_drive_id, output=shape_output_folder, quiet=False)\n",
        "gdown.download(id=dataset_drive_id, output=dataset_output_file, quiet=False)\n"
      ]
    },
    {
      "cell_type": "code",
      "execution_count": null,
      "metadata": {
        "id": "1HABfXDxZmwt"
      },
      "outputs": [],
      "source": [
        "dataset = pd.read_csv(f\"/content/{dataset_output_file}\")\n",
        "shape_file = gpd.read_file(f\"/content/{shape_output_folder}/shape_file.shp\")"
      ]
    },
    {
      "cell_type": "code",
      "execution_count": null,
      "metadata": {
        "id": "u3krSJdwZpb8"
      },
      "outputs": [],
      "source": [
        "# (Left) join the dataset to the shape_file using the \"district\" field\n",
        "shaped_dataset = dataset.merge(\n",
        "    shape_file[[\"district\", \"geometry\"]],\n",
        "    on=\"district\",\n",
        "    how=\"left\"\n",
        ")\n",
        "\n",
        "# Convert the Dataframe into GeoDataframe and add some fields to it\n",
        "shaped_dataset =  gpd.GeoDataFrame(shaped_dataset, geometry=\"geometry\")\n",
        "\n",
        "shaped_dataset = shaped_dataset.to_crs(epsg=3857)\n",
        "\n",
        "# Calculate the area and centroid using the projected CRS\n",
        "shaped_dataset[\"area\"] = shaped_dataset.geometry.area\n",
        "shaped_dataset[\"centroid_x\"] = shaped_dataset.geometry.centroid.x\n",
        "shaped_dataset[\"centroid_y\"] = shaped_dataset.geometry.centroid.y"
      ]
    },
    {
      "cell_type": "code",
      "execution_count": null,
      "metadata": {
        "colab": {
          "base_uri": "https://localhost:8080/"
        },
        "id": "XtdWZMpdZssK",
        "outputId": "d525f0ea-914c-4fff-dc54-d1fc9c8fe0b4"
      },
      "outputs": [
        {
          "name": "stdout",
          "output_type": "stream",
          "text": [
            "(5088, 10) (5088,)\n"
          ]
        }
      ],
      "source": [
        "TARGET_DISEASE_FIELD = \"malaria_cases_u5\"\n",
        "\n",
        "\n",
        "# Relevant features\n",
        "relevant_features = [\n",
        "    # Environemental features\n",
        "    'tmin', 'tmax', 'precipitation', 'ndvi','RH',\n",
        "    # Socio-economic features\n",
        "    'prop_poor', 'prop_Rural', 'prop_drinking_TreatedWater',\n",
        "    # Spatial features\n",
        "     'centroid_x', 'centroid_y', 'area',\n",
        "]\n",
        "\n",
        "# Test dataset predicate; use lines between March and June for testing\n",
        "test_data_predicate = (shaped_dataset['year'] == 2018) & (shaped_dataset['month'].between(3, 6))\n",
        "\n",
        "# Test dataset\n",
        "X_test = shaped_dataset[test_data_predicate][relevant_features]\n",
        "y_test = shaped_dataset[test_data_predicate][TARGET_DISEASE_FIELD]\n",
        "\n",
        "# The rest of the dataset separated as X, y\n",
        "X = shaped_dataset[~test_data_predicate][relevant_features]\n",
        "y = shaped_dataset[~test_data_predicate][TARGET_DISEASE_FIELD]\n",
        "\n",
        "print(X.shape, y.shape)\n",
        "X_train, X_val, y_train, y_val = split_into_two(X, y, test_size=0.3, random_state=42)\n",
        "\n",
        "\n"
      ]
    },
    {
      "cell_type": "code",
      "execution_count": null,
      "metadata": {
        "colab": {
          "background_save": true,
          "base_uri": "https://localhost:8080/"
        },
        "id": "Xma21qyMZvlX",
        "outputId": "f1883949-cc62-4bd4-de33-17c147817f02"
      },
      "outputs": [
        {
          "name": "stderr",
          "output_type": "stream",
          "text": [
            "[I 2025-01-29 13:21:12,974] A new study created in memory with name: catboost_model_study\n",
            "[I 2025-01-29 13:21:28,818] Trial 0 finished with value: 874.6608294538921 and parameters: {'depth': 3, 'learning_rate': 0.04067714466871558, 'l2_leaf_reg': 0.004469207689830918, 'iterations': 2523}. Best is trial 0 with value: 874.6608294538921.\n",
            "[I 2025-01-29 13:21:57,652] Trial 1 finished with value: 855.3845742915167 and parameters: {'depth': 5, 'learning_rate': 0.014758970576737505, 'l2_leaf_reg': 0.41284989175180653, 'iterations': 2954}. Best is trial 1 with value: 855.3845742915167.\n",
            "[I 2025-01-29 13:22:08,917] Trial 2 finished with value: 1756.2106002229825 and parameters: {'depth': 6, 'learning_rate': 0.00014228848412001485, 'l2_leaf_reg': 0.0033531647362556915, 'iterations': 642}. Best is trial 1 with value: 855.3845742915167.\n",
            "[I 2025-01-29 13:25:54,771] Trial 3 finished with value: 1542.3197367351167 and parameters: {'depth': 10, 'learning_rate': 0.00022607671547098988, 'l2_leaf_reg': 0.0011040089169923955, 'iterations': 1885}. Best is trial 1 with value: 855.3845742915167.\n",
            "[I 2025-01-29 13:26:07,920] Trial 4 finished with value: 1270.8365608617098 and parameters: {'depth': 4, 'learning_rate': 0.0020371580635289445, 'l2_leaf_reg': 5.946457329623269, 'iterations': 1798}. Best is trial 1 with value: 855.3845742915167.\n",
            "[I 2025-01-29 13:27:30,084] Trial 5 finished with value: 1232.4364699489456 and parameters: {'depth': 7, 'learning_rate': 0.0005125077255546407, 'l2_leaf_reg': 3.2060882652281195e-05, 'iterations': 3613}. Best is trial 1 with value: 855.3845742915167.\n",
            "[I 2025-01-29 13:29:31,911] Trial 6 finished with value: 1323.9121557263215 and parameters: {'depth': 8, 'learning_rate': 0.0003634564761658555, 'l2_leaf_reg': 0.00010073988715164033, 'iterations': 3139}. Best is trial 1 with value: 855.3845742915167.\n",
            "[I 2025-01-29 13:29:43,477] Trial 7 finished with value: 877.8117123181985 and parameters: {'depth': 3, 'learning_rate': 0.04880201200217328, 'l2_leaf_reg': 0.38030082010646776, 'iterations': 2062}. Best is trial 1 with value: 855.3845742915167.\n",
            "[I 2025-01-29 13:29:48,036] Trial 8 finished with value: 1080.871126403842 and parameters: {'depth': 2, 'learning_rate': 0.020939408854997617, 'l2_leaf_reg': 0.000576299666636879, 'iterations': 1293}. Best is trial 1 with value: 855.3845742915167.\n",
            "[I 2025-01-29 13:30:10,351] Trial 9 finished with value: 1354.9252148075975 and parameters: {'depth': 8, 'learning_rate': 0.001810576250345784, 'l2_leaf_reg': 0.0005464606420251292, 'iterations': 558}. Best is trial 1 with value: 855.3845742915167.\n",
            "[I 2025-01-29 13:30:57,934] Trial 10 finished with value: 1776.6798639989088 and parameters: {'depth': 5, 'learning_rate': 1.3002394057580988e-05, 'l2_leaf_reg': 0.1008238640377098, 'iterations': 4852}. Best is trial 1 with value: 855.3845742915167.\n",
            "[I 2025-01-29 13:31:21,588] Trial 11 finished with value: 880.6092385401358 and parameters: {'depth': 4, 'learning_rate': 0.01212859593155178, 'l2_leaf_reg': 0.037919564066941754, 'iterations': 3088}. Best is trial 1 with value: 855.3845742915167.\n",
            "[I 2025-01-29 13:31:40,840] Trial 12 finished with value: 924.7370875050253 and parameters: {'depth': 2, 'learning_rate': 0.09428008685744639, 'l2_leaf_reg': 2.2131895899497533, 'iterations': 4175}. Best is trial 1 with value: 855.3845742915167.\n",
            "[I 2025-01-29 13:32:06,511] Trial 13 finished with value: 891.3507647536568 and parameters: {'depth': 5, 'learning_rate': 0.008516376618754875, 'l2_leaf_reg': 0.017983328973297404, 'iterations': 2477}. Best is trial 1 with value: 855.3845742915167.\n",
            "[I 2025-01-29 13:32:28,747] Trial 14 finished with value: 988.9897886268554 and parameters: {'depth': 4, 'learning_rate': 0.0049088093743941295, 'l2_leaf_reg': 0.45435520495020915, 'iterations': 2973}. Best is trial 1 with value: 855.3845742915167.\n",
            "[I 2025-01-29 13:32:48,603] Trial 15 finished with value: 873.0576004065184 and parameters: {'depth': 3, 'learning_rate': 0.03188523883770829, 'l2_leaf_reg': 0.0048050825247020895, 'iterations': 3894}. Best is trial 1 with value: 855.3845742915167.\n",
            "[I 2025-01-29 13:33:48,039] Trial 16 finished with value: 869.7845508659248 and parameters: {'depth': 6, 'learning_rate': 0.004837408421781842, 'l2_leaf_reg': 0.13766119657282394, 'iterations': 4052}. Best is trial 1 with value: 855.3845742915167.\n",
            "[I 2025-01-29 13:34:54,076] Trial 17 finished with value: 874.8886171437871 and parameters: {'depth': 6, 'learning_rate': 0.004065544581570614, 'l2_leaf_reg': 0.2569818861168303, 'iterations': 4563}. Best is trial 1 with value: 855.3845742915167.\n",
            "[I 2025-01-29 13:36:14,707] Trial 18 finished with value: 1707.9949819970257 and parameters: {'depth': 7, 'learning_rate': 5.488187279961422e-05, 'l2_leaf_reg': 1.7741032648906665, 'iterations': 3532}. Best is trial 1 with value: 855.3845742915167.\n",
            "[I 2025-01-29 13:44:47,421] Trial 19 finished with value: 947.2825978394854 and parameters: {'depth': 10, 'learning_rate': 0.0011213804749703644, 'l2_leaf_reg': 0.06681889085712249, 'iterations': 4276}. Best is trial 1 with value: 855.3845742915167.\n",
            "[I 2025-01-29 13:46:40,458] Trial 20 finished with value: 852.4151259602756 and parameters: {'depth': 7, 'learning_rate': 0.004835887283893563, 'l2_leaf_reg': 1.0920807708065934, 'iterations': 4971}. Best is trial 20 with value: 852.4151259602756.\n",
            "[I 2025-01-29 13:48:29,702] Trial 21 finished with value: 859.7523590249714 and parameters: {'depth': 7, 'learning_rate': 0.004363379487868515, 'l2_leaf_reg': 1.3239552968516803, 'iterations': 4819}. Best is trial 20 with value: 852.4151259602756.\n",
            "[I 2025-01-29 13:51:43,687] Trial 22 finished with value: 833.4162925207311 and parameters: {'depth': 8, 'learning_rate': 0.011833211189298013, 'l2_leaf_reg': 1.1690439227702154, 'iterations': 4941}. Best is trial 22 with value: 833.4162925207311.\n",
            "[I 2025-01-29 13:57:04,374] Trial 23 finished with value: 845.8309458201293 and parameters: {'depth': 9, 'learning_rate': 0.014714740602798116, 'l2_leaf_reg': 5.840814921684667, 'iterations': 4574}. Best is trial 22 with value: 833.4162925207311.\n",
            "[I 2025-01-29 14:02:49,446] Trial 24 finished with value: 848.0237948111653 and parameters: {'depth': 9, 'learning_rate': 0.007744685841030014, 'l2_leaf_reg': 5.95129344479199, 'iterations': 4900}. Best is trial 22 with value: 833.4162925207311.\n",
            "[I 2025-01-29 14:08:03,674] Trial 25 finished with value: 853.2693923458997 and parameters: {'depth': 9, 'learning_rate': 0.09099203263240914, 'l2_leaf_reg': 7.950530214314694, 'iterations': 4501}. Best is trial 22 with value: 833.4162925207311.\n",
            "[I 2025-01-29 14:13:13,094] Trial 26 finished with value: 849.6214940168624 and parameters: {'depth': 9, 'learning_rate': 0.009424708968829349, 'l2_leaf_reg': 8.930269718217865, 'iterations': 4470}. Best is trial 22 with value: 833.4162925207311.\n",
            "[I 2025-01-29 14:17:27,790] Trial 27 finished with value: 840.429047594647 and parameters: {'depth': 9, 'learning_rate': 0.02377637909574045, 'l2_leaf_reg': 3.3124173806790576, 'iterations': 3664}. Best is trial 22 with value: 833.4162925207311.\n",
            "[I 2025-01-29 14:19:47,074] Trial 28 finished with value: 835.9278986656727 and parameters: {'depth': 8, 'learning_rate': 0.02920674267204233, 'l2_leaf_reg': 3.541695999851287, 'iterations': 3670}. Best is trial 22 with value: 833.4162925207311.\n",
            "[I 2025-01-29 14:22:02,721] Trial 29 finished with value: 834.2396483815419 and parameters: {'depth': 8, 'learning_rate': 0.03928244567465352, 'l2_leaf_reg': 2.2099632652519587, 'iterations': 3563}. Best is trial 22 with value: 833.4162925207311.\n",
            "[I 2025-01-29 14:23:38,899] Trial 30 finished with value: 835.3714994740003 and parameters: {'depth': 8, 'learning_rate': 0.041788857190848405, 'l2_leaf_reg': 0.9158856308738939, 'iterations': 2530}. Best is trial 22 with value: 833.4162925207311.\n",
            "[I 2025-01-29 14:25:15,369] Trial 31 finished with value: 836.3629963054461 and parameters: {'depth': 8, 'learning_rate': 0.057396873206426245, 'l2_leaf_reg': 0.644018731765567, 'iterations': 2517}. Best is trial 22 with value: 833.4162925207311.\n",
            "[I 2025-01-29 14:27:23,495] Trial 32 finished with value: 839.5717925012007 and parameters: {'depth': 8, 'learning_rate': 0.04057992120150812, 'l2_leaf_reg': 0.8874462339647848, 'iterations': 3434}. Best is trial 22 with value: 833.4162925207311.\n",
            "[I 2025-01-29 14:28:49,067] Trial 33 finished with value: 836.6117435735862 and parameters: {'depth': 8, 'learning_rate': 0.023044988756721306, 'l2_leaf_reg': 0.15962464829856277, 'iterations': 2255}. Best is trial 22 with value: 833.4162925207311.\n",
            "[I 2025-01-29 14:31:33,223] Trial 34 finished with value: 849.1065401867197 and parameters: {'depth': 10, 'learning_rate': 0.0589548103889764, 'l2_leaf_reg': 2.7189466531895867, 'iterations': 1432}. Best is trial 22 with value: 833.4162925207311.\n",
            "[I 2025-01-29 14:32:32,671] Trial 35 finished with value: 839.3834725479888 and parameters: {'depth': 7, 'learning_rate': 0.027996474356373292, 'l2_leaf_reg': 0.7256800698409729, 'iterations': 2645}. Best is trial 22 with value: 833.4162925207311.\n",
            "[I 2025-01-29 14:34:35,041] Trial 36 finished with value: 842.8985345498216 and parameters: {'depth': 8, 'learning_rate': 0.09320536480595737, 'l2_leaf_reg': 3.2158004830009568, 'iterations': 3298}. Best is trial 22 with value: 833.4162925207311.\n",
            "[I 2025-01-29 14:34:37,096] Trial 37 finished with value: 1200.1041543931944 and parameters: {'depth': 6, 'learning_rate': 0.01631697367653462, 'l2_leaf_reg': 0.038229993155236876, 'iterations': 157}. Best is trial 22 with value: 833.4162925207311.\n",
            "[I 2025-01-29 14:40:00,251] Trial 38 finished with value: 914.1985563784101 and parameters: {'depth': 10, 'learning_rate': 0.0023397928546835273, 'l2_leaf_reg': 0.2606645192141855, 'iterations': 2806}. Best is trial 22 with value: 833.4162925207311.\n",
            "[I 2025-01-29 14:41:22,987] Trial 39 finished with value: 838.9788827072377 and parameters: {'depth': 7, 'learning_rate': 0.03572275383079862, 'l2_leaf_reg': 0.008867191890821916, 'iterations': 3805}. Best is trial 22 with value: 833.4162925207311.\n",
            "[I 2025-01-29 14:42:24,476] Trial 40 finished with value: 833.982113764066 and parameters: {'depth': 8, 'learning_rate': 0.0626605691284381, 'l2_leaf_reg': 1.1759157063671528e-05, 'iterations': 1604}. Best is trial 22 with value: 833.4162925207311.\n",
            "[I 2025-01-29 14:43:29,285] Trial 41 finished with value: 839.4935218999105 and parameters: {'depth': 8, 'learning_rate': 0.05214695490792399, 'l2_leaf_reg': 1.706868395293609e-05, 'iterations': 1706}. Best is trial 22 with value: 833.4162925207311.\n",
            "[I 2025-01-29 14:44:44,619] Trial 42 finished with value: 856.6277586155584 and parameters: {'depth': 9, 'learning_rate': 0.06321616931959301, 'l2_leaf_reg': 0.000123381010051445, 'iterations': 1091}. Best is trial 22 with value: 833.4162925207311.\n",
            "[I 2025-01-29 14:46:01,792] Trial 43 finished with value: 834.3948888336502 and parameters: {'depth': 8, 'learning_rate': 0.018053419035403414, 'l2_leaf_reg': 0.0010678651527761965, 'iterations': 2055}. Best is trial 22 with value: 833.4162925207311.\n",
            "[I 2025-01-29 14:46:48,570] Trial 44 finished with value: 842.1464588588772 and parameters: {'depth': 7, 'learning_rate': 0.016612673083746744, 'l2_leaf_reg': 0.0011589204594420071, 'iterations': 2061}. Best is trial 22 with value: 833.4162925207311.\n",
            "[I 2025-01-29 14:47:49,954] Trial 45 finished with value: 845.3745932203938 and parameters: {'depth': 8, 'learning_rate': 0.012825524956044214, 'l2_leaf_reg': 9.117943343157439e-05, 'iterations': 1602}. Best is trial 22 with value: 833.4162925207311.\n",
            "[I 2025-01-29 14:48:59,715] Trial 46 finished with value: 1517.7505432370526 and parameters: {'depth': 9, 'learning_rate': 0.0004948858023744282, 'l2_leaf_reg': 0.001643761507988887, 'iterations': 1004}. Best is trial 22 with value: 833.4162925207311.\n",
            "[I 2025-01-29 14:49:50,406] Trial 47 finished with value: 1658.3326021594119 and parameters: {'depth': 7, 'learning_rate': 0.00010952760754463272, 'l2_leaf_reg': 0.00017939326434483855, 'iterations': 2282}. Best is trial 22 with value: 833.4162925207311.\n",
            "[I 2025-01-29 14:51:03,151] Trial 48 finished with value: 853.2101214960487 and parameters: {'depth': 8, 'learning_rate': 0.00854635483082857, 'l2_leaf_reg': 3.937734596397114e-05, 'iterations': 1920}. Best is trial 22 with value: 833.4162925207311.\n"
          ]
        }
      ],
      "source": [
        "def objective(trial):\n",
        "    params = {\n",
        "        'depth': trial.suggest_int('depth', 2, 10),\n",
        "        'learning_rate': trial.suggest_float('learning_rate', 1e-5, 0.1, log=True),\n",
        "        'l2_leaf_reg': trial.suggest_float('l2_leaf_reg', 1e-5, 10, log=True),\n",
        "        'iterations': trial.suggest_int('iterations', 100, 5000),\n",
        "    }\n",
        "\n",
        "    model = CatBoostRegressor(**params, verbose=0)\n",
        "    score = cross_val_score(model, X_train, y_train, cv=5, scoring='neg_root_mean_squared_error').mean()\n",
        "\n",
        "    return -score\n",
        "\n",
        "study = optuna.create_study(study_name=\"catboost_model_study\", direction=\"minimize\")\n",
        "study.optimize(objective, n_trials=100)\n",
        "\n",
        "print(\"Best hyperparameters:\", study.best_params)"
      ]
    },
    {
      "cell_type": "code",
      "execution_count": 24,
      "metadata": {
        "id": "l6uEYuNvdVMH",
        "outputId": "c110e26d-ac85-4621-f46f-538ac9df962c",
        "colab": {
          "base_uri": "https://localhost:8080/"
        }
      },
      "outputs": [
        {
          "output_type": "stream",
          "name": "stdout",
          "text": [
            "Sample Predictions: [5326.86530594 4956.17383897 4172.9055363  3656.72163205 3078.42213316]\n"
          ]
        }
      ],
      "source": [
        "best_params = {'depth': 8, 'learning_rate': 0.011833211189298013, 'l2_leaf_reg': 1.1690439227702154, 'iterations': 4941} # from the 22 trial\n",
        "\n",
        "# Train the final model using the best hyperparameters\n",
        "final_model = CatBoostRegressor(**best_params, verbose=0)\n",
        "final_model.fit(X, y)\n",
        "\n",
        "# Make predictions on the test set\n",
        "y_pred = final_model.predict(X_test)\n",
        "\n",
        "# Print the first few predictions\n",
        "print(\"Sample Predictions:\", y_pred[:5])"
      ]
    },
    {
      "cell_type": "code",
      "source": [
        "truth = pd.read_csv(\"./groud_truth.csv\").Malaria_prediction"
      ],
      "metadata": {
        "id": "DAiX_g9JipoL"
      },
      "execution_count": 27,
      "outputs": []
    },
    {
      "cell_type": "code",
      "source": [
        "y_predicted = final_model.predict(X_test)"
      ],
      "metadata": {
        "id": "WNK6mxlnjAgX"
      },
      "execution_count": 28,
      "outputs": []
    },
    {
      "cell_type": "code",
      "source": [
        "from sklearn.metrics import mean_squared_error\n",
        "\n",
        "rmse = np.sqrt(mean_squared_error(truth, y_pred))\n",
        "print(f\"Final Test RMSE: {rmse:.4f}\")"
      ],
      "metadata": {
        "id": "mTh8JJbRi4CY",
        "outputId": "c6d62427-06ee-43a1-c89f-bb268c89926f",
        "colab": {
          "base_uri": "https://localhost:8080/"
        }
      },
      "execution_count": 31,
      "outputs": [
        {
          "output_type": "stream",
          "name": "stdout",
          "text": [
            "Final Test RMSE: 700.5730\n"
          ]
        }
      ]
    }
  ],
  "metadata": {
    "colab": {
      "provenance": [],
      "authorship_tag": "ABX9TyPFxptDnGrylV537ou8wuoW",
      "include_colab_link": true
    },
    "kernelspec": {
      "display_name": "Python 3",
      "name": "python3"
    },
    "language_info": {
      "name": "python"
    }
  },
  "nbformat": 4,
  "nbformat_minor": 0
}