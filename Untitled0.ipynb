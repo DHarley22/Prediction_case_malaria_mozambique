{
  "nbformat": 4,
  "nbformat_minor": 0,
  "metadata": {
    "colab": {
      "provenance": [],
      "toc_visible": true,
      "include_colab_link": true
    },
    "kernelspec": {
      "name": "python3",
      "display_name": "Python 3"
    },
    "language_info": {
      "name": "python"
    }
  },
  "cells": [
    {
      "cell_type": "markdown",
      "metadata": {
        "id": "view-in-github",
        "colab_type": "text"
      },
      "source": [
        "<a href=\"https://colab.research.google.com/github/DHarley22/Prediction_case_malaria_mozambique/blob/1-xgboost-predictor-python-version/Untitled0.ipynb\" target=\"_parent\"><img src=\"https://colab.research.google.com/assets/colab-badge.svg\" alt=\"Open In Colab\"/></a>"
      ]
    },
    {
      "cell_type": "code",
      "execution_count": null,
      "metadata": {
        "id": "-n4btymUj7c-"
      },
      "outputs": [],
      "source": [
        "%%capture\n",
        "!pip install gdown optuna lightgbm catboost\n"
      ]
    },
    {
      "cell_type": "code",
      "source": [
        "import pandas as pd\n",
        "import seaborn as sns\n",
        "import matplotlib.pyplot as plt\n",
        "import geopandas as gpd\n",
        "import os\n",
        "import numpy as np\n",
        "import xgboost as xgb\n",
        "import sklearn\n",
        "import gdown\n",
        "import optuna\n",
        "from sklearn.metrics import mean_squared_error\n",
        "from sklearn.model_selection import train_test_split as split_into_two\n",
        "from sklearn.model_selection import GridSearchCV\n",
        "from sklearn.model_selection import RandomizedSearchCV\n",
        "from sklearn.model_selection import cross_val_score\n",
        "from sklearn.model_selection import KFold\n",
        "from xgboost import XGBRegressor\n",
        "from catboost import CatBoostRegressor"
      ],
      "metadata": {
        "id": "Ol-8q0fRkHa2"
      },
      "execution_count": null,
      "outputs": []
    },
    {
      "cell_type": "code",
      "source": [
        "%%capture\n",
        "\n",
        "# The mozambique dataset is hosted here\n",
        "# https://drive.google.com/file/d/1uHGOjxlxfDYY5E-aL9HVRGvheDa_wNyq/view?usp=sharing\n",
        "dataset_drive_id = '1uHGOjxlxfDYY5E-aL9HVRGvheDa_wNyq'\n",
        "dataset_output_file = 'downloaded_sheet.xlsx'\n",
        "\n",
        "# The shape file relatd to the dataset is hosted here\n",
        "# https://drive.google.com/drive/folders/14UJ7ZXWmNeL28sYAv6dObNsC42kQr4Ja?usp=sharing\n",
        "shape_file_drive_id = '14UJ7ZXWmNeL28sYAv6dObNsC42kQr4Ja'\n",
        "shape_output_folder = 'shape_files'\n",
        "\n",
        "gdown.download_folder(id=shape_file_drive_id, output=shape_output_folder, quiet=False)\n",
        "gdown.download(id=dataset_drive_id, output=dataset_output_file, quiet=False)\n"
      ],
      "metadata": {
        "id": "Wvo9T84akJke"
      },
      "execution_count": null,
      "outputs": []
    },
    {
      "cell_type": "code",
      "source": [
        "dataset = pd.read_csv(f\"/content/{dataset_output_file}\")\n",
        "shape_file = gpd.read_file(f\"/content/{shape_output_folder}/shape_file.shp\")"
      ],
      "metadata": {
        "id": "KskaVMa4kMNv"
      },
      "execution_count": null,
      "outputs": []
    },
    {
      "cell_type": "code",
      "source": [
        "# (Left) join the dataset to the shape_file using the \"district\" field\n",
        "shaped_dataset = dataset.merge(\n",
        "    shape_file[[\"district\", \"geometry\"]],\n",
        "    on=\"district\",\n",
        "    how=\"left\"\n",
        ")\n",
        "\n",
        "# Convert the Dataframe into GeoDataframe and add some fields to it\n",
        "shaped_dataset =  gpd.GeoDataFrame(shaped_dataset, geometry=\"geometry\")\n",
        "\n",
        "shaped_dataset = shaped_dataset.to_crs(epsg=3857)\n",
        "\n",
        "# Calculate the area and centroid using the projected CRS\n",
        "shaped_dataset[\"area\"] = shaped_dataset.geometry.area\n",
        "shaped_dataset[\"centroid_x\"] = shaped_dataset.geometry.centroid.x\n",
        "shaped_dataset[\"centroid_y\"] = shaped_dataset.geometry.centroid.y"
      ],
      "metadata": {
        "id": "RxWIgHDAkOml"
      },
      "execution_count": null,
      "outputs": []
    },
    {
      "cell_type": "code",
      "source": [
        "TARGET_DISEASE_FIELD = \"malaria_cases_u5\"\n",
        "\n",
        "\n",
        "# Relevant features\n",
        "relevant_features = [\n",
        "    # Environemental features\n",
        "    'tmin', 'tmax', 'precipitation', 'ndvi','RH',\n",
        "    # Socio-economic features\n",
        "    'prop_poor', 'prop_Rural', 'prop_drinking_TreatedWater',\n",
        "    # Spatial features\n",
        "     'centroid_x', 'centroid_y'\n",
        "]\n",
        "\n",
        "# Test dataset predicate; use lines between March and June for testing\n",
        "test_data_predicate = (shaped_dataset['year'] == 2018) & (shaped_dataset['month'].between(3, 6))\n",
        "\n",
        "# Test dataset\n",
        "X_test = shaped_dataset[test_data_predicate][relevant_features]\n",
        "y_test = shaped_dataset[test_data_predicate][TARGET_DISEASE_FIELD]\n",
        "\n",
        "# The rest of the dataset separated as X, y\n",
        "X = shaped_dataset[~test_data_predicate][relevant_features]\n",
        "y = shaped_dataset[~test_data_predicate][TARGET_DISEASE_FIELD]\n",
        "\n",
        "print(X.shape, y.shape)\n",
        "X_train, X_val, y_train, y_val = split_into_two(X, y, test_size=0.3, random_state=42)\n",
        "\n",
        "\n"
      ],
      "metadata": {
        "colab": {
          "base_uri": "https://localhost:8080/"
        },
        "id": "ItATluDqkRGO",
        "outputId": "c6ae5bfd-b6bf-4842-e1d9-ec8deba1e540"
      },
      "execution_count": null,
      "outputs": [
        {
          "output_type": "stream",
          "name": "stdout",
          "text": [
            "(5088, 10) (5088,)\n"
          ]
        }
      ]
    },
    {
      "cell_type": "code",
      "source": [
        "import optuna\n",
        "from sklearn.ensemble import RandomForestRegressor\n",
        "from sklearn.model_selection import cross_val_score\n",
        "\n",
        "def objective(trial):\n",
        "    params = {\n",
        "        'n_estimators': trial.suggest_int('n_estimators', 50, 1000),\n",
        "        'max_depth': trial.suggest_int('max_depth', 2, 30),\n",
        "        'min_samples_split': trial.suggest_int('min_samples_split', 2, 20),\n",
        "        'min_samples_leaf': trial.suggest_int('min_samples_leaf', 1, 10),\n",
        "        'max_features': trial.suggest_categorical('max_features', ['sqrt', 'log2', None]),\n",
        "    }\n",
        "\n",
        "    model = RandomForestRegressor(**params, random_state=42, n_jobs=-1)\n",
        "    score = cross_val_score(model, X_train, y_train, cv=5, scoring='neg_root_mean_squared_error').mean()\n",
        "\n",
        "    return -score\n",
        "\n",
        "study = optuna.create_study(study_name=\"random_forest_study\", direction=\"minimize\")\n",
        "study.optimize(objective, n_trials=100)\n",
        "\n",
        "print(\"Best hyperparameters:\", study.best_params)\n"
      ],
      "metadata": {
        "colab": {
          "base_uri": "https://localhost:8080/"
        },
        "id": "TbZoFn6KkT_O",
        "outputId": "05d96706-cdff-47cb-e43b-f0b81abb6aa8"
      },
      "execution_count": null,
      "outputs": [
        {
          "output_type": "stream",
          "name": "stderr",
          "text": [
            "[I 2025-01-29 10:21:38,181] A new study created in memory with name: random_forest_study\n",
            "[I 2025-01-29 10:21:53,853] Trial 0 finished with value: 1291.4632417375792 and parameters: {'n_estimators': 758, 'max_depth': 5, 'min_samples_split': 19, 'min_samples_leaf': 10, 'max_features': 'sqrt'}. Best is trial 0 with value: 1291.4632417375792.\n",
            "[I 2025-01-29 10:22:15,905] Trial 1 finished with value: 958.7682858501336 and parameters: {'n_estimators': 633, 'max_depth': 16, 'min_samples_split': 10, 'min_samples_leaf': 6, 'max_features': 'sqrt'}. Best is trial 1 with value: 958.7682858501336.\n",
            "[I 2025-01-29 10:22:28,324] Trial 2 finished with value: 1077.4630311599951 and parameters: {'n_estimators': 448, 'max_depth': 10, 'min_samples_split': 10, 'min_samples_leaf': 10, 'max_features': 'sqrt'}. Best is trial 1 with value: 958.7682858501336.\n",
            "[I 2025-01-29 10:22:45,408] Trial 3 finished with value: 949.6613138843462 and parameters: {'n_estimators': 545, 'max_depth': 16, 'min_samples_split': 13, 'min_samples_leaf': 5, 'max_features': 'sqrt'}. Best is trial 3 with value: 949.6613138843462.\n",
            "[I 2025-01-29 10:22:57,665] Trial 4 finished with value: 905.1845169429911 and parameters: {'n_estimators': 352, 'max_depth': 17, 'min_samples_split': 8, 'min_samples_leaf': 3, 'max_features': 'log2'}. Best is trial 4 with value: 905.1845169429911.\n",
            "[I 2025-01-29 10:23:20,499] Trial 5 finished with value: 926.2263680857286 and parameters: {'n_estimators': 710, 'max_depth': 24, 'min_samples_split': 10, 'min_samples_leaf': 4, 'max_features': 'log2'}. Best is trial 4 with value: 905.1845169429911.\n",
            "[I 2025-01-29 10:23:35,222] Trial 6 finished with value: 978.7656250941675 and parameters: {'n_estimators': 457, 'max_depth': 21, 'min_samples_split': 9, 'min_samples_leaf': 7, 'max_features': 'log2'}. Best is trial 4 with value: 905.1845169429911.\n",
            "[I 2025-01-29 10:23:51,573] Trial 7 finished with value: 927.66203105842 and parameters: {'n_estimators': 478, 'max_depth': 21, 'min_samples_split': 14, 'min_samples_leaf': 2, 'max_features': 'log2'}. Best is trial 4 with value: 905.1845169429911.\n",
            "[I 2025-01-29 10:24:52,182] Trial 8 finished with value: 878.4554158273261 and parameters: {'n_estimators': 705, 'max_depth': 18, 'min_samples_split': 10, 'min_samples_leaf': 3, 'max_features': None}. Best is trial 8 with value: 878.4554158273261.\n",
            "[I 2025-01-29 10:25:02,465] Trial 9 finished with value: 938.4068723924202 and parameters: {'n_estimators': 258, 'max_depth': 17, 'min_samples_split': 9, 'min_samples_leaf': 5, 'max_features': 'sqrt'}. Best is trial 8 with value: 878.4554158273261.\n",
            "[I 2025-01-29 10:26:53,351] Trial 10 finished with value: 866.4624830269674 and parameters: {'n_estimators': 982, 'max_depth': 30, 'min_samples_split': 2, 'min_samples_leaf': 1, 'max_features': None}. Best is trial 10 with value: 866.4624830269674.\n",
            "[I 2025-01-29 10:28:43,366] Trial 11 finished with value: 866.4809949436618 and parameters: {'n_estimators': 984, 'max_depth': 30, 'min_samples_split': 2, 'min_samples_leaf': 1, 'max_features': None}. Best is trial 10 with value: 866.4624830269674.\n",
            "[I 2025-01-29 10:30:31,775] Trial 12 finished with value: 866.301775886008 and parameters: {'n_estimators': 962, 'max_depth': 30, 'min_samples_split': 2, 'min_samples_leaf': 1, 'max_features': None}. Best is trial 12 with value: 866.301775886008.\n",
            "[I 2025-01-29 10:32:24,464] Trial 13 finished with value: 866.5492275291787 and parameters: {'n_estimators': 999, 'max_depth': 29, 'min_samples_split': 2, 'min_samples_leaf': 1, 'max_features': None}. Best is trial 12 with value: 866.301775886008.\n",
            "[I 2025-01-29 10:33:49,553] Trial 14 finished with value: 864.4620235780546 and parameters: {'n_estimators': 851, 'max_depth': 26, 'min_samples_split': 5, 'min_samples_leaf': 1, 'max_features': None}. Best is trial 14 with value: 864.4620235780546.\n",
            "[I 2025-01-29 10:34:54,953] Trial 15 finished with value: 931.5964294085319 and parameters: {'n_estimators': 848, 'max_depth': 26, 'min_samples_split': 5, 'min_samples_leaf': 8, 'max_features': None}. Best is trial 14 with value: 864.4620235780546.\n",
            "[I 2025-01-29 10:34:59,742] Trial 16 finished with value: 878.0698813714732 and parameters: {'n_estimators': 59, 'max_depth': 26, 'min_samples_split': 5, 'min_samples_leaf': 3, 'max_features': None}. Best is trial 14 with value: 864.4620235780546.\n",
            "[I 2025-01-29 10:36:15,423] Trial 17 finished with value: 894.1280389616637 and parameters: {'n_estimators': 890, 'max_depth': 12, 'min_samples_split': 5, 'min_samples_leaf': 2, 'max_features': None}. Best is trial 14 with value: 864.4620235780546.\n",
            "[I 2025-01-29 10:37:35,455] Trial 18 finished with value: 869.4049118618686 and parameters: {'n_estimators': 870, 'max_depth': 22, 'min_samples_split': 7, 'min_samples_leaf': 2, 'max_features': None}. Best is trial 14 with value: 864.4620235780546.\n",
            "[I 2025-01-29 10:38:45,598] Trial 19 finished with value: 876.2783890211828 and parameters: {'n_estimators': 813, 'max_depth': 27, 'min_samples_split': 4, 'min_samples_leaf': 4, 'max_features': None}. Best is trial 14 with value: 864.4620235780546.\n",
            "[I 2025-01-29 10:39:28,040] Trial 20 finished with value: 962.6773190051383 and parameters: {'n_estimators': 586, 'max_depth': 11, 'min_samples_split': 20, 'min_samples_leaf': 8, 'max_features': None}. Best is trial 14 with value: 864.4620235780546.\n",
            "[I 2025-01-29 10:41:09,525] Trial 21 finished with value: 865.4688694913845 and parameters: {'n_estimators': 952, 'max_depth': 30, 'min_samples_split': 3, 'min_samples_leaf': 1, 'max_features': None}. Best is trial 14 with value: 864.4620235780546.\n",
            "[I 2025-01-29 10:42:42,218] Trial 22 finished with value: 864.5643985223245 and parameters: {'n_estimators': 897, 'max_depth': 27, 'min_samples_split': 4, 'min_samples_leaf': 1, 'max_features': None}. Best is trial 14 with value: 864.4620235780546.\n",
            "[I 2025-01-29 10:43:54,109] Trial 23 finished with value: 869.662224244133 and parameters: {'n_estimators': 781, 'max_depth': 24, 'min_samples_split': 7, 'min_samples_leaf': 2, 'max_features': None}. Best is trial 14 with value: 864.4620235780546.\n",
            "[I 2025-01-29 10:45:28,143] Trial 24 finished with value: 864.5551750575984 and parameters: {'n_estimators': 913, 'max_depth': 27, 'min_samples_split': 4, 'min_samples_leaf': 1, 'max_features': None}. Best is trial 14 with value: 864.4620235780546.\n",
            "[I 2025-01-29 10:46:23,687] Trial 25 finished with value: 876.7895642013843 and parameters: {'n_estimators': 645, 'max_depth': 23, 'min_samples_split': 6, 'min_samples_leaf': 4, 'max_features': None}. Best is trial 14 with value: 864.4620235780546.\n",
            "[I 2025-01-29 10:47:40,729] Trial 26 finished with value: 889.8249569049598 and parameters: {'n_estimators': 900, 'max_depth': 27, 'min_samples_split': 13, 'min_samples_leaf': 2, 'max_features': None}. Best is trial 14 with value: 864.4620235780546.\n",
            "[I 2025-01-29 10:48:47,261] Trial 27 finished with value: 871.4114686346711 and parameters: {'n_estimators': 732, 'max_depth': 19, 'min_samples_split': 4, 'min_samples_leaf': 3, 'max_features': None}. Best is trial 14 with value: 864.4620235780546.\n",
            "[I 2025-01-29 10:49:17,502] Trial 28 finished with value: 938.3330120829198 and parameters: {'n_estimators': 913, 'max_depth': 25, 'min_samples_split': 17, 'min_samples_leaf': 1, 'max_features': 'log2'}. Best is trial 14 with value: 864.4620235780546.\n",
            "[I 2025-01-29 10:49:51,904] Trial 29 finished with value: 1326.2442428064087 and parameters: {'n_estimators': 836, 'max_depth': 4, 'min_samples_split': 7, 'min_samples_leaf': 2, 'max_features': None}. Best is trial 14 with value: 864.4620235780546.\n",
            "[I 2025-01-29 10:50:10,490] Trial 30 finished with value: 1175.2006761127755 and parameters: {'n_estimators': 793, 'max_depth': 7, 'min_samples_split': 4, 'min_samples_leaf': 10, 'max_features': 'sqrt'}. Best is trial 14 with value: 864.4620235780546.\n",
            "[I 2025-01-29 10:51:56,424] Trial 31 finished with value: 865.2772697000876 and parameters: {'n_estimators': 924, 'max_depth': 28, 'min_samples_split': 3, 'min_samples_leaf': 1, 'max_features': None}. Best is trial 14 with value: 864.4620235780546.\n",
            "[I 2025-01-29 10:53:22,981] Trial 32 finished with value: 865.3873618865371 and parameters: {'n_estimators': 898, 'max_depth': 28, 'min_samples_split': 6, 'min_samples_leaf': 1, 'max_features': None}. Best is trial 14 with value: 864.4620235780546.\n",
            "[I 2025-01-29 10:54:36,213] Trial 33 finished with value: 868.1981015656462 and parameters: {'n_estimators': 771, 'max_depth': 28, 'min_samples_split': 3, 'min_samples_leaf': 2, 'max_features': None}. Best is trial 14 with value: 864.4620235780546.\n",
            "[I 2025-01-29 10:54:45,882] Trial 34 finished with value: 1589.2218778796678 and parameters: {'n_estimators': 664, 'max_depth': 2, 'min_samples_split': 3, 'min_samples_leaf': 3, 'max_features': 'sqrt'}. Best is trial 14 with value: 864.4620235780546.\n",
            "[I 2025-01-29 10:56:07,834] Trial 35 finished with value: 880.6739271634624 and parameters: {'n_estimators': 923, 'max_depth': 13, 'min_samples_split': 5, 'min_samples_leaf': 1, 'max_features': None}. Best is trial 14 with value: 864.4620235780546.\n",
            "[I 2025-01-29 10:57:14,780] Trial 36 finished with value: 901.8703101800522 and parameters: {'n_estimators': 842, 'max_depth': 20, 'min_samples_split': 6, 'min_samples_leaf': 6, 'max_features': None}. Best is trial 14 with value: 864.4620235780546.\n",
            "[I 2025-01-29 10:57:33,825] Trial 37 finished with value: 924.8034859642567 and parameters: {'n_estimators': 593, 'max_depth': 24, 'min_samples_split': 12, 'min_samples_leaf': 3, 'max_features': 'sqrt'}. Best is trial 14 with value: 864.4620235780546.\n",
            "[I 2025-01-29 10:57:45,273] Trial 38 finished with value: 950.6552037382878 and parameters: {'n_estimators': 347, 'max_depth': 26, 'min_samples_split': 16, 'min_samples_leaf': 4, 'max_features': 'log2'}. Best is trial 14 with value: 864.4620235780546.\n",
            "[I 2025-01-29 10:58:37,892] Trial 39 finished with value: 945.9590621823111 and parameters: {'n_estimators': 705, 'max_depth': 22, 'min_samples_split': 8, 'min_samples_leaf': 9, 'max_features': None}. Best is trial 14 with value: 864.4620235780546.\n",
            "[I 2025-01-29 10:59:04,568] Trial 40 finished with value: 900.6944983143551 and parameters: {'n_estimators': 746, 'max_depth': 14, 'min_samples_split': 4, 'min_samples_leaf': 2, 'max_features': 'log2'}. Best is trial 14 with value: 864.4620235780546.\n",
            "[I 2025-01-29 11:00:31,905] Trial 41 finished with value: 865.508156563002 and parameters: {'n_estimators': 911, 'max_depth': 28, 'min_samples_split': 6, 'min_samples_leaf': 1, 'max_features': None}. Best is trial 14 with value: 864.4620235780546.\n",
            "[I 2025-01-29 11:02:12,275] Trial 42 finished with value: 865.6339057287245 and parameters: {'n_estimators': 943, 'max_depth': 27, 'min_samples_split': 3, 'min_samples_leaf': 1, 'max_features': None}. Best is trial 14 with value: 864.4620235780546.\n",
            "[I 2025-01-29 11:03:29,726] Trial 43 finished with value: 870.673765577588 and parameters: {'n_estimators': 868, 'max_depth': 28, 'min_samples_split': 8, 'min_samples_leaf': 2, 'max_features': None}. Best is trial 14 with value: 864.4620235780546.\n",
            "[I 2025-01-29 11:04:49,012] Trial 44 finished with value: 865.5099543989063 and parameters: {'n_estimators': 818, 'max_depth': 25, 'min_samples_split': 6, 'min_samples_leaf': 1, 'max_features': None}. Best is trial 14 with value: 864.4620235780546.\n",
            "[I 2025-01-29 11:06:25,356] Trial 45 finished with value: 864.6014999008215 and parameters: {'n_estimators': 949, 'max_depth': 29, 'min_samples_split': 4, 'min_samples_leaf': 1, 'max_features': None}. Best is trial 14 with value: 864.4620235780546.\n",
            "[I 2025-01-29 11:07:03,095] Trial 46 finished with value: 885.8685719865804 and parameters: {'n_estimators': 986, 'max_depth': 29, 'min_samples_split': 2, 'min_samples_leaf': 2, 'max_features': 'sqrt'}. Best is trial 14 with value: 864.4620235780546.\n",
            "[I 2025-01-29 11:08:27,026] Trial 47 finished with value: 870.5566948412982 and parameters: {'n_estimators': 937, 'max_depth': 25, 'min_samples_split': 4, 'min_samples_leaf': 3, 'max_features': None}. Best is trial 14 with value: 864.4620235780546.\n",
            "[I 2025-01-29 11:09:56,963] Trial 48 finished with value: 870.3233462542976 and parameters: {'n_estimators': 995, 'max_depth': 29, 'min_samples_split': 9, 'min_samples_leaf': 1, 'max_features': None}. Best is trial 14 with value: 864.4620235780546.\n",
            "[I 2025-01-29 11:10:03,460] Trial 49 finished with value: 935.2513907393161 and parameters: {'n_estimators': 187, 'max_depth': 23, 'min_samples_split': 3, 'min_samples_leaf': 5, 'max_features': 'log2'}. Best is trial 14 with value: 864.4620235780546.\n",
            "[I 2025-01-29 11:11:20,500] Trial 50 finished with value: 878.6438218376195 and parameters: {'n_estimators': 860, 'max_depth': 26, 'min_samples_split': 11, 'min_samples_leaf': 1, 'max_features': None}. Best is trial 14 with value: 864.4620235780546.\n",
            "[I 2025-01-29 11:12:48,196] Trial 51 finished with value: 864.3453779468979 and parameters: {'n_estimators': 887, 'max_depth': 28, 'min_samples_split': 5, 'min_samples_leaf': 1, 'max_features': None}. Best is trial 51 with value: 864.3453779468979.\n",
            "[I 2025-01-29 11:14:22,651] Trial 52 finished with value: 864.4958733000143 and parameters: {'n_estimators': 949, 'max_depth': 30, 'min_samples_split': 5, 'min_samples_leaf': 1, 'max_features': None}. Best is trial 51 with value: 864.3453779468979.\n",
            "[I 2025-01-29 11:15:52,172] Trial 53 finished with value: 867.9102579214008 and parameters: {'n_estimators': 959, 'max_depth': 30, 'min_samples_split': 5, 'min_samples_leaf': 2, 'max_features': None}. Best is trial 51 with value: 864.3453779468979.\n",
            "[I 2025-01-29 11:16:42,900] Trial 54 finished with value: 865.4380986116212 and parameters: {'n_estimators': 505, 'max_depth': 29, 'min_samples_split': 5, 'min_samples_leaf': 1, 'max_features': None}. Best is trial 51 with value: 864.3453779468979.\n",
            "[I 2025-01-29 11:17:56,666] Trial 55 finished with value: 869.7511945068352 and parameters: {'n_estimators': 808, 'max_depth': 27, 'min_samples_split': 7, 'min_samples_leaf': 2, 'max_features': None}. Best is trial 51 with value: 864.3453779468979.\n",
            "[I 2025-01-29 11:19:25,764] Trial 56 finished with value: 864.5972316630892 and parameters: {'n_estimators': 873, 'max_depth': 30, 'min_samples_split': 4, 'min_samples_leaf': 1, 'max_features': None}. Best is trial 51 with value: 864.3453779468979.\n",
            "[I 2025-01-29 11:20:32,231] Trial 57 finished with value: 917.9430645058316 and parameters: {'n_estimators': 876, 'max_depth': 30, 'min_samples_split': 5, 'min_samples_leaf': 7, 'max_features': None}. Best is trial 51 with value: 864.3453779468979.\n",
            "[I 2025-01-29 11:21:34,059] Trial 58 finished with value: 871.3214178286178 and parameters: {'n_estimators': 698, 'max_depth': 26, 'min_samples_split': 8, 'min_samples_leaf': 2, 'max_features': None}. Best is trial 51 with value: 864.3453779468979.\n",
            "[I 2025-01-29 11:22:24,435] Trial 59 finished with value: 1034.5055509573208 and parameters: {'n_estimators': 765, 'max_depth': 8, 'min_samples_split': 2, 'min_samples_leaf': 3, 'max_features': None}. Best is trial 51 with value: 864.3453779468979.\n",
            "[I 2025-01-29 11:22:40,095] Trial 60 finished with value: 881.7920756010819 and parameters: {'n_estimators': 400, 'max_depth': 23, 'min_samples_split': 4, 'min_samples_leaf': 1, 'max_features': 'sqrt'}. Best is trial 51 with value: 864.3453779468979.\n",
            "[I 2025-01-29 11:24:17,509] Trial 61 finished with value: 864.593285876302 and parameters: {'n_estimators': 962, 'max_depth': 29, 'min_samples_split': 4, 'min_samples_leaf': 1, 'max_features': None}. Best is trial 51 with value: 864.3453779468979.\n",
            "[I 2025-01-29 11:25:44,884] Trial 62 finished with value: 864.3965772544054 and parameters: {'n_estimators': 883, 'max_depth': 30, 'min_samples_split': 5, 'min_samples_leaf': 1, 'max_features': None}. Best is trial 51 with value: 864.3453779468979.\n",
            "[I 2025-01-29 11:27:02,239] Trial 63 finished with value: 868.3498138953685 and parameters: {'n_estimators': 836, 'max_depth': 27, 'min_samples_split': 6, 'min_samples_leaf': 2, 'max_features': None}. Best is trial 51 with value: 864.3453779468979.\n",
            "[I 2025-01-29 11:28:34,153] Trial 64 finished with value: 866.203046687855 and parameters: {'n_estimators': 971, 'max_depth': 25, 'min_samples_split': 7, 'min_samples_leaf': 1, 'max_features': None}. Best is trial 51 with value: 864.3453779468979.\n",
            "[I 2025-01-29 11:29:57,994] Trial 65 finished with value: 867.6789235472825 and parameters: {'n_estimators': 894, 'max_depth': 29, 'min_samples_split': 5, 'min_samples_leaf': 2, 'max_features': None}. Best is trial 51 with value: 864.3453779468979.\n",
            "[I 2025-01-29 11:31:35,338] Trial 66 finished with value: 865.5818623133791 and parameters: {'n_estimators': 930, 'max_depth': 27, 'min_samples_split': 3, 'min_samples_leaf': 1, 'max_features': None}. Best is trial 51 with value: 864.3453779468979.\n",
            "[I 2025-01-29 11:32:55,168] Trial 67 finished with value: 864.5519440478608 and parameters: {'n_estimators': 802, 'max_depth': 28, 'min_samples_split': 5, 'min_samples_leaf': 1, 'max_features': None}. Best is trial 51 with value: 864.3453779468979.\n",
            "[I 2025-01-29 11:33:24,128] Trial 68 finished with value: 891.2262460973728 and parameters: {'n_estimators': 807, 'max_depth': 28, 'min_samples_split': 6, 'min_samples_leaf': 2, 'max_features': 'log2'}. Best is trial 51 with value: 864.3453779468979.\n",
            "[I 2025-01-29 11:34:43,601] Trial 69 finished with value: 866.1329120630986 and parameters: {'n_estimators': 834, 'max_depth': 24, 'min_samples_split': 7, 'min_samples_leaf': 1, 'max_features': None}. Best is trial 51 with value: 864.3453779468979.\n",
            "[I 2025-01-29 11:35:52,933] Trial 70 finished with value: 867.9952440111267 and parameters: {'n_estimators': 738, 'max_depth': 26, 'min_samples_split': 5, 'min_samples_leaf': 2, 'max_features': None}. Best is trial 51 with value: 864.3453779468979.\n",
            "[I 2025-01-29 11:37:24,279] Trial 71 finished with value: 864.582785286763 and parameters: {'n_estimators': 897, 'max_depth': 30, 'min_samples_split': 4, 'min_samples_leaf': 1, 'max_features': None}. Best is trial 51 with value: 864.3453779468979.\n",
            "[I 2025-01-29 11:38:51,605] Trial 72 finished with value: 864.3328651703144 and parameters: {'n_estimators': 890, 'max_depth': 30, 'min_samples_split': 5, 'min_samples_leaf': 1, 'max_features': None}. Best is trial 72 with value: 864.3328651703144.\n",
            "[I 2025-01-29 11:40:13,512] Trial 73 finished with value: 865.3970806029334 and parameters: {'n_estimators': 844, 'max_depth': 28, 'min_samples_split': 6, 'min_samples_leaf': 1, 'max_features': None}. Best is trial 72 with value: 864.3328651703144.\n",
            "[I 2025-01-29 11:41:27,367] Trial 74 finished with value: 867.8214731404084 and parameters: {'n_estimators': 789, 'max_depth': 30, 'min_samples_split': 5, 'min_samples_leaf': 2, 'max_features': None}. Best is trial 72 with value: 864.3328651703144.\n",
            "[I 2025-01-29 11:43:00,495] Trial 75 finished with value: 865.4616864440237 and parameters: {'n_estimators': 883, 'max_depth': 27, 'min_samples_split': 3, 'min_samples_leaf': 1, 'max_features': None}. Best is trial 72 with value: 864.3328651703144.\n",
            "[I 2025-01-29 11:44:19,220] Trial 76 finished with value: 899.7207414470515 and parameters: {'n_estimators': 924, 'max_depth': 16, 'min_samples_split': 15, 'min_samples_leaf': 1, 'max_features': None}. Best is trial 72 with value: 864.3328651703144.\n",
            "[I 2025-01-29 11:45:47,841] Trial 77 finished with value: 870.8671814045508 and parameters: {'n_estimators': 999, 'max_depth': 29, 'min_samples_split': 5, 'min_samples_leaf': 3, 'max_features': None}. Best is trial 72 with value: 864.3328651703144.\n",
            "[I 2025-01-29 11:46:15,536] Trial 78 finished with value: 943.0896313465162 and parameters: {'n_estimators': 855, 'max_depth': 28, 'min_samples_split': 18, 'min_samples_leaf': 1, 'max_features': 'sqrt'}. Best is trial 72 with value: 864.3328651703144.\n",
            "[I 2025-01-29 11:47:35,017] Trial 79 finished with value: 872.8137450140035 and parameters: {'n_estimators': 895, 'max_depth': 27, 'min_samples_split': 9, 'min_samples_leaf': 2, 'max_features': None}. Best is trial 72 with value: 864.3328651703144.\n",
            "[I 2025-01-29 11:48:05,010] Trial 80 finished with value: 884.4242618301957 and parameters: {'n_estimators': 815, 'max_depth': 25, 'min_samples_split': 6, 'min_samples_leaf': 1, 'max_features': 'log2'}. Best is trial 72 with value: 864.3328651703144.\n",
            "[I 2025-01-29 11:49:37,117] Trial 81 finished with value: 864.6071014636818 and parameters: {'n_estimators': 905, 'max_depth': 30, 'min_samples_split': 4, 'min_samples_leaf': 1, 'max_features': None}. Best is trial 72 with value: 864.3328651703144.\n",
            "[I 2025-01-29 11:51:20,789] Trial 82 finished with value: 866.258136855207 and parameters: {'n_estimators': 935, 'max_depth': 30, 'min_samples_split': 2, 'min_samples_leaf': 1, 'max_features': None}. Best is trial 72 with value: 864.3328651703144.\n",
            "[I 2025-01-29 11:52:52,851] Trial 83 finished with value: 867.822709954419 and parameters: {'n_estimators': 967, 'max_depth': 29, 'min_samples_split': 4, 'min_samples_leaf': 2, 'max_features': None}. Best is trial 72 with value: 864.3328651703144.\n",
            "[I 2025-01-29 11:54:24,819] Trial 84 finished with value: 865.0887450684426 and parameters: {'n_estimators': 866, 'max_depth': 28, 'min_samples_split': 3, 'min_samples_leaf': 1, 'max_features': None}. Best is trial 72 with value: 864.3328651703144.\n",
            "[I 2025-01-29 11:55:50,637] Trial 85 finished with value: 866.2774470515884 and parameters: {'n_estimators': 907, 'max_depth': 30, 'min_samples_split': 7, 'min_samples_leaf': 1, 'max_features': None}. Best is trial 72 with value: 864.3328651703144.\n",
            "[I 2025-01-29 11:57:09,441] Trial 86 finished with value: 867.6604132787713 and parameters: {'n_estimators': 829, 'max_depth': 29, 'min_samples_split': 5, 'min_samples_leaf': 2, 'max_features': None}. Best is trial 72 with value: 864.3328651703144.\n",
            "[I 2025-01-29 11:58:32,177] Trial 87 finished with value: 865.6201044529589 and parameters: {'n_estimators': 785, 'max_depth': 26, 'min_samples_split': 3, 'min_samples_leaf': 1, 'max_features': None}. Best is trial 72 with value: 864.3328651703144.\n",
            "[I 2025-01-29 12:00:01,245] Trial 88 finished with value: 864.6906732918529 and parameters: {'n_estimators': 885, 'max_depth': 28, 'min_samples_split': 4, 'min_samples_leaf': 1, 'max_features': None}. Best is trial 72 with value: 864.3328651703144.\n",
            "[I 2025-01-29 12:01:16,512] Trial 89 finished with value: 901.7561863004552 and parameters: {'n_estimators': 949, 'max_depth': 24, 'min_samples_split': 6, 'min_samples_leaf': 6, 'max_features': None}. Best is trial 72 with value: 864.3328651703144.\n",
            "[I 2025-01-29 12:02:36,706] Trial 90 finished with value: 867.6309479270205 and parameters: {'n_estimators': 853, 'max_depth': 26, 'min_samples_split': 5, 'min_samples_leaf': 2, 'max_features': None}. Best is trial 72 with value: 864.3328651703144.\n",
            "[I 2025-01-29 12:04:14,439] Trial 91 finished with value: 864.6940058646198 and parameters: {'n_estimators': 972, 'max_depth': 29, 'min_samples_split': 4, 'min_samples_leaf': 1, 'max_features': None}. Best is trial 72 with value: 864.3328651703144.\n",
            "[I 2025-01-29 12:05:45,341] Trial 92 finished with value: 864.5729348590961 and parameters: {'n_estimators': 934, 'max_depth': 29, 'min_samples_split': 5, 'min_samples_leaf': 1, 'max_features': None}. Best is trial 72 with value: 864.3328651703144.\n",
            "[I 2025-01-29 12:07:15,628] Trial 93 finished with value: 864.4552201431125 and parameters: {'n_estimators': 918, 'max_depth': 28, 'min_samples_split': 5, 'min_samples_leaf': 1, 'max_features': None}. Best is trial 72 with value: 864.3328651703144.\n",
            "[I 2025-01-29 12:08:47,053] Trial 94 finished with value: 864.4136196812506 and parameters: {'n_estimators': 924, 'max_depth': 27, 'min_samples_split': 5, 'min_samples_leaf': 1, 'max_features': None}. Best is trial 72 with value: 864.3328651703144.\n",
            "[I 2025-01-29 12:10:14,245] Trial 95 finished with value: 865.4794492576391 and parameters: {'n_estimators': 916, 'max_depth': 27, 'min_samples_split': 6, 'min_samples_leaf': 1, 'max_features': None}. Best is trial 72 with value: 864.3328651703144.\n",
            "[I 2025-01-29 12:10:40,721] Trial 96 finished with value: 978.4609921883491 and parameters: {'n_estimators': 878, 'max_depth': 27, 'min_samples_split': 5, 'min_samples_leaf': 7, 'max_features': 'sqrt'}. Best is trial 72 with value: 864.3328651703144.\n",
            "[I 2025-01-29 12:11:35,426] Trial 97 finished with value: 869.895190826209 and parameters: {'n_estimators': 598, 'max_depth': 28, 'min_samples_split': 6, 'min_samples_leaf': 2, 'max_features': None}. Best is trial 72 with value: 864.3328651703144.\n",
            "[I 2025-01-29 12:12:55,969] Trial 98 finished with value: 876.2967078609702 and parameters: {'n_estimators': 948, 'max_depth': 25, 'min_samples_split': 7, 'min_samples_leaf': 4, 'max_features': None}. Best is trial 72 with value: 864.3328651703144.\n",
            "[I 2025-01-29 12:12:59,435] Trial 99 finished with value: 934.6374381537291 and parameters: {'n_estimators': 117, 'max_depth': 26, 'min_samples_split': 4, 'min_samples_leaf': 5, 'max_features': 'log2'}. Best is trial 72 with value: 864.3328651703144.\n"
          ]
        },
        {
          "output_type": "stream",
          "name": "stdout",
          "text": [
            "Best hyperparameters: {'n_estimators': 890, 'max_depth': 30, 'min_samples_split': 5, 'min_samples_leaf': 1, 'max_features': None}\n"
          ]
        }
      ]
    },
    {
      "cell_type": "code",
      "source": [],
      "metadata": {
        "id": "098dybmkk2CK"
      },
      "execution_count": null,
      "outputs": []
    }
  ]
}