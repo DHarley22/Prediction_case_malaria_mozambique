{
  "cells": [
    {
      "cell_type": "markdown",
      "metadata": {
        "id": "view-in-github",
        "colab_type": "text"
      },
      "source": [
        "<a href=\"https://colab.research.google.com/github/DHarley22/Prediction_case_malaria_mozambique/blob/1-xgboost-predictor-python-version/model_building_mozambique.ipynb\" target=\"_parent\"><img src=\"https://colab.research.google.com/assets/colab-badge.svg\" alt=\"Open In Colab\"/></a>"
      ]
    },
    {
      "cell_type": "code",
      "execution_count": null,
      "metadata": {
        "id": "fu6o2lfcAlIL"
      },
      "outputs": [],
      "source": [
        "%%capture\n",
        "!pip install gdown optuna\n"
      ]
    },
    {
      "cell_type": "code",
      "execution_count": null,
      "metadata": {
        "id": "fsGy-x_dKNg_"
      },
      "outputs": [],
      "source": [
        "import pandas as pd\n",
        "import seaborn as sns\n",
        "import matplotlib.pyplot as plt\n",
        "import geopandas as gpd\n",
        "import os\n",
        "import numpy as np\n",
        "import xgboost as xgb\n",
        "import sklearn\n",
        "import gdown\n",
        "import optuna\n",
        "from sklearn.metrics import mean_squared_error\n",
        "from sklearn.model_selection import train_test_split as split_into_two\n",
        "from sklearn.model_selection import GridSearchCV\n",
        "from sklearn.model_selection import RandomizedSearchCV\n",
        "from sklearn.model_selection import cross_val_score\n",
        "from sklearn.model_selection import KFold\n",
        "from xgboost import XGBRegressor"
      ]
    },
    {
      "cell_type": "code",
      "execution_count": null,
      "metadata": {
        "id": "J9IVzC6Gs1Ts"
      },
      "outputs": [],
      "source": [
        "%%capture\n",
        "\n",
        "# The mozambique dataset is hosted here\n",
        "# https://drive.google.com/file/d/1uHGOjxlxfDYY5E-aL9HVRGvheDa_wNyq/view?usp=sharing\n",
        "dataset_drive_id = '1uHGOjxlxfDYY5E-aL9HVRGvheDa_wNyq'\n",
        "dataset_output_file = 'downloaded_sheet.xlsx'\n",
        "\n",
        "# The shape file relatd to the dataset is hosted here\n",
        "# https://drive.google.com/drive/folders/14UJ7ZXWmNeL28sYAv6dObNsC42kQr4Ja?usp=sharing\n",
        "shape_file_drive_id = '14UJ7ZXWmNeL28sYAv6dObNsC42kQr4Ja'\n",
        "shape_output_folder = 'shape_files'\n",
        "\n",
        "gdown.download_folder(id=shape_file_drive_id, output=shape_output_folder, quiet=False)\n",
        "gdown.download(id=dataset_drive_id, output=dataset_output_file, quiet=False)\n"
      ]
    },
    {
      "cell_type": "code",
      "execution_count": null,
      "metadata": {
        "id": "P9k5GuvpByKZ"
      },
      "outputs": [],
      "source": [
        "dataset = pd.read_csv(f\"/content/{dataset_output_file}\")\n",
        "shape_file = gpd.read_file(f\"/content/{shape_output_folder}/shape_file.shp\")"
      ]
    },
    {
      "cell_type": "code",
      "execution_count": null,
      "metadata": {
        "id": "tUNZjBi7thRj"
      },
      "outputs": [],
      "source": [
        "# (Left) join the dataset to the shape_file using the \"district\" field\n",
        "shaped_dataset = dataset.merge(\n",
        "    shape_file[[\"district\", \"geometry\"]],\n",
        "    on=\"district\",\n",
        "    how=\"left\"\n",
        ")\n",
        "\n",
        "# Convert the Dataframe into GeoDataframe and add some fields to it\n",
        "shaped_dataset =  gpd.GeoDataFrame(shaped_dataset, geometry=\"geometry\")\n",
        "\n",
        "shaped_dataset = shaped_dataset.to_crs(epsg=3857)\n",
        "\n",
        "# Calculate the area and centroid using the projected CRS\n",
        "shaped_dataset[\"area\"] = shaped_dataset.geometry.area\n",
        "shaped_dataset[\"centroid_x\"] = shaped_dataset.geometry.centroid.x\n",
        "shaped_dataset[\"centroid_y\"] = shaped_dataset.geometry.centroid.y"
      ]
    },
    {
      "cell_type": "markdown",
      "metadata": {
        "id": "47PSjVojDF-6"
      },
      "source": [
        "### Missing data handling\n",
        "\n",
        "Rules:\n",
        "\n",
        "- If {some condition} then {we do this}\n",
        "- If {some condition} then {we do this}"
      ]
    },
    {
      "cell_type": "code",
      "execution_count": null,
      "metadata": {
        "id": "A01_UuzSs75x"
      },
      "outputs": [],
      "source": [
        "# Handle missing data\n",
        "# TODO:"
      ]
    },
    {
      "cell_type": "markdown",
      "metadata": {
        "id": "NCmA-ipMEWFE"
      },
      "source": [
        "### Test/Val/Test Split\n",
        "\n",
        "Rules:\n",
        "\n",
        "- We will use\n"
      ]
    },
    {
      "cell_type": "code",
      "execution_count": null,
      "metadata": {
        "colab": {
          "base_uri": "https://localhost:8080/"
        },
        "id": "Cb7_FcyEs5MR",
        "outputId": "c55f337a-7889-4316-83ed-ec4f7418a0e2"
      },
      "outputs": [
        {
          "name": "stdout",
          "output_type": "stream",
          "text": [
            "(5088, 10) (5088,)\n"
          ]
        }
      ],
      "source": [
        "TARGET_DISEASE_FIELD = \"malaria_cases_u5\"\n",
        "\n",
        "\n",
        "# Relevant features\n",
        "relevant_features = [\n",
        "    # Environemental features\n",
        "    'tmin', 'tmax', 'precipitation', 'ndvi','RH',\n",
        "    # Socio-economic features\n",
        "    'prop_poor', 'prop_Rural', 'prop_drinking_TreatedWater',\n",
        "    # Spatial features\n",
        "     'centroid_x', 'centroid_y'\n",
        "]\n",
        "\n",
        "# Test dataset predicate; use lines between March and June for testing\n",
        "test_data_predicate = (shaped_dataset['year'] == 2018) & (shaped_dataset['month'].between(3, 6))\n",
        "\n",
        "# Test dataset\n",
        "X_test = shaped_dataset[test_data_predicate][relevant_features]\n",
        "y_test = shaped_dataset[test_data_predicate][TARGET_DISEASE_FIELD]\n",
        "\n",
        "# The rest of the dataset separated as X, y\n",
        "X = shaped_dataset[~test_data_predicate][relevant_features]\n",
        "y = shaped_dataset[~test_data_predicate][TARGET_DISEASE_FIELD]\n",
        "\n",
        "print(X.shape, y.shape)\n",
        "X_train, X_val, y_train, y_val = split_into_two(X, y, test_size=0.3, random_state=42)\n",
        "\n",
        "\n"
      ]
    },
    {
      "cell_type": "code",
      "execution_count": null,
      "metadata": {
        "colab": {
          "background_save": true,
          "base_uri": "https://localhost:8080/"
        },
        "id": "MYdLvVWsUPo4",
        "outputId": "1eb5d0f7-4033-4782-c3ab-db93eb603d63"
      },
      "outputs": [
        {
          "name": "stderr",
          "output_type": "stream",
          "text": [
            "[I 2025-01-28 23:18:28,153] A new study created in memory with name: xgboost_model_study\n"
          ]
        },
        {
          "name": "stdout",
          "output_type": "stream",
          "text": [
            "[0]\ttrain-rmse:1719.83702+28.44118\ttest-rmse:1724.11189+116.20863\n",
            "[50]\ttrain-rmse:437.15463+15.10728\ttest-rmse:852.87053+81.79799\n",
            "[88]\ttrain-rmse:296.86054+12.40243\ttest-rmse:845.63384+78.61251\n"
          ]
        },
        {
          "name": "stderr",
          "output_type": "stream",
          "text": [
            "[I 2025-01-28 23:18:46,581] Trial 0 finished with value: 844.011353490672 and parameters: {'booster': 'gbtree', 'learning_rate': 0.07601163674492135, 'max_depth': 15, 'gamma': 0.09663792942226598, 'subsample': 0.6883562503913834, 'reg_alpha': 0.0001778847397262791, 'reg_lambda': 0.0010899520586166416, 'colsample_bytree': 0.8142450282621815, 'min_child_weight': 7, 'n_estimators': 1996}. Best is trial 0 with value: 844.011353490672.\n"
          ]
        },
        {
          "name": "stdout",
          "output_type": "stream",
          "text": [
            "[0]\ttrain-rmse:1821.88011+29.48188\ttest-rmse:1818.30172+122.91806\n",
            "[50]\ttrain-rmse:1759.00447+27.13149\ttest-rmse:1760.42923+115.09066\n",
            "[100]\ttrain-rmse:1699.26787+23.12886\ttest-rmse:1705.49628+110.24363\n",
            "[150]\ttrain-rmse:1647.97228+20.63433\ttest-rmse:1659.15391+104.76887\n",
            "[200]\ttrain-rmse:1599.69062+19.74186\ttest-rmse:1614.86322+99.76910\n",
            "[250]\ttrain-rmse:1557.90245+18.73941\ttest-rmse:1577.25070+95.19078\n",
            "[300]\ttrain-rmse:1516.84641+16.99610\ttest-rmse:1540.85802+92.62792\n",
            "[350]\ttrain-rmse:1479.31669+14.01070\ttest-rmse:1507.81516+90.63444\n",
            "[400]\ttrain-rmse:1440.17185+13.99203\ttest-rmse:1473.81657+86.07100\n",
            "[450]\ttrain-rmse:1406.75453+13.88201\ttest-rmse:1444.41056+82.33046\n",
            "[500]\ttrain-rmse:1373.42409+14.17345\ttest-rmse:1414.69388+78.97510\n",
            "[550]\ttrain-rmse:1345.52556+12.97321\ttest-rmse:1390.51686+77.40674\n",
            "[600]\ttrain-rmse:1317.99407+12.74403\ttest-rmse:1366.83670+75.31122\n",
            "[650]\ttrain-rmse:1291.89595+12.37119\ttest-rmse:1343.66457+73.37115\n",
            "[700]\ttrain-rmse:1267.46305+12.04606\ttest-rmse:1322.41597+72.89033\n",
            "[750]\ttrain-rmse:1245.56118+11.26998\ttest-rmse:1303.46289+72.70990\n",
            "[800]\ttrain-rmse:1224.74520+11.99036\ttest-rmse:1286.30117+70.90456\n",
            "[850]\ttrain-rmse:1204.78984+12.53228\ttest-rmse:1269.41582+69.44189\n",
            "[900]\ttrain-rmse:1186.95565+12.99188\ttest-rmse:1255.11060+68.49653\n",
            "[950]\ttrain-rmse:1169.03354+13.02454\ttest-rmse:1240.20117+67.94481\n",
            "[1000]\ttrain-rmse:1151.85275+13.30480\ttest-rmse:1225.92642+66.48467\n",
            "[1050]\ttrain-rmse:1137.04675+13.54717\ttest-rmse:1214.07532+65.86094\n",
            "[1100]\ttrain-rmse:1121.77833+13.89432\ttest-rmse:1201.60744+65.57611\n",
            "[1150]\ttrain-rmse:1108.76180+13.99094\ttest-rmse:1191.28557+65.83718\n",
            "[1200]\ttrain-rmse:1095.54123+13.84730\ttest-rmse:1180.95550+65.84045\n",
            "[1204]\ttrain-rmse:1094.54731+13.86735\ttest-rmse:1180.17047+65.74555\n"
          ]
        },
        {
          "name": "stderr",
          "output_type": "stream",
          "text": [
            "[I 2025-01-28 23:40:49,969] Trial 1 finished with value: 1180.1704665605764 and parameters: {'booster': 'dart', 'learning_rate': 0.0020791703039784734, 'max_depth': 5, 'gamma': 0.12248771941055511, 'subsample': 0.12907229536906292, 'reg_alpha': 3.078227945458243e-06, 'reg_lambda': 5.49739383581436e-06, 'colsample_bytree': 0.4661992859739765, 'min_child_weight': 2, 'n_estimators': 1205}. Best is trial 0 with value: 844.011353490672.\n"
          ]
        },
        {
          "name": "stdout",
          "output_type": "stream",
          "text": [
            "[0]\ttrain-rmse:1820.26774+29.35022\ttest-rmse:1816.74656+122.88441\n",
            "[50]\ttrain-rmse:1674.60148+25.77104\ttest-rmse:1689.56459+111.46638\n",
            "[100]\ttrain-rmse:1543.32755+22.73667\ttest-rmse:1576.26347+101.53769\n",
            "[150]\ttrain-rmse:1429.22210+20.22948\ttest-rmse:1482.58901+93.46156\n",
            "[200]\ttrain-rmse:1325.64144+18.26763\ttest-rmse:1399.34688+86.58594\n",
            "[250]\ttrain-rmse:1234.60825+16.64073\ttest-rmse:1329.49157+81.50700\n",
            "[300]\ttrain-rmse:1151.48389+15.76337\ttest-rmse:1266.00446+77.34569\n",
            "[350]\ttrain-rmse:1076.28354+14.75557\ttest-rmse:1209.24729+73.89683\n",
            "[400]\ttrain-rmse:1008.50863+13.94121\ttest-rmse:1159.83603+71.15075\n",
            "[450]\ttrain-rmse:947.99528+13.46704\ttest-rmse:1118.04284+68.96575\n",
            "[500]\ttrain-rmse:893.72365+13.20022\ttest-rmse:1081.31251+67.34555\n",
            "[550]\ttrain-rmse:845.69185+12.92845\ttest-rmse:1051.23736+66.35497\n",
            "[600]\ttrain-rmse:801.53553+12.34101\ttest-rmse:1024.34990+65.96069\n",
            "[650]\ttrain-rmse:761.52998+12.37085\ttest-rmse:1001.09638+65.38124\n",
            "[700]\ttrain-rmse:726.32082+12.39670\ttest-rmse:981.48177+64.71560\n",
            "[750]\ttrain-rmse:693.33663+12.55716\ttest-rmse:964.19914+64.44851\n",
            "[800]\ttrain-rmse:663.27802+12.44704\ttest-rmse:949.34685+64.42075\n",
            "[850]\ttrain-rmse:636.11986+12.48237\ttest-rmse:936.88839+64.27090\n",
            "[900]\ttrain-rmse:611.04620+12.44406\ttest-rmse:926.02397+64.63964\n",
            "[950]\ttrain-rmse:587.84473+12.25983\ttest-rmse:915.63855+65.01794\n",
            "[1000]\ttrain-rmse:566.26164+12.37692\ttest-rmse:907.01983+64.79480\n",
            "[1050]\ttrain-rmse:546.34754+12.31980\ttest-rmse:899.93931+64.67213\n",
            "[1100]\ttrain-rmse:527.51263+12.36093\ttest-rmse:893.59786+64.52847\n",
            "[1150]\ttrain-rmse:509.77064+12.46808\ttest-rmse:887.59589+64.24172\n",
            "[1200]\ttrain-rmse:493.82367+12.50980\ttest-rmse:882.61768+64.29455\n",
            "[1250]\ttrain-rmse:478.58175+12.56301\ttest-rmse:877.99577+64.48363\n",
            "[1300]\ttrain-rmse:464.41638+12.53478\ttest-rmse:873.95279+64.07493\n",
            "[1350]\ttrain-rmse:451.33617+12.52074\ttest-rmse:870.49248+63.84504\n",
            "[1400]\ttrain-rmse:438.74819+12.49874\ttest-rmse:867.49866+63.74379\n",
            "[1450]\ttrain-rmse:426.75706+12.53070\ttest-rmse:864.92570+63.54530\n",
            "[1500]\ttrain-rmse:415.12090+12.49210\ttest-rmse:862.64931+63.24415\n",
            "[1550]\ttrain-rmse:404.33041+12.52736\ttest-rmse:860.47042+63.03221\n",
            "[1600]\ttrain-rmse:394.20867+12.57993\ttest-rmse:858.77377+62.83829\n",
            "[1650]\ttrain-rmse:384.26217+12.56402\ttest-rmse:857.24788+62.75722\n",
            "[1700]\ttrain-rmse:374.80106+12.53836\ttest-rmse:855.63660+62.57141\n",
            "[1750]\ttrain-rmse:365.74962+12.52513\ttest-rmse:854.35255+62.73930\n",
            "[1800]\ttrain-rmse:356.95503+12.55005\ttest-rmse:853.29905+62.64515\n",
            "[1850]\ttrain-rmse:348.77527+12.53965\ttest-rmse:852.21078+62.52437\n",
            "[1900]\ttrain-rmse:340.98351+12.53574\ttest-rmse:851.26813+62.27232\n",
            "[1950]\ttrain-rmse:333.24671+12.48114\ttest-rmse:850.31330+62.05732\n",
            "[2000]\ttrain-rmse:325.86379+12.52144\ttest-rmse:849.53878+62.01234\n",
            "[2050]\ttrain-rmse:318.91292+12.42553\ttest-rmse:848.72432+61.95217\n",
            "[2100]\ttrain-rmse:312.05350+12.38088\ttest-rmse:848.06785+61.84179\n",
            "[2150]\ttrain-rmse:305.26786+12.30101\ttest-rmse:847.45429+61.81264\n",
            "[2200]\ttrain-rmse:298.74512+12.27377\ttest-rmse:846.82938+61.60545\n",
            "[2250]\ttrain-rmse:292.69992+12.23924\ttest-rmse:846.48092+61.59087\n",
            "[2300]\ttrain-rmse:286.60540+12.23226\ttest-rmse:845.95591+61.48984\n",
            "[2350]\ttrain-rmse:280.63551+12.23656\ttest-rmse:845.43590+61.47289\n",
            "[2400]\ttrain-rmse:274.90151+12.15853\ttest-rmse:845.06419+61.32740\n",
            "[2450]\ttrain-rmse:269.34544+12.07734\ttest-rmse:844.68670+61.31418\n",
            "[2500]\ttrain-rmse:264.19245+12.09690\ttest-rmse:844.24886+61.15383\n",
            "[2550]\ttrain-rmse:259.11328+12.06758\ttest-rmse:844.01323+61.03772\n",
            "[2600]\ttrain-rmse:254.13892+11.98570\ttest-rmse:843.78453+60.97639\n",
            "[2650]\ttrain-rmse:249.25489+11.93092\ttest-rmse:843.51774+60.90229\n",
            "[2700]\ttrain-rmse:244.45711+11.84238\ttest-rmse:843.36167+60.91202\n",
            "[2750]\ttrain-rmse:239.98246+11.82020\ttest-rmse:843.08302+60.89776\n",
            "[2800]\ttrain-rmse:235.47092+11.67132\ttest-rmse:842.83653+60.78997\n",
            "[2850]\ttrain-rmse:231.15951+11.56742\ttest-rmse:842.64190+60.77724\n",
            "[2900]\ttrain-rmse:226.89507+11.47653\ttest-rmse:842.58339+60.69770\n",
            "[2950]\ttrain-rmse:222.76180+11.37259\ttest-rmse:842.38327+60.53533\n",
            "[3000]\ttrain-rmse:218.80349+11.36296\ttest-rmse:842.22571+60.55435\n",
            "[3031]\ttrain-rmse:216.40492+11.31114\ttest-rmse:842.15758+60.48408\n"
          ]
        },
        {
          "name": "stderr",
          "output_type": "stream",
          "text": [
            "[I 2025-01-28 23:43:47,744] Trial 2 finished with value: 842.1446760902779 and parameters: {'booster': 'gbtree', 'learning_rate': 0.0022261763858362335, 'max_depth': 24, 'gamma': 0.012595601154787132, 'subsample': 0.778677744816563, 'reg_alpha': 2.261407167214719e-06, 'reg_lambda': 0.021416539300779663, 'colsample_bytree': 0.5480149886225263, 'min_child_weight': 6, 'n_estimators': 4605}. Best is trial 2 with value: 842.1446760902779.\n"
          ]
        },
        {
          "name": "stdout",
          "output_type": "stream",
          "text": [
            "[0]\ttrain-rmse:1820.66735+29.42620\ttest-rmse:1817.01893+122.89810\n",
            "[50]\ttrain-rmse:1715.06694+25.60135\ttest-rmse:1728.51846+115.17513\n",
            "[100]\ttrain-rmse:1617.21037+23.07917\ttest-rmse:1649.02365+107.70315\n",
            "[150]\ttrain-rmse:1538.15906+20.99103\ttest-rmse:1589.35911+102.42460\n",
            "[200]\ttrain-rmse:1459.71302+19.63933\ttest-rmse:1527.24763+95.39843\n",
            "[250]\ttrain-rmse:1392.78899+19.37917\ttest-rmse:1478.40765+90.02398\n",
            "[300]\ttrain-rmse:1328.46165+17.49575\ttest-rmse:1430.44057+86.68682\n",
            "[350]\ttrain-rmse:1264.32322+15.35723\ttest-rmse:1380.38136+82.51940\n",
            "[400]\ttrain-rmse:1203.96573+14.68034\ttest-rmse:1334.02299+78.26206\n",
            "[450]\ttrain-rmse:1152.65011+14.83400\ttest-rmse:1297.90649+74.23865\n",
            "[500]\ttrain-rmse:1102.85320+14.80240\ttest-rmse:1260.87459+71.53488\n",
            "[550]\ttrain-rmse:1060.37992+14.11421\ttest-rmse:1232.03860+69.64636\n",
            "[600]\ttrain-rmse:1021.34930+14.21553\ttest-rmse:1206.04279+67.95872\n",
            "[650]\ttrain-rmse:983.44965+13.58693\ttest-rmse:1181.20611+65.77347\n",
            "[700]\ttrain-rmse:949.75285+13.54969\ttest-rmse:1159.43652+64.39596\n",
            "[750]\ttrain-rmse:918.18527+13.46049\ttest-rmse:1140.52378+63.09833\n",
            "[800]\ttrain-rmse:888.34359+13.81088\ttest-rmse:1122.59442+62.34174\n",
            "[850]\ttrain-rmse:860.05992+13.92887\ttest-rmse:1106.06776+61.44005\n",
            "[900]\ttrain-rmse:834.96894+14.15991\ttest-rmse:1092.69948+60.53908\n",
            "[950]\ttrain-rmse:810.88588+14.07856\ttest-rmse:1078.10069+59.72694\n",
            "[1000]\ttrain-rmse:788.05432+14.38485\ttest-rmse:1064.63107+59.15867\n",
            "[1050]\ttrain-rmse:768.05320+14.47940\ttest-rmse:1054.85475+58.70634\n",
            "[1100]\ttrain-rmse:748.57682+14.44097\ttest-rmse:1045.00626+57.73384\n",
            "[1150]\ttrain-rmse:730.53626+14.41016\ttest-rmse:1036.01178+57.14998\n",
            "[1200]\ttrain-rmse:712.98944+13.92784\ttest-rmse:1027.51797+57.16617\n",
            "[1250]\ttrain-rmse:696.11780+13.65991\ttest-rmse:1019.12282+57.25142\n",
            "[1300]\ttrain-rmse:680.17542+13.51098\ttest-rmse:1011.50271+57.28384\n",
            "[1350]\ttrain-rmse:666.07057+13.33960\ttest-rmse:1004.97127+56.82508\n",
            "[1400]\ttrain-rmse:652.01324+13.18688\ttest-rmse:998.02312+56.79041\n",
            "[1450]\ttrain-rmse:638.75559+13.19583\ttest-rmse:992.70802+56.62117\n",
            "[1500]\ttrain-rmse:626.67648+13.47560\ttest-rmse:986.94558+56.60918\n",
            "[1550]\ttrain-rmse:614.81870+13.48082\ttest-rmse:982.45967+56.46922\n",
            "[1600]\ttrain-rmse:604.15729+13.61123\ttest-rmse:978.56248+56.30901\n",
            "[1650]\ttrain-rmse:593.16231+13.62453\ttest-rmse:974.50374+56.25795\n",
            "[1700]\ttrain-rmse:582.35524+13.42520\ttest-rmse:971.57027+56.08600\n",
            "[1750]\ttrain-rmse:572.01340+13.35681\ttest-rmse:968.11748+56.05928\n",
            "[1800]\ttrain-rmse:562.23684+13.40435\ttest-rmse:964.92968+56.10877\n",
            "[1850]\ttrain-rmse:553.15797+13.21283\ttest-rmse:961.79869+55.83639\n",
            "[1900]\ttrain-rmse:544.52203+13.15886\ttest-rmse:958.97778+55.79490\n",
            "[1950]\ttrain-rmse:535.48570+13.09140\ttest-rmse:956.49869+55.80967\n",
            "[2000]\ttrain-rmse:527.59738+12.95063\ttest-rmse:954.08591+55.97289\n",
            "[2050]\ttrain-rmse:519.02426+12.80547\ttest-rmse:952.23639+55.70886\n",
            "[2100]\ttrain-rmse:511.03221+12.60591\ttest-rmse:949.84163+55.79822\n",
            "[2150]\ttrain-rmse:503.59049+12.56187\ttest-rmse:948.14239+55.81122\n",
            "[2200]\ttrain-rmse:495.61033+12.37352\ttest-rmse:946.54334+56.00264\n",
            "[2250]\ttrain-rmse:488.83582+12.16702\ttest-rmse:944.95605+56.02309\n",
            "[2300]\ttrain-rmse:481.51889+12.04310\ttest-rmse:943.45971+55.90712\n",
            "[2350]\ttrain-rmse:474.66784+11.88958\ttest-rmse:942.06560+55.87691\n",
            "[2400]\ttrain-rmse:467.95291+11.63327\ttest-rmse:940.62214+55.73229\n",
            "[2450]\ttrain-rmse:461.24991+11.32679\ttest-rmse:939.07987+55.40219\n"
          ]
        }
      ],
      "source": [
        "\n",
        "# Define the objective function for Optuna\n",
        "def objective(trial):\n",
        "    # Hyperparameter search space\n",
        "    params = {\n",
        "        'verbosity': 0,\n",
        "        'booster': trial.suggest_categorical('booster', ['gbtree', 'dart']),\n",
        "        'objective': 'reg:squarederror',  # Regression objective\n",
        "        'eval_metric': 'rmse',            # Root Mean Squared Error\n",
        "        'learning_rate': trial.suggest_float('learning_rate', 1e-5, 0.1, log=True),\n",
        "        'max_depth': trial.suggest_int('max_depth', 2, 30),\n",
        "        'gamma': trial.suggest_float('gamma', 0.01, 10, log=True),\n",
        "        'subsample': trial.suggest_float('subsample', 0.01, 1),\n",
        "        'reg_alpha': trial.suggest_float('reg_alpha', 1e-7, 1.0, log=True),\n",
        "        'reg_lambda': trial.suggest_float('reg_lambda', 1e-7, 1.0, log=True),\n",
        "        'colsample_bytree': trial.suggest_float('colsample_bytree', 0.01, 1.0),\n",
        "        'min_child_weight': trial.suggest_int('min_child_weight', 0, 10),\n",
        "        'n_estimators': trial.suggest_int('n_estimators', 5, 5000),\n",
        "    }\n",
        "\n",
        "\n",
        "    # Cross-validation\n",
        "    cv_results = xgb.cv(\n",
        "        params=params,\n",
        "        dtrain=xgb.DMatrix(X_train, label=y_train),\n",
        "        nfold=5,\n",
        "        metrics='rmse',\n",
        "        num_boost_round=params['n_estimators'],\n",
        "        as_pandas=True,\n",
        "        verbose_eval=50,\n",
        "        seed=0,\n",
        "        early_stopping_rounds=20\n",
        "    )\n",
        "\n",
        "    return cv_results['test-rmse-mean'].iloc[-1]\n",
        "\n",
        "# Run Optuna optimization (minization problem)\n",
        "study = optuna.create_study(study_name=\"xgboost_model_study\", direction=\"minimize\")\n",
        "study.optimize(objective, n_trials=1000)\n",
        "\n",
        "# Best hyperparameters\n",
        "print(\"Best hyperparameters:\", study.best_params)\n"
      ]
    },
    {
      "cell_type": "code",
      "execution_count": null,
      "metadata": {
        "id": "HnwC80bZv0fp"
      },
      "outputs": [],
      "source": [
        "# Here we will use the best parameters to train the model\n",
        "d_matrix_train = xgb.DMatrix(X_train, label=y_train)\n",
        "d_matrix_val = xgb.DMatrix(X_val, label=y_val)\n",
        "d_matrix_test = xgb.DMatrix(X_test, label=y_test)\n",
        "best_model = xgb.train(\n",
        "    study.best_params,\n",
        "    xgb.DMatrix(X_train, label=y_train),\n",
        "    num_boost_round=study.best_params[\"n_estimators\"],\n",
        "    evals=[(d_matrix_train, 'train'), (d_matrix_val, 'val')],\n",
        "    verbose_eval=50\n",
        ")\n"
      ]
    },
    {
      "cell_type": "code",
      "execution_count": null,
      "metadata": {
        "id": "JlllrQxSYUYx"
      },
      "outputs": [],
      "source": []
    }
  ],
  "metadata": {
    "colab": {
      "provenance": [],
      "authorship_tag": "ABX9TyNfCTBn4orTAfopeeTIFlb1",
      "include_colab_link": true
    },
    "kernelspec": {
      "display_name": "Python 3",
      "name": "python3"
    },
    "language_info": {
      "name": "python"
    }
  },
  "nbformat": 4,
  "nbformat_minor": 0
}