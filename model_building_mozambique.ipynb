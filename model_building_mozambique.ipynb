{
  "cells": [
    {
      "cell_type": "markdown",
      "metadata": {
        "id": "view-in-github",
        "colab_type": "text"
      },
      "source": [
        "<a href=\"https://colab.research.google.com/github/DHarley22/Prediction_case_malaria_mozambique/blob/1-xgboost-predictor-python-version/model_building_mozambique.ipynb\" target=\"_parent\"><img src=\"https://colab.research.google.com/assets/colab-badge.svg\" alt=\"Open In Colab\"/></a>"
      ]
    },
    {
      "cell_type": "code",
      "execution_count": 24,
      "metadata": {
        "id": "fu6o2lfcAlIL"
      },
      "outputs": [],
      "source": [
        "%%capture\n",
        "!pip install gdown optuna\n"
      ]
    },
    {
      "cell_type": "code",
      "execution_count": 25,
      "metadata": {
        "id": "fsGy-x_dKNg_"
      },
      "outputs": [],
      "source": [
        "import pandas as pd\n",
        "import seaborn as sns\n",
        "import matplotlib.pyplot as plt\n",
        "import geopandas as gpd\n",
        "import os\n",
        "import numpy as np\n",
        "import xgboost as xgb\n",
        "import sklearn\n",
        "import gdown\n",
        "import optuna\n",
        "from sklearn.metrics import mean_squared_error\n",
        "from sklearn.model_selection import train_test_split as split_into_two\n",
        "from sklearn.model_selection import GridSearchCV\n",
        "from sklearn.model_selection import RandomizedSearchCV\n",
        "from sklearn.model_selection import cross_val_score\n",
        "from sklearn.model_selection import KFold\n",
        "from xgboost import XGBRegressor"
      ]
    },
    {
      "cell_type": "code",
      "execution_count": 26,
      "metadata": {
        "id": "J9IVzC6Gs1Ts"
      },
      "outputs": [],
      "source": [
        "%%capture\n",
        "\n",
        "# The mozambique dataset is hosted here\n",
        "# https://drive.google.com/file/d/1uHGOjxlxfDYY5E-aL9HVRGvheDa_wNyq/view?usp=sharing\n",
        "dataset_drive_id = '1uHGOjxlxfDYY5E-aL9HVRGvheDa_wNyq'\n",
        "dataset_output_file = 'downloaded_sheet.xlsx'\n",
        "\n",
        "# The shape file relatd to the dataset is hosted here\n",
        "# https://drive.google.com/drive/folders/14UJ7ZXWmNeL28sYAv6dObNsC42kQr4Ja?usp=sharing\n",
        "shape_file_drive_id = '14UJ7ZXWmNeL28sYAv6dObNsC42kQr4Ja'\n",
        "shape_output_folder = 'shape_files'\n",
        "\n",
        "gdown.download_folder(id=shape_file_drive_id, output=shape_output_folder, quiet=False)\n",
        "gdown.download(id=dataset_drive_id, output=dataset_output_file, quiet=False)\n"
      ]
    },
    {
      "cell_type": "code",
      "execution_count": 27,
      "metadata": {
        "id": "P9k5GuvpByKZ"
      },
      "outputs": [],
      "source": [
        "dataset = pd.read_csv(f\"/content/{dataset_output_file}\")\n",
        "shape_file = gpd.read_file(f\"/content/{shape_output_folder}/shape_file.shp\")"
      ]
    },
    {
      "cell_type": "code",
      "execution_count": 28,
      "metadata": {
        "id": "tUNZjBi7thRj"
      },
      "outputs": [],
      "source": [
        "# (Left) join the dataset to the shape_file using the \"district\" field\n",
        "shaped_dataset = dataset.merge(\n",
        "    shape_file[[\"district\", \"geometry\"]],\n",
        "    on=\"district\",\n",
        "    how=\"left\"\n",
        ")\n",
        "\n",
        "# Convert the Dataframe into GeoDataframe and add some fields to it\n",
        "shaped_dataset =  gpd.GeoDataFrame(shaped_dataset, geometry=\"geometry\")\n",
        "\n",
        "shaped_dataset = shaped_dataset.to_crs(epsg=3857)\n",
        "\n",
        "# Calculate the area and centroid using the projected CRS\n",
        "shaped_dataset[\"area\"] = shaped_dataset.geometry.area\n",
        "shaped_dataset[\"centroid_x\"] = shaped_dataset.geometry.centroid.x\n",
        "shaped_dataset[\"centroid_y\"] = shaped_dataset.geometry.centroid.y"
      ]
    },
    {
      "cell_type": "markdown",
      "metadata": {
        "id": "47PSjVojDF-6"
      },
      "source": [
        "### Missing data handling\n",
        "\n",
        "Rules:\n",
        "\n",
        "- If {some condition} then {we do this}\n",
        "- If {some condition} then {we do this}"
      ]
    },
    {
      "cell_type": "code",
      "execution_count": 29,
      "metadata": {
        "id": "A01_UuzSs75x"
      },
      "outputs": [],
      "source": [
        "# Handle missing data\n",
        "# TODO:"
      ]
    },
    {
      "cell_type": "markdown",
      "metadata": {
        "id": "NCmA-ipMEWFE"
      },
      "source": [
        "### Test/Val/Test Split\n",
        "\n",
        "Rules:\n",
        "\n",
        "- We will use\n"
      ]
    },
    {
      "cell_type": "code",
      "execution_count": 30,
      "metadata": {
        "colab": {
          "base_uri": "https://localhost:8080/"
        },
        "id": "Cb7_FcyEs5MR",
        "outputId": "c3b4e051-8439-488c-afb7-d8cfd6333b7c"
      },
      "outputs": [
        {
          "output_type": "stream",
          "name": "stdout",
          "text": [
            "(5088, 10) (5088,)\n"
          ]
        }
      ],
      "source": [
        "TARGET_DISEASE_FIELD = \"malaria_cases_u5\"\n",
        "\n",
        "\n",
        "# Relevant features\n",
        "relevant_features = [\n",
        "    # Environemental features\n",
        "    'tmin', 'tmax', 'precipitation', 'ndvi','RH',\n",
        "    # Socio-economic features\n",
        "    'prop_poor', 'prop_Rural', 'prop_drinking_TreatedWater',\n",
        "    # Spatial features\n",
        "     'centroid_x', 'centroid_y'\n",
        "]\n",
        "\n",
        "# Test dataset predicate; use lines between March and June for testing\n",
        "test_data_predicate = (shaped_dataset['year'] == 2018) & (shaped_dataset['month'].between(3, 6))\n",
        "\n",
        "# Test dataset\n",
        "X_test = shaped_dataset[test_data_predicate][relevant_features]\n",
        "y_test = shaped_dataset[test_data_predicate][TARGET_DISEASE_FIELD]\n",
        "\n",
        "# The rest of the dataset separated as X, y\n",
        "X = shaped_dataset[~test_data_predicate][relevant_features]\n",
        "y = shaped_dataset[~test_data_predicate][TARGET_DISEASE_FIELD]\n",
        "\n",
        "print(X.shape, y.shape)\n",
        "X_train, X_val, y_train, y_val = split_into_two(X, y, test_size=0.3, random_state=42)\n",
        "\n",
        "\n"
      ]
    },
    {
      "cell_type": "code",
      "execution_count": 33,
      "metadata": {
        "colab": {
          "base_uri": "https://localhost:8080/"
        },
        "id": "MYdLvVWsUPo4",
        "outputId": "00dc48bc-9f1b-4974-949b-feab9e6c755a"
      },
      "outputs": [
        {
          "metadata": {
            "tags": null
          },
          "name": "stderr",
          "output_type": "stream",
          "text": [
            "[I 2025-01-28 16:35:26,789] A new study created in memory with name: xgboost_model_study\n"
          ]
        },
        {
          "metadata": {
            "tags": null
          },
          "name": "stdout",
          "output_type": "stream",
          "text": [
            "[0]\ttrain-rmse:1777.35924+28.31030\ttest-rmse:1775.09794+119.79653\n",
            "[50]\ttrain-rmse:907.11931+16.45266\ttest-rmse:1020.29732+71.24673\n",
            "[100]\ttrain-rmse:734.90548+15.41758\ttest-rmse:919.21478+73.25653\n",
            "[150]\ttrain-rmse:653.80358+15.23004\ttest-rmse:890.49397+71.07101\n",
            "[200]\ttrain-rmse:592.19660+12.73526\ttest-rmse:877.38620+70.94232\n",
            "[250]\ttrain-rmse:542.68110+12.06193\ttest-rmse:869.84089+68.25990\n",
            "[300]\ttrain-rmse:502.08375+12.88430\ttest-rmse:864.84657+68.36436\n",
            "[350]\ttrain-rmse:467.23817+11.98358\ttest-rmse:861.18560+69.83962\n",
            "[368]\ttrain-rmse:455.95452+11.77670\ttest-rmse:861.10525+68.72035\n"
          ]
        },
        {
          "metadata": {
            "tags": null
          },
          "name": "stderr",
          "output_type": "stream",
          "text": [
            "[I 2025-01-28 16:35:35,956] Trial 0 finished with value: 860.8608398342842 and parameters: {'booster': 'gbtree', 'learning_rate': 0.04791104486254774, 'max_depth': 7, 'gamma': 2.1445268605181222e-08, 'subsample': 0.4353583788033487, 'reg_alpha': 0.00011375392653888646, 'reg_lambda': 3.510085627210054e-07, 'colsample_bytree': 0.6703317699475618, 'min_child_weight': 10, 'n_estimators': 2394}. Best is trial 0 with value: 860.8608398342842.\n"
          ]
        },
        {
          "metadata": {
            "tags": null
          },
          "name": "stdout",
          "output_type": "stream",
          "text": [
            "[0]\ttrain-rmse:1822.72832+29.38229\ttest-rmse:1819.06748+123.15790\n",
            "[50]\ttrain-rmse:1798.62586+27.81125\ttest-rmse:1797.42077+121.68859\n",
            "[100]\ttrain-rmse:1774.60594+25.52622\ttest-rmse:1775.93523+120.57984\n",
            "[150]\ttrain-rmse:1755.04085+24.90063\ttest-rmse:1758.46962+119.19781\n",
            "[200]\ttrain-rmse:1733.36567+23.86543\ttest-rmse:1738.81031+117.42160\n",
            "[250]\ttrain-rmse:1715.46644+22.50012\ttest-rmse:1723.13466+116.65004\n",
            "[300]\ttrain-rmse:1696.65863+21.88108\ttest-rmse:1706.61122+115.34584\n",
            "[350]\ttrain-rmse:1676.27599+20.71145\ttest-rmse:1688.48640+114.12961\n",
            "[400]\ttrain-rmse:1654.48785+19.51058\ttest-rmse:1668.52626+112.41050\n",
            "[450]\ttrain-rmse:1637.46178+18.51875\ttest-rmse:1653.81886+111.47492\n",
            "[500]\ttrain-rmse:1617.99836+17.65189\ttest-rmse:1636.22267+110.03730\n",
            "[550]\ttrain-rmse:1602.13919+16.69193\ttest-rmse:1622.41595+108.99544\n",
            "[600]\ttrain-rmse:1585.13330+16.29581\ttest-rmse:1607.20080+107.44341\n",
            "[650]\ttrain-rmse:1568.17350+14.87409\ttest-rmse:1592.38058+106.90764\n",
            "[700]\ttrain-rmse:1552.76450+14.38827\ttest-rmse:1578.90166+105.62052\n",
            "[750]\ttrain-rmse:1537.54032+13.36965\ttest-rmse:1565.99962+104.76304\n",
            "[800]\ttrain-rmse:1522.97808+12.98983\ttest-rmse:1553.27892+103.88838\n",
            "[850]\ttrain-rmse:1507.68094+12.36358\ttest-rmse:1539.80288+102.99972\n",
            "[900]\ttrain-rmse:1494.00104+12.15581\ttest-rmse:1527.68833+101.78813\n",
            "[950]\ttrain-rmse:1478.39973+12.44747\ttest-rmse:1513.53350+99.90249\n",
            "[1000]\ttrain-rmse:1463.20938+12.29309\ttest-rmse:1500.00112+98.61408\n",
            "[1050]\ttrain-rmse:1450.98314+12.04382\ttest-rmse:1489.20087+97.71260\n",
            "[1100]\ttrain-rmse:1438.10584+12.23044\ttest-rmse:1478.13646+96.66975\n",
            "[1150]\ttrain-rmse:1425.77641+12.20951\ttest-rmse:1467.32465+95.44620\n",
            "[1200]\ttrain-rmse:1413.02629+11.84992\ttest-rmse:1456.32304+94.74415\n",
            "[1250]\ttrain-rmse:1400.77495+11.77575\ttest-rmse:1445.79224+93.74280\n",
            "[1300]\ttrain-rmse:1388.80746+11.95702\ttest-rmse:1435.48166+92.55453\n",
            "[1350]\ttrain-rmse:1376.69825+11.89119\ttest-rmse:1425.01754+91.77144\n",
            "[1400]\ttrain-rmse:1364.20612+11.27920\ttest-rmse:1414.07738+91.14823\n",
            "[1450]\ttrain-rmse:1352.67455+11.42842\ttest-rmse:1404.06850+90.03153\n",
            "[1500]\ttrain-rmse:1340.60260+11.36637\ttest-rmse:1393.31960+89.16759\n",
            "[1550]\ttrain-rmse:1329.25726+11.65588\ttest-rmse:1383.50322+88.06025\n",
            "[1600]\ttrain-rmse:1319.62344+12.00525\ttest-rmse:1375.20919+86.95417\n",
            "[1650]\ttrain-rmse:1310.38255+11.91569\ttest-rmse:1367.20897+86.10895\n",
            "[1700]\ttrain-rmse:1302.46947+12.23937\ttest-rmse:1360.72291+85.88563\n",
            "[1750]\ttrain-rmse:1293.42872+12.16977\ttest-rmse:1353.09351+85.46584\n",
            "[1800]\ttrain-rmse:1284.22775+12.35243\ttest-rmse:1345.30085+85.14673\n",
            "[1850]\ttrain-rmse:1274.37067+12.28423\ttest-rmse:1336.59842+84.11107\n",
            "[1900]\ttrain-rmse:1265.17379+12.30689\ttest-rmse:1328.77324+83.60776\n",
            "[1950]\ttrain-rmse:1256.95363+12.35457\ttest-rmse:1321.75413+83.09189\n",
            "[2000]\ttrain-rmse:1247.48130+12.55539\ttest-rmse:1313.54028+82.53928\n",
            "[2050]\ttrain-rmse:1239.45557+12.85246\ttest-rmse:1306.75830+81.73941\n",
            "[2100]\ttrain-rmse:1231.08469+12.93096\ttest-rmse:1299.37669+81.15082\n",
            "[2150]\ttrain-rmse:1223.30793+13.17076\ttest-rmse:1292.84550+80.67012\n",
            "[2200]\ttrain-rmse:1216.57892+12.86355\ttest-rmse:1287.23212+80.16954\n",
            "[2250]\ttrain-rmse:1208.88177+12.95241\ttest-rmse:1280.71613+79.68523\n",
            "[2300]\ttrain-rmse:1201.95561+12.95406\ttest-rmse:1274.96121+79.14662\n",
            "[2350]\ttrain-rmse:1194.67584+13.07865\ttest-rmse:1268.92578+78.62783\n",
            "[2400]\ttrain-rmse:1187.78002+13.09833\ttest-rmse:1263.30363+78.20007\n",
            "[2450]\ttrain-rmse:1179.79532+12.86544\ttest-rmse:1256.53973+77.74884\n",
            "[2500]\ttrain-rmse:1173.24872+13.03675\ttest-rmse:1250.99741+77.36029\n",
            "[2550]\ttrain-rmse:1166.89192+12.96870\ttest-rmse:1245.81508+77.07098\n",
            "[2600]\ttrain-rmse:1159.87300+12.97805\ttest-rmse:1239.81811+76.76599\n",
            "[2650]\ttrain-rmse:1153.75867+12.90388\ttest-rmse:1234.63662+76.45406\n",
            "[2700]\ttrain-rmse:1147.11955+12.83282\ttest-rmse:1228.87299+75.94609\n",
            "[2750]\ttrain-rmse:1140.91126+13.10435\ttest-rmse:1223.54073+75.58002\n",
            "[2800]\ttrain-rmse:1134.71546+13.06051\ttest-rmse:1218.34561+75.23251\n",
            "[2850]\ttrain-rmse:1127.96079+12.88630\ttest-rmse:1212.34016+74.89270\n",
            "[2900]\ttrain-rmse:1121.86818+12.72762\ttest-rmse:1207.30941+74.84247\n",
            "[2950]\ttrain-rmse:1116.38647+12.97417\ttest-rmse:1202.61681+73.99079\n",
            "[3000]\ttrain-rmse:1110.22990+13.11455\ttest-rmse:1197.40008+73.82195\n",
            "[3050]\ttrain-rmse:1104.44053+13.09402\ttest-rmse:1192.52896+73.63693\n",
            "[3100]\ttrain-rmse:1098.33639+13.12887\ttest-rmse:1186.98085+73.39226\n",
            "[3150]\ttrain-rmse:1093.31160+13.34466\ttest-rmse:1182.91032+72.95633\n",
            "[3200]\ttrain-rmse:1087.51377+13.35236\ttest-rmse:1177.97532+72.39220\n",
            "[3250]\ttrain-rmse:1082.89113+13.37174\ttest-rmse:1174.34412+72.37906\n",
            "[3300]\ttrain-rmse:1078.11890+13.45125\ttest-rmse:1170.30791+72.19527\n",
            "[3350]\ttrain-rmse:1073.35406+13.52649\ttest-rmse:1166.43464+71.84350\n",
            "[3400]\ttrain-rmse:1068.57371+13.53345\ttest-rmse:1162.51474+71.87881\n",
            "[3433]\ttrain-rmse:1065.58235+13.51386\ttest-rmse:1160.08889+71.81563\n"
          ]
        },
        {
          "metadata": {
            "tags": null
          },
          "name": "stderr",
          "output_type": "stream",
          "text": [
            "[I 2025-01-28 16:35:58,580] Trial 1 finished with value: 1160.0888877862149 and parameters: {'booster': 'gbtree', 'learning_rate': 0.0011515690933488261, 'max_depth': 5, 'gamma': 1.0651321910572778e-06, 'subsample': 0.2433512971234123, 'reg_alpha': 0.07617342423268673, 'reg_lambda': 9.365166733246727e-05, 'colsample_bytree': 0.278060317064422, 'min_child_weight': 7, 'n_estimators': 3434}. Best is trial 0 with value: 860.8608398342842.\n"
          ]
        },
        {
          "metadata": {
            "tags": null
          },
          "name": "stdout",
          "output_type": "stream",
          "text": [
            "[0]\ttrain-rmse:1720.34737+34.02948\ttest-rmse:1727.55698+114.60423\n",
            "[50]\ttrain-rmse:940.15269+19.89937\ttest-rmse:1032.24470+61.89309\n",
            "[100]\ttrain-rmse:808.09399+14.04466\ttest-rmse:940.26632+73.11887\n",
            "[150]\ttrain-rmse:737.42512+12.42748\ttest-rmse:918.87520+68.76282\n",
            "[200]\ttrain-rmse:686.14568+9.57664\ttest-rmse:904.44515+64.25184\n",
            "[250]\ttrain-rmse:646.67804+9.30842\ttest-rmse:900.62678+63.98384\n",
            "[300]\ttrain-rmse:612.91728+11.28329\ttest-rmse:891.97370+59.39602\n",
            "[318]\ttrain-rmse:602.66492+10.73728\ttest-rmse:892.03092+56.69560\n"
          ]
        },
        {
          "metadata": {
            "tags": null
          },
          "name": "stderr",
          "output_type": "stream",
          "text": [
            "[I 2025-01-28 16:36:02,748] Trial 2 finished with value: 891.629601120872 and parameters: {'booster': 'gbtree', 'learning_rate': 0.1989508361356215, 'max_depth': 3, 'gamma': 0.008819028824504988, 'subsample': 0.6857086276787931, 'reg_alpha': 2.1918818763561084e-06, 'reg_lambda': 0.002994514605777983, 'colsample_bytree': 0.41971184349857266, 'min_child_weight': 7, 'n_estimators': 2317}. Best is trial 0 with value: 860.8608398342842.\n"
          ]
        },
        {
          "metadata": {
            "tags": null
          },
          "name": "stdout",
          "output_type": "stream",
          "text": [
            "[0]\ttrain-rmse:1822.16296+29.24249\ttest-rmse:1818.59747+123.12063\n",
            "[50]\ttrain-rmse:1778.11355+26.56136\ttest-rmse:1778.62707+118.68333\n",
            "[100]\ttrain-rmse:1732.27452+24.37851\ttest-rmse:1736.36998+112.34187\n",
            "[150]\ttrain-rmse:1696.27993+23.80946\ttest-rmse:1703.84649+107.38142\n",
            "[200]\ttrain-rmse:1658.75954+22.52379\ttest-rmse:1669.44834+102.25230\n",
            "[250]\ttrain-rmse:1628.38902+21.50510\ttest-rmse:1642.64049+99.00284\n",
            "[300]\ttrain-rmse:1596.92583+20.41215\ttest-rmse:1614.84756+95.77587\n",
            "[350]\ttrain-rmse:1564.97524+19.42515\ttest-rmse:1585.54526+91.62181\n",
            "[400]\ttrain-rmse:1532.59515+18.30413\ttest-rmse:1556.00391+87.50572\n",
            "[450]\ttrain-rmse:1506.23707+18.06652\ttest-rmse:1532.49485+84.18256\n",
            "[500]\ttrain-rmse:1478.20857+17.63663\ttest-rmse:1506.86704+81.37954\n",
            "[550]\ttrain-rmse:1456.08852+17.02862\ttest-rmse:1487.67122+79.49986\n",
            "[600]\ttrain-rmse:1432.65905+16.23616\ttest-rmse:1466.91671+77.59386\n",
            "[650]\ttrain-rmse:1410.23942+15.95629\ttest-rmse:1446.96299+75.41779\n",
            "[700]\ttrain-rmse:1389.16707+15.48655\ttest-rmse:1428.55022+73.32388\n",
            "[750]\ttrain-rmse:1370.20084+15.25461\ttest-rmse:1412.33165+72.17205\n",
            "[800]\ttrain-rmse:1350.93483+14.75189\ttest-rmse:1395.48738+70.53248\n",
            "[850]\ttrain-rmse:1331.72043+14.62864\ttest-rmse:1378.51605+69.15437\n",
            "[900]\ttrain-rmse:1314.44924+14.33310\ttest-rmse:1363.58192+68.00552\n",
            "[950]\ttrain-rmse:1295.46229+14.40890\ttest-rmse:1346.43356+66.60351\n",
            "[1000]\ttrain-rmse:1277.22784+14.32159\ttest-rmse:1330.40105+65.54594\n",
            "[1050]\ttrain-rmse:1262.96926+14.16017\ttest-rmse:1318.23681+64.62580\n",
            "[1100]\ttrain-rmse:1248.11558+14.39852\ttest-rmse:1305.41029+63.43765\n",
            "[1150]\ttrain-rmse:1233.63086+14.32816\ttest-rmse:1292.95086+62.66011\n",
            "[1200]\ttrain-rmse:1219.31307+14.17987\ttest-rmse:1280.51275+62.21061\n",
            "[1250]\ttrain-rmse:1205.86934+14.12734\ttest-rmse:1269.06487+61.81893\n",
            "[1300]\ttrain-rmse:1192.77115+13.92080\ttest-rmse:1257.78514+61.46785\n",
            "[1350]\ttrain-rmse:1179.74149+14.02909\ttest-rmse:1246.43080+61.02602\n",
            "[1400]\ttrain-rmse:1166.97284+13.86527\ttest-rmse:1235.31235+61.00970\n",
            "[1450]\ttrain-rmse:1155.26086+13.78389\ttest-rmse:1225.22386+60.87368\n",
            "[1500]\ttrain-rmse:1142.75899+13.61128\ttest-rmse:1214.53523+60.75549\n",
            "[1550]\ttrain-rmse:1131.49486+13.70631\ttest-rmse:1204.82544+60.47098\n",
            "[1600]\ttrain-rmse:1121.59359+13.89280\ttest-rmse:1196.75827+60.03704\n",
            "[1650]\ttrain-rmse:1112.20340+13.98770\ttest-rmse:1189.07752+59.90327\n",
            "[1700]\ttrain-rmse:1103.54423+13.89053\ttest-rmse:1182.30771+59.98652\n",
            "[1750]\ttrain-rmse:1094.41691+14.03246\ttest-rmse:1174.71499+59.99128\n",
            "[1800]\ttrain-rmse:1085.62111+14.08108\ttest-rmse:1167.58782+59.93012\n",
            "[1850]\ttrain-rmse:1076.62134+14.04939\ttest-rmse:1159.94549+59.77333\n",
            "[1900]\ttrain-rmse:1068.21368+14.18614\ttest-rmse:1152.92451+59.50015\n",
            "[1950]\ttrain-rmse:1060.56054+14.06894\ttest-rmse:1146.94035+59.57687\n",
            "[2000]\ttrain-rmse:1052.25615+14.09836\ttest-rmse:1140.05750+59.55705\n",
            "[2050]\ttrain-rmse:1045.08199+14.10202\ttest-rmse:1134.45334+59.37170\n",
            "[2080]\ttrain-rmse:1040.58798+14.21019\ttest-rmse:1130.81039+59.26399\n"
          ]
        },
        {
          "metadata": {
            "tags": null
          },
          "name": "stderr",
          "output_type": "stream",
          "text": [
            "[I 2025-01-28 16:36:18,418] Trial 3 finished with value: 1130.8103918392255 and parameters: {'booster': 'gbtree', 'learning_rate': 0.0016306201500234767, 'max_depth': 5, 'gamma': 2.9846462468120065e-05, 'subsample': 0.6722105464361292, 'reg_alpha': 0.005054748027566146, 'reg_lambda': 0.10655069586359996, 'colsample_bytree': 0.24337945259696428, 'min_child_weight': 9, 'n_estimators': 2081}. Best is trial 0 with value: 860.8608398342842.\n"
          ]
        },
        {
          "metadata": {
            "tags": null
          },
          "name": "stdout",
          "output_type": "stream",
          "text": [
            "[0]\ttrain-rmse:1821.43325+29.29928\ttest-rmse:1817.86827+122.97001\n",
            "[50]\ttrain-rmse:1744.34202+26.71048\ttest-rmse:1750.93180+113.28603\n",
            "[100]\ttrain-rmse:1667.04738+23.96973\ttest-rmse:1684.22030+104.16373\n",
            "[150]\ttrain-rmse:1605.47667+22.82397\ttest-rmse:1635.13327+97.32604\n",
            "[200]\ttrain-rmse:1545.40512+21.42073\ttest-rmse:1584.99548+90.99516\n",
            "[250]\ttrain-rmse:1495.80433+19.57713\ttest-rmse:1546.25437+87.02506\n",
            "[300]\ttrain-rmse:1444.49525+18.57253\ttest-rmse:1505.40419+82.34951\n",
            "[350]\ttrain-rmse:1395.65501+17.31766\ttest-rmse:1464.67072+77.80354\n",
            "[400]\ttrain-rmse:1348.16111+16.04525\ttest-rmse:1425.46212+74.31321\n",
            "[450]\ttrain-rmse:1307.51283+14.59937\ttest-rmse:1393.77659+71.18407\n",
            "[500]\ttrain-rmse:1266.34400+13.70087\ttest-rmse:1360.19387+68.57456\n",
            "[550]\ttrain-rmse:1231.72938+13.57606\ttest-rmse:1333.89863+66.37296\n",
            "[600]\ttrain-rmse:1198.57332+13.35443\ttest-rmse:1308.94309+64.17141\n",
            "[650]\ttrain-rmse:1165.74366+12.94528\ttest-rmse:1284.59388+62.43548\n",
            "[700]\ttrain-rmse:1136.48061+12.76762\ttest-rmse:1263.73648+60.77366\n",
            "[750]\ttrain-rmse:1108.22019+12.44381\ttest-rmse:1243.79821+59.38318\n",
            "[800]\ttrain-rmse:1081.73291+12.01487\ttest-rmse:1224.84804+58.12905\n",
            "[850]\ttrain-rmse:1055.29372+11.90559\ttest-rmse:1205.71406+57.41223\n",
            "[900]\ttrain-rmse:1032.53759+11.59788\ttest-rmse:1189.95310+57.15931\n",
            "[950]\ttrain-rmse:1008.42199+11.82121\ttest-rmse:1172.61370+56.40639\n",
            "[1000]\ttrain-rmse:985.46471+11.78651\ttest-rmse:1155.71592+56.06789\n",
            "[1050]\ttrain-rmse:966.93973+11.70430\ttest-rmse:1144.16807+55.56723\n",
            "[1100]\ttrain-rmse:948.00337+11.90105\ttest-rmse:1131.97140+54.91482\n",
            "[1150]\ttrain-rmse:930.27218+11.77781\ttest-rmse:1120.54815+54.91193\n",
            "[1200]\ttrain-rmse:912.49205+11.53333\ttest-rmse:1108.70797+54.88264\n",
            "[1250]\ttrain-rmse:895.41758+11.58070\ttest-rmse:1098.38295+54.78720\n",
            "[1300]\ttrain-rmse:879.32235+11.42784\ttest-rmse:1088.27513+54.67247\n",
            "[1350]\ttrain-rmse:863.80279+11.51717\ttest-rmse:1078.25071+54.53576\n",
            "[1400]\ttrain-rmse:849.00227+11.39964\ttest-rmse:1068.85768+54.79189\n",
            "[1450]\ttrain-rmse:835.21429+11.38697\ttest-rmse:1060.73115+54.58530\n",
            "[1500]\ttrain-rmse:821.70020+11.17016\ttest-rmse:1052.33504+54.68543\n",
            "[1550]\ttrain-rmse:809.03497+10.95533\ttest-rmse:1044.83107+54.81005\n",
            "[1600]\ttrain-rmse:797.87208+11.10903\ttest-rmse:1038.88857+54.66209\n",
            "[1650]\ttrain-rmse:786.53542+10.91836\ttest-rmse:1033.19189+54.97349\n",
            "[1700]\ttrain-rmse:775.72436+11.08069\ttest-rmse:1028.18945+54.68576\n",
            "[1750]\ttrain-rmse:765.23050+10.98783\ttest-rmse:1022.85717+54.77078\n",
            "[1800]\ttrain-rmse:754.95458+10.91072\ttest-rmse:1017.77751+54.70540\n",
            "[1850]\ttrain-rmse:745.17658+10.89094\ttest-rmse:1012.28190+54.45672\n",
            "[1900]\ttrain-rmse:735.75842+10.74458\ttest-rmse:1007.48826+54.37947\n",
            "[1950]\ttrain-rmse:726.67809+10.78277\ttest-rmse:1003.22068+54.41101\n",
            "[2000]\ttrain-rmse:717.85187+10.84894\ttest-rmse:998.72213+54.30471\n",
            "[2050]\ttrain-rmse:709.29471+10.74274\ttest-rmse:995.08469+54.21602\n",
            "[2100]\ttrain-rmse:700.48844+10.68696\ttest-rmse:990.77660+54.22124\n",
            "[2150]\ttrain-rmse:692.65261+10.57759\ttest-rmse:987.25444+54.02772\n",
            "[2200]\ttrain-rmse:684.97199+10.42465\ttest-rmse:984.41341+53.92412\n",
            "[2250]\ttrain-rmse:677.53128+10.28223\ttest-rmse:981.22419+53.80242\n",
            "[2300]\ttrain-rmse:670.16940+10.22826\ttest-rmse:978.07859+53.80085\n",
            "[2350]\ttrain-rmse:663.01915+10.16219\ttest-rmse:974.98701+53.76465\n",
            "[2400]\ttrain-rmse:656.31819+10.06229\ttest-rmse:972.21062+53.75862\n",
            "[2450]\ttrain-rmse:649.29298+10.02023\ttest-rmse:969.18164+53.68040\n",
            "[2500]\ttrain-rmse:642.70308+10.13448\ttest-rmse:966.37822+53.77428\n",
            "[2550]\ttrain-rmse:636.20744+9.93138\ttest-rmse:963.71793+53.87799\n",
            "[2600]\ttrain-rmse:629.88483+9.72029\ttest-rmse:961.20979+53.70841\n",
            "[2650]\ttrain-rmse:624.09564+9.72490\ttest-rmse:959.06913+53.68884\n",
            "[2700]\ttrain-rmse:618.23881+9.72530\ttest-rmse:956.92690+53.52340\n",
            "[2750]\ttrain-rmse:612.45118+9.76504\ttest-rmse:954.72366+53.46083\n",
            "[2800]\ttrain-rmse:606.75159+9.77093\ttest-rmse:952.87223+53.31072\n",
            "[2850]\ttrain-rmse:601.50625+9.78146\ttest-rmse:950.58402+53.25126\n",
            "[2900]\ttrain-rmse:596.14494+9.74710\ttest-rmse:948.65408+53.26149\n",
            "[2950]\ttrain-rmse:591.14152+9.73588\ttest-rmse:946.99598+53.24360\n",
            "[3000]\ttrain-rmse:586.34123+9.76579\ttest-rmse:945.16335+53.13369\n",
            "[3050]\ttrain-rmse:581.27733+9.66882\ttest-rmse:943.33403+53.13086\n",
            "[3100]\ttrain-rmse:576.75105+9.56770\ttest-rmse:941.42550+53.06020\n",
            "[3150]\ttrain-rmse:571.98468+9.46856\ttest-rmse:940.15267+52.89848\n",
            "[3200]\ttrain-rmse:567.62806+9.37791\ttest-rmse:938.51755+52.96889\n",
            "[3250]\ttrain-rmse:562.98667+9.39037\ttest-rmse:937.04714+52.90678\n",
            "[3300]\ttrain-rmse:558.71222+9.43607\ttest-rmse:935.67587+52.86596\n",
            "[3350]\ttrain-rmse:554.39573+9.28792\ttest-rmse:934.45145+52.85472\n",
            "[3400]\ttrain-rmse:550.16684+9.22070\ttest-rmse:933.12630+52.78386\n",
            "[3450]\ttrain-rmse:545.48051+9.14165\ttest-rmse:931.80510+52.74292\n",
            "[3500]\ttrain-rmse:541.63647+9.10997\ttest-rmse:930.45948+52.67501\n",
            "[3550]\ttrain-rmse:537.74113+8.99442\ttest-rmse:929.27541+52.65073\n",
            "[3600]\ttrain-rmse:533.90612+8.92698\ttest-rmse:928.30172+52.62609\n",
            "[3650]\ttrain-rmse:530.16322+8.82030\ttest-rmse:927.29780+52.62754\n",
            "[3700]\ttrain-rmse:526.34205+8.78194\ttest-rmse:926.57229+52.56469\n",
            "[3750]\ttrain-rmse:522.68149+8.69016\ttest-rmse:925.53111+52.44463\n",
            "[3800]\ttrain-rmse:519.01616+8.66399\ttest-rmse:924.60305+52.38957\n",
            "[3850]\ttrain-rmse:515.56324+8.61320\ttest-rmse:923.45435+52.30819\n",
            "[3900]\ttrain-rmse:511.94265+8.57332\ttest-rmse:922.53474+52.24544\n",
            "[3950]\ttrain-rmse:508.29053+8.56901\ttest-rmse:921.86583+52.29214\n",
            "[4000]\ttrain-rmse:504.65444+8.55040\ttest-rmse:921.06817+52.15482\n",
            "[4050]\ttrain-rmse:501.29657+8.52034\ttest-rmse:920.23790+52.27068\n",
            "[4100]\ttrain-rmse:497.99400+8.41204\ttest-rmse:919.41315+52.14406\n",
            "[4150]\ttrain-rmse:494.88496+8.46717\ttest-rmse:918.66863+52.04917\n",
            "[4200]\ttrain-rmse:491.51394+8.43697\ttest-rmse:917.83869+52.13303\n",
            "[4250]\ttrain-rmse:488.14149+8.28251\ttest-rmse:917.10605+52.06038\n",
            "[4278]\ttrain-rmse:486.47587+8.29270\ttest-rmse:916.70778+52.05771\n"
          ]
        },
        {
          "metadata": {
            "tags": null
          },
          "name": "stderr",
          "output_type": "stream",
          "text": [
            "[I 2025-01-28 16:37:16,525] Trial 4 finished with value: 916.7077820438644 and parameters: {'booster': 'gbtree', 'learning_rate': 0.0020092576884073775, 'max_depth': 7, 'gamma': 1.9749466223404677e-06, 'subsample': 0.5371321243340923, 'reg_alpha': 8.353385364268443e-06, 'reg_lambda': 3.8007281551300014e-08, 'colsample_bytree': 0.2624764541407455, 'min_child_weight': 1, 'n_estimators': 4279}. Best is trial 0 with value: 860.8608398342842.\n"
          ]
        },
        {
          "metadata": {
            "tags": null
          },
          "name": "stdout",
          "output_type": "stream",
          "text": [
            "[0]\ttrain-rmse:1798.70098+29.87416\ttest-rmse:1797.76519+120.69060\n",
            "[50]\ttrain-rmse:1095.42840+15.85721\ttest-rmse:1176.22637+62.32974\n",
            "[100]\ttrain-rmse:846.68410+17.80645\ttest-rmse:989.30061+60.72270\n",
            "[150]\ttrain-rmse:730.89831+15.82363\ttest-rmse:928.31517+60.46561\n",
            "[200]\ttrain-rmse:663.19109+13.92186\ttest-rmse:898.26045+58.80256\n",
            "[250]\ttrain-rmse:613.93783+15.93756\ttest-rmse:883.45476+57.71535\n",
            "[300]\ttrain-rmse:572.69882+16.15484\ttest-rmse:873.37387+58.26263\n",
            "[350]\ttrain-rmse:539.00494+14.90389\ttest-rmse:865.54853+55.84766\n",
            "[400]\ttrain-rmse:508.44651+13.90358\ttest-rmse:858.74315+54.62835\n",
            "[450]\ttrain-rmse:479.85541+12.31078\ttest-rmse:854.61531+54.15370\n",
            "[500]\ttrain-rmse:454.44007+13.33461\ttest-rmse:851.77837+55.98394\n",
            "[550]\ttrain-rmse:430.05709+12.17338\ttest-rmse:849.26292+56.11657\n",
            "[600]\ttrain-rmse:409.04245+11.67005\ttest-rmse:847.51727+56.59688\n",
            "[650]\ttrain-rmse:389.10705+11.00897\ttest-rmse:845.68023+57.06084\n",
            "[683]\ttrain-rmse:376.96164+10.34818\ttest-rmse:845.59414+57.14854\n"
          ]
        },
        {
          "metadata": {
            "tags": null
          },
          "name": "stderr",
          "output_type": "stream",
          "text": [
            "[I 2025-01-28 16:37:27,108] Trial 5 finished with value: 845.2201852835872 and parameters: {'booster': 'gbtree', 'learning_rate': 0.025832635969214264, 'max_depth': 6, 'gamma': 0.0023330655562655706, 'subsample': 0.5037056142780092, 'reg_alpha': 1.222327300371936e-07, 'reg_lambda': 4.930989618413164e-07, 'colsample_bytree': 0.7266623455414551, 'min_child_weight': 4, 'n_estimators': 4965}. Best is trial 5 with value: 845.2201852835872.\n"
          ]
        },
        {
          "metadata": {
            "tags": null
          },
          "name": "stdout",
          "output_type": "stream",
          "text": [
            "[0]\ttrain-rmse:1804.48582+29.86316\ttest-rmse:1801.21912+121.32959\n",
            "[50]\ttrain-rmse:1274.58917+16.36049\ttest-rmse:1341.68738+88.43063\n",
            "[100]\ttrain-rmse:997.72786+15.00897\ttest-rmse:1121.36711+70.28441\n",
            "[150]\ttrain-rmse:859.94422+18.14434\ttest-rmse:1029.75222+67.04747\n",
            "[200]\ttrain-rmse:771.49610+18.45050\ttest-rmse:972.00405+61.53883\n",
            "[250]\ttrain-rmse:709.49588+17.06202\ttest-rmse:942.08614+62.50360\n",
            "[300]\ttrain-rmse:662.42780+18.15517\ttest-rmse:922.28540+60.87792\n",
            "[350]\ttrain-rmse:624.67929+18.52513\ttest-rmse:906.04346+61.75604\n",
            "[400]\ttrain-rmse:592.57400+17.98760\ttest-rmse:896.41041+59.53498\n",
            "[450]\ttrain-rmse:564.05160+17.17742\ttest-rmse:893.82104+58.63906\n",
            "[500]\ttrain-rmse:541.64102+16.83654\ttest-rmse:890.37637+57.38489\n",
            "[550]\ttrain-rmse:519.63527+15.65711\ttest-rmse:886.61940+57.16366\n",
            "[600]\ttrain-rmse:499.70847+15.22362\ttest-rmse:883.60823+56.17589\n",
            "[650]\ttrain-rmse:480.94132+14.62146\ttest-rmse:881.24977+54.53821\n",
            "[673]\ttrain-rmse:472.37750+14.15553\ttest-rmse:881.88830+54.46648\n"
          ]
        },
        {
          "metadata": {
            "tags": null
          },
          "name": "stderr",
          "output_type": "stream",
          "text": [
            "[I 2025-01-28 16:37:38,771] Trial 6 finished with value: 881.0102727456302 and parameters: {'booster': 'gbtree', 'learning_rate': 0.018813175695147788, 'max_depth': 10, 'gamma': 1.0365769101849196e-06, 'subsample': 0.25152401687906095, 'reg_alpha': 0.0083596190470422, 'reg_lambda': 0.03904720036985109, 'colsample_bytree': 0.39499156419253345, 'min_child_weight': 5, 'n_estimators': 2088}. Best is trial 5 with value: 845.2201852835872.\n"
          ]
        },
        {
          "metadata": {
            "tags": null
          },
          "name": "stdout",
          "output_type": "stream",
          "text": [
            "[0]\ttrain-rmse:1793.68606+28.27453\ttest-rmse:1791.81903+119.17034\n",
            "[50]\ttrain-rmse:1190.60002+15.13993\ttest-rmse:1246.91623+71.95494\n",
            "[100]\ttrain-rmse:999.82318+19.08945\ttest-rmse:1091.61844+68.22987\n",
            "[150]\ttrain-rmse:903.21882+18.68190\ttest-rmse:1017.83112+68.11613\n",
            "[200]\ttrain-rmse:840.53814+18.00237\ttest-rmse:975.70421+69.66492\n",
            "[250]\ttrain-rmse:797.10952+18.52202\ttest-rmse:950.64114+68.16796\n",
            "[300]\ttrain-rmse:763.15653+17.27100\ttest-rmse:934.28291+68.75312\n",
            "[350]\ttrain-rmse:733.27330+15.64196\ttest-rmse:920.75883+70.27774\n",
            "[400]\ttrain-rmse:707.08168+16.46032\ttest-rmse:908.99554+66.99204\n",
            "[450]\ttrain-rmse:683.91530+15.71549\ttest-rmse:902.67780+67.45416\n",
            "[500]\ttrain-rmse:663.50922+15.99103\ttest-rmse:897.14298+66.48037\n",
            "[550]\ttrain-rmse:645.25173+15.50992\ttest-rmse:892.77008+65.97689\n",
            "[600]\ttrain-rmse:628.19058+15.20647\ttest-rmse:888.38708+66.27378\n",
            "[650]\ttrain-rmse:612.40826+15.46335\ttest-rmse:886.07174+67.30679\n",
            "[700]\ttrain-rmse:598.59183+15.24624\ttest-rmse:883.21253+67.16454\n",
            "[750]\ttrain-rmse:584.69627+15.29236\ttest-rmse:879.16059+66.35374\n",
            "[800]\ttrain-rmse:571.54065+15.13990\ttest-rmse:876.91967+64.96705\n",
            "[850]\ttrain-rmse:559.62110+14.77898\ttest-rmse:874.31192+63.06746\n",
            "[900]\ttrain-rmse:548.63966+14.76837\ttest-rmse:873.69931+63.20351\n",
            "[950]\ttrain-rmse:538.19851+14.54195\ttest-rmse:872.17073+63.88422\n",
            "[1000]\ttrain-rmse:527.73380+14.45436\ttest-rmse:871.37251+63.17253\n",
            "[1050]\ttrain-rmse:518.35399+14.14126\ttest-rmse:869.96859+62.57336\n",
            "[1055]\ttrain-rmse:517.39808+14.23149\ttest-rmse:869.89933+62.65696\n"
          ]
        },
        {
          "metadata": {
            "tags": null
          },
          "name": "stderr",
          "output_type": "stream",
          "text": [
            "[I 2025-01-28 16:37:47,718] Trial 7 finished with value: 869.859851309626 and parameters: {'booster': 'gbtree', 'learning_rate': 0.03928631661124909, 'max_depth': 4, 'gamma': 0.8167410205589352, 'subsample': 0.5856485334534016, 'reg_alpha': 0.00016967925103414502, 'reg_lambda': 1.0011202603115843e-05, 'colsample_bytree': 0.5600313495750044, 'min_child_weight': 10, 'n_estimators': 4267}. Best is trial 5 with value: 845.2201852835872.\n"
          ]
        },
        {
          "metadata": {
            "tags": null
          },
          "name": "stdout",
          "output_type": "stream",
          "text": [
            "[0]\ttrain-rmse:1808.27034+29.21840\ttest-rmse:1806.06290+122.10492\n",
            "[50]\ttrain-rmse:1297.13253+14.32195\ttest-rmse:1350.99815+80.93363\n",
            "[100]\ttrain-rmse:1021.86114+16.09611\ttest-rmse:1121.91537+68.25276\n",
            "[150]\ttrain-rmse:868.93078+18.21744\ttest-rmse:1009.27393+67.89777\n",
            "[200]\ttrain-rmse:773.09023+18.01852\ttest-rmse:949.62521+69.43136\n",
            "[250]\ttrain-rmse:711.42222+18.74951\ttest-rmse:918.43764+68.00342\n",
            "[300]\ttrain-rmse:664.81318+19.75947\ttest-rmse:897.29067+67.33227\n",
            "[350]\ttrain-rmse:628.51173+18.94061\ttest-rmse:882.47787+68.31331\n",
            "[400]\ttrain-rmse:599.03989+18.94899\ttest-rmse:873.43189+68.07826\n",
            "[450]\ttrain-rmse:572.42206+18.67296\ttest-rmse:866.72630+68.55968\n",
            "[500]\ttrain-rmse:549.20960+18.45480\ttest-rmse:862.52800+68.21109\n",
            "[550]\ttrain-rmse:527.36426+17.19325\ttest-rmse:859.30896+68.94471\n",
            "[600]\ttrain-rmse:507.93420+17.12509\ttest-rmse:856.15313+68.68895\n",
            "[650]\ttrain-rmse:490.20598+16.56870\ttest-rmse:853.80183+68.95411\n",
            "[700]\ttrain-rmse:473.65632+16.14301\ttest-rmse:852.36442+69.81810\n",
            "[750]\ttrain-rmse:458.22315+15.55456\ttest-rmse:849.97268+69.81385\n",
            "[800]\ttrain-rmse:443.49712+15.52679\ttest-rmse:848.39587+69.45190\n",
            "[837]\ttrain-rmse:433.02429+15.80473\ttest-rmse:847.72876+69.03218\n"
          ]
        },
        {
          "metadata": {
            "tags": null
          },
          "name": "stderr",
          "output_type": "stream",
          "text": [
            "[I 2025-01-28 16:38:02,172] Trial 8 finished with value: 847.6525498250014 and parameters: {'booster': 'gbtree', 'learning_rate': 0.013241121031367408, 'max_depth': 8, 'gamma': 3.5303307759081964e-07, 'subsample': 0.528147720458398, 'reg_alpha': 0.14861462411574491, 'reg_lambda': 0.00019068593550006525, 'colsample_bytree': 0.6200968551027404, 'min_child_weight': 8, 'n_estimators': 4451}. Best is trial 5 with value: 845.2201852835872.\n"
          ]
        },
        {
          "metadata": {
            "tags": null
          },
          "name": "stdout",
          "output_type": "stream",
          "text": [
            "[0]\ttrain-rmse:1821.76142+29.48115\ttest-rmse:1818.12785+122.96291\n",
            "[50]\ttrain-rmse:1733.72166+25.45160\ttest-rmse:1736.01043+108.34211\n",
            "[100]\ttrain-rmse:1656.88343+22.28082\ttest-rmse:1664.31891+96.61921\n",
            "[150]\ttrain-rmse:1590.12264+19.55107\ttest-rmse:1603.18860+88.70213\n",
            "[200]\ttrain-rmse:1532.84695+18.09003\ttest-rmse:1551.14250+82.05927\n",
            "[250]\ttrain-rmse:1481.52158+16.60396\ttest-rmse:1504.37301+78.35022\n",
            "[300]\ttrain-rmse:1436.62766+16.84016\ttest-rmse:1464.79408+74.36006\n",
            "[350]\ttrain-rmse:1395.16469+16.27611\ttest-rmse:1427.13688+71.70122\n",
            "[400]\ttrain-rmse:1358.64733+15.28501\ttest-rmse:1395.91851+69.56388\n",
            "[450]\ttrain-rmse:1326.51014+15.01898\ttest-rmse:1367.97344+68.06169\n",
            "[500]\ttrain-rmse:1296.39374+14.65295\ttest-rmse:1342.74627+68.56841\n",
            "[550]\ttrain-rmse:1269.87121+14.09811\ttest-rmse:1319.53710+68.79459\n",
            "[600]\ttrain-rmse:1245.91335+13.67080\ttest-rmse:1299.60382+68.74458\n",
            "[650]\ttrain-rmse:1223.26898+13.18382\ttest-rmse:1280.62690+69.13125\n",
            "[700]\ttrain-rmse:1202.37707+13.47955\ttest-rmse:1263.38787+68.58877\n",
            "[750]\ttrain-rmse:1183.02855+13.53526\ttest-rmse:1247.52156+67.95232\n",
            "[800]\ttrain-rmse:1165.09582+14.12743\ttest-rmse:1232.88253+67.38237\n",
            "[850]\ttrain-rmse:1148.43495+13.95237\ttest-rmse:1219.34747+67.50231\n",
            "[900]\ttrain-rmse:1132.56336+14.61503\ttest-rmse:1206.69313+67.11688\n",
            "[950]\ttrain-rmse:1117.40713+14.45943\ttest-rmse:1194.14825+67.31783\n",
            "[1000]\ttrain-rmse:1103.09554+14.27834\ttest-rmse:1182.71040+67.44253\n",
            "[1050]\ttrain-rmse:1089.58586+14.40975\ttest-rmse:1171.60626+66.98225\n",
            "[1100]\ttrain-rmse:1076.84575+14.92731\ttest-rmse:1161.52010+66.55024\n",
            "[1150]\ttrain-rmse:1065.30043+15.53981\ttest-rmse:1152.12028+65.64522\n",
            "[1200]\ttrain-rmse:1054.62874+15.44696\ttest-rmse:1144.15656+65.44123\n",
            "[1250]\ttrain-rmse:1044.12687+15.51013\ttest-rmse:1136.11390+65.37524\n",
            "[1300]\ttrain-rmse:1033.54613+15.67645\ttest-rmse:1128.09899+65.09559\n",
            "[1350]\ttrain-rmse:1023.54540+15.48955\ttest-rmse:1120.33054+65.26723\n",
            "[1400]\ttrain-rmse:1013.71362+15.20635\ttest-rmse:1112.73391+65.38497\n",
            "[1450]\ttrain-rmse:1004.87389+14.81465\ttest-rmse:1106.38353+65.58666\n",
            "[1500]\ttrain-rmse:996.29838+14.92229\ttest-rmse:1100.13144+65.39944\n",
            "[1510]\ttrain-rmse:994.46356+14.86228\ttest-rmse:1098.75769+65.46711\n"
          ]
        },
        {
          "metadata": {
            "tags": null
          },
          "name": "stderr",
          "output_type": "stream",
          "text": [
            "[I 2025-01-28 16:38:16,295] Trial 9 finished with value: 1098.7576866104187 and parameters: {'booster': 'gbtree', 'learning_rate': 0.0023562765004805065, 'max_depth': 4, 'gamma': 6.64027787938678e-05, 'subsample': 0.2721701620942627, 'reg_alpha': 2.1175778708185907e-06, 'reg_lambda': 1.4265185428421087e-06, 'colsample_bytree': 0.9907116008841996, 'min_child_weight': 2, 'n_estimators': 1511}. Best is trial 5 with value: 845.2201852835872.\n"
          ]
        },
        {
          "metadata": {
            "tags": null
          },
          "name": "stdout",
          "output_type": "stream",
          "text": [
            "[0]\ttrain-rmse:1545.05353+20.50740\ttest-rmse:1569.18196+114.22377\n",
            "[50]\ttrain-rmse:172.74746+4.73744\ttest-rmse:873.70859+68.58409\n",
            "[100]\ttrain-rmse:60.68069+1.84074\ttest-rmse:871.79733+68.78548\n",
            "[108]\ttrain-rmse:51.55518+1.57860\ttest-rmse:871.92083+68.53804\n"
          ]
        },
        {
          "metadata": {
            "tags": null
          },
          "name": "stderr",
          "output_type": "stream",
          "text": [
            "[I 2025-01-28 16:38:19,148] Trial 10 finished with value: 871.1753009005424 and parameters: {'booster': 'gbtree', 'learning_rate': 0.2171677829421759, 'max_depth': 9, 'gamma': 0.007089239741626683, 'subsample': 0.9346482993977301, 'reg_alpha': 1.53746550175724e-08, 'reg_lambda': 1.246435145408727e-08, 'colsample_bytree': 0.8403186868118737, 'min_child_weight': 4, 'n_estimators': 4963}. Best is trial 5 with value: 845.2201852835872.\n"
          ]
        },
        {
          "metadata": {
            "tags": null
          },
          "name": "stdout",
          "output_type": "stream",
          "text": [
            "[0]\ttrain-rmse:1815.29202+29.31701\ttest-rmse:1812.23302+122.55154\n",
            "[50]\ttrain-rmse:1489.59062+20.55949\ttest-rmse:1523.55413+88.10457\n",
            "[100]\ttrain-rmse:1253.52202+15.81445\ttest-rmse:1322.07776+72.02043\n",
            "[150]\ttrain-rmse:1085.48197+16.27566\ttest-rmse:1188.19979+64.37885\n",
            "[200]\ttrain-rmse:959.35839+14.53408\ttest-rmse:1095.11956+64.37559\n",
            "[250]\ttrain-rmse:866.25467+13.51516\ttest-rmse:1032.37206+64.44906\n",
            "[300]\ttrain-rmse:791.36860+15.15514\ttest-rmse:985.15368+64.27541\n",
            "[350]\ttrain-rmse:732.18223+15.02904\ttest-rmse:950.43635+65.15542\n",
            "[400]\ttrain-rmse:684.97225+14.06865\ttest-rmse:926.33951+65.95940\n",
            "[450]\ttrain-rmse:646.66333+13.64254\ttest-rmse:909.56969+66.95293\n",
            "[500]\ttrain-rmse:614.43849+13.50662\ttest-rmse:897.01976+67.60059\n",
            "[550]\ttrain-rmse:586.52228+13.69560\ttest-rmse:886.82322+67.14311\n",
            "[600]\ttrain-rmse:561.97992+13.46925\ttest-rmse:878.93330+66.78299\n",
            "[650]\ttrain-rmse:540.80627+13.39099\ttest-rmse:873.61026+65.60234\n",
            "[700]\ttrain-rmse:521.82013+13.64866\ttest-rmse:869.11961+65.25183\n",
            "[750]\ttrain-rmse:503.67568+13.00960\ttest-rmse:864.86857+64.85974\n",
            "[800]\ttrain-rmse:487.72288+12.16668\ttest-rmse:861.30171+64.67898\n",
            "[850]\ttrain-rmse:472.39393+11.58837\ttest-rmse:858.10662+64.84186\n",
            "[900]\ttrain-rmse:458.49949+11.73814\ttest-rmse:856.15329+64.69982\n",
            "[950]\ttrain-rmse:444.69426+11.22172\ttest-rmse:853.62922+64.68621\n",
            "[1000]\ttrain-rmse:431.58800+11.00523\ttest-rmse:851.47508+64.60396\n",
            "[1050]\ttrain-rmse:418.91438+10.92745\ttest-rmse:849.66889+63.75924\n",
            "[1100]\ttrain-rmse:407.27493+10.99414\ttest-rmse:848.37925+63.50326\n",
            "[1150]\ttrain-rmse:396.32371+10.64450\ttest-rmse:846.91246+63.25021\n",
            "[1200]\ttrain-rmse:385.56514+10.34781\ttest-rmse:845.60828+62.84466\n",
            "[1250]\ttrain-rmse:375.41250+10.04373\ttest-rmse:844.53522+62.58852\n",
            "[1300]\ttrain-rmse:365.30280+9.50050\ttest-rmse:843.77204+62.46826\n",
            "[1350]\ttrain-rmse:355.80452+9.21436\ttest-rmse:842.91239+62.44065\n",
            "[1400]\ttrain-rmse:346.62532+9.22258\ttest-rmse:842.42651+62.57966\n",
            "[1450]\ttrain-rmse:337.79201+8.90281\ttest-rmse:841.87284+62.35603\n",
            "[1500]\ttrain-rmse:329.04047+8.85765\ttest-rmse:841.10989+62.73781\n",
            "[1550]\ttrain-rmse:320.69067+8.47115\ttest-rmse:840.32213+62.58657\n",
            "[1600]\ttrain-rmse:312.93548+8.11954\ttest-rmse:839.89230+62.35035\n",
            "[1644]\ttrain-rmse:305.69456+7.66286\ttest-rmse:839.94991+61.90758\n"
          ]
        },
        {
          "metadata": {
            "tags": null
          },
          "name": "stderr",
          "output_type": "stream",
          "text": [
            "[I 2025-01-28 16:38:56,400] Trial 11 finished with value: 839.7453584887875 and parameters: {'booster': 'gbtree', 'learning_rate': 0.00679188203749938, 'max_depth': 8, 'gamma': 0.002498786804232588, 'subsample': 0.4470273182049627, 'reg_alpha': 0.8363361941484424, 'reg_lambda': 0.000586407072981869, 'colsample_bytree': 0.6915075806511746, 'min_child_weight': 3, 'n_estimators': 4970}. Best is trial 11 with value: 839.7453584887875.\n"
          ]
        },
        {
          "metadata": {
            "tags": null
          },
          "name": "stdout",
          "output_type": "stream",
          "text": [
            "[0]\ttrain-rmse:1817.45044+29.73803\ttest-rmse:1813.89047+122.62589\n",
            "[50]\ttrain-rmse:1540.43237+18.49695\ttest-rmse:1561.81779+89.44292\n",
            "[100]\ttrain-rmse:1341.90414+15.27476\ttest-rmse:1387.55860+72.89292\n",
            "[150]\ttrain-rmse:1197.88871+15.92323\ttest-rmse:1264.84881+65.00768\n",
            "[200]\ttrain-rmse:1090.98672+14.23709\ttest-rmse:1177.77695+65.61958\n",
            "[250]\ttrain-rmse:1008.93443+14.75169\ttest-rmse:1113.79749+64.13901\n",
            "[300]\ttrain-rmse:942.87652+15.39745\ttest-rmse:1063.92012+64.93302\n",
            "[350]\ttrain-rmse:891.96851+15.59620\ttest-rmse:1025.71999+66.08534\n",
            "[400]\ttrain-rmse:849.81796+16.13879\ttest-rmse:997.98023+64.44959\n",
            "[450]\ttrain-rmse:814.85948+16.00622\ttest-rmse:976.68892+64.48493\n",
            "[500]\ttrain-rmse:785.73374+16.96088\ttest-rmse:960.33874+64.49664\n",
            "[550]\ttrain-rmse:760.28350+16.88692\ttest-rmse:944.74812+63.42356\n",
            "[600]\ttrain-rmse:737.12712+16.77756\ttest-rmse:932.45701+62.29474\n",
            "[650]\ttrain-rmse:717.25774+17.28683\ttest-rmse:922.96307+62.07124\n",
            "[700]\ttrain-rmse:699.36480+16.58884\ttest-rmse:915.25681+62.37603\n",
            "[750]\ttrain-rmse:683.10865+16.21876\ttest-rmse:907.99746+61.83973\n",
            "[800]\ttrain-rmse:667.93070+16.19916\ttest-rmse:901.91972+62.53160\n",
            "[850]\ttrain-rmse:653.73436+15.80987\ttest-rmse:896.94486+62.21039\n",
            "[900]\ttrain-rmse:640.64196+15.78731\ttest-rmse:892.45792+62.83136\n",
            "[950]\ttrain-rmse:628.03539+15.91030\ttest-rmse:888.17616+63.11647\n",
            "[1000]\ttrain-rmse:616.10804+15.65537\ttest-rmse:884.49048+62.40311\n",
            "[1050]\ttrain-rmse:604.72462+15.62928\ttest-rmse:880.57990+62.33879\n",
            "[1100]\ttrain-rmse:594.23600+15.63230\ttest-rmse:877.68936+62.28722\n",
            "[1150]\ttrain-rmse:584.07903+15.34457\ttest-rmse:874.95502+62.73974\n",
            "[1200]\ttrain-rmse:574.27801+15.23269\ttest-rmse:872.15690+62.55259\n",
            "[1250]\ttrain-rmse:564.75221+15.11927\ttest-rmse:869.41336+62.32038\n",
            "[1300]\ttrain-rmse:555.10928+14.73000\ttest-rmse:867.27015+62.26285\n",
            "[1350]\ttrain-rmse:546.66444+14.13819\ttest-rmse:865.49268+62.25620\n",
            "[1400]\ttrain-rmse:537.89002+13.87558\ttest-rmse:863.89419+62.51321\n",
            "[1450]\ttrain-rmse:529.64698+13.36635\ttest-rmse:862.58986+61.84892\n",
            "[1500]\ttrain-rmse:521.32093+12.70516\ttest-rmse:861.05949+62.42897\n",
            "[1550]\ttrain-rmse:513.15427+12.32890\ttest-rmse:859.45328+62.77229\n",
            "[1600]\ttrain-rmse:505.96792+12.06151\ttest-rmse:858.24312+62.73379\n",
            "[1650]\ttrain-rmse:498.39612+11.78755\ttest-rmse:857.32141+62.70890\n",
            "[1700]\ttrain-rmse:491.10990+11.58489\ttest-rmse:855.92272+62.70242\n",
            "[1750]\ttrain-rmse:483.90882+11.15063\ttest-rmse:855.20541+62.77575\n",
            "[1800]\ttrain-rmse:477.18911+11.25109\ttest-rmse:854.19410+62.71550\n",
            "[1850]\ttrain-rmse:470.58955+11.22956\ttest-rmse:853.28457+62.67186\n",
            "[1900]\ttrain-rmse:464.30624+11.13838\ttest-rmse:853.23199+62.35048\n",
            "[1902]\ttrain-rmse:464.00473+11.13357\ttest-rmse:853.23738+62.38318\n"
          ]
        },
        {
          "metadata": {
            "tags": null
          },
          "name": "stderr",
          "output_type": "stream",
          "text": [
            "[I 2025-01-28 16:39:23,313] Trial 12 finished with value: 853.0727658850758 and parameters: {'booster': 'gbtree', 'learning_rate': 0.006784953541643412, 'max_depth': 6, 'gamma': 0.004805102159434674, 'subsample': 0.36699736087248663, 'reg_alpha': 1.1455892609970225e-08, 'reg_lambda': 0.0012597728518407329, 'colsample_bytree': 0.7897151255741752, 'min_child_weight': 3, 'n_estimators': 3545}. Best is trial 11 with value: 839.7453584887875.\n"
          ]
        },
        {
          "metadata": {
            "tags": null
          },
          "name": "stdout",
          "output_type": "stream",
          "text": [
            "[0]\ttrain-rmse:1815.77137+29.44441\ttest-rmse:1813.21696+122.64914\n",
            "[50]\ttrain-rmse:1507.95928+19.72486\ttest-rmse:1555.68278+86.28646\n",
            "[100]\ttrain-rmse:1276.68342+12.75935\ttest-rmse:1369.14325+68.27583\n",
            "[150]\ttrain-rmse:1096.47155+10.85770\ttest-rmse:1231.74547+59.59494\n",
            "[200]\ttrain-rmse:957.50072+8.03247\ttest-rmse:1131.69679+58.26752\n",
            "[250]\ttrain-rmse:849.51338+7.08288\ttest-rmse:1061.91922+57.66362\n",
            "[300]\ttrain-rmse:760.71330+7.95115\ttest-rmse:1007.01789+58.92705\n",
            "[350]\ttrain-rmse:687.71587+7.89214\ttest-rmse:966.18809+60.35847\n",
            "[400]\ttrain-rmse:627.47087+7.96256\ttest-rmse:936.47900+62.22656\n",
            "[450]\ttrain-rmse:575.94816+8.04473\ttest-rmse:913.14679+63.09970\n",
            "[500]\ttrain-rmse:532.61849+8.71601\ttest-rmse:897.18576+62.48236\n",
            "[550]\ttrain-rmse:496.10320+8.60363\ttest-rmse:884.71298+62.88940\n",
            "[600]\ttrain-rmse:463.08710+9.13163\ttest-rmse:874.44239+62.73967\n",
            "[650]\ttrain-rmse:434.09366+9.12846\ttest-rmse:866.81092+62.90399\n",
            "[700]\ttrain-rmse:408.56440+8.42638\ttest-rmse:860.95208+62.85445\n",
            "[750]\ttrain-rmse:385.97424+8.32974\ttest-rmse:856.44027+62.89484\n",
            "[800]\ttrain-rmse:365.82010+8.32644\ttest-rmse:852.61984+63.06216\n",
            "[850]\ttrain-rmse:347.97009+7.91464\ttest-rmse:849.39578+62.88840\n",
            "[900]\ttrain-rmse:331.81735+7.68673\ttest-rmse:847.07941+62.78450\n",
            "[950]\ttrain-rmse:316.67410+7.18341\ttest-rmse:844.95712+63.12992\n",
            "[1000]\ttrain-rmse:303.42650+7.00011\ttest-rmse:843.48379+63.30350\n",
            "[1050]\ttrain-rmse:291.03210+6.52956\ttest-rmse:842.34711+63.27742\n",
            "[1100]\ttrain-rmse:279.38278+6.27622\ttest-rmse:841.07610+63.08192\n",
            "[1150]\ttrain-rmse:268.69809+5.91190\ttest-rmse:839.90092+63.13237\n",
            "[1200]\ttrain-rmse:258.42804+5.47809\ttest-rmse:838.95003+62.97756\n",
            "[1250]\ttrain-rmse:248.94871+5.43214\ttest-rmse:838.17094+62.91757\n",
            "[1300]\ttrain-rmse:239.66189+5.11442\ttest-rmse:837.31221+62.77572\n",
            "[1350]\ttrain-rmse:231.27297+4.85464\ttest-rmse:836.56798+62.69679\n",
            "[1400]\ttrain-rmse:223.31646+4.76137\ttest-rmse:836.00281+62.70948\n",
            "[1450]\ttrain-rmse:215.68567+4.25804\ttest-rmse:835.52749+62.62888\n",
            "[1500]\ttrain-rmse:208.13491+3.99268\ttest-rmse:835.07860+62.78698\n",
            "[1550]\ttrain-rmse:201.15382+3.88251\ttest-rmse:834.63186+62.67745\n",
            "[1600]\ttrain-rmse:194.45004+3.78543\ttest-rmse:834.20688+62.62572\n",
            "[1650]\ttrain-rmse:187.91177+3.69096\ttest-rmse:833.82113+62.61831\n",
            "[1700]\ttrain-rmse:181.91121+3.49448\ttest-rmse:833.44908+62.60965\n",
            "[1750]\ttrain-rmse:175.92633+3.38718\ttest-rmse:833.07520+62.54593\n",
            "[1800]\ttrain-rmse:170.26842+3.14098\ttest-rmse:832.79704+62.50205\n",
            "[1850]\ttrain-rmse:164.99615+3.12233\ttest-rmse:832.54702+62.52114\n",
            "[1900]\ttrain-rmse:159.70506+3.15720\ttest-rmse:832.32733+62.46369\n",
            "[1950]\ttrain-rmse:154.71543+3.04109\ttest-rmse:832.11207+62.40298\n",
            "[2000]\ttrain-rmse:149.92573+2.98286\ttest-rmse:831.94003+62.51107\n",
            "[2050]\ttrain-rmse:145.12613+2.93810\ttest-rmse:831.77215+62.64136\n",
            "[2100]\ttrain-rmse:140.62416+2.95703\ttest-rmse:831.48642+62.56537\n",
            "[2150]\ttrain-rmse:136.34707+2.86271\ttest-rmse:831.28451+62.55970\n",
            "[2200]\ttrain-rmse:132.17643+2.70503\ttest-rmse:831.11385+62.57695\n",
            "[2250]\ttrain-rmse:128.17671+2.63242\ttest-rmse:830.96049+62.55195\n",
            "[2300]\ttrain-rmse:124.29921+2.52835\ttest-rmse:830.76999+62.50191\n",
            "[2350]\ttrain-rmse:120.60707+2.36305\ttest-rmse:830.65312+62.50388\n",
            "[2400]\ttrain-rmse:116.93719+2.26369\ttest-rmse:830.52268+62.48836\n",
            "[2450]\ttrain-rmse:113.30045+2.16764\ttest-rmse:830.33617+62.46329\n",
            "[2500]\ttrain-rmse:109.95334+2.14359\ttest-rmse:830.24731+62.43753\n",
            "[2550]\ttrain-rmse:106.57870+2.06939\ttest-rmse:830.17771+62.44138\n",
            "[2555]\ttrain-rmse:106.28199+2.06297\ttest-rmse:830.17546+62.43818\n"
          ]
        },
        {
          "metadata": {
            "tags": null
          },
          "name": "stderr",
          "output_type": "stream",
          "text": [
            "[I 2025-01-28 16:41:44,117] Trial 13 finished with value: 830.1644939981818 and parameters: {'booster': 'gbtree', 'learning_rate': 0.005623042092143758, 'max_depth': 8, 'gamma': 0.2018441925405474, 'subsample': 0.8051322541451198, 'reg_alpha': 1.7122559239762882e-07, 'reg_lambda': 1.1360320406633433e-05, 'colsample_bytree': 0.7591993020938049, 'min_child_weight': 0, 'n_estimators': 4990}. Best is trial 13 with value: 830.1644939981818.\n"
          ]
        },
        {
          "metadata": {
            "tags": null
          },
          "name": "stdout",
          "output_type": "stream",
          "text": [
            "[0]\ttrain-rmse:1814.54026+29.08421\ttest-rmse:1812.03028+122.63365\n",
            "[50]\ttrain-rmse:1439.29155+18.89181\ttest-rmse:1504.90634+86.64738\n",
            "[100]\ttrain-rmse:1163.79199+16.78781\ttest-rmse:1292.85667+69.87166\n",
            "[150]\ttrain-rmse:959.65355+15.98089\ttest-rmse:1151.20162+65.17590\n",
            "[200]\ttrain-rmse:806.32718+15.63226\ttest-rmse:1054.97665+66.54974\n",
            "[250]\ttrain-rmse:692.28202+14.05566\ttest-rmse:992.87512+69.89016\n",
            "[300]\ttrain-rmse:599.86572+12.20421\ttest-rmse:949.63440+71.79287\n",
            "[350]\ttrain-rmse:527.28478+10.40340\ttest-rmse:920.94420+74.09869\n",
            "[400]\ttrain-rmse:469.08500+8.91043\ttest-rmse:901.06390+75.67808\n",
            "[450]\ttrain-rmse:419.43820+9.43152\ttest-rmse:887.12273+76.32999\n",
            "[500]\ttrain-rmse:378.49346+9.56690\ttest-rmse:877.04783+76.22146\n",
            "[550]\ttrain-rmse:343.79369+8.96235\ttest-rmse:869.95473+76.65556\n",
            "[600]\ttrain-rmse:313.57596+9.11305\ttest-rmse:865.05626+76.88996\n",
            "[650]\ttrain-rmse:287.27209+8.29805\ttest-rmse:861.26625+76.58388\n",
            "[700]\ttrain-rmse:264.77140+7.73416\ttest-rmse:858.80589+76.31995\n",
            "[750]\ttrain-rmse:245.02558+7.23947\ttest-rmse:856.65400+76.38147\n",
            "[800]\ttrain-rmse:227.34156+6.33572\ttest-rmse:855.03292+76.32541\n",
            "[850]\ttrain-rmse:212.55048+6.10939\ttest-rmse:853.96391+76.29749\n",
            "[900]\ttrain-rmse:199.25366+5.65628\ttest-rmse:852.95815+76.00089\n",
            "[950]\ttrain-rmse:187.20552+4.82727\ttest-rmse:852.28284+75.89181\n",
            "[1000]\ttrain-rmse:176.34059+4.50165\ttest-rmse:851.54825+75.91184\n",
            "[1050]\ttrain-rmse:166.15044+4.23358\ttest-rmse:851.10532+75.72571\n",
            "[1100]\ttrain-rmse:156.90654+3.91365\ttest-rmse:850.59167+75.84134\n",
            "[1150]\ttrain-rmse:148.24795+3.52972\ttest-rmse:850.04378+75.76291\n",
            "[1200]\ttrain-rmse:140.13335+3.30155\ttest-rmse:849.58647+75.76782\n",
            "[1250]\ttrain-rmse:132.97832+3.22508\ttest-rmse:849.23869+75.80150\n",
            "[1300]\ttrain-rmse:126.10069+3.11096\ttest-rmse:848.83687+75.79882\n",
            "[1350]\ttrain-rmse:119.51098+3.01944\ttest-rmse:848.58105+75.80472\n",
            "[1400]\ttrain-rmse:113.65209+2.91219\ttest-rmse:848.41435+75.71907\n",
            "[1450]\ttrain-rmse:108.02514+2.72966\ttest-rmse:848.25349+75.69353\n",
            "[1500]\ttrain-rmse:102.56472+2.57373\ttest-rmse:848.09662+75.56268\n",
            "[1550]\ttrain-rmse:97.46851+2.29823\ttest-rmse:847.95503+75.53973\n",
            "[1600]\ttrain-rmse:92.77561+2.21832\ttest-rmse:847.80948+75.46463\n",
            "[1650]\ttrain-rmse:88.19533+2.10275\ttest-rmse:847.64076+75.45803\n",
            "[1700]\ttrain-rmse:83.97173+2.15675\ttest-rmse:847.51988+75.42884\n",
            "[1750]\ttrain-rmse:80.06012+2.10096\ttest-rmse:847.39327+75.38396\n",
            "[1800]\ttrain-rmse:76.26275+1.97474\ttest-rmse:847.25114+75.33537\n",
            "[1850]\ttrain-rmse:72.71357+1.76758\ttest-rmse:847.17068+75.35278\n",
            "[1900]\ttrain-rmse:69.28951+1.64264\ttest-rmse:847.04458+75.31987\n",
            "[1950]\ttrain-rmse:66.13948+1.66351\ttest-rmse:846.94460+75.28964\n",
            "[2000]\ttrain-rmse:63.01869+1.59840\ttest-rmse:846.78078+75.26469\n",
            "[2050]\ttrain-rmse:60.10496+1.45026\ttest-rmse:846.70542+75.29410\n",
            "[2100]\ttrain-rmse:57.33922+1.38317\ttest-rmse:846.62844+75.30011\n",
            "[2150]\ttrain-rmse:54.77362+1.28588\ttest-rmse:846.53375+75.31715\n",
            "[2200]\ttrain-rmse:52.31053+1.14898\ttest-rmse:846.44717+75.32307\n",
            "[2250]\ttrain-rmse:49.99467+1.07970\ttest-rmse:846.40141+75.28218\n",
            "[2300]\ttrain-rmse:47.79068+1.07719\ttest-rmse:846.36750+75.25648\n",
            "[2350]\ttrain-rmse:45.62070+1.01257\ttest-rmse:846.32875+75.26797\n",
            "[2400]\ttrain-rmse:43.60509+0.98029\ttest-rmse:846.28141+75.26546\n",
            "[2450]\ttrain-rmse:41.65310+0.94774\ttest-rmse:846.20442+75.25770\n",
            "[2500]\ttrain-rmse:39.84721+0.91854\ttest-rmse:846.17194+75.26769\n",
            "[2550]\ttrain-rmse:38.10358+0.91018\ttest-rmse:846.13772+75.27566\n",
            "[2600]\ttrain-rmse:36.49742+0.87239\ttest-rmse:846.09459+75.27530\n",
            "[2650]\ttrain-rmse:34.89766+0.83036\ttest-rmse:846.04415+75.27381\n",
            "[2700]\ttrain-rmse:33.42028+0.83779\ttest-rmse:845.99880+75.26789\n",
            "[2750]\ttrain-rmse:31.99850+0.83769\ttest-rmse:845.97431+75.25649\n",
            "[2800]\ttrain-rmse:30.65896+0.78389\ttest-rmse:845.94474+75.26503\n",
            "[2850]\ttrain-rmse:29.35260+0.78653\ttest-rmse:845.90991+75.23701\n",
            "[2872]\ttrain-rmse:28.79794+0.76692\ttest-rmse:845.91281+75.23961\n"
          ]
        },
        {
          "metadata": {
            "tags": null
          },
          "name": "stderr",
          "output_type": "stream",
          "text": [
            "[I 2025-01-28 16:46:07,612] Trial 14 finished with value: 845.908449353756 and parameters: {'booster': 'gbtree', 'learning_rate': 0.006420455209091744, 'max_depth': 9, 'gamma': 0.856668469689038, 'subsample': 0.8577519068846173, 'reg_alpha': 0.6473027182570226, 'reg_lambda': 1.6259953574857407e-05, 'colsample_bytree': 0.9039192973436051, 'min_child_weight': 0, 'n_estimators': 3760}. Best is trial 13 with value: 830.1644939981818.\n"
          ]
        },
        {
          "metadata": {
            "tags": null
          },
          "name": "stdout",
          "output_type": "stream",
          "text": [
            "[0]\ttrain-rmse:1815.75558+29.48639\ttest-rmse:1812.44232+121.98982\n",
            "[50]\ttrain-rmse:1519.40966+20.57714\ttest-rmse:1563.88234+87.09358\n",
            "[100]\ttrain-rmse:1293.28388+14.73749\ttest-rmse:1380.28468+68.68873\n",
            "[150]\ttrain-rmse:1120.35267+11.62255\ttest-rmse:1249.08594+61.53173\n",
            "[200]\ttrain-rmse:981.89463+9.68428\ttest-rmse:1150.47908+57.61657\n",
            "[250]\ttrain-rmse:873.34915+8.63409\ttest-rmse:1079.92985+56.94691\n",
            "[300]\ttrain-rmse:782.92969+8.06596\ttest-rmse:1024.42505+57.31830\n",
            "[350]\ttrain-rmse:709.64539+7.64698\ttest-rmse:983.21814+57.66413\n",
            "[400]\ttrain-rmse:647.91844+7.41316\ttest-rmse:952.14028+58.15970\n",
            "[450]\ttrain-rmse:595.78759+7.24038\ttest-rmse:929.63545+57.65999\n",
            "[500]\ttrain-rmse:552.06780+7.10914\ttest-rmse:911.50683+57.87484\n",
            "[550]\ttrain-rmse:514.54906+6.86658\ttest-rmse:899.50221+58.14199\n",
            "[600]\ttrain-rmse:481.30365+7.03238\ttest-rmse:888.90087+57.99111\n",
            "[650]\ttrain-rmse:451.60230+6.81990\ttest-rmse:880.84398+58.07346\n",
            "[700]\ttrain-rmse:426.32767+6.13141\ttest-rmse:874.64417+57.75921\n",
            "[750]\ttrain-rmse:402.39418+5.92741\ttest-rmse:869.17078+57.95159\n",
            "[800]\ttrain-rmse:382.09951+5.86212\ttest-rmse:865.11598+57.95667\n",
            "[850]\ttrain-rmse:363.71425+6.03798\ttest-rmse:861.86528+58.27818\n",
            "[900]\ttrain-rmse:347.44511+5.94243\ttest-rmse:859.07584+58.14280\n",
            "[950]\ttrain-rmse:332.06251+5.26938\ttest-rmse:856.51129+58.08400\n",
            "[1000]\ttrain-rmse:318.18217+5.18910\ttest-rmse:854.32386+58.09253\n",
            "[1050]\ttrain-rmse:305.54337+4.85118\ttest-rmse:852.54189+58.15757\n",
            "[1100]\ttrain-rmse:293.00637+4.67565\ttest-rmse:851.21184+58.07079\n",
            "[1150]\ttrain-rmse:281.56424+4.10435\ttest-rmse:849.69972+58.22895\n",
            "[1200]\ttrain-rmse:271.36724+4.00596\ttest-rmse:848.48338+58.28896\n",
            "[1250]\ttrain-rmse:261.52473+3.84761\ttest-rmse:847.45951+58.14789\n",
            "[1300]\ttrain-rmse:252.55682+3.52848\ttest-rmse:846.62517+58.15213\n",
            "[1350]\ttrain-rmse:243.82440+3.22014\ttest-rmse:846.00942+58.21045\n",
            "[1400]\ttrain-rmse:235.51620+3.05910\ttest-rmse:845.23693+58.20157\n",
            "[1450]\ttrain-rmse:227.66786+2.92297\ttest-rmse:844.77259+58.12452\n",
            "[1500]\ttrain-rmse:219.92309+2.68625\ttest-rmse:844.27789+58.04130\n",
            "[1550]\ttrain-rmse:212.87866+2.38215\ttest-rmse:843.76180+58.06691\n",
            "[1600]\ttrain-rmse:206.23406+2.32201\ttest-rmse:843.46517+58.07864\n",
            "[1650]\ttrain-rmse:199.70583+2.22738\ttest-rmse:843.07316+58.16721\n",
            "[1700]\ttrain-rmse:193.43571+2.05091\ttest-rmse:842.72441+58.06697\n",
            "[1750]\ttrain-rmse:187.54672+1.96214\ttest-rmse:842.30475+58.05354\n",
            "[1800]\ttrain-rmse:181.70484+1.98587\ttest-rmse:841.94453+58.07446\n",
            "[1850]\ttrain-rmse:176.35988+1.85833\ttest-rmse:841.63280+58.17530\n",
            "[1876]\ttrain-rmse:173.56329+1.80550\ttest-rmse:841.63433+58.24028\n"
          ]
        },
        {
          "metadata": {
            "tags": null
          },
          "name": "stderr",
          "output_type": "stream",
          "text": [
            "[I 2025-01-28 16:47:27,695] Trial 15 finished with value: 841.6232194184902 and parameters: {'booster': 'gbtree', 'learning_rate': 0.005700817313298849, 'max_depth': 8, 'gamma': 0.07581780923163377, 'subsample': 0.791042695935972, 'reg_alpha': 0.00104274451888893, 'reg_lambda': 0.0050706602990359005, 'colsample_bytree': 0.5107365820655998, 'min_child_weight': 0, 'n_estimators': 3102}. Best is trial 13 with value: 830.1644939981818.\n"
          ]
        },
        {
          "metadata": {
            "tags": null
          },
          "name": "stdout",
          "output_type": "stream",
          "text": [
            "[0]\ttrain-rmse:1817.84693+29.33885\ttest-rmse:1814.93346+122.91822\n",
            "[50]\ttrain-rmse:1580.58884+24.20264\ttest-rmse:1615.09575+98.68638\n",
            "[100]\ttrain-rmse:1386.02012+20.67141\ttest-rmse:1456.91834+82.91284\n",
            "[150]\ttrain-rmse:1221.87862+18.48029\ttest-rmse:1330.74950+73.36046\n",
            "[200]\ttrain-rmse:1084.35160+17.76499\ttest-rmse:1233.02962+68.97918\n",
            "[250]\ttrain-rmse:970.02367+17.26413\ttest-rmse:1159.11877+65.73498\n",
            "[300]\ttrain-rmse:871.27355+17.51021\ttest-rmse:1097.13083+64.67211\n",
            "[350]\ttrain-rmse:788.05662+18.15347\ttest-rmse:1047.82802+65.35080\n",
            "[400]\ttrain-rmse:717.11197+18.18394\ttest-rmse:1007.78362+65.55570\n",
            "[450]\ttrain-rmse:655.12044+17.99660\ttest-rmse:976.24713+66.06908\n",
            "[500]\ttrain-rmse:600.60747+17.64054\ttest-rmse:951.68549+65.80256\n",
            "[550]\ttrain-rmse:554.99879+18.32676\ttest-rmse:933.21460+65.72889\n",
            "[600]\ttrain-rmse:513.42660+18.10075\ttest-rmse:917.41002+65.54615\n",
            "[650]\ttrain-rmse:475.68830+17.07504\ttest-rmse:904.54845+65.35871\n",
            "[700]\ttrain-rmse:442.93976+16.22082\ttest-rmse:894.71838+65.40267\n",
            "[750]\ttrain-rmse:413.21706+15.20934\ttest-rmse:886.73127+65.26323\n",
            "[800]\ttrain-rmse:386.89619+14.71870\ttest-rmse:880.70312+65.05633\n",
            "[850]\ttrain-rmse:362.46843+14.91997\ttest-rmse:875.60391+64.83947\n",
            "[900]\ttrain-rmse:340.46318+14.71723\ttest-rmse:871.32554+64.69124\n",
            "[950]\ttrain-rmse:319.18216+14.15688\ttest-rmse:867.73262+64.89375\n",
            "[1000]\ttrain-rmse:300.62224+13.72584\ttest-rmse:865.03047+64.90933\n",
            "[1050]\ttrain-rmse:283.50478+13.50623\ttest-rmse:862.86264+64.98710\n",
            "[1100]\ttrain-rmse:267.91566+13.08587\ttest-rmse:861.34227+65.16848\n",
            "[1150]\ttrain-rmse:253.97032+13.02337\ttest-rmse:859.66007+65.09524\n",
            "[1200]\ttrain-rmse:241.05420+12.98381\ttest-rmse:858.37157+64.93324\n",
            "[1250]\ttrain-rmse:229.18584+12.61516\ttest-rmse:857.48882+64.92963\n",
            "[1300]\ttrain-rmse:218.33508+12.02454\ttest-rmse:856.54031+64.89486\n",
            "[1350]\ttrain-rmse:208.96049+11.52959\ttest-rmse:855.79364+64.79457\n",
            "[1400]\ttrain-rmse:200.45005+11.50484\ttest-rmse:855.18572+64.64408\n",
            "[1450]\ttrain-rmse:193.02492+11.34504\ttest-rmse:854.75015+64.56073\n",
            "[1500]\ttrain-rmse:186.06562+10.96463\ttest-rmse:854.39887+64.44241\n",
            "[1550]\ttrain-rmse:179.85606+11.01921\ttest-rmse:853.99665+64.45489\n",
            "[1600]\ttrain-rmse:173.64582+10.84771\ttest-rmse:853.68931+64.42773\n",
            "[1650]\ttrain-rmse:167.92966+10.88176\ttest-rmse:853.35400+64.45793\n",
            "[1700]\ttrain-rmse:162.22805+10.52684\ttest-rmse:853.11649+64.46036\n",
            "[1750]\ttrain-rmse:156.81723+10.10261\ttest-rmse:852.92553+64.45603\n",
            "[1800]\ttrain-rmse:151.76455+9.74740\ttest-rmse:852.75522+64.57442\n",
            "[1850]\ttrain-rmse:146.72741+9.51525\ttest-rmse:852.55276+64.59888\n",
            "[1900]\ttrain-rmse:142.16049+9.23899\ttest-rmse:852.41009+64.58442\n",
            "[1950]\ttrain-rmse:137.81036+8.98871\ttest-rmse:852.27755+64.56957\n",
            "[2000]\ttrain-rmse:133.68275+8.83994\ttest-rmse:852.20037+64.48566\n",
            "[2050]\ttrain-rmse:129.81255+8.56639\ttest-rmse:852.13566+64.47216\n",
            "[2100]\ttrain-rmse:125.92323+8.45200\ttest-rmse:852.04238+64.40199\n",
            "[2150]\ttrain-rmse:122.52530+8.32786\ttest-rmse:851.92555+64.40835\n",
            "[2200]\ttrain-rmse:119.28454+8.24100\ttest-rmse:851.82749+64.38418\n",
            "[2250]\ttrain-rmse:116.06204+8.04334\ttest-rmse:851.75326+64.31539\n",
            "[2300]\ttrain-rmse:113.10850+7.89758\ttest-rmse:851.70496+64.34261\n",
            "[2350]\ttrain-rmse:110.15887+7.85867\ttest-rmse:851.62903+64.29343\n",
            "[2400]\ttrain-rmse:107.34060+7.77831\ttest-rmse:851.57343+64.28403\n",
            "[2427]\ttrain-rmse:105.86318+7.66259\ttest-rmse:851.55819+64.29070\n"
          ]
        },
        {
          "metadata": {
            "tags": null
          },
          "name": "stderr",
          "output_type": "stream",
          "text": [
            "[I 2025-01-28 16:49:38,817] Trial 16 finished with value: 851.550574555826 and parameters: {'booster': 'gbtree', 'learning_rate': 0.003907609258377589, 'max_depth': 10, 'gamma': 0.0006266969008405404, 'subsample': 0.9985614626948106, 'reg_alpha': 2.7219848629936106e-07, 'reg_lambda': 0.7007052585915855, 'colsample_bytree': 0.7418743184167288, 'min_child_weight': 2, 'n_estimators': 4538}. Best is trial 13 with value: 830.1644939981818.\n"
          ]
        },
        {
          "metadata": {
            "tags": null
          },
          "name": "stdout",
          "output_type": "stream",
          "text": [
            "[0]\ttrain-rmse:1810.05685+29.48788\ttest-rmse:1807.17404+121.77972\n",
            "[50]\ttrain-rmse:1283.70991+15.53208\ttest-rmse:1361.27286+74.60338\n",
            "[100]\ttrain-rmse:973.28099+10.62620\ttest-rmse:1124.23122+67.75239\n",
            "[150]\ttrain-rmse:781.28139+10.61133\ttest-rmse:1002.93205+67.85592\n",
            "[200]\ttrain-rmse:651.20559+11.91894\ttest-rmse:937.06890+67.96944\n",
            "[250]\ttrain-rmse:560.01926+10.87051\ttest-rmse:900.47941+66.67023\n",
            "[300]\ttrain-rmse:490.55538+10.38809\ttest-rmse:878.63052+66.80513\n",
            "[350]\ttrain-rmse:438.27781+9.82284\ttest-rmse:865.73169+66.87912\n",
            "[400]\ttrain-rmse:397.46011+9.80142\ttest-rmse:857.58662+66.63865\n",
            "[450]\ttrain-rmse:363.86574+8.83437\ttest-rmse:852.80943+66.03808\n",
            "[500]\ttrain-rmse:336.11580+8.33264\ttest-rmse:849.92578+66.02278\n",
            "[550]\ttrain-rmse:311.22261+7.72953\ttest-rmse:847.23939+65.79531\n",
            "[600]\ttrain-rmse:289.45111+7.74140\ttest-rmse:845.12900+65.46286\n",
            "[650]\ttrain-rmse:269.59999+6.67632\ttest-rmse:843.45130+65.11510\n",
            "[700]\ttrain-rmse:251.59628+5.56913\ttest-rmse:842.59915+65.11346\n",
            "[750]\ttrain-rmse:235.21991+5.30752\ttest-rmse:841.63601+65.26009\n",
            "[800]\ttrain-rmse:220.39376+4.65046\ttest-rmse:840.73952+65.23545\n",
            "[850]\ttrain-rmse:206.99266+4.32384\ttest-rmse:840.04401+65.24582\n",
            "[900]\ttrain-rmse:194.38632+4.10063\ttest-rmse:839.34513+65.01773\n",
            "[950]\ttrain-rmse:182.77496+3.81898\ttest-rmse:838.84735+65.24045\n",
            "[1000]\ttrain-rmse:171.62172+3.46230\ttest-rmse:838.33088+65.21097\n",
            "[1050]\ttrain-rmse:161.90780+3.04663\ttest-rmse:838.07094+65.16833\n",
            "[1090]\ttrain-rmse:154.29926+3.04518\ttest-rmse:837.95736+65.18082\n"
          ]
        },
        {
          "metadata": {
            "tags": null
          },
          "name": "stderr",
          "output_type": "stream",
          "text": [
            "[I 2025-01-28 16:50:15,957] Trial 17 finished with value: 837.8928131247216 and parameters: {'booster': 'gbtree', 'learning_rate': 0.011019105036425357, 'max_depth': 8, 'gamma': 0.039495010601041464, 'subsample': 0.7682616793128354, 'reg_alpha': 2.5083780637197127e-05, 'reg_lambda': 9.622231569373301e-05, 'colsample_bytree': 0.8865650014753417, 'min_child_weight': 2, 'n_estimators': 3895}. Best is trial 13 with value: 830.1644939981818.\n"
          ]
        },
        {
          "metadata": {
            "tags": null
          },
          "name": "stdout",
          "output_type": "stream",
          "text": [
            "[0]\ttrain-rmse:1708.72400+28.65413\ttest-rmse:1718.77618+116.03981\n",
            "[50]\ttrain-rmse:288.90455+13.37112\ttest-rmse:861.04638+70.62558\n",
            "[100]\ttrain-rmse:134.75795+2.06852\ttest-rmse:849.76297+70.07388\n",
            "[150]\ttrain-rmse:69.64946+1.13289\ttest-rmse:848.43330+69.36740\n",
            "[200]\ttrain-rmse:38.47996+1.08721\ttest-rmse:847.41060+69.37169\n",
            "[250]\ttrain-rmse:21.43538+0.58370\ttest-rmse:846.98660+69.52698\n",
            "[300]\ttrain-rmse:11.95882+0.41094\ttest-rmse:846.82740+69.32735\n",
            "[320]\ttrain-rmse:9.57356+0.31419\ttest-rmse:846.84808+69.29245\n"
          ]
        },
        {
          "metadata": {
            "tags": null
          },
          "name": "stderr",
          "output_type": "stream",
          "text": [
            "[I 2025-01-28 16:50:33,332] Trial 18 finished with value: 846.8194736539074 and parameters: {'booster': 'gbtree', 'learning_rate': 0.08689034625220587, 'max_depth': 9, 'gamma': 0.0661307498245775, 'subsample': 0.7652940826801149, 'reg_alpha': 1.2286127240245535e-05, 'reg_lambda': 1.6762265774294702e-05, 'colsample_bytree': 0.9892955390468446, 'min_child_weight': 1, 'n_estimators': 4029}. Best is trial 13 with value: 830.1644939981818.\n"
          ]
        },
        {
          "metadata": {
            "tags": null
          },
          "name": "stdout",
          "output_type": "stream",
          "text": [
            "[0]\ttrain-rmse:1809.54295+29.15265\ttest-rmse:1807.07330+121.70111\n",
            "[50]\ttrain-rmse:1286.06217+12.14287\ttest-rmse:1370.29329+69.38955\n",
            "[100]\ttrain-rmse:992.25369+8.40083\ttest-rmse:1142.65174+63.54249\n",
            "[150]\ttrain-rmse:813.31895+10.53252\ttest-rmse:1022.78369+67.24608\n",
            "[200]\ttrain-rmse:688.58223+10.89756\ttest-rmse:951.42339+70.24338\n",
            "[250]\ttrain-rmse:601.98416+11.11758\ttest-rmse:912.98591+70.80886\n",
            "[300]\ttrain-rmse:537.50828+10.27862\ttest-rmse:890.84597+70.73626\n",
            "[350]\ttrain-rmse:487.41213+9.89010\ttest-rmse:876.81155+70.84243\n",
            "[400]\ttrain-rmse:448.71232+10.14101\ttest-rmse:866.95551+71.10961\n",
            "[450]\ttrain-rmse:416.43764+9.82842\ttest-rmse:860.68292+70.36826\n",
            "[500]\ttrain-rmse:388.66401+8.61444\ttest-rmse:856.22492+69.50833\n",
            "[550]\ttrain-rmse:364.26104+6.99350\ttest-rmse:852.88606+69.53444\n",
            "[600]\ttrain-rmse:342.42755+6.60577\ttest-rmse:850.18565+69.58798\n",
            "[650]\ttrain-rmse:322.46748+5.60570\ttest-rmse:848.30954+69.18095\n",
            "[700]\ttrain-rmse:304.17373+5.35387\ttest-rmse:847.05059+68.90228\n",
            "[750]\ttrain-rmse:287.77361+5.34878\ttest-rmse:845.98137+68.81953\n",
            "[800]\ttrain-rmse:272.03987+4.76686\ttest-rmse:844.73952+68.92387\n",
            "[850]\ttrain-rmse:257.99803+4.43827\ttest-rmse:843.65452+68.89138\n",
            "[900]\ttrain-rmse:244.30674+4.27089\ttest-rmse:842.71916+68.48729\n",
            "[950]\ttrain-rmse:232.47088+3.85207\ttest-rmse:842.03709+68.56479\n",
            "[1000]\ttrain-rmse:220.94055+3.72850\ttest-rmse:841.46696+68.60953\n",
            "[1050]\ttrain-rmse:209.97851+3.41867\ttest-rmse:841.11881+68.64007\n",
            "[1100]\ttrain-rmse:199.55131+2.75722\ttest-rmse:840.61230+68.83938\n",
            "[1150]\ttrain-rmse:190.16985+2.64800\ttest-rmse:840.20921+68.81386\n",
            "[1200]\ttrain-rmse:181.39763+2.54020\ttest-rmse:839.94842+68.78569\n",
            "[1250]\ttrain-rmse:173.05298+2.60586\ttest-rmse:839.65500+68.69970\n",
            "[1300]\ttrain-rmse:165.05103+2.65024\ttest-rmse:839.34868+68.67686\n",
            "[1350]\ttrain-rmse:157.62249+2.47928\ttest-rmse:839.21604+68.56683\n",
            "[1400]\ttrain-rmse:150.60811+2.44674\ttest-rmse:838.89331+68.65550\n",
            "[1450]\ttrain-rmse:143.82441+2.27948\ttest-rmse:838.67796+68.49237\n",
            "[1500]\ttrain-rmse:137.36638+2.26648\ttest-rmse:838.52812+68.60079\n",
            "[1550]\ttrain-rmse:131.36909+2.17582\ttest-rmse:838.31093+68.62061\n",
            "[1600]\ttrain-rmse:125.74220+2.09182\ttest-rmse:838.21558+68.58582\n",
            "[1650]\ttrain-rmse:120.14286+2.17522\ttest-rmse:837.96458+68.52473\n",
            "[1700]\ttrain-rmse:114.91242+2.14377\ttest-rmse:837.80984+68.56795\n",
            "[1747]\ttrain-rmse:110.13488+2.12728\ttest-rmse:837.73972+68.45243\n"
          ]
        },
        {
          "metadata": {
            "tags": null
          },
          "name": "stderr",
          "output_type": "stream",
          "text": [
            "[I 2025-01-28 16:51:21,547] Trial 19 finished with value: 837.7104513711247 and parameters: {'booster': 'gbtree', 'learning_rate': 0.012160312397037264, 'max_depth': 7, 'gamma': 0.12457639791298576, 'subsample': 0.851226315917473, 'reg_alpha': 1.4736574653002068e-07, 'reg_lambda': 3.0829234039385786e-06, 'colsample_bytree': 0.899890221735546, 'min_child_weight': 1, 'n_estimators': 2928}. Best is trial 13 with value: 830.1644939981818.\n"
          ]
        },
        {
          "metadata": {
            "tags": null
          },
          "name": "stdout",
          "output_type": "stream",
          "text": [
            "[0]\ttrain-rmse:1819.45688+29.30307\ttest-rmse:1816.09546+122.71857\n",
            "[50]\ttrain-rmse:1637.31746+21.90211\ttest-rmse:1661.74264+99.71020\n",
            "[100]\ttrain-rmse:1483.82725+17.19287\ttest-rmse:1532.42140+84.75747\n",
            "[150]\ttrain-rmse:1354.84142+15.11232\ttest-rmse:1426.93427+73.70454\n",
            "[200]\ttrain-rmse:1243.49758+12.46229\ttest-rmse:1336.85894+68.09831\n",
            "[250]\ttrain-rmse:1152.24920+10.12987\ttest-rmse:1266.27843+65.21919\n",
            "[300]\ttrain-rmse:1071.72355+8.64061\ttest-rmse:1204.02571+64.83333\n",
            "[350]\ttrain-rmse:1002.88077+7.62539\ttest-rmse:1152.48435+64.74548\n",
            "[400]\ttrain-rmse:942.50961+7.40159\ttest-rmse:1109.41617+66.47108\n",
            "[450]\ttrain-rmse:888.02329+7.77000\ttest-rmse:1071.62758+66.91828\n",
            "[500]\ttrain-rmse:841.25883+8.40395\ttest-rmse:1041.09829+67.47081\n",
            "[550]\ttrain-rmse:799.44733+9.27048\ttest-rmse:1014.54025+67.81414\n",
            "[600]\ttrain-rmse:760.53467+10.08597\ttest-rmse:990.74719+68.27601\n",
            "[650]\ttrain-rmse:725.65209+10.21858\ttest-rmse:970.95321+68.47730\n",
            "[700]\ttrain-rmse:694.15071+10.84681\ttest-rmse:954.18049+68.21658\n",
            "[750]\ttrain-rmse:665.95897+11.15080\ttest-rmse:940.12958+68.52667\n",
            "[800]\ttrain-rmse:640.33352+11.35970\ttest-rmse:928.24946+68.82407\n",
            "[850]\ttrain-rmse:617.14522+11.75303\ttest-rmse:918.17466+68.69275\n",
            "[900]\ttrain-rmse:595.88744+11.54623\ttest-rmse:909.57223+68.74378\n",
            "[950]\ttrain-rmse:575.99359+10.68083\ttest-rmse:901.67166+68.88688\n",
            "[1000]\ttrain-rmse:557.62321+10.94236\ttest-rmse:895.23578+68.86482\n",
            "[1050]\ttrain-rmse:540.36408+10.84385\ttest-rmse:889.63121+68.83072\n",
            "[1100]\ttrain-rmse:524.35526+10.51252\ttest-rmse:884.69427+68.86192\n",
            "[1150]\ttrain-rmse:509.75032+10.40176\ttest-rmse:880.48144+69.06563\n",
            "[1200]\ttrain-rmse:496.35077+10.19871\ttest-rmse:876.66792+68.92819\n",
            "[1250]\ttrain-rmse:483.71034+10.33685\ttest-rmse:873.17289+68.88085\n",
            "[1300]\ttrain-rmse:471.36451+10.23851\ttest-rmse:869.99995+68.92904\n",
            "[1350]\ttrain-rmse:460.65935+10.28116\ttest-rmse:867.55332+68.86587\n",
            "[1400]\ttrain-rmse:450.02702+10.16212\ttest-rmse:865.21940+68.82139\n",
            "[1450]\ttrain-rmse:440.19994+10.08275\ttest-rmse:863.30808+68.73740\n",
            "[1500]\ttrain-rmse:430.86323+9.89441\ttest-rmse:861.43155+68.51977\n",
            "[1550]\ttrain-rmse:421.65960+9.60289\ttest-rmse:859.59062+68.34010\n",
            "[1600]\ttrain-rmse:412.96998+9.37664\ttest-rmse:857.97013+68.37919\n",
            "[1650]\ttrain-rmse:404.66613+9.12332\ttest-rmse:856.64863+68.32073\n",
            "[1700]\ttrain-rmse:396.69375+9.11501\ttest-rmse:855.35259+68.13301\n",
            "[1750]\ttrain-rmse:389.25492+8.89689\ttest-rmse:853.98458+68.11882\n",
            "[1800]\ttrain-rmse:381.95932+8.92737\ttest-rmse:853.02173+68.01457\n",
            "[1850]\ttrain-rmse:375.36907+8.73090\ttest-rmse:852.09503+67.84076\n",
            "[1900]\ttrain-rmse:368.72618+8.58588\ttest-rmse:851.17499+67.70453\n",
            "[1950]\ttrain-rmse:362.20983+8.40401\ttest-rmse:850.43760+67.62772\n",
            "[2000]\ttrain-rmse:355.75996+7.95950\ttest-rmse:849.59890+67.67549\n",
            "[2050]\ttrain-rmse:349.40039+7.69305\ttest-rmse:848.76203+67.58950\n",
            "[2100]\ttrain-rmse:343.32804+7.53659\ttest-rmse:848.12799+67.48361\n",
            "[2150]\ttrain-rmse:337.60669+7.34098\ttest-rmse:847.43567+67.48067\n",
            "[2200]\ttrain-rmse:331.83050+6.99356\ttest-rmse:846.85727+67.49774\n",
            "[2250]\ttrain-rmse:326.24296+6.74459\ttest-rmse:846.32791+67.29612\n",
            "[2300]\ttrain-rmse:320.86954+6.65572\ttest-rmse:845.76730+67.30932\n",
            "[2350]\ttrain-rmse:315.72514+6.54171\ttest-rmse:845.22371+67.33947\n",
            "[2400]\ttrain-rmse:310.61773+6.44058\ttest-rmse:844.80083+67.31824\n",
            "[2450]\ttrain-rmse:305.58291+6.29750\ttest-rmse:844.33766+67.36016\n",
            "[2500]\ttrain-rmse:300.70226+6.23709\ttest-rmse:844.05306+67.30325\n",
            "[2550]\ttrain-rmse:295.85698+5.95186\ttest-rmse:843.74623+67.25782\n",
            "[2600]\ttrain-rmse:291.31929+5.74757\ttest-rmse:843.33816+67.12726\n",
            "[2650]\ttrain-rmse:286.76300+5.66861\ttest-rmse:842.87129+67.06189\n",
            "[2700]\ttrain-rmse:282.30829+5.58021\ttest-rmse:842.52012+67.08419\n",
            "[2750]\ttrain-rmse:277.89977+5.44719\ttest-rmse:842.19250+67.04894\n",
            "[2771]\ttrain-rmse:276.12731+5.37413\ttest-rmse:842.02872+67.04031\n"
          ]
        },
        {
          "metadata": {
            "tags": null
          },
          "name": "stderr",
          "output_type": "stream",
          "text": [
            "[I 2025-01-28 16:53:05,779] Trial 20 finished with value: 842.0287249860625 and parameters: {'booster': 'gbtree', 'learning_rate': 0.0034231222196125493, 'max_depth': 7, 'gamma': 0.0003446641494859749, 'subsample': 0.8614258806176106, 'reg_alpha': 8.888617685729778e-08, 'reg_lambda': 3.3543331021305483e-06, 'colsample_bytree': 0.8096940875106242, 'min_child_weight': 0, 'n_estimators': 2772}. Best is trial 13 with value: 830.1644939981818.\n"
          ]
        },
        {
          "metadata": {
            "tags": null
          },
          "name": "stdout",
          "output_type": "stream",
          "text": [
            "[0]\ttrain-rmse:1810.21358+29.01015\ttest-rmse:1807.63569+121.88345\n",
            "[50]\ttrain-rmse:1279.25751+13.67652\ttest-rmse:1369.09195+72.00778\n",
            "[100]\ttrain-rmse:965.54097+11.09209\ttest-rmse:1133.09042+62.24024\n",
            "[150]\ttrain-rmse:768.20802+12.07785\ttest-rmse:1009.19458+65.85521\n",
            "[200]\ttrain-rmse:635.94501+11.40931\ttest-rmse:939.39497+69.18860\n",
            "[250]\ttrain-rmse:544.43329+10.82824\ttest-rmse:899.30052+70.40264\n",
            "[300]\ttrain-rmse:476.26490+11.13214\ttest-rmse:877.28140+70.35090\n",
            "[350]\ttrain-rmse:423.98929+9.59977\ttest-rmse:864.56731+70.88455\n",
            "[400]\ttrain-rmse:382.94478+8.89958\ttest-rmse:856.66170+70.90276\n",
            "[450]\ttrain-rmse:348.07082+7.87108\ttest-rmse:850.98164+71.87944\n",
            "[500]\ttrain-rmse:320.38619+7.93488\ttest-rmse:847.17956+71.74543\n",
            "[550]\ttrain-rmse:295.55679+6.98752\ttest-rmse:844.26009+71.60327\n",
            "[600]\ttrain-rmse:273.68424+6.71972\ttest-rmse:842.13053+71.34063\n",
            "[650]\ttrain-rmse:253.72217+6.30979\ttest-rmse:840.70476+71.24708\n",
            "[700]\ttrain-rmse:236.73913+5.67895\ttest-rmse:839.70406+71.26568\n",
            "[750]\ttrain-rmse:220.61116+5.11279\ttest-rmse:838.73700+71.28843\n",
            "[800]\ttrain-rmse:205.89475+4.71496\ttest-rmse:837.76511+71.07057\n",
            "[850]\ttrain-rmse:192.31994+3.87825\ttest-rmse:836.80304+70.78256\n",
            "[900]\ttrain-rmse:180.27583+3.33064\ttest-rmse:836.17064+70.74196\n",
            "[950]\ttrain-rmse:169.15706+2.86370\ttest-rmse:835.53947+70.62122\n",
            "[1000]\ttrain-rmse:158.53881+2.51214\ttest-rmse:835.01939+70.72194\n",
            "[1050]\ttrain-rmse:148.68408+2.47971\ttest-rmse:834.83119+70.76322\n",
            "[1100]\ttrain-rmse:139.80667+2.54926\ttest-rmse:834.52696+70.68612\n",
            "[1150]\ttrain-rmse:131.37039+2.44993\ttest-rmse:834.29122+70.68933\n",
            "[1200]\ttrain-rmse:123.74603+2.35610\ttest-rmse:834.00371+70.67012\n",
            "[1250]\ttrain-rmse:116.34921+2.35048\ttest-rmse:833.83065+70.55890\n",
            "[1273]\ttrain-rmse:113.32781+2.22955\ttest-rmse:833.82443+70.57327\n"
          ]
        },
        {
          "metadata": {
            "tags": null
          },
          "name": "stderr",
          "output_type": "stream",
          "text": [
            "[I 2025-01-28 16:53:58,060] Trial 21 finished with value: 833.7927243613847 and parameters: {'booster': 'gbtree', 'learning_rate': 0.01105970901680636, 'max_depth': 8, 'gamma': 0.08319827025737733, 'subsample': 0.6934900861532349, 'reg_alpha': 8.141243651390734e-07, 'reg_lambda': 8.000664769030943e-05, 'colsample_bytree': 0.9062290989286326, 'min_child_weight': 1, 'n_estimators': 3035}. Best is trial 13 with value: 830.1644939981818.\n"
          ]
        },
        {
          "metadata": {
            "tags": null
          },
          "name": "stdout",
          "output_type": "stream",
          "text": [
            "[0]\ttrain-rmse:1810.86642+28.35787\ttest-rmse:1807.90142+122.06212\n",
            "[50]\ttrain-rmse:1297.37138+11.16332\ttest-rmse:1373.87228+74.18088\n",
            "[100]\ttrain-rmse:1005.12509+9.03088\ttest-rmse:1145.53237+64.19713\n",
            "[150]\ttrain-rmse:822.15164+11.03819\ttest-rmse:1021.39552+66.33307\n",
            "[200]\ttrain-rmse:700.12439+10.93499\ttest-rmse:949.55770+67.76453\n",
            "[250]\ttrain-rmse:617.39564+11.78336\ttest-rmse:909.74400+68.03141\n",
            "[300]\ttrain-rmse:554.75881+11.59737\ttest-rmse:885.42101+67.55893\n",
            "[350]\ttrain-rmse:507.36581+10.69304\ttest-rmse:871.25137+67.45986\n",
            "[400]\ttrain-rmse:468.45093+10.13896\ttest-rmse:861.28048+67.29531\n",
            "[450]\ttrain-rmse:435.18345+9.39576\ttest-rmse:853.68930+67.62630\n",
            "[500]\ttrain-rmse:407.39132+9.08664\ttest-rmse:848.76861+67.64242\n",
            "[550]\ttrain-rmse:382.16257+7.51147\ttest-rmse:844.76380+67.49887\n",
            "[600]\ttrain-rmse:359.97280+7.02238\ttest-rmse:841.43360+67.63058\n",
            "[650]\ttrain-rmse:339.67972+6.50699\ttest-rmse:839.38307+67.19705\n",
            "[700]\ttrain-rmse:321.46146+6.28852\ttest-rmse:837.69950+67.29123\n",
            "[750]\ttrain-rmse:303.92091+6.06922\ttest-rmse:836.29719+67.43490\n",
            "[800]\ttrain-rmse:287.85679+5.84130\ttest-rmse:834.55636+67.35945\n",
            "[850]\ttrain-rmse:272.75709+4.92698\ttest-rmse:833.13101+67.07143\n",
            "[900]\ttrain-rmse:258.89638+4.46504\ttest-rmse:832.20745+66.59687\n",
            "[950]\ttrain-rmse:246.16719+4.22486\ttest-rmse:831.32119+66.31657\n",
            "[1000]\ttrain-rmse:234.00410+3.84784\ttest-rmse:830.50241+66.30429\n",
            "[1045]\ttrain-rmse:223.82508+3.74526\ttest-rmse:830.20422+66.32651\n"
          ]
        },
        {
          "metadata": {
            "tags": null
          },
          "name": "stderr",
          "output_type": "stream",
          "text": [
            "[I 2025-01-28 16:54:27,168] Trial 22 finished with value: 830.1508501552291 and parameters: {'booster': 'gbtree', 'learning_rate': 0.012045094439969097, 'max_depth': 7, 'gamma': 0.18118439075620688, 'subsample': 0.6605607340289918, 'reg_alpha': 6.920879111902348e-07, 'reg_lambda': 1.2792314303125222e-07, 'colsample_bytree': 0.9288194274695757, 'min_child_weight': 1, 'n_estimators': 1302}. Best is trial 22 with value: 830.1508501552291.\n"
          ]
        },
        {
          "metadata": {
            "tags": null
          },
          "name": "stdout",
          "output_type": "stream",
          "text": [
            "[0]\ttrain-rmse:1800.20048+27.33762\ttest-rmse:1797.81334+121.43017\n",
            "[50]\ttrain-rmse:1071.93848+9.08878\ttest-rmse:1188.56798+65.19612\n",
            "[100]\ttrain-rmse:793.84714+9.30968\ttest-rmse:989.10124+65.64554\n",
            "[150]\ttrain-rmse:660.27379+9.72551\ttest-rmse:919.64872+68.29466\n",
            "[200]\ttrain-rmse:577.11232+10.68362\ttest-rmse:887.15734+69.99853\n",
            "[250]\ttrain-rmse:520.09998+10.28390\ttest-rmse:870.79790+69.39632\n",
            "[300]\ttrain-rmse:474.50323+10.38073\ttest-rmse:859.59441+69.97343\n",
            "[350]\ttrain-rmse:435.51383+8.60275\ttest-rmse:852.92430+69.43761\n",
            "[400]\ttrain-rmse:400.82537+7.03393\ttest-rmse:848.60671+68.58329\n",
            "[450]\ttrain-rmse:371.39435+6.18594\ttest-rmse:844.65100+69.11217\n",
            "[500]\ttrain-rmse:345.40226+6.42984\ttest-rmse:842.44981+68.52415\n",
            "[550]\ttrain-rmse:321.83261+5.69503\ttest-rmse:839.81043+68.73223\n",
            "[600]\ttrain-rmse:300.95076+5.37393\ttest-rmse:838.06520+68.62023\n",
            "[650]\ttrain-rmse:281.80931+5.01155\ttest-rmse:836.87028+68.49514\n",
            "[700]\ttrain-rmse:264.02097+4.54453\ttest-rmse:836.14620+68.52388\n",
            "[750]\ttrain-rmse:247.81235+4.84465\ttest-rmse:834.96483+68.37310\n",
            "[800]\ttrain-rmse:232.82761+4.91338\ttest-rmse:834.08255+68.15673\n",
            "[850]\ttrain-rmse:218.80616+4.91292\ttest-rmse:833.48824+67.85402\n",
            "[900]\ttrain-rmse:205.73849+4.54163\ttest-rmse:832.69606+67.67991\n",
            "[950]\ttrain-rmse:193.76963+4.14606\ttest-rmse:832.07784+67.72285\n",
            "[1000]\ttrain-rmse:182.46765+3.93610\ttest-rmse:831.62774+67.48552\n",
            "[1050]\ttrain-rmse:171.96076+3.82102\ttest-rmse:831.37575+67.65535\n",
            "[1054]\ttrain-rmse:171.15589+3.78369\ttest-rmse:831.40128+67.69880\n"
          ]
        },
        {
          "metadata": {
            "tags": null
          },
          "name": "stderr",
          "output_type": "stream",
          "text": [
            "[I 2025-01-28 16:54:53,426] Trial 23 finished with value: 831.267168198091 and parameters: {'booster': 'gbtree', 'learning_rate': 0.024623242336467482, 'max_depth': 6, 'gamma': 0.34673073204236277, 'subsample': 0.6659917854903564, 'reg_alpha': 1.1488083401096093e-06, 'reg_lambda': 6.537390187207393e-08, 'colsample_bytree': 0.9390116385812505, 'min_child_weight': 0, 'n_estimators': 1068}. Best is trial 22 with value: 830.1508501552291.\n"
          ]
        },
        {
          "metadata": {
            "tags": null
          },
          "name": "stdout",
          "output_type": "stream",
          "text": [
            "[0]\ttrain-rmse:1798.86057+27.44115\ttest-rmse:1796.94701+121.95682\n",
            "[50]\ttrain-rmse:1041.37007+9.59228\ttest-rmse:1162.85828+62.24617\n",
            "[100]\ttrain-rmse:771.17530+9.77047\ttest-rmse:973.59247+62.27503\n",
            "[150]\ttrain-rmse:640.72061+11.86299\ttest-rmse:909.63897+63.11523\n",
            "[200]\ttrain-rmse:560.00049+11.53594\ttest-rmse:878.73130+65.70101\n",
            "[250]\ttrain-rmse:503.68860+10.99386\ttest-rmse:863.98624+65.13676\n",
            "[300]\ttrain-rmse:457.98135+10.46302\ttest-rmse:854.15307+66.28054\n",
            "[350]\ttrain-rmse:418.04601+9.17595\ttest-rmse:847.80945+65.13664\n",
            "[400]\ttrain-rmse:384.33304+7.52073\ttest-rmse:842.98210+65.68421\n",
            "[450]\ttrain-rmse:353.72570+6.32289\ttest-rmse:839.50003+65.90768\n",
            "[500]\ttrain-rmse:327.74993+5.90223\ttest-rmse:837.60567+65.84842\n",
            "[550]\ttrain-rmse:304.01492+5.74116\ttest-rmse:835.61644+66.29044\n",
            "[600]\ttrain-rmse:283.33985+5.74868\ttest-rmse:834.18396+65.47700\n",
            "[650]\ttrain-rmse:264.50964+5.20057\ttest-rmse:832.62636+65.41008\n",
            "[700]\ttrain-rmse:247.38373+4.64476\ttest-rmse:831.99986+65.55752\n",
            "[721]\ttrain-rmse:240.42278+4.43335\ttest-rmse:832.07073+65.53547\n"
          ]
        },
        {
          "metadata": {
            "tags": null
          },
          "name": "stderr",
          "output_type": "stream",
          "text": [
            "[I 2025-01-28 16:55:12,938] Trial 24 finished with value: 831.9473140864499 and parameters: {'booster': 'gbtree', 'learning_rate': 0.026678927223153463, 'max_depth': 6, 'gamma': 0.3921206198005061, 'subsample': 0.6353939296382354, 'reg_alpha': 8.014015969557314e-07, 'reg_lambda': 7.343265854652743e-08, 'colsample_bytree': 0.9839521919121355, 'min_child_weight': 0, 'n_estimators': 1137}. Best is trial 22 with value: 830.1508501552291.\n"
          ]
        },
        {
          "metadata": {
            "tags": null
          },
          "name": "stdout",
          "output_type": "stream",
          "text": [
            "[0]\ttrain-rmse:1751.98235+29.33731\ttest-rmse:1750.92028+114.66492\n",
            "[50]\ttrain-rmse:806.80934+15.35282\ttest-rmse:967.83367+60.94402\n",
            "[100]\ttrain-rmse:651.17311+14.32182\ttest-rmse:896.20631+58.11064\n",
            "[150]\ttrain-rmse:562.54488+14.80339\ttest-rmse:872.14566+61.72540\n",
            "[200]\ttrain-rmse:495.21256+13.65839\ttest-rmse:862.14713+64.07518\n",
            "[250]\ttrain-rmse:442.13554+12.99996\ttest-rmse:856.09563+62.46495\n",
            "[300]\ttrain-rmse:397.05925+12.79131\ttest-rmse:851.89536+64.01450\n",
            "[317]\ttrain-rmse:384.40479+12.52375\ttest-rmse:851.84209+63.72473\n"
          ]
        },
        {
          "metadata": {
            "tags": null
          },
          "name": "stderr",
          "output_type": "stream",
          "text": [
            "[I 2025-01-28 16:55:15,898] Trial 25 finished with value: 851.6398565167799 and parameters: {'booster': 'gbtree', 'learning_rate': 0.08054164640925694, 'max_depth': 5, 'gamma': 0.03421387266588344, 'subsample': 0.7382494695156915, 'reg_alpha': 3.850898442951432e-08, 'reg_lambda': 1.2604393943507022e-07, 'colsample_bytree': 0.8383279763254967, 'min_child_weight': 5, 'n_estimators': 1061}. Best is trial 22 with value: 830.1508501552291.\n"
          ]
        },
        {
          "metadata": {
            "tags": null
          },
          "name": "stdout",
          "output_type": "stream",
          "text": [
            "[0]\ttrain-rmse:1803.33315+27.67383\ttest-rmse:1801.05906+122.14210\n",
            "[50]\ttrain-rmse:1145.36778+9.61646\ttest-rmse:1228.01603+68.95492\n",
            "[100]\ttrain-rmse:876.45617+13.56227\ttest-rmse:1022.26556+60.44627\n",
            "[150]\ttrain-rmse:740.42562+14.95885\ttest-rmse:939.91809+59.07413\n",
            "[200]\ttrain-rmse:660.07831+12.57629\ttest-rmse:902.79179+62.36190\n",
            "[250]\ttrain-rmse:603.42095+13.13149\ttest-rmse:882.21599+61.70841\n",
            "[300]\ttrain-rmse:559.60137+12.63771\ttest-rmse:868.97315+61.06419\n",
            "[350]\ttrain-rmse:521.81824+11.65525\ttest-rmse:860.27902+60.98856\n",
            "[400]\ttrain-rmse:489.48953+10.67403\ttest-rmse:854.39102+60.42796\n",
            "[450]\ttrain-rmse:459.56456+10.58931\ttest-rmse:849.42283+60.62450\n",
            "[500]\ttrain-rmse:433.27520+9.95128\ttest-rmse:846.40229+60.62980\n",
            "[550]\ttrain-rmse:408.63632+9.48189\ttest-rmse:843.86694+60.88236\n",
            "[600]\ttrain-rmse:387.24171+8.53280\ttest-rmse:841.98930+61.14524\n",
            "[650]\ttrain-rmse:366.77507+8.57058\ttest-rmse:840.08637+61.38276\n",
            "[675]\ttrain-rmse:357.69075+8.36001\ttest-rmse:840.07276+61.36706\n"
          ]
        },
        {
          "metadata": {
            "tags": null
          },
          "name": "stderr",
          "output_type": "stream",
          "text": [
            "[I 2025-01-28 16:55:27,809] Trial 26 finished with value: 839.9715174542838 and parameters: {'booster': 'gbtree', 'learning_rate': 0.021445112250648875, 'max_depth': 6, 'gamma': 0.2517077034402961, 'subsample': 0.6013979542030532, 'reg_alpha': 1.0345925742171079e-06, 'reg_lambda': 3.606685534342772e-07, 'colsample_bytree': 0.9237634052523358, 'min_child_weight': 3, 'n_estimators': 1528}. Best is trial 22 with value: 830.1508501552291.\n"
          ]
        },
        {
          "metadata": {
            "tags": null
          },
          "name": "stdout",
          "output_type": "stream",
          "text": [
            "[0]\ttrain-rmse:1778.13249+30.83768\ttest-rmse:1780.71890+119.87092\n",
            "[50]\ttrain-rmse:783.95630+9.38124\ttest-rmse:1002.57718+65.38925\n",
            "[100]\ttrain-rmse:523.67097+9.86337\ttest-rmse:883.86397+63.96953\n",
            "[150]\ttrain-rmse:408.84200+7.62827\ttest-rmse:856.11206+64.87024\n",
            "[200]\ttrain-rmse:334.61885+6.74590\ttest-rmse:845.59336+64.71876\n",
            "[250]\ttrain-rmse:280.76161+5.77634\ttest-rmse:841.48660+64.96557\n",
            "[300]\ttrain-rmse:238.31612+5.28890\ttest-rmse:838.17507+64.50365\n",
            "[350]\ttrain-rmse:204.42945+4.32242\ttest-rmse:836.91378+64.96985\n",
            "[400]\ttrain-rmse:175.30309+4.10242\ttest-rmse:835.96412+65.05052\n",
            "[450]\ttrain-rmse:152.00942+2.97810\ttest-rmse:834.97875+64.98854\n",
            "[500]\ttrain-rmse:132.32658+2.52335\ttest-rmse:834.45882+64.88084\n",
            "[528]\ttrain-rmse:122.27354+1.90808\ttest-rmse:834.48297+64.86449\n"
          ]
        },
        {
          "metadata": {
            "tags": null
          },
          "name": "stderr",
          "output_type": "stream",
          "text": [
            "[I 2025-01-28 16:55:44,628] Trial 27 finished with value: 834.3864278996955 and parameters: {'booster': 'gbtree', 'learning_rate': 0.038250867800777175, 'max_depth': 7, 'gamma': 0.024931739672760137, 'subsample': 0.8200539926424337, 'reg_alpha': 1.0037625478721989e-05, 'reg_lambda': 2.1069684843679294e-08, 'colsample_bytree': 0.770332434102301, 'min_child_weight': 0, 'n_estimators': 1575}. Best is trial 22 with value: 830.1508501552291.\n"
          ]
        },
        {
          "metadata": {
            "tags": null
          },
          "name": "stdout",
          "output_type": "stream",
          "text": [
            "[0]\ttrain-rmse:1818.30526+29.45180\ttest-rmse:1814.87385+122.74854\n",
            "[50]\ttrain-rmse:1586.56070+22.27414\ttest-rmse:1615.56069+100.16437\n",
            "[100]\ttrain-rmse:1394.15417+17.72938\ttest-rmse:1454.25285+84.83150\n",
            "[150]\ttrain-rmse:1235.06310+15.01794\ttest-rmse:1327.49067+75.93821\n",
            "[200]\ttrain-rmse:1100.90643+12.69629\ttest-rmse:1224.84219+72.46899\n",
            "[250]\ttrain-rmse:992.03325+11.19339\ttest-rmse:1147.11764+71.50270\n",
            "[300]\ttrain-rmse:897.77340+10.42920\ttest-rmse:1083.40979+72.36947\n",
            "[350]\ttrain-rmse:818.26393+9.35810\ttest-rmse:1032.70561+73.48419\n",
            "[400]\ttrain-rmse:751.07766+8.73555\ttest-rmse:994.38086+74.34696\n",
            "[450]\ttrain-rmse:692.17338+9.05198\ttest-rmse:962.87094+74.41342\n",
            "[500]\ttrain-rmse:642.72255+8.92625\ttest-rmse:939.00201+73.94434\n",
            "[550]\ttrain-rmse:599.01259+8.00025\ttest-rmse:919.55394+73.66065\n",
            "[600]\ttrain-rmse:560.19067+7.86970\ttest-rmse:904.13884+73.58253\n",
            "[650]\ttrain-rmse:525.48049+8.10770\ttest-rmse:891.86005+73.59116\n",
            "[700]\ttrain-rmse:495.04389+7.85151\ttest-rmse:882.48080+72.92329\n",
            "[750]\ttrain-rmse:468.33150+7.72305\ttest-rmse:874.70547+72.70858\n",
            "[800]\ttrain-rmse:444.02568+7.65022\ttest-rmse:868.24369+72.84338\n",
            "[850]\ttrain-rmse:422.00209+7.67570\ttest-rmse:863.18989+72.80574\n",
            "[900]\ttrain-rmse:401.74192+7.62201\ttest-rmse:859.02538+72.87240\n",
            "[950]\ttrain-rmse:383.38278+7.46523\ttest-rmse:855.38951+72.68361\n",
            "[1000]\ttrain-rmse:366.38832+7.13379\ttest-rmse:852.54137+72.51071\n",
            "[1050]\ttrain-rmse:350.88653+6.87741\ttest-rmse:850.17151+72.30170\n",
            "[1100]\ttrain-rmse:336.80504+6.82514\ttest-rmse:848.19919+72.18432\n",
            "[1150]\ttrain-rmse:323.81903+6.35307\ttest-rmse:846.45596+72.21449\n",
            "[1200]\ttrain-rmse:311.83382+6.32683\ttest-rmse:844.96290+71.92582\n",
            "[1250]\ttrain-rmse:300.82103+6.30674\ttest-rmse:843.32794+72.01100\n",
            "[1287]\ttrain-rmse:292.64831+6.18597\ttest-rmse:842.32373+72.02960\n"
          ]
        },
        {
          "metadata": {
            "tags": null
          },
          "name": "stderr",
          "output_type": "stream",
          "text": [
            "[I 2025-01-28 16:56:45,170] Trial 28 finished with value: 842.3237294847935 and parameters: {'booster': 'gbtree', 'learning_rate': 0.0038360133694302803, 'max_depth': 9, 'gamma': 1.4837692250712477e-05, 'subsample': 0.7088315951006564, 'reg_alpha': 3.8039927629727954e-05, 'reg_lambda': 1.8563639743959133e-07, 'colsample_bytree': 0.8466008498044462, 'min_child_weight': 2, 'n_estimators': 1288}. Best is trial 22 with value: 830.1508501552291.\n"
          ]
        },
        {
          "metadata": {
            "tags": null
          },
          "name": "stdout",
          "output_type": "stream",
          "text": [
            "[0]\ttrain-rmse:1707.29561+25.10192\ttest-rmse:1715.02285+121.43438\n",
            "[50]\ttrain-rmse:500.35343+8.90385\ttest-rmse:884.48254+54.02341\n",
            "[100]\ttrain-rmse:323.33929+6.96173\ttest-rmse:860.97218+54.68049\n",
            "[144]\ttrain-rmse:236.22903+6.83318\ttest-rmse:855.82376+52.53050\n"
          ]
        },
        {
          "metadata": {
            "tags": null
          },
          "name": "stderr",
          "output_type": "stream",
          "text": [
            "[I 2025-01-28 16:56:47,724] Trial 29 finished with value: 855.4696087802489 and parameters: {'booster': 'gbtree', 'learning_rate': 0.09799865263813315, 'max_depth': 7, 'gamma': 6.340723832973167e-08, 'subsample': 0.6221899989335627, 'reg_alpha': 0.0002674359323574351, 'reg_lambda': 7.400609084237019e-07, 'colsample_bytree': 0.65490174568427, 'min_child_weight': 1, 'n_estimators': 1751}. Best is trial 22 with value: 830.1508501552291.\n"
          ]
        },
        {
          "metadata": {
            "tags": null
          },
          "name": "stdout",
          "output_type": "stream",
          "text": [
            "[0]\ttrain-rmse:1770.80561+27.22436\ttest-rmse:1773.00637+118.41260\n",
            "[50]\ttrain-rmse:867.66987+11.43714\ttest-rmse:1038.65214+66.07699\n",
            "[100]\ttrain-rmse:670.87905+12.51554\ttest-rmse:928.97319+74.86682\n",
            "[150]\ttrain-rmse:570.92622+9.40670\ttest-rmse:890.98986+73.03933\n",
            "[200]\ttrain-rmse:502.25575+7.26052\ttest-rmse:876.83015+71.16850\n",
            "[250]\ttrain-rmse:447.11799+7.26624\ttest-rmse:867.30375+70.92028\n",
            "[300]\ttrain-rmse:400.37593+5.02817\ttest-rmse:861.13630+69.49513\n",
            "[350]\ttrain-rmse:362.75256+4.37807\ttest-rmse:857.69478+68.22511\n",
            "[400]\ttrain-rmse:329.42006+2.81099\ttest-rmse:855.65345+68.17981\n",
            "[450]\ttrain-rmse:299.72431+2.43359\ttest-rmse:852.56693+68.78097\n",
            "[500]\ttrain-rmse:274.35038+2.55479\ttest-rmse:851.40746+68.56974\n",
            "[524]\ttrain-rmse:263.48166+2.34006\ttest-rmse:851.84474+68.19426\n"
          ]
        },
        {
          "metadata": {
            "tags": null
          },
          "name": "stderr",
          "output_type": "stream",
          "text": [
            "[I 2025-01-28 16:56:57,185] Trial 30 finished with value: 851.2853770048614 and parameters: {'booster': 'gbtree', 'learning_rate': 0.05718582374656681, 'max_depth': 5, 'gamma': 1.0669388536744202e-08, 'subsample': 0.8979584633295161, 'reg_alpha': 2.7555362908041005e-06, 'reg_lambda': 8.097901032586428e-08, 'colsample_bytree': 0.9360834752568546, 'min_child_weight': 0, 'n_estimators': 2636}. Best is trial 22 with value: 830.1508501552291.\n"
          ]
        },
        {
          "metadata": {
            "tags": null
          },
          "name": "stdout",
          "output_type": "stream",
          "text": [
            "[0]\ttrain-rmse:1796.04241+27.22730\ttest-rmse:1794.37014+121.84255\n",
            "[50]\ttrain-rmse:994.58297+11.16833\ttest-rmse:1125.33848+62.60251\n",
            "[100]\ttrain-rmse:735.13146+11.01308\ttest-rmse:952.55339+63.27431\n",
            "[150]\ttrain-rmse:610.64517+10.87250\ttest-rmse:898.23079+63.07990\n",
            "[200]\ttrain-rmse:531.36289+10.07592\ttest-rmse:872.89412+64.94517\n",
            "[250]\ttrain-rmse:475.41187+9.74870\ttest-rmse:859.89004+64.90888\n",
            "[300]\ttrain-rmse:430.77856+9.76133\ttest-rmse:851.52118+66.14669\n",
            "[350]\ttrain-rmse:391.90803+8.35301\ttest-rmse:846.21877+65.49757\n",
            "[400]\ttrain-rmse:358.39201+6.19893\ttest-rmse:842.34808+64.77448\n",
            "[450]\ttrain-rmse:328.28907+5.40393\ttest-rmse:839.42849+64.59975\n",
            "[500]\ttrain-rmse:302.19732+4.47286\ttest-rmse:837.54699+64.69449\n",
            "[550]\ttrain-rmse:279.13203+4.19723\ttest-rmse:835.30896+64.47139\n",
            "[600]\ttrain-rmse:258.63941+3.81776\ttest-rmse:834.62404+63.95495\n",
            "[650]\ttrain-rmse:239.77519+3.50374\ttest-rmse:833.11165+64.29563\n",
            "[672]\ttrain-rmse:232.35092+3.13144\ttest-rmse:833.28161+64.54681\n"
          ]
        },
        {
          "metadata": {
            "tags": null
          },
          "name": "stderr",
          "output_type": "stream",
          "text": [
            "[I 2025-01-28 16:57:13,246] Trial 31 finished with value: 833.0427762721778 and parameters: {'booster': 'gbtree', 'learning_rate': 0.029818952168980756, 'max_depth': 6, 'gamma': 0.3155547471042072, 'subsample': 0.6323281291127821, 'reg_alpha': 3.2930853994664357e-07, 'reg_lambda': 5.136280626695056e-08, 'colsample_bytree': 0.9819531948296989, 'min_child_weight': 0, 'n_estimators': 1128}. Best is trial 22 with value: 830.1508501552291.\n"
          ]
        },
        {
          "metadata": {
            "tags": null
          },
          "name": "stdout",
          "output_type": "stream",
          "text": [
            "[0]\ttrain-rmse:1808.65484+28.01154\ttest-rmse:1805.66724+122.05618\n",
            "[50]\ttrain-rmse:1258.07387+9.46863\ttest-rmse:1335.06109+63.55192\n",
            "[100]\ttrain-rmse:982.43243+14.75946\ttest-rmse:1118.23480+53.80270\n",
            "[150]\ttrain-rmse:823.59164+16.15066\ttest-rmse:1007.49605+55.59801\n",
            "[200]\ttrain-rmse:723.61116+14.12504\ttest-rmse:946.88094+60.64605\n",
            "[250]\ttrain-rmse:654.57373+12.19126\ttest-rmse:913.63380+61.71380\n",
            "[300]\ttrain-rmse:603.43489+12.01269\ttest-rmse:891.98532+62.84154\n",
            "[350]\ttrain-rmse:562.73758+10.54079\ttest-rmse:877.66336+63.76265\n",
            "[400]\ttrain-rmse:527.11372+10.03107\ttest-rmse:868.16430+64.19524\n",
            "[450]\ttrain-rmse:497.48812+9.13598\ttest-rmse:861.29892+64.41686\n",
            "[500]\ttrain-rmse:471.00894+7.61798\ttest-rmse:856.87182+65.19420\n",
            "[550]\ttrain-rmse:446.69423+6.87213\ttest-rmse:852.23246+65.48158\n",
            "[600]\ttrain-rmse:425.10032+6.35010\ttest-rmse:849.02681+65.65567\n",
            "[650]\ttrain-rmse:404.71736+6.44707\ttest-rmse:846.08644+66.01957\n",
            "[700]\ttrain-rmse:386.08512+6.12433\ttest-rmse:844.15158+65.88953\n",
            "[750]\ttrain-rmse:368.70307+5.53082\ttest-rmse:842.60364+65.58229\n",
            "[800]\ttrain-rmse:352.42852+4.99757\ttest-rmse:840.96018+65.46645\n",
            "[850]\ttrain-rmse:337.39243+4.73461\ttest-rmse:839.31599+65.36914\n",
            "[900]\ttrain-rmse:323.12497+4.43551\ttest-rmse:838.06325+65.00934\n",
            "[950]\ttrain-rmse:309.68236+4.35872\ttest-rmse:836.92890+64.88942\n",
            "[1000]\ttrain-rmse:296.67110+4.01062\ttest-rmse:835.84228+64.67961\n",
            "[1050]\ttrain-rmse:285.29088+4.11224\ttest-rmse:835.12213+64.62200\n",
            "[1100]\ttrain-rmse:273.86576+3.76615\ttest-rmse:834.78707+64.75379\n",
            "[1150]\ttrain-rmse:263.20942+3.79150\ttest-rmse:834.34761+64.58269\n",
            "[1154]\ttrain-rmse:262.35382+3.82235\ttest-rmse:834.28543+64.57890\n"
          ]
        },
        {
          "metadata": {
            "tags": null
          },
          "name": "stderr",
          "output_type": "stream",
          "text": [
            "[I 2025-01-28 16:57:36,692] Trial 32 finished with value: 834.1846418921853 and parameters: {'booster': 'gbtree', 'learning_rate': 0.015618122651350177, 'max_depth': 6, 'gamma': 0.316483762975527, 'subsample': 0.5803345022549977, 'reg_alpha': 6.58672691486907e-07, 'reg_lambda': 1.3310107576324464e-07, 'colsample_bytree': 0.9618039435308163, 'min_child_weight': 1, 'n_estimators': 1277}. Best is trial 22 with value: 830.1508501552291.\n"
          ]
        },
        {
          "metadata": {
            "tags": null
          },
          "name": "stdout",
          "output_type": "stream",
          "text": [
            "[0]\ttrain-rmse:1816.05355+29.08132\ttest-rmse:1812.65450+122.19997\n",
            "[50]\ttrain-rmse:1520.89677+13.87123\ttest-rmse:1554.81844+78.04494\n",
            "[100]\ttrain-rmse:1340.17142+10.43390\ttest-rmse:1395.93592+69.72571\n",
            "[150]\ttrain-rmse:1222.07551+12.35707\ttest-rmse:1295.30468+68.76946\n",
            "[200]\ttrain-rmse:1136.55361+11.45815\ttest-rmse:1222.10690+70.26415\n",
            "[250]\ttrain-rmse:1074.28893+12.04106\ttest-rmse:1171.24069+70.48197\n",
            "[300]\ttrain-rmse:1021.19747+12.70264\ttest-rmse:1129.63544+69.64571\n",
            "[350]\ttrain-rmse:978.03664+12.05018\ttest-rmse:1095.61160+70.63680\n",
            "[400]\ttrain-rmse:938.86543+11.69779\ttest-rmse:1065.52374+70.14630\n",
            "[450]\ttrain-rmse:906.12564+11.83939\ttest-rmse:1041.53102+70.95017\n",
            "[500]\ttrain-rmse:877.74060+12.33008\ttest-rmse:1022.18041+69.93089\n",
            "[550]\ttrain-rmse:852.22429+12.38947\ttest-rmse:1004.74998+70.01301\n",
            "[600]\ttrain-rmse:829.48566+11.91425\ttest-rmse:989.27533+70.23028\n",
            "[650]\ttrain-rmse:809.38134+11.80661\ttest-rmse:976.42805+69.79234\n",
            "[700]\ttrain-rmse:791.20380+11.08463\ttest-rmse:965.17601+70.15065\n",
            "[750]\ttrain-rmse:774.61203+11.19269\ttest-rmse:956.04156+69.67157\n",
            "[800]\ttrain-rmse:758.99205+11.31197\ttest-rmse:946.10788+69.91895\n",
            "[850]\ttrain-rmse:744.37625+11.12138\ttest-rmse:937.70623+69.38653\n",
            "[900]\ttrain-rmse:730.79966+11.20527\ttest-rmse:930.93646+69.53799\n",
            "[950]\ttrain-rmse:718.39589+11.01104\ttest-rmse:924.68560+69.71533\n",
            "[1000]\ttrain-rmse:706.40363+10.62048\ttest-rmse:918.53989+69.50370\n",
            "[1050]\ttrain-rmse:695.48152+10.69578\ttest-rmse:913.56127+69.09963\n",
            "[1100]\ttrain-rmse:684.87118+10.31055\ttest-rmse:908.94372+69.20958\n",
            "[1150]\ttrain-rmse:674.20590+10.20091\ttest-rmse:904.05751+68.88366\n",
            "[1200]\ttrain-rmse:664.13100+9.93365\ttest-rmse:899.75554+69.17577\n",
            "[1250]\ttrain-rmse:654.78656+9.77291\ttest-rmse:896.01460+69.66947\n",
            "[1300]\ttrain-rmse:645.56956+9.56220\ttest-rmse:892.63238+69.62156\n",
            "[1350]\ttrain-rmse:637.36970+9.39444\ttest-rmse:889.72395+69.43668\n",
            "[1400]\ttrain-rmse:629.02916+9.52058\ttest-rmse:887.34803+69.07065\n",
            "[1450]\ttrain-rmse:620.92521+9.28257\ttest-rmse:884.71898+69.09169\n",
            "[1500]\ttrain-rmse:613.03942+9.29623\ttest-rmse:882.10167+68.93594\n",
            "[1550]\ttrain-rmse:605.13841+9.08037\ttest-rmse:879.20593+69.08769\n",
            "[1600]\ttrain-rmse:597.87203+9.04551\ttest-rmse:877.04085+68.62835\n",
            "[1650]\ttrain-rmse:590.69795+9.03273\ttest-rmse:875.42021+68.56028\n",
            "[1700]\ttrain-rmse:583.81115+9.08535\ttest-rmse:873.48168+68.03714\n",
            "[1750]\ttrain-rmse:577.34011+8.91102\ttest-rmse:871.93219+68.26176\n",
            "[1800]\ttrain-rmse:570.69974+8.83289\ttest-rmse:870.30545+68.22615\n",
            "[1810]\ttrain-rmse:569.34327+8.86542\ttest-rmse:870.02689+68.27949\n"
          ]
        },
        {
          "metadata": {
            "tags": null
          },
          "name": "stderr",
          "output_type": "stream",
          "text": [
            "[I 2025-01-28 16:57:53,570] Trial 33 finished with value: 870.0268875331897 and parameters: {'booster': 'gbtree', 'learning_rate': 0.009587319077195346, 'max_depth': 4, 'gamma': 0.01644876056133174, 'subsample': 0.6760493977684506, 'reg_alpha': 4.6293360940812384e-08, 'reg_lambda': 1.5543020920326096e-06, 'colsample_bytree': 0.8515710806314001, 'min_child_weight': 0, 'n_estimators': 1811}. Best is trial 22 with value: 830.1508501552291.\n"
          ]
        },
        {
          "metadata": {
            "tags": null
          },
          "name": "stdout",
          "output_type": "stream",
          "text": [
            "[0]\ttrain-rmse:1776.49812+26.66314\ttest-rmse:1775.31696+119.59663\n",
            "[50]\ttrain-rmse:882.27250+15.62913\ttest-rmse:1039.34759+63.83427\n",
            "[100]\ttrain-rmse:690.86822+14.40384\ttest-rmse:928.08897+66.01907\n",
            "[150]\ttrain-rmse:596.35551+11.69065\ttest-rmse:892.02927+65.62518\n",
            "[200]\ttrain-rmse:528.62247+11.83197\ttest-rmse:875.86591+67.29298\n",
            "[250]\ttrain-rmse:473.94492+12.12976\ttest-rmse:869.43851+67.64445\n",
            "[300]\ttrain-rmse:428.85764+11.26047\ttest-rmse:866.30088+66.44163\n",
            "[350]\ttrain-rmse:390.89298+9.67284\ttest-rmse:863.84227+65.49717\n",
            "[355]\ttrain-rmse:387.08738+9.33302\ttest-rmse:863.76733+65.55933\n"
          ]
        },
        {
          "metadata": {
            "tags": null
          },
          "name": "stderr",
          "output_type": "stream",
          "text": [
            "[I 2025-01-28 16:58:00,086] Trial 34 finished with value: 863.5554113089547 and parameters: {'booster': 'gbtree', 'learning_rate': 0.05596332869380215, 'max_depth': 5, 'gamma': 0.899800756563205, 'subsample': 0.6522523711628997, 'reg_alpha': 4.166372291819849e-06, 'reg_lambda': 1.3212469348660392e-08, 'colsample_bytree': 0.9549892360195347, 'min_child_weight': 2, 'n_estimators': 2028}. Best is trial 22 with value: 830.1508501552291.\n"
          ]
        },
        {
          "metadata": {
            "tags": null
          },
          "name": "stdout",
          "output_type": "stream",
          "text": [
            "[0]\ttrain-rmse:1789.96619+29.28765\ttest-rmse:1788.63798+119.01399\n",
            "[50]\ttrain-rmse:945.33526+6.11041\ttest-rmse:1060.88392+70.40194\n",
            "[100]\ttrain-rmse:700.62079+12.15414\ttest-rmse:904.81780+68.98018\n",
            "[150]\ttrain-rmse:596.39331+11.89107\ttest-rmse:867.04740+68.31402\n",
            "[200]\ttrain-rmse:528.80026+11.28735\ttest-rmse:850.76939+67.23232\n",
            "[250]\ttrain-rmse:478.48624+10.28033\ttest-rmse:842.94033+65.90663\n",
            "[300]\ttrain-rmse:433.85078+9.10334\ttest-rmse:838.10001+66.31352\n",
            "[350]\ttrain-rmse:397.37994+8.87561\ttest-rmse:833.91552+64.72932\n",
            "[400]\ttrain-rmse:364.96681+7.81168\ttest-rmse:832.37517+64.03595\n",
            "[450]\ttrain-rmse:335.01907+6.97278\ttest-rmse:830.54479+63.86028\n",
            "[500]\ttrain-rmse:309.24933+7.05146\ttest-rmse:829.32210+63.50332\n",
            "[550]\ttrain-rmse:286.55391+6.52682\ttest-rmse:828.87038+63.06737\n",
            "[600]\ttrain-rmse:266.28536+6.25773\ttest-rmse:827.84960+63.01721\n",
            "[616]\ttrain-rmse:260.08656+5.91689\ttest-rmse:827.80986+63.09927\n"
          ]
        },
        {
          "metadata": {
            "tags": null
          },
          "name": "stderr",
          "output_type": "stream",
          "text": [
            "[I 2025-01-28 16:58:11,802] Trial 35 finished with value: 827.7384825403853 and parameters: {'booster': 'gbtree', 'learning_rate': 0.03063115585972539, 'max_depth': 7, 'gamma': 0.18862604506837474, 'subsample': 0.7266590983027573, 'reg_alpha': 3.3220136069889057e-07, 'reg_lambda': 4.0026215922675e-08, 'colsample_bytree': 0.8773046061606221, 'min_child_weight': 6, 'n_estimators': 2408}. Best is trial 35 with value: 827.7384825403853.\n"
          ]
        },
        {
          "metadata": {
            "tags": null
          },
          "name": "stdout",
          "output_type": "stream",
          "text": [
            "[0]\ttrain-rmse:1664.22004+37.48672\ttest-rmse:1669.25802+97.38901\n",
            "[50]\ttrain-rmse:512.33500+18.10603\ttest-rmse:872.44271+70.50704\n",
            "[100]\ttrain-rmse:347.21085+8.98468\ttest-rmse:859.89747+76.61559\n",
            "[139]\ttrain-rmse:266.28437+7.79930\ttest-rmse:860.71298+74.80325\n"
          ]
        },
        {
          "metadata": {
            "tags": null
          },
          "name": "stderr",
          "output_type": "stream",
          "text": [
            "[I 2025-01-28 16:58:13,808] Trial 36 finished with value: 859.0593254339798 and parameters: {'booster': 'gbtree', 'learning_rate': 0.1453473989610982, 'max_depth': 7, 'gamma': 0.0007758532009229628, 'subsample': 0.7287257471661741, 'reg_alpha': 5.2218663313797935e-08, 'reg_lambda': 3.196451873218842e-08, 'colsample_bytree': 0.7232267981071143, 'min_child_weight': 6, 'n_estimators': 2442}. Best is trial 35 with value: 827.7384825403853.\n"
          ]
        },
        {
          "metadata": {
            "tags": null
          },
          "name": "stdout",
          "output_type": "stream",
          "text": [
            "[0]\ttrain-rmse:1822.14588+29.36220\ttest-rmse:1818.50092+123.02418\n",
            "[50]\ttrain-rmse:1765.26399+26.86727\ttest-rmse:1766.15611+116.84295\n",
            "[100]\ttrain-rmse:1711.29691+24.62108\ttest-rmse:1716.63391+111.03108\n",
            "[150]\ttrain-rmse:1660.14766+22.66770\ttest-rmse:1670.07480+105.62471\n",
            "[200]\ttrain-rmse:1611.47641+20.99791\ttest-rmse:1625.66184+101.12131\n",
            "[250]\ttrain-rmse:1566.96376+19.29355\ttest-rmse:1585.63140+97.02483\n",
            "[300]\ttrain-rmse:1523.86583+17.91228\ttest-rmse:1547.10953+93.19954\n",
            "[350]\ttrain-rmse:1482.88765+16.74007\ttest-rmse:1510.51008+89.84441\n",
            "[400]\ttrain-rmse:1444.23893+15.89279\ttest-rmse:1476.16245+86.70932\n",
            "[450]\ttrain-rmse:1406.72957+14.94751\ttest-rmse:1442.72364+83.95762\n",
            "[500]\ttrain-rmse:1371.79330+13.87357\ttest-rmse:1411.96485+82.04032\n",
            "[550]\ttrain-rmse:1339.14809+13.03064\ttest-rmse:1383.44167+80.08080\n",
            "[600]\ttrain-rmse:1307.25971+12.62762\ttest-rmse:1355.80155+78.42511\n",
            "[650]\ttrain-rmse:1277.05436+12.29475\ttest-rmse:1329.77043+76.53407\n",
            "[700]\ttrain-rmse:1249.33076+11.83340\ttest-rmse:1305.85217+74.67635\n",
            "[750]\ttrain-rmse:1222.95654+11.44460\ttest-rmse:1283.15959+73.67779\n",
            "[800]\ttrain-rmse:1197.75912+11.41167\ttest-rmse:1261.77135+72.27842\n",
            "[850]\ttrain-rmse:1173.18752+11.11170\ttest-rmse:1241.10305+71.56698\n",
            "[900]\ttrain-rmse:1150.25856+11.01420\ttest-rmse:1222.10379+70.86509\n",
            "[950]\ttrain-rmse:1128.14410+10.63643\ttest-rmse:1203.62790+70.76069\n",
            "[1000]\ttrain-rmse:1107.44380+10.60382\ttest-rmse:1186.72509+70.38288\n",
            "[1050]\ttrain-rmse:1087.36721+10.54855\ttest-rmse:1170.27289+70.22714\n",
            "[1100]\ttrain-rmse:1068.12014+10.47540\ttest-rmse:1154.63749+69.78970\n",
            "[1150]\ttrain-rmse:1049.82997+10.45582\ttest-rmse:1140.13979+69.65312\n",
            "[1200]\ttrain-rmse:1032.34664+10.59864\ttest-rmse:1126.17417+69.57631\n",
            "[1250]\ttrain-rmse:1015.51899+10.73926\ttest-rmse:1112.82001+69.50265\n",
            "[1300]\ttrain-rmse:999.07528+10.85948\ttest-rmse:1100.11257+69.50874\n",
            "[1350]\ttrain-rmse:984.00251+10.89187\ttest-rmse:1088.51084+69.66093\n",
            "[1400]\ttrain-rmse:969.36853+10.90509\ttest-rmse:1077.23056+69.73276\n",
            "[1450]\ttrain-rmse:955.25483+11.11840\ttest-rmse:1066.64591+69.51036\n",
            "[1500]\ttrain-rmse:941.81188+11.34412\ttest-rmse:1056.84376+69.36728\n",
            "[1550]\ttrain-rmse:928.42592+11.42905\ttest-rmse:1046.80900+69.38578\n",
            "[1600]\ttrain-rmse:915.73544+11.78433\ttest-rmse:1037.54700+69.37510\n",
            "[1650]\ttrain-rmse:903.36941+12.03309\ttest-rmse:1028.76597+69.46452\n",
            "[1700]\ttrain-rmse:891.50487+12.19311\ttest-rmse:1020.30961+69.61173\n",
            "[1750]\ttrain-rmse:880.21031+12.39327\ttest-rmse:1012.49144+69.59045\n",
            "[1800]\ttrain-rmse:869.27266+12.69919\ttest-rmse:1005.14170+69.57533\n",
            "[1850]\ttrain-rmse:858.48691+12.76382\ttest-rmse:997.40325+69.67086\n",
            "[1900]\ttrain-rmse:848.13272+12.92363\ttest-rmse:990.29393+69.67749\n",
            "[1950]\ttrain-rmse:838.04142+13.17867\ttest-rmse:983.64248+69.70236\n",
            "[2000]\ttrain-rmse:828.60132+13.40372\ttest-rmse:977.15630+69.87027\n",
            "[2050]\ttrain-rmse:819.52146+13.53984\ttest-rmse:971.26783+69.77054\n",
            "[2100]\ttrain-rmse:810.59632+13.75782\ttest-rmse:965.36269+69.73103\n",
            "[2150]\ttrain-rmse:801.90177+14.03341\ttest-rmse:959.87404+69.70559\n",
            "[2200]\ttrain-rmse:793.75544+14.13406\ttest-rmse:954.93524+69.76295\n",
            "[2250]\ttrain-rmse:785.87511+14.16386\ttest-rmse:950.13876+69.74850\n",
            "[2300]\ttrain-rmse:778.08879+14.27094\ttest-rmse:945.28315+69.63343\n",
            "[2350]\ttrain-rmse:770.63466+14.18246\ttest-rmse:940.89865+69.59631\n",
            "[2400]\ttrain-rmse:763.41238+14.20492\ttest-rmse:936.71200+69.60974\n",
            "[2450]\ttrain-rmse:756.54330+14.14592\ttest-rmse:932.86212+69.69616\n",
            "[2500]\ttrain-rmse:749.92304+14.17167\ttest-rmse:929.20997+69.78152\n",
            "[2550]\ttrain-rmse:743.53531+14.15100\ttest-rmse:925.86359+69.55981\n",
            "[2600]\ttrain-rmse:737.20006+14.20071\ttest-rmse:922.61911+69.58049\n",
            "[2650]\ttrain-rmse:731.12014+14.21797\ttest-rmse:919.65159+69.64430\n",
            "[2700]\ttrain-rmse:725.15629+14.05654\ttest-rmse:916.55584+69.67279\n",
            "[2750]\ttrain-rmse:719.40048+14.12689\ttest-rmse:913.52006+69.56332\n",
            "[2800]\ttrain-rmse:713.88723+14.10851\ttest-rmse:910.82396+69.60286\n",
            "[2850]\ttrain-rmse:708.41227+14.17385\ttest-rmse:908.07173+69.70898\n",
            "[2900]\ttrain-rmse:703.26798+14.25801\ttest-rmse:905.61355+69.79570\n",
            "[2950]\ttrain-rmse:698.27963+14.24145\ttest-rmse:903.24568+69.63406\n",
            "[3000]\ttrain-rmse:693.05281+14.21632\ttest-rmse:900.89676+69.71571\n",
            "[3050]\ttrain-rmse:688.14915+14.13279\ttest-rmse:898.78042+69.68980\n",
            "[3100]\ttrain-rmse:683.39815+14.19376\ttest-rmse:896.56005+69.69811\n",
            "[3150]\ttrain-rmse:678.90649+14.23765\ttest-rmse:894.53513+69.62456\n",
            "[3200]\ttrain-rmse:674.39057+14.25350\ttest-rmse:892.56555+69.62626\n",
            "[3250]\ttrain-rmse:670.06075+14.21410\ttest-rmse:890.76923+69.74346\n",
            "[3271]\ttrain-rmse:668.25677+14.20995\ttest-rmse:890.04552+69.70796\n"
          ]
        },
        {
          "metadata": {
            "tags": null
          },
          "name": "stderr",
          "output_type": "stream",
          "text": [
            "[I 2025-01-28 16:59:22,112] Trial 37 finished with value: 890.0455164564424 and parameters: {'booster': 'gbtree', 'learning_rate': 0.001067783744464241, 'max_depth': 7, 'gamma': 0.013337507771966534, 'subsample': 0.7970564583033319, 'reg_alpha': 2.6045483029825637e-07, 'reg_lambda': 4.5011281192463046e-07, 'colsample_bytree': 0.8026363944559928, 'min_child_weight': 7, 'n_estimators': 3272}. Best is trial 35 with value: 827.7384825403853.\n"
          ]
        },
        {
          "metadata": {
            "tags": null
          },
          "name": "stdout",
          "output_type": "stream",
          "text": [
            "[0]\ttrain-rmse:1802.64709+28.61113\ttest-rmse:1801.00096+122.17827\n",
            "[50]\ttrain-rmse:1130.42513+16.58140\ttest-rmse:1209.67310+66.42204\n",
            "[100]\ttrain-rmse:856.19926+16.33922\ttest-rmse:999.16719+64.47045\n",
            "[150]\ttrain-rmse:724.23397+17.41601\ttest-rmse:920.78952+66.00466\n",
            "[200]\ttrain-rmse:649.71423+16.17792\ttest-rmse:888.81715+67.78447\n",
            "[250]\ttrain-rmse:597.59853+17.09790\ttest-rmse:873.60847+66.80388\n",
            "[300]\ttrain-rmse:556.13555+16.77914\ttest-rmse:864.85941+67.15342\n",
            "[350]\ttrain-rmse:520.51437+15.33470\ttest-rmse:857.86535+67.02971\n",
            "[400]\ttrain-rmse:488.95807+14.34392\ttest-rmse:851.54808+66.62939\n",
            "[450]\ttrain-rmse:461.26721+13.25230\ttest-rmse:846.59869+67.11240\n",
            "[500]\ttrain-rmse:436.34066+13.24500\ttest-rmse:843.88628+67.97890\n",
            "[550]\ttrain-rmse:412.73325+12.97603\ttest-rmse:841.22624+67.68445\n",
            "[600]\ttrain-rmse:391.40107+13.08520\ttest-rmse:839.23943+68.31260\n",
            "[633]\ttrain-rmse:378.94120+13.16471\ttest-rmse:839.07824+67.75231\n"
          ]
        },
        {
          "metadata": {
            "tags": null
          },
          "name": "stderr",
          "output_type": "stream",
          "text": [
            "[I 2025-01-28 16:59:35,218] Trial 38 finished with value: 838.959903328138 and parameters: {'booster': 'gbtree', 'learning_rate': 0.018903470930524167, 'max_depth': 8, 'gamma': 0.1814276316145972, 'subsample': 0.47343155136382037, 'reg_alpha': 4.212712074098043e-05, 'reg_lambda': 6.1343293155714275e-06, 'colsample_bytree': 0.8831923008665519, 'min_child_weight': 6, 'n_estimators': 2393}. Best is trial 35 with value: 827.7384825403853.\n"
          ]
        },
        {
          "metadata": {
            "tags": null
          },
          "name": "stdout",
          "output_type": "stream",
          "text": [
            "[0]\ttrain-rmse:1813.71515+29.35669\ttest-rmse:1810.32010+121.80418\n",
            "[50]\ttrain-rmse:1526.23647+19.25651\ttest-rmse:1551.31552+87.15468\n",
            "[100]\ttrain-rmse:1319.75117+13.07420\ttest-rmse:1368.58806+71.90400\n",
            "[150]\ttrain-rmse:1188.49313+13.19573\ttest-rmse:1259.36121+66.80112\n",
            "[200]\ttrain-rmse:1083.72854+14.06481\ttest-rmse:1173.14327+62.77321\n",
            "[250]\ttrain-rmse:1006.35612+13.37332\ttest-rmse:1113.57599+62.05708\n",
            "[300]\ttrain-rmse:942.14926+14.79546\ttest-rmse:1064.80413+60.79038\n",
            "[350]\ttrain-rmse:893.02519+14.07551\ttest-rmse:1028.00940+63.08553\n",
            "[400]\ttrain-rmse:848.87841+13.76981\ttest-rmse:995.46518+63.18828\n",
            "[450]\ttrain-rmse:816.61938+13.09000\ttest-rmse:976.45438+64.01138\n",
            "[500]\ttrain-rmse:786.48683+13.25077\ttest-rmse:956.21697+63.78780\n",
            "[550]\ttrain-rmse:762.45699+13.22891\ttest-rmse:943.58595+63.89293\n",
            "[600]\ttrain-rmse:741.71600+13.52628\ttest-rmse:932.76195+63.96208\n",
            "[650]\ttrain-rmse:723.05283+13.60580\ttest-rmse:924.42195+63.83441\n",
            "[700]\ttrain-rmse:706.40281+13.66532\ttest-rmse:917.11977+63.82056\n",
            "[750]\ttrain-rmse:691.05262+13.27094\ttest-rmse:910.65710+63.68323\n",
            "[800]\ttrain-rmse:677.18844+13.25369\ttest-rmse:906.39527+63.57845\n",
            "[850]\ttrain-rmse:663.58887+12.98487\ttest-rmse:902.08522+63.73667\n",
            "[900]\ttrain-rmse:651.44511+13.06390\ttest-rmse:898.10502+63.40380\n",
            "[950]\ttrain-rmse:640.19232+13.08154\ttest-rmse:894.11808+63.31237\n",
            "[1000]\ttrain-rmse:628.65081+12.45903\ttest-rmse:890.56132+62.72169\n",
            "[1050]\ttrain-rmse:618.34803+12.37330\ttest-rmse:888.71169+61.97583\n",
            "[1100]\ttrain-rmse:607.93639+11.95502\ttest-rmse:886.38066+62.29487\n",
            "[1150]\ttrain-rmse:598.18757+11.81891\ttest-rmse:883.78654+61.90132\n",
            "[1200]\ttrain-rmse:588.31949+11.42252\ttest-rmse:881.30315+61.82856\n",
            "[1250]\ttrain-rmse:579.05067+10.80775\ttest-rmse:879.69086+61.94691\n",
            "[1300]\ttrain-rmse:570.85640+10.62623\ttest-rmse:878.08258+61.09391\n",
            "[1350]\ttrain-rmse:562.77244+10.56867\ttest-rmse:876.53171+61.16367\n",
            "[1364]\ttrain-rmse:560.65986+10.50931\ttest-rmse:876.47305+61.31268\n"
          ]
        },
        {
          "metadata": {
            "tags": null
          },
          "name": "stderr",
          "output_type": "stream",
          "text": [
            "[I 2025-01-28 16:59:48,491] Trial 39 finished with value: 876.4580787770781 and parameters: {'booster': 'gbtree', 'learning_rate': 0.009213649075520042, 'max_depth': 6, 'gamma': 0.0027250737724627077, 'subsample': 0.5521912218419729, 'reg_alpha': 4.559054202239569e-06, 'reg_lambda': 2.698413724820899e-07, 'colsample_bytree': 0.3352843611742784, 'min_child_weight': 6, 'n_estimators': 1843}. Best is trial 35 with value: 827.7384825403853.\n"
          ]
        },
        {
          "metadata": {
            "tags": null
          },
          "name": "stdout",
          "output_type": "stream",
          "text": [
            "[0]\ttrain-rmse:1817.75103+29.32361\ttest-rmse:1814.36775+122.48184\n",
            "[50]\ttrain-rmse:1599.53041+20.89053\ttest-rmse:1619.34094+98.57459\n",
            "[100]\ttrain-rmse:1424.91277+16.53570\ttest-rmse:1464.44550+81.09802\n",
            "[150]\ttrain-rmse:1285.87799+15.00528\ttest-rmse:1347.12008+70.49011\n",
            "[200]\ttrain-rmse:1169.29137+13.04053\ttest-rmse:1252.07005+65.30311\n",
            "[250]\ttrain-rmse:1076.77569+12.26690\ttest-rmse:1180.70504+61.80847\n",
            "[300]\ttrain-rmse:997.24120+11.63419\ttest-rmse:1120.59510+60.39736\n",
            "[350]\ttrain-rmse:929.95010+11.52338\ttest-rmse:1071.59857+60.86221\n",
            "[400]\ttrain-rmse:872.52833+11.29927\ttest-rmse:1033.14455+60.57314\n",
            "[450]\ttrain-rmse:823.61521+11.37918\ttest-rmse:1002.73342+60.18893\n",
            "[500]\ttrain-rmse:780.87460+11.57330\ttest-rmse:976.89315+59.98943\n",
            "[550]\ttrain-rmse:744.32466+11.75947\ttest-rmse:957.52908+59.48838\n",
            "[600]\ttrain-rmse:711.30627+12.14857\ttest-rmse:940.51415+58.83587\n",
            "[650]\ttrain-rmse:681.07821+12.31048\ttest-rmse:926.06491+58.36420\n",
            "[700]\ttrain-rmse:655.09152+12.22247\ttest-rmse:914.60212+58.29356\n",
            "[750]\ttrain-rmse:631.08823+12.33253\ttest-rmse:904.90145+58.10582\n",
            "[800]\ttrain-rmse:610.39961+12.59122\ttest-rmse:897.29547+57.62009\n",
            "[850]\ttrain-rmse:590.91565+12.74260\ttest-rmse:890.90411+57.08892\n",
            "[900]\ttrain-rmse:573.78592+12.98647\ttest-rmse:886.01533+56.45752\n",
            "[950]\ttrain-rmse:557.83741+12.66354\ttest-rmse:880.61302+56.06999\n",
            "[1000]\ttrain-rmse:543.23009+12.64383\ttest-rmse:876.38455+55.67740\n",
            "[1050]\ttrain-rmse:530.50625+12.84723\ttest-rmse:873.31150+55.24168\n",
            "[1100]\ttrain-rmse:518.08446+12.96356\ttest-rmse:870.56008+55.02022\n",
            "[1150]\ttrain-rmse:506.77874+12.74522\ttest-rmse:867.57533+54.96872\n",
            "[1200]\ttrain-rmse:496.37132+12.74252\ttest-rmse:865.22672+54.86742\n",
            "[1250]\ttrain-rmse:486.51441+12.57631\ttest-rmse:862.99392+54.87366\n",
            "[1300]\ttrain-rmse:477.08930+12.39934\ttest-rmse:860.86082+54.97107\n",
            "[1350]\ttrain-rmse:468.81006+12.28073\ttest-rmse:859.05929+54.96115\n",
            "[1400]\ttrain-rmse:460.37640+12.18824\ttest-rmse:857.36688+54.89233\n",
            "[1450]\ttrain-rmse:452.26589+12.00810\ttest-rmse:856.11404+54.64301\n",
            "[1500]\ttrain-rmse:444.19948+11.49573\ttest-rmse:854.96889+54.51267\n",
            "[1550]\ttrain-rmse:436.74092+11.28192\ttest-rmse:853.82783+54.48407\n",
            "[1600]\ttrain-rmse:429.39575+10.85733\ttest-rmse:852.74117+54.36825\n",
            "[1650]\ttrain-rmse:422.01163+10.66336\ttest-rmse:851.88699+54.18288\n",
            "[1700]\ttrain-rmse:415.04617+10.10707\ttest-rmse:850.95280+54.19682\n",
            "[1750]\ttrain-rmse:408.26657+9.65766\ttest-rmse:850.07104+54.15553\n",
            "[1800]\ttrain-rmse:401.56075+9.59826\ttest-rmse:849.36296+54.01254\n",
            "[1850]\ttrain-rmse:395.59442+9.41229\ttest-rmse:848.78364+53.90727\n",
            "[1900]\ttrain-rmse:389.50693+8.88414\ttest-rmse:848.16417+53.90524\n",
            "[1950]\ttrain-rmse:383.62382+8.64972\ttest-rmse:847.56053+53.80294\n",
            "[2000]\ttrain-rmse:378.18165+8.32340\ttest-rmse:847.07483+53.71647\n",
            "[2050]\ttrain-rmse:372.83533+8.18165\ttest-rmse:846.59131+53.68418\n",
            "[2100]\ttrain-rmse:367.25627+7.98065\ttest-rmse:846.20672+53.54980\n",
            "[2128]\ttrain-rmse:364.10394+7.89881\ttest-rmse:845.85707+53.55302\n"
          ]
        },
        {
          "metadata": {
            "tags": null
          },
          "name": "stderr",
          "output_type": "stream",
          "text": [
            "[I 2025-01-28 17:00:25,618] Trial 40 finished with value: 845.8570655231011 and parameters: {'booster': 'gbtree', 'learning_rate': 0.004605171584945109, 'max_depth': 7, 'gamma': 0.18018231057362452, 'subsample': 0.9317555674064228, 'reg_alpha': 2.232987134974607e-08, 'reg_lambda': 6.518482037091341e-07, 'colsample_bytree': 0.5102356798111994, 'min_child_weight': 4, 'n_estimators': 2129}. Best is trial 35 with value: 827.7384825403853.\n"
          ]
        },
        {
          "metadata": {
            "tags": null
          },
          "name": "stdout",
          "output_type": "stream",
          "text": [
            "[0]\ttrain-rmse:1799.05867+27.81262\ttest-rmse:1796.81829+121.55288\n",
            "[50]\ttrain-rmse:1092.62636+11.28807\ttest-rmse:1164.60311+69.48036\n",
            "[100]\ttrain-rmse:848.86840+11.66115\ttest-rmse:978.86892+71.05504\n",
            "[150]\ttrain-rmse:735.87444+12.61063\ttest-rmse:914.57298+72.78975\n",
            "[200]\ttrain-rmse:668.02147+12.81457\ttest-rmse:883.99193+72.80994\n",
            "[250]\ttrain-rmse:619.50385+13.26951\ttest-rmse:867.32088+72.43847\n",
            "[300]\ttrain-rmse:578.59898+13.08221\ttest-rmse:858.00982+71.67633\n",
            "[350]\ttrain-rmse:545.55207+11.85190\ttest-rmse:850.54614+70.84603\n",
            "[400]\ttrain-rmse:513.77395+10.60711\ttest-rmse:845.28606+69.13160\n",
            "[450]\ttrain-rmse:485.97489+8.79460\ttest-rmse:841.21273+68.71174\n",
            "[500]\ttrain-rmse:462.72681+9.00315\ttest-rmse:839.10658+68.10803\n",
            "[550]\ttrain-rmse:439.55098+8.11013\ttest-rmse:836.57569+67.39247\n",
            "[598]\ttrain-rmse:419.82206+8.48151\ttest-rmse:835.42449+66.97380\n"
          ]
        },
        {
          "metadata": {
            "tags": null
          },
          "name": "stderr",
          "output_type": "stream",
          "text": [
            "[I 2025-01-28 17:00:35,524] Trial 41 finished with value: 835.1324317980931 and parameters: {'booster': 'gbtree', 'learning_rate': 0.026585042819787595, 'max_depth': 6, 'gamma': 0.3404586361626452, 'subsample': 0.6737940949819062, 'reg_alpha': 1.3497041989374086e-06, 'reg_lambda': 4.925592188892952e-08, 'colsample_bytree': 0.9445851329692715, 'min_child_weight': 7, 'n_estimators': 1301}. Best is trial 35 with value: 827.7384825403853.\n"
          ]
        },
        {
          "metadata": {
            "tags": null
          },
          "name": "stdout",
          "output_type": "stream",
          "text": [
            "[0]\ttrain-rmse:1789.90877+29.07648\ttest-rmse:1788.47425+118.97928\n",
            "[50]\ttrain-rmse:1057.16653+18.35002\ttest-rmse:1137.17555+65.62350\n",
            "[100]\ttrain-rmse:852.14507+16.45509\ttest-rmse:981.97595+69.79545\n",
            "[150]\ttrain-rmse:754.59233+14.89384\ttest-rmse:924.20295+71.15163\n",
            "[200]\ttrain-rmse:693.06338+15.77012\ttest-rmse:896.13319+70.29476\n",
            "[250]\ttrain-rmse:647.66399+15.41349\ttest-rmse:879.11007+69.55962\n",
            "[300]\ttrain-rmse:608.42339+13.28869\ttest-rmse:869.08899+72.11430\n",
            "[350]\ttrain-rmse:576.16079+12.94062\ttest-rmse:861.83505+71.56651\n",
            "[400]\ttrain-rmse:546.65117+12.61418\ttest-rmse:857.88889+71.04010\n",
            "[450]\ttrain-rmse:518.95013+11.56816\ttest-rmse:855.72627+71.02262\n",
            "[500]\ttrain-rmse:495.10403+11.91200\ttest-rmse:853.69002+71.64607\n",
            "[550]\ttrain-rmse:472.62744+10.78948\ttest-rmse:851.11783+71.96953\n",
            "[597]\ttrain-rmse:455.15122+9.48740\ttest-rmse:849.88186+71.54673\n"
          ]
        },
        {
          "metadata": {
            "tags": null
          },
          "name": "stderr",
          "output_type": "stream",
          "text": [
            "[I 2025-01-28 17:00:40,781] Trial 42 finished with value: 849.553145389202 and parameters: {'booster': 'gbtree', 'learning_rate': 0.03842310075316663, 'max_depth': 5, 'gamma': 0.4585077111738877, 'subsample': 0.7230040920046483, 'reg_alpha': 4.852677048716399e-07, 'reg_lambda': 1.0039203174124295e-08, 'colsample_bytree': 0.8729771976054962, 'min_child_weight': 8, 'n_estimators': 1066}. Best is trial 35 with value: 827.7384825403853.\n"
          ]
        },
        {
          "metadata": {
            "tags": null
          },
          "name": "stdout",
          "output_type": "stream",
          "text": [
            "[0]\ttrain-rmse:1809.26613+28.25982\ttest-rmse:1806.58144+122.44232\n",
            "[50]\ttrain-rmse:1264.73270+6.35377\ttest-rmse:1340.75134+71.84028\n",
            "[100]\ttrain-rmse:987.45208+11.07137\ttest-rmse:1120.15409+60.74231\n",
            "[150]\ttrain-rmse:826.83259+13.89018\ttest-rmse:1007.61484+60.27450\n",
            "[200]\ttrain-rmse:724.01300+11.89482\ttest-rmse:946.12827+64.50742\n",
            "[250]\ttrain-rmse:653.80558+12.50312\ttest-rmse:913.35291+63.87332\n",
            "[300]\ttrain-rmse:600.13216+11.90291\ttest-rmse:890.51763+64.78338\n",
            "[350]\ttrain-rmse:559.37749+9.78063\ttest-rmse:876.82416+65.78782\n",
            "[400]\ttrain-rmse:525.32930+8.56024\ttest-rmse:867.58581+65.45965\n",
            "[450]\ttrain-rmse:495.36161+8.03961\ttest-rmse:860.39147+65.73673\n",
            "[500]\ttrain-rmse:468.22827+8.41286\ttest-rmse:856.05594+65.43481\n",
            "[550]\ttrain-rmse:444.14043+8.04607\ttest-rmse:851.70351+65.69135\n",
            "[600]\ttrain-rmse:422.11665+8.03295\ttest-rmse:847.94625+65.47215\n",
            "[650]\ttrain-rmse:401.59510+8.13373\ttest-rmse:845.55933+64.76424\n",
            "[700]\ttrain-rmse:382.95756+7.23161\ttest-rmse:842.98289+64.97194\n",
            "[750]\ttrain-rmse:365.71139+6.95034\ttest-rmse:841.25956+64.94770\n",
            "[800]\ttrain-rmse:350.11111+6.75775\ttest-rmse:839.13614+64.52432\n",
            "[850]\ttrain-rmse:335.04451+6.38621\ttest-rmse:837.98381+64.23503\n",
            "[900]\ttrain-rmse:321.01567+6.29001\ttest-rmse:836.87885+63.75558\n",
            "[950]\ttrain-rmse:307.76551+6.50121\ttest-rmse:835.81528+63.91009\n",
            "[1000]\ttrain-rmse:294.82123+6.10780\ttest-rmse:835.19714+64.05035\n",
            "[1050]\ttrain-rmse:283.34654+5.93692\ttest-rmse:834.76462+63.77809\n",
            "[1100]\ttrain-rmse:272.00368+5.66534\ttest-rmse:834.04272+63.60320\n",
            "[1150]\ttrain-rmse:261.26393+5.87160\ttest-rmse:833.46593+63.39030\n",
            "[1200]\ttrain-rmse:251.06970+5.65814\ttest-rmse:833.16146+63.44929\n",
            "[1250]\ttrain-rmse:241.45207+5.49597\ttest-rmse:832.57356+63.39022\n",
            "[1300]\ttrain-rmse:232.64622+5.16611\ttest-rmse:832.24194+63.39605\n",
            "[1329]\ttrain-rmse:227.70921+5.10722\ttest-rmse:832.18704+63.46695\n"
          ]
        },
        {
          "metadata": {
            "tags": null
          },
          "name": "stderr",
          "output_type": "stream",
          "text": [
            "[I 2025-01-28 17:01:07,054] Trial 43 finished with value: 832.1174571828553 and parameters: {'booster': 'gbtree', 'learning_rate': 0.015277060260763163, 'max_depth': 6, 'gamma': 0.04568120577113505, 'subsample': 0.6350843858058148, 'reg_alpha': 2.5377876360445446e-07, 'reg_lambda': 7.632458118580157e-08, 'colsample_bytree': 0.9414364917803028, 'min_child_weight': 1, 'n_estimators': 1406}. Best is trial 35 with value: 827.7384825403853.\n"
          ]
        },
        {
          "metadata": {
            "tags": null
          },
          "name": "stdout",
          "output_type": "stream",
          "text": [
            "[0]\ttrain-rmse:1802.41678+28.43781\ttest-rmse:1800.27337+121.55779\n",
            "[50]\ttrain-rmse:1211.92249+16.99964\ttest-rmse:1311.72084+66.85729\n",
            "[100]\ttrain-rmse:924.07431+14.80643\ttest-rmse:1104.97857+62.55758\n",
            "[150]\ttrain-rmse:777.10515+13.52412\ttest-rmse:1031.73568+60.59463\n",
            "[200]\ttrain-rmse:675.33241+12.69746\ttest-rmse:981.98079+60.38145\n",
            "[250]\ttrain-rmse:602.95046+11.67453\ttest-rmse:956.99928+59.87125\n",
            "[300]\ttrain-rmse:547.70173+11.13216\ttest-rmse:941.05117+59.15882\n",
            "[350]\ttrain-rmse:504.82928+10.46081\ttest-rmse:927.69709+59.27885\n",
            "[400]\ttrain-rmse:470.68482+9.75260\ttest-rmse:917.20591+58.55212\n",
            "[450]\ttrain-rmse:439.85100+8.55976\ttest-rmse:913.30535+57.54261\n",
            "[500]\ttrain-rmse:413.82291+7.91515\ttest-rmse:908.75878+57.88072\n",
            "[550]\ttrain-rmse:390.40097+7.18842\ttest-rmse:905.94113+57.90245\n",
            "[600]\ttrain-rmse:369.93380+7.42310\ttest-rmse:903.24536+57.24829\n",
            "[650]\ttrain-rmse:348.74678+7.10641\ttest-rmse:902.01955+56.45427\n",
            "[662]\ttrain-rmse:344.12365+6.90462\ttest-rmse:901.98895+56.19264\n"
          ]
        },
        {
          "metadata": {
            "tags": null
          },
          "name": "stderr",
          "output_type": "stream",
          "text": [
            "[I 2025-01-28 17:01:16,439] Trial 44 finished with value: 901.9619714827417 and parameters: {'booster': 'gbtree', 'learning_rate': 0.02250736308145708, 'max_depth': 7, 'gamma': 0.0975235796527133, 'subsample': 0.5649622945879991, 'reg_alpha': 1.2993820019129046e-06, 'reg_lambda': 3.0269489021453e-08, 'colsample_bytree': 0.20480121676992008, 'min_child_weight': 1, 'n_estimators': 1659}. Best is trial 35 with value: 827.7384825403853.\n"
          ]
        },
        {
          "metadata": {
            "tags": null
          },
          "name": "stdout",
          "output_type": "stream",
          "text": [
            "[0]\ttrain-rmse:1820.37891+29.22519\ttest-rmse:1816.84359+122.87208\n",
            "[50]\ttrain-rmse:1674.07595+24.30885\ttest-rmse:1683.54623+108.87938\n",
            "[100]\ttrain-rmse:1546.56117+20.10603\ttest-rmse:1568.43704+97.78496\n",
            "[150]\ttrain-rmse:1436.32015+17.72821\ttest-rmse:1471.33750+88.44600\n",
            "[200]\ttrain-rmse:1339.78899+15.91591\ttest-rmse:1386.96908+81.68751\n",
            "[250]\ttrain-rmse:1256.90726+14.50099\ttest-rmse:1316.09524+77.34270\n",
            "[300]\ttrain-rmse:1183.13842+13.62598\ttest-rmse:1254.87304+74.44406\n",
            "[350]\ttrain-rmse:1117.54167+13.52467\ttest-rmse:1200.64757+71.90876\n",
            "[400]\ttrain-rmse:1059.86148+12.15945\ttest-rmse:1154.19697+71.77512\n",
            "[450]\ttrain-rmse:1008.00673+12.27567\ttest-rmse:1113.52672+70.87912\n",
            "[500]\ttrain-rmse:963.00119+12.38866\ttest-rmse:1079.36030+70.69453\n",
            "[550]\ttrain-rmse:923.31905+11.75598\ttest-rmse:1050.06593+71.40631\n",
            "[600]\ttrain-rmse:887.05673+12.00172\ttest-rmse:1023.91518+71.48033\n",
            "[650]\ttrain-rmse:854.30869+12.10745\ttest-rmse:1000.98429+72.30094\n",
            "[700]\ttrain-rmse:825.71849+12.48548\ttest-rmse:982.10615+72.89411\n",
            "[750]\ttrain-rmse:799.60015+12.62467\ttest-rmse:965.09279+73.09777\n",
            "[800]\ttrain-rmse:776.29716+12.73814\ttest-rmse:950.34176+73.58070\n",
            "[850]\ttrain-rmse:755.07238+13.06140\ttest-rmse:937.59961+73.96098\n",
            "[900]\ttrain-rmse:736.13013+13.39718\ttest-rmse:927.05252+73.89730\n",
            "[950]\ttrain-rmse:718.25343+14.12318\ttest-rmse:917.23211+73.86619\n",
            "[1000]\ttrain-rmse:701.90701+14.61035\ttest-rmse:908.71052+74.05156\n",
            "[1005]\ttrain-rmse:700.37462+14.55073\ttest-rmse:907.93861+74.12066\n"
          ]
        },
        {
          "metadata": {
            "tags": null
          },
          "name": "stderr",
          "output_type": "stream",
          "text": [
            "[I 2025-01-28 17:01:43,552] Trial 45 finished with value: 907.9386051502266 and parameters: {'booster': 'gbtree', 'learning_rate': 0.002706150418421499, 'max_depth': 8, 'gamma': 0.9691259983088866, 'subsample': 0.4958693841742309, 'reg_alpha': 1.089189574340582e-07, 'reg_lambda': 2.9225955728530745e-05, 'colsample_bytree': 0.9959630816412799, 'min_child_weight': 5, 'n_estimators': 1006}. Best is trial 35 with value: 827.7384825403853.\n"
          ]
        },
        {
          "metadata": {
            "tags": null
          },
          "name": "stdout",
          "output_type": "stream",
          "text": [
            "[0]\ttrain-rmse:1808.09233+27.24667\ttest-rmse:1806.89636+123.17710\n",
            "[50]\ttrain-rmse:1337.85597+19.66494\ttest-rmse:1376.18699+62.12574\n",
            "[100]\ttrain-rmse:1179.56972+18.12949\ttest-rmse:1244.17762+64.30973\n",
            "[150]\ttrain-rmse:1082.01678+19.52148\ttest-rmse:1167.79833+58.54215\n",
            "[200]\ttrain-rmse:1006.46513+15.81249\ttest-rmse:1108.26730+62.51000\n",
            "[250]\ttrain-rmse:955.68360+16.32558\ttest-rmse:1071.22538+61.23903\n",
            "[300]\ttrain-rmse:913.27130+16.87665\ttest-rmse:1038.88775+62.00890\n",
            "[350]\ttrain-rmse:879.38692+15.37698\ttest-rmse:1015.98278+62.95777\n",
            "[400]\ttrain-rmse:851.27824+14.62002\ttest-rmse:998.73376+63.84474\n",
            "[450]\ttrain-rmse:825.26067+14.24047\ttest-rmse:981.22347+61.38526\n",
            "[500]\ttrain-rmse:801.95465+13.18784\ttest-rmse:969.28435+62.84039\n",
            "[550]\ttrain-rmse:781.08637+12.66898\ttest-rmse:958.68319+62.06750\n",
            "[600]\ttrain-rmse:762.79859+12.58830\ttest-rmse:949.61283+60.21596\n",
            "[650]\ttrain-rmse:745.62022+13.40540\ttest-rmse:942.48463+58.07819\n",
            "[700]\ttrain-rmse:730.37749+13.74665\ttest-rmse:936.16961+57.79952\n",
            "[750]\ttrain-rmse:717.34738+13.98213\ttest-rmse:932.59625+56.06175\n",
            "[800]\ttrain-rmse:704.34407+13.30020\ttest-rmse:926.64604+57.51525\n",
            "[850]\ttrain-rmse:692.72539+13.36282\ttest-rmse:922.61658+56.50480\n",
            "[900]\ttrain-rmse:681.39203+13.26933\ttest-rmse:919.05453+57.98891\n",
            "[950]\ttrain-rmse:670.64021+13.27044\ttest-rmse:914.03380+58.72859\n",
            "[1000]\ttrain-rmse:660.24308+12.84041\ttest-rmse:910.83735+58.40045\n",
            "[1050]\ttrain-rmse:650.66103+12.56350\ttest-rmse:907.96568+59.79449\n",
            "[1100]\ttrain-rmse:641.23484+11.86325\ttest-rmse:904.93089+60.60967\n",
            "[1150]\ttrain-rmse:632.34359+11.65770\ttest-rmse:902.49057+60.17867\n",
            "[1200]\ttrain-rmse:624.07729+11.99842\ttest-rmse:899.98124+58.82874\n",
            "[1250]\ttrain-rmse:615.38793+11.91292\ttest-rmse:897.39063+57.92441\n",
            "[1300]\ttrain-rmse:607.56908+11.66922\ttest-rmse:895.25713+58.35723\n",
            "[1323]\ttrain-rmse:604.21499+11.79924\ttest-rmse:895.37361+58.73018\n"
          ]
        },
        {
          "metadata": {
            "tags": null
          },
          "name": "stderr",
          "output_type": "stream",
          "text": [
            "[I 2025-01-28 17:01:53,440] Trial 46 finished with value: 895.2154801705258 and parameters: {'booster': 'gbtree', 'learning_rate': 0.029739077930478475, 'max_depth': 3, 'gamma': 0.009641240163411599, 'subsample': 0.39382301136339515, 'reg_alpha': 6.192654986112346e-06, 'reg_lambda': 1.3681764335978581e-06, 'colsample_bytree': 0.7561497540399158, 'min_child_weight': 0, 'n_estimators': 1984}. Best is trial 35 with value: 827.7384825403853.\n"
          ]
        },
        {
          "metadata": {
            "tags": null
          },
          "name": "stdout",
          "output_type": "stream",
          "text": [
            "[0]\ttrain-rmse:1816.01946+29.13529\ttest-rmse:1813.14946+122.74114\n",
            "[50]\ttrain-rmse:1532.63128+18.00420\ttest-rmse:1550.23119+86.21518\n",
            "[100]\ttrain-rmse:1348.24398+14.94528\ttest-rmse:1382.51239+70.57230\n",
            "[150]\ttrain-rmse:1223.54610+14.80016\ttest-rmse:1273.16056+64.97274\n",
            "[200]\ttrain-rmse:1127.97182+14.10112\ttest-rmse:1192.20527+64.15055\n",
            "[250]\ttrain-rmse:1055.83664+14.01622\ttest-rmse:1134.26147+63.36628\n",
            "[300]\ttrain-rmse:995.37791+15.53367\ttest-rmse:1086.37334+62.16534\n",
            "[350]\ttrain-rmse:947.10271+15.60050\ttest-rmse:1048.56490+63.59965\n",
            "[400]\ttrain-rmse:907.32728+16.75067\ttest-rmse:1017.83906+63.82761\n",
            "[450]\ttrain-rmse:876.01403+16.06474\ttest-rmse:995.36588+64.91357\n",
            "[500]\ttrain-rmse:848.97976+16.57582\ttest-rmse:978.19118+65.41220\n",
            "[550]\ttrain-rmse:825.80048+16.99567\ttest-rmse:962.48102+66.88935\n",
            "[600]\ttrain-rmse:806.08156+17.36350\ttest-rmse:949.82632+67.54130\n",
            "[650]\ttrain-rmse:787.70349+17.82132\ttest-rmse:938.59841+68.08583\n",
            "[700]\ttrain-rmse:772.09810+17.93901\ttest-rmse:929.68832+68.03485\n",
            "[750]\ttrain-rmse:756.89826+18.04773\ttest-rmse:921.72069+67.87284\n",
            "[800]\ttrain-rmse:743.11063+17.62785\ttest-rmse:914.00630+68.49642\n",
            "[850]\ttrain-rmse:731.10782+17.48815\ttest-rmse:908.08428+68.29517\n",
            "[900]\ttrain-rmse:719.13258+16.98508\ttest-rmse:902.50284+68.55792\n",
            "[950]\ttrain-rmse:707.99628+16.28895\ttest-rmse:897.29573+69.57966\n",
            "[1000]\ttrain-rmse:697.87761+15.99260\ttest-rmse:893.02902+69.44135\n",
            "[1050]\ttrain-rmse:688.52021+15.91880\ttest-rmse:889.87796+69.42349\n",
            "[1100]\ttrain-rmse:679.29394+15.72742\ttest-rmse:886.52689+69.15049\n",
            "[1150]\ttrain-rmse:670.51081+15.06959\ttest-rmse:883.62099+68.98251\n",
            "[1200]\ttrain-rmse:661.78874+15.02389\ttest-rmse:880.89661+68.80685\n",
            "[1250]\ttrain-rmse:653.56081+15.00099\ttest-rmse:878.08943+69.04820\n",
            "[1300]\ttrain-rmse:645.40503+14.67749\ttest-rmse:875.06328+68.88937\n",
            "[1350]\ttrain-rmse:637.78690+14.71588\ttest-rmse:872.69465+68.33320\n",
            "[1400]\ttrain-rmse:630.48705+14.28312\ttest-rmse:870.44935+68.16253\n",
            "[1450]\ttrain-rmse:623.52551+14.19266\ttest-rmse:868.52822+68.18726\n",
            "[1500]\ttrain-rmse:616.44215+13.61033\ttest-rmse:866.73834+68.23605\n",
            "[1550]\ttrain-rmse:609.63461+13.10862\ttest-rmse:865.04897+68.44616\n",
            "[1600]\ttrain-rmse:603.03749+12.93431\ttest-rmse:863.51605+68.36335\n",
            "[1650]\ttrain-rmse:596.39341+12.88246\ttest-rmse:862.22437+68.51573\n",
            "[1700]\ttrain-rmse:590.24387+12.74208\ttest-rmse:861.21838+68.52052\n",
            "[1750]\ttrain-rmse:584.15483+12.70335\ttest-rmse:859.79037+68.41317\n",
            "[1800]\ttrain-rmse:578.10262+12.60100\ttest-rmse:858.64609+68.34057\n",
            "[1850]\ttrain-rmse:572.59034+12.41978\ttest-rmse:857.76417+68.23779\n",
            "[1900]\ttrain-rmse:566.62230+12.43824\ttest-rmse:856.94770+68.22810\n",
            "[1950]\ttrain-rmse:561.03622+12.46946\ttest-rmse:855.73349+67.93349\n",
            "[2000]\ttrain-rmse:555.82085+12.23209\ttest-rmse:854.93449+68.01329\n",
            "[2050]\ttrain-rmse:550.52244+11.93911\ttest-rmse:854.26721+67.96902\n",
            "[2100]\ttrain-rmse:545.21290+11.73562\ttest-rmse:853.83962+68.15318\n",
            "[2150]\ttrain-rmse:540.49924+11.48868\ttest-rmse:852.96947+68.39562\n",
            "[2200]\ttrain-rmse:535.54389+11.24759\ttest-rmse:852.29253+68.26488\n",
            "[2250]\ttrain-rmse:530.77592+11.30587\ttest-rmse:851.57291+68.15130\n",
            "[2300]\ttrain-rmse:526.07504+11.30143\ttest-rmse:851.03321+67.99916\n",
            "[2350]\ttrain-rmse:521.30232+10.78455\ttest-rmse:850.40404+67.96040\n",
            "[2400]\ttrain-rmse:516.68678+10.43431\ttest-rmse:849.83226+67.80120\n",
            "[2450]\ttrain-rmse:512.12235+10.36134\ttest-rmse:849.29740+68.08574\n",
            "[2500]\ttrain-rmse:507.78459+10.16888\ttest-rmse:848.87526+68.12984\n",
            "[2550]\ttrain-rmse:503.60939+10.02166\ttest-rmse:848.48683+68.14912\n",
            "[2600]\ttrain-rmse:499.34198+9.92342\ttest-rmse:848.15293+68.03023\n",
            "[2650]\ttrain-rmse:495.17826+9.67840\ttest-rmse:847.62889+68.00466\n",
            "[2690]\ttrain-rmse:491.91739+9.53244\ttest-rmse:847.49817+67.97847\n"
          ]
        },
        {
          "metadata": {
            "tags": null
          },
          "name": "stderr",
          "output_type": "stream",
          "text": [
            "[I 2025-01-28 17:02:19,333] Trial 47 finished with value: 847.4518857077071 and parameters: {'booster': 'gbtree', 'learning_rate': 0.008271528896950531, 'max_depth': 5, 'gamma': 5.217251840546786e-06, 'subsample': 0.8228099500093131, 'reg_alpha': 2.6395211510843446e-06, 'reg_lambda': 0.014379355206753128, 'colsample_bytree': 0.6871877844466752, 'min_child_weight': 10, 'n_estimators': 4736}. Best is trial 35 with value: 827.7384825403853.\n"
          ]
        },
        {
          "metadata": {
            "tags": null
          },
          "name": "stdout",
          "output_type": "stream",
          "text": [
            "[0]\ttrain-rmse:1762.42685+26.09168\ttest-rmse:1763.21816+119.26681\n",
            "[50]\ttrain-rmse:582.78028+14.99810\ttest-rmse:904.26696+71.08806\n",
            "[100]\ttrain-rmse:378.26549+10.62599\ttest-rmse:858.74692+73.90338\n",
            "[150]\ttrain-rmse:277.13411+6.78361\ttest-rmse:851.44196+70.25310\n",
            "[200]\ttrain-rmse:207.54890+4.95941\ttest-rmse:847.82537+70.30803\n",
            "[244]\ttrain-rmse:162.38837+3.76313\ttest-rmse:846.90425+70.35597\n"
          ]
        },
        {
          "metadata": {
            "tags": null
          },
          "name": "stderr",
          "output_type": "stream",
          "text": [
            "[I 2025-01-28 17:02:25,390] Trial 48 finished with value: 846.6057713128896 and parameters: {'booster': 'gbtree', 'learning_rate': 0.05551740468582717, 'max_depth': 8, 'gamma': 0.5574249084630731, 'subsample': 0.6025458111892458, 'reg_alpha': 0.009526229077892702, 'reg_lambda': 2.0305434001494677e-07, 'colsample_bytree': 0.8111412495768999, 'min_child_weight': 2, 'n_estimators': 1416}. Best is trial 35 with value: 827.7384825403853.\n"
          ]
        },
        {
          "metadata": {
            "tags": null
          },
          "name": "stdout",
          "output_type": "stream",
          "text": [
            "[0]\ttrain-rmse:1803.95665+29.72108\ttest-rmse:1801.57925+120.76169\n",
            "[50]\ttrain-rmse:1155.37653+14.33233\ttest-rmse:1258.58352+71.74671\n",
            "[100]\ttrain-rmse:827.42925+11.82434\ttest-rmse:1025.49323+66.95168\n",
            "[150]\ttrain-rmse:646.26295+11.63290\ttest-rmse:934.44106+64.25754\n",
            "[200]\ttrain-rmse:528.61564+10.54519\ttest-rmse:891.15555+61.41404\n",
            "[250]\ttrain-rmse:448.36082+9.65698\ttest-rmse:869.37429+59.26617\n",
            "[300]\ttrain-rmse:389.85215+8.50906\ttest-rmse:856.66904+57.11541\n",
            "[350]\ttrain-rmse:347.21150+7.86500\ttest-rmse:849.98039+55.85236\n",
            "[400]\ttrain-rmse:312.33271+5.67688\ttest-rmse:845.53939+55.52204\n",
            "[450]\ttrain-rmse:282.27426+4.58763\ttest-rmse:843.01994+55.31558\n",
            "[500]\ttrain-rmse:257.67046+4.31192\ttest-rmse:841.43001+55.32403\n",
            "[550]\ttrain-rmse:236.38827+4.01790\ttest-rmse:840.17485+55.50023\n",
            "[600]\ttrain-rmse:217.03772+3.43525\ttest-rmse:839.13446+55.16733\n",
            "[650]\ttrain-rmse:199.71084+3.36133\ttest-rmse:838.20339+54.71344\n",
            "[700]\ttrain-rmse:184.65456+3.40200\ttest-rmse:837.77013+54.79178\n",
            "[750]\ttrain-rmse:170.08351+3.16624\ttest-rmse:837.27068+54.61647\n",
            "[779]\ttrain-rmse:162.17644+2.84505\ttest-rmse:837.31994+54.56057\n"
          ]
        },
        {
          "metadata": {
            "tags": null
          },
          "name": "stderr",
          "output_type": "stream",
          "text": [
            "[I 2025-01-28 17:02:48,146] Trial 49 finished with value: 837.1987233519 and parameters: {'booster': 'gbtree', 'learning_rate': 0.014722553683935874, 'max_depth': 9, 'gamma': 0.12345360312828273, 'subsample': 0.7445592815074701, 'reg_alpha': 1.3947596708867298e-07, 'reg_lambda': 2.793077172674757e-08, 'colsample_bytree': 0.5698766448511273, 'min_child_weight': 3, 'n_estimators': 3558}. Best is trial 35 with value: 827.7384825403853.\n"
          ]
        },
        {
          "metadata": {
            "tags": null
          },
          "name": "stdout",
          "output_type": "stream",
          "text": [
            "[0]\ttrain-rmse:1821.47090+29.30078\ttest-rmse:1817.92630+123.00109\n",
            "[50]\ttrain-rmse:1730.39910+25.22935\ttest-rmse:1734.65717+114.53208\n",
            "[100]\ttrain-rmse:1646.99326+21.50146\ttest-rmse:1657.77439+106.97971\n",
            "[150]\ttrain-rmse:1571.99213+19.06856\ttest-rmse:1589.31822+100.49277\n",
            "[200]\ttrain-rmse:1503.97517+17.43305\ttest-rmse:1527.52596+94.68438\n",
            "[250]\ttrain-rmse:1444.42941+15.76416\ttest-rmse:1474.29458+90.01595\n",
            "[300]\ttrain-rmse:1387.54200+14.79376\ttest-rmse:1423.86883+85.52217\n",
            "[350]\ttrain-rmse:1334.90365+14.17511\ttest-rmse:1376.88641+81.67924\n",
            "[400]\ttrain-rmse:1287.01126+13.38603\ttest-rmse:1334.61221+78.70331\n",
            "[450]\ttrain-rmse:1242.84474+12.95656\ttest-rmse:1296.22788+76.40789\n",
            "[500]\ttrain-rmse:1203.18857+12.49087\ttest-rmse:1262.39803+75.04002\n",
            "[550]\ttrain-rmse:1166.61412+12.07848\ttest-rmse:1231.41871+74.26924\n",
            "[600]\ttrain-rmse:1131.63276+12.48980\ttest-rmse:1201.64789+72.97805\n",
            "[650]\ttrain-rmse:1099.58792+12.33123\ttest-rmse:1175.02752+72.21867\n",
            "[700]\ttrain-rmse:1070.47013+12.60121\ttest-rmse:1151.16368+71.42844\n",
            "[750]\ttrain-rmse:1043.67037+12.78540\ttest-rmse:1129.88099+71.17391\n",
            "[800]\ttrain-rmse:1018.75735+13.01168\ttest-rmse:1109.70492+71.10760\n",
            "[850]\ttrain-rmse:995.41413+13.19101\ttest-rmse:1091.25971+71.20190\n",
            "[900]\ttrain-rmse:973.61615+13.86157\ttest-rmse:1074.61348+70.81244\n",
            "[950]\ttrain-rmse:953.14287+14.36383\ttest-rmse:1058.70443+70.75303\n",
            "[1000]\ttrain-rmse:934.43184+14.78141\ttest-rmse:1044.72141+70.82291\n",
            "[1050]\ttrain-rmse:917.02605+14.89647\ttest-rmse:1031.84344+70.74566\n",
            "[1100]\ttrain-rmse:900.67615+14.95086\ttest-rmse:1019.91791+70.91352\n",
            "[1150]\ttrain-rmse:885.32386+15.19785\ttest-rmse:1009.00568+71.17332\n",
            "[1200]\ttrain-rmse:870.94380+15.60933\ttest-rmse:999.05935+71.34114\n",
            "[1250]\ttrain-rmse:857.60597+15.64640\ttest-rmse:989.54870+71.18691\n",
            "[1300]\ttrain-rmse:844.61888+15.60289\ttest-rmse:980.35290+71.30488\n",
            "[1350]\ttrain-rmse:832.59916+15.80351\ttest-rmse:972.21710+71.61395\n",
            "[1400]\ttrain-rmse:821.26831+16.18052\ttest-rmse:964.58161+71.81549\n",
            "[1450]\ttrain-rmse:810.57568+16.25609\ttest-rmse:958.08143+71.80789\n",
            "[1500]\ttrain-rmse:800.65707+16.20969\ttest-rmse:951.82879+71.82002\n",
            "[1550]\ttrain-rmse:791.17335+16.20537\ttest-rmse:945.78168+71.95517\n",
            "[1600]\ttrain-rmse:782.05205+16.39823\ttest-rmse:940.26209+71.81272\n",
            "[1650]\ttrain-rmse:773.17415+16.49017\ttest-rmse:935.15655+71.96771\n",
            "[1700]\ttrain-rmse:765.01422+16.79075\ttest-rmse:930.72247+71.52899\n",
            "[1750]\ttrain-rmse:757.26251+16.92593\ttest-rmse:926.65502+71.68988\n",
            "[1800]\ttrain-rmse:749.88177+17.06557\ttest-rmse:922.73341+71.66025\n",
            "[1850]\ttrain-rmse:742.74584+17.06332\ttest-rmse:918.73167+71.73282\n",
            "[1900]\ttrain-rmse:736.10545+17.15995\ttest-rmse:915.41061+71.46629\n",
            "[1950]\ttrain-rmse:729.76018+17.27322\ttest-rmse:912.21428+71.56405\n",
            "[2000]\ttrain-rmse:723.60227+17.31230\ttest-rmse:909.12088+71.55697\n",
            "[2050]\ttrain-rmse:717.73828+17.37069\ttest-rmse:906.24125+71.51144\n",
            "[2100]\ttrain-rmse:711.87811+17.34717\ttest-rmse:903.52152+71.74390\n",
            "[2150]\ttrain-rmse:706.29677+17.41775\ttest-rmse:900.98523+71.72208\n",
            "[2200]\ttrain-rmse:700.79677+17.43607\ttest-rmse:898.53415+71.98156\n",
            "[2238]\ttrain-rmse:696.83157+17.63074\ttest-rmse:896.93086+71.95062\n"
          ]
        },
        {
          "metadata": {
            "tags": null
          },
          "name": "stderr",
          "output_type": "stream",
          "text": [
            "[I 2025-01-28 17:03:27,902] Trial 50 finished with value: 896.9308552898661 and parameters: {'booster': 'gbtree', 'learning_rate': 0.0018430961298842414, 'max_depth': 7, 'gamma': 0.02274968767015638, 'subsample': 0.5229654522799237, 'reg_alpha': 9.374143489221295e-05, 'reg_lambda': 8.933256176854918e-08, 'colsample_bytree': 0.8644174751318054, 'min_child_weight': 8, 'n_estimators': 2239}. Best is trial 35 with value: 827.7384825403853.\n"
          ]
        },
        {
          "metadata": {
            "tags": null
          },
          "name": "stdout",
          "output_type": "stream",
          "text": [
            "[0]\ttrain-rmse:1805.94127+28.13665\ttest-rmse:1803.13806+121.99316\n",
            "[50]\ttrain-rmse:1186.77190+8.99907\ttest-rmse:1279.15682+67.11832\n",
            "[100]\ttrain-rmse:904.53243+13.52986\ttest-rmse:1062.45326+62.00238\n",
            "[150]\ttrain-rmse:752.23060+12.35185\ttest-rmse:966.40181+64.10615\n",
            "[200]\ttrain-rmse:658.43241+9.05544\ttest-rmse:917.69607+67.77111\n",
            "[250]\ttrain-rmse:594.15422+9.54448\ttest-rmse:891.32166+66.95923\n",
            "[300]\ttrain-rmse:546.18546+9.17990\ttest-rmse:875.02121+66.71043\n",
            "[350]\ttrain-rmse:507.16762+7.71839\ttest-rmse:863.78121+67.57733\n",
            "[400]\ttrain-rmse:472.76069+6.59045\ttest-rmse:857.03951+67.38885\n",
            "[450]\ttrain-rmse:442.66996+6.06559\ttest-rmse:851.47543+67.29092\n",
            "[500]\ttrain-rmse:416.62632+6.57970\ttest-rmse:847.81658+67.30018\n",
            "[550]\ttrain-rmse:392.49014+5.90138\ttest-rmse:844.66548+66.23512\n",
            "[600]\ttrain-rmse:370.26029+5.85759\ttest-rmse:842.36704+65.32501\n",
            "[650]\ttrain-rmse:350.12733+5.49432\ttest-rmse:840.52234+65.54261\n",
            "[700]\ttrain-rmse:331.31901+4.68966\ttest-rmse:839.02175+65.76648\n",
            "[750]\ttrain-rmse:314.68820+4.34023\ttest-rmse:838.10419+65.32553\n",
            "[800]\ttrain-rmse:299.27878+4.61047\ttest-rmse:836.73725+65.33526\n",
            "[850]\ttrain-rmse:284.21137+4.04008\ttest-rmse:835.75592+65.19344\n",
            "[900]\ttrain-rmse:270.76703+3.98221\ttest-rmse:835.00549+64.78007\n",
            "[950]\ttrain-rmse:257.47902+4.24223\ttest-rmse:833.73492+64.34364\n",
            "[1000]\ttrain-rmse:245.01940+3.65747\ttest-rmse:833.32577+64.35155\n",
            "[1050]\ttrain-rmse:233.57040+3.64496\ttest-rmse:833.03375+64.59976\n",
            "[1083]\ttrain-rmse:226.21750+3.48470\ttest-rmse:832.86684+64.61464\n"
          ]
        },
        {
          "metadata": {
            "tags": null
          },
          "name": "stderr",
          "output_type": "stream",
          "text": [
            "[I 2025-01-28 17:03:50,299] Trial 51 finished with value: 832.8448546949279 and parameters: {'booster': 'gbtree', 'learning_rate': 0.018769351175140826, 'max_depth': 6, 'gamma': 0.05187355586181616, 'subsample': 0.6422019704334792, 'reg_alpha': 2.6062747773250047e-07, 'reg_lambda': 5.753863868127594e-08, 'colsample_bytree': 0.9294429941589771, 'min_child_weight': 1, 'n_estimators': 1398}. Best is trial 35 with value: 827.7384825403853.\n"
          ]
        },
        {
          "metadata": {
            "tags": null
          },
          "name": "stdout",
          "output_type": "stream",
          "text": [
            "[0]\ttrain-rmse:1809.54750+28.14793\ttest-rmse:1806.74656+122.25031\n",
            "[50]\ttrain-rmse:1279.27259+8.67855\ttest-rmse:1357.57403+73.24077\n",
            "[100]\ttrain-rmse:1004.52601+9.15626\ttest-rmse:1138.38628+65.29623\n",
            "[150]\ttrain-rmse:842.01540+14.21810\ttest-rmse:1022.32343+63.17195\n",
            "[200]\ttrain-rmse:737.54310+13.64540\ttest-rmse:958.20411+66.31081\n",
            "[250]\ttrain-rmse:665.95917+14.47462\ttest-rmse:921.61888+66.39659\n",
            "[300]\ttrain-rmse:612.09348+13.67859\ttest-rmse:898.38257+67.19857\n",
            "[350]\ttrain-rmse:570.31687+12.37330\ttest-rmse:882.21088+67.15116\n",
            "[400]\ttrain-rmse:534.37813+11.28004\ttest-rmse:870.94944+67.12474\n",
            "[450]\ttrain-rmse:503.28562+10.34322\ttest-rmse:862.49460+67.33484\n",
            "[500]\ttrain-rmse:476.35957+9.93310\ttest-rmse:857.02399+67.46169\n",
            "[550]\ttrain-rmse:451.49825+8.55774\ttest-rmse:852.43201+67.23400\n",
            "[600]\ttrain-rmse:429.72969+7.77474\ttest-rmse:848.38865+67.69267\n",
            "[650]\ttrain-rmse:409.34689+7.26126\ttest-rmse:845.67483+67.49442\n",
            "[700]\ttrain-rmse:391.27566+6.90023\ttest-rmse:843.02770+67.67099\n",
            "[750]\ttrain-rmse:373.45127+6.96252\ttest-rmse:841.16532+67.34294\n",
            "[800]\ttrain-rmse:356.92784+6.76897\ttest-rmse:839.35825+66.89533\n",
            "[850]\ttrain-rmse:341.36966+6.13422\ttest-rmse:838.24937+66.43282\n",
            "[900]\ttrain-rmse:327.30202+6.25522\ttest-rmse:837.48596+66.14216\n",
            "[950]\ttrain-rmse:314.11334+5.70935\ttest-rmse:836.49315+65.95108\n",
            "[1000]\ttrain-rmse:301.02932+5.27811\ttest-rmse:835.60172+65.60100\n",
            "[1050]\ttrain-rmse:289.09882+5.19007\ttest-rmse:834.83968+65.55953\n",
            "[1100]\ttrain-rmse:277.67390+4.93077\ttest-rmse:834.35940+65.69557\n",
            "[1150]\ttrain-rmse:266.67724+4.99925\ttest-rmse:833.77718+65.45121\n",
            "[1200]\ttrain-rmse:256.46427+4.91233\ttest-rmse:833.59371+65.34545\n",
            "[1211]\ttrain-rmse:254.40568+4.88887\ttest-rmse:833.44681+65.39972\n"
          ]
        },
        {
          "metadata": {
            "tags": null
          },
          "name": "stderr",
          "output_type": "stream",
          "text": [
            "[I 2025-01-28 17:04:19,861] Trial 52 finished with value: 833.4468097097784 and parameters: {'booster': 'gbtree', 'learning_rate': 0.014646720506060794, 'max_depth': 6, 'gamma': 0.17600971194905338, 'subsample': 0.6614320078847508, 'reg_alpha': 4.894117567304935e-07, 'reg_lambda': 1.1199211117438642e-07, 'colsample_bytree': 0.9677217888064493, 'min_child_weight': 0, 'n_estimators': 1212}. Best is trial 35 with value: 827.7384825403853.\n"
          ]
        },
        {
          "metadata": {
            "tags": null
          },
          "name": "stdout",
          "output_type": "stream",
          "text": [
            "[0]\ttrain-rmse:1790.34739+28.14065\ttest-rmse:1788.69245+119.95686\n",
            "[50]\ttrain-rmse:940.95810+8.13947\ttest-rmse:1094.75933+66.57353\n",
            "[100]\ttrain-rmse:691.07019+8.87980\ttest-rmse:942.12502+72.84589\n",
            "[150]\ttrain-rmse:573.00039+10.43511\ttest-rmse:895.41671+71.40082\n",
            "[200]\ttrain-rmse:498.21349+9.41521\ttest-rmse:874.68570+71.13914\n",
            "[250]\ttrain-rmse:441.54734+7.12479\ttest-rmse:863.10587+70.25361\n",
            "[300]\ttrain-rmse:395.94900+6.92516\ttest-rmse:856.79078+70.75184\n",
            "[350]\ttrain-rmse:357.72111+6.39151\ttest-rmse:853.93134+69.87854\n",
            "[400]\ttrain-rmse:324.58510+5.47951\ttest-rmse:851.97683+69.32428\n",
            "[450]\ttrain-rmse:295.33410+4.50997\ttest-rmse:849.48384+68.70876\n",
            "[500]\ttrain-rmse:270.55525+4.85687\ttest-rmse:848.53444+68.73221\n",
            "[550]\ttrain-rmse:247.81382+4.57695\ttest-rmse:847.57820+68.23900\n",
            "[595]\ttrain-rmse:229.94321+4.54333\ttest-rmse:846.85214+68.28222\n"
          ]
        },
        {
          "metadata": {
            "tags": null
          },
          "name": "stderr",
          "output_type": "stream",
          "text": [
            "[I 2025-01-28 17:04:31,926] Trial 53 finished with value: 846.6405661743833 and parameters: {'booster': 'gbtree', 'learning_rate': 0.03319092836422218, 'max_depth': 6, 'gamma': 0.04422700177039886, 'subsample': 0.6925536604625133, 'reg_alpha': 6.774278913882627e-08, 'reg_lambda': 1.150712705683904e-06, 'colsample_bytree': 0.9161193500166557, 'min_child_weight': 1, 'n_estimators': 1445}. Best is trial 35 with value: 827.7384825403853.\n"
          ]
        },
        {
          "metadata": {
            "tags": null
          },
          "name": "stdout",
          "output_type": "stream",
          "text": [
            "[0]\ttrain-rmse:1818.01569+29.46088\ttest-rmse:1814.35028+122.28685\n",
            "[50]\ttrain-rmse:1578.61748+19.10144\ttest-rmse:1608.43893+89.17440\n",
            "[100]\ttrain-rmse:1394.80033+13.38753\ttest-rmse:1451.96952+71.03595\n",
            "[150]\ttrain-rmse:1254.66321+11.37917\ttest-rmse:1335.84142+62.90177\n",
            "[200]\ttrain-rmse:1143.13268+9.17853\ttest-rmse:1246.34475+61.83935\n",
            "[250]\ttrain-rmse:1054.13063+8.62451\ttest-rmse:1178.21193+61.64150\n",
            "[300]\ttrain-rmse:978.44185+9.09378\ttest-rmse:1121.30669+63.03964\n",
            "[350]\ttrain-rmse:915.79712+8.16075\ttest-rmse:1075.10404+64.56739\n",
            "[400]\ttrain-rmse:861.66830+7.35072\ttest-rmse:1037.45323+66.44781\n",
            "[450]\ttrain-rmse:814.74753+7.85162\ttest-rmse:1006.23594+67.23270\n",
            "[500]\ttrain-rmse:775.17892+8.28889\ttest-rmse:982.31179+66.97206\n",
            "[550]\ttrain-rmse:740.39377+7.60353\ttest-rmse:961.73381+66.91030\n",
            "[600]\ttrain-rmse:709.53921+8.14025\ttest-rmse:944.67892+67.72031\n",
            "[650]\ttrain-rmse:682.77463+8.47431\ttest-rmse:931.02681+67.84101\n",
            "[700]\ttrain-rmse:659.21522+8.06506\ttest-rmse:920.15413+68.45566\n",
            "[750]\ttrain-rmse:638.22273+8.33837\ttest-rmse:910.99469+68.24777\n",
            "[800]\ttrain-rmse:618.85497+9.02520\ttest-rmse:902.62493+68.52685\n",
            "[850]\ttrain-rmse:601.45595+9.13904\ttest-rmse:896.34152+68.27340\n",
            "[900]\ttrain-rmse:585.37014+9.26474\ttest-rmse:890.31566+68.09132\n",
            "[950]\ttrain-rmse:570.29430+8.92365\ttest-rmse:885.04407+68.22759\n",
            "[1000]\ttrain-rmse:556.31113+8.58699\ttest-rmse:880.63934+68.35048\n",
            "[1050]\ttrain-rmse:543.32297+8.23366\ttest-rmse:876.70539+68.56795\n",
            "[1100]\ttrain-rmse:531.07733+8.25528\ttest-rmse:873.18272+68.27491\n",
            "[1150]\ttrain-rmse:519.60568+8.06803\ttest-rmse:869.94251+68.08730\n",
            "[1200]\ttrain-rmse:508.53347+7.58232\ttest-rmse:867.20368+68.02434\n",
            "[1250]\ttrain-rmse:498.20382+7.42386\ttest-rmse:864.52374+67.93509\n",
            "[1300]\ttrain-rmse:487.77070+7.53502\ttest-rmse:861.83019+67.71240\n",
            "[1350]\ttrain-rmse:478.82514+7.40941\ttest-rmse:859.98653+67.91833\n",
            "[1400]\ttrain-rmse:469.43058+7.22720\ttest-rmse:858.05507+67.82800\n",
            "[1450]\ttrain-rmse:460.76483+7.15618\ttest-rmse:856.52952+67.78856\n",
            "[1500]\ttrain-rmse:452.20410+6.73447\ttest-rmse:854.95248+67.79234\n",
            "[1550]\ttrain-rmse:443.69213+6.72681\ttest-rmse:853.47089+67.76480\n",
            "[1600]\ttrain-rmse:435.63173+6.56422\ttest-rmse:851.81893+67.56396\n",
            "[1650]\ttrain-rmse:428.09117+6.44534\ttest-rmse:850.41410+67.71831\n",
            "[1655]\ttrain-rmse:427.32610+6.40266\ttest-rmse:850.28426+67.72356\n"
          ]
        },
        {
          "metadata": {
            "tags": null
          },
          "name": "stderr",
          "output_type": "stream",
          "text": [
            "[I 2025-01-28 17:05:10,701] Trial 54 finished with value: 850.284256033242 and parameters: {'booster': 'gbtree', 'learning_rate': 0.0052294929856204235, 'max_depth': 6, 'gamma': 0.4182364000514887, 'subsample': 0.7701419116696792, 'reg_alpha': 2.8765109555061615e-08, 'reg_lambda': 3.1285347009383544e-06, 'colsample_bytree': 0.8263627963685537, 'min_child_weight': 0, 'n_estimators': 1656}. Best is trial 35 with value: 827.7384825403853.\n"
          ]
        },
        {
          "metadata": {
            "tags": null
          },
          "name": "stdout",
          "output_type": "stream",
          "text": [
            "[0]\ttrain-rmse:1815.32386+28.69532\ttest-rmse:1812.40321+122.84769\n",
            "[50]\ttrain-rmse:1444.76026+13.17655\ttest-rmse:1497.09128+83.01452\n",
            "[100]\ttrain-rmse:1191.52234+10.04942\ttest-rmse:1286.78220+65.63966\n",
            "[150]\ttrain-rmse:1015.44155+13.00536\ttest-rmse:1151.13497+63.13262\n",
            "[200]\ttrain-rmse:884.16257+9.67485\ttest-rmse:1056.74437+65.91745\n",
            "[250]\ttrain-rmse:786.54577+9.57168\ttest-rmse:994.03744+68.08622\n",
            "[300]\ttrain-rmse:709.68727+10.43805\ttest-rmse:950.82206+66.98567\n",
            "[350]\ttrain-rmse:651.26924+10.06990\ttest-rmse:920.75171+66.75362\n",
            "[400]\ttrain-rmse:603.79260+9.22344\ttest-rmse:900.28863+67.11869\n",
            "[450]\ttrain-rmse:563.80891+9.34720\ttest-rmse:885.54518+67.57612\n",
            "[500]\ttrain-rmse:531.26461+9.17836\ttest-rmse:875.04016+67.66610\n",
            "[550]\ttrain-rmse:502.90326+8.43081\ttest-rmse:866.89507+68.22338\n",
            "[600]\ttrain-rmse:477.92518+8.04940\ttest-rmse:860.29080+67.48635\n",
            "[650]\ttrain-rmse:455.91699+8.21666\ttest-rmse:855.62591+67.45935\n",
            "[700]\ttrain-rmse:436.70611+7.83519\ttest-rmse:851.42061+67.79865\n",
            "[750]\ttrain-rmse:418.95138+7.94669\ttest-rmse:848.19142+67.94716\n",
            "[800]\ttrain-rmse:402.07178+7.94501\ttest-rmse:845.47585+68.00952\n",
            "[850]\ttrain-rmse:386.35359+7.52284\ttest-rmse:843.12051+67.95081\n",
            "[900]\ttrain-rmse:371.88098+7.45467\ttest-rmse:840.80874+67.81046\n",
            "[950]\ttrain-rmse:358.03681+6.92608\ttest-rmse:838.89814+67.60129\n",
            "[1000]\ttrain-rmse:344.67055+6.46417\ttest-rmse:837.73626+67.77907\n",
            "[1050]\ttrain-rmse:332.72370+6.15367\ttest-rmse:836.67889+67.56656\n",
            "[1100]\ttrain-rmse:320.81313+5.82660\ttest-rmse:835.79426+67.69985\n",
            "[1150]\ttrain-rmse:309.84029+5.39730\ttest-rmse:834.80524+67.53208\n",
            "[1200]\ttrain-rmse:299.30989+5.13040\ttest-rmse:834.16662+67.48709\n",
            "[1250]\ttrain-rmse:289.04693+4.71810\ttest-rmse:833.46369+67.16719\n",
            "[1300]\ttrain-rmse:279.16694+4.21423\ttest-rmse:832.40602+67.14428\n",
            "[1350]\ttrain-rmse:270.18260+4.18577\ttest-rmse:831.77459+67.14885\n",
            "[1400]\ttrain-rmse:261.62384+4.15516\ttest-rmse:831.00026+67.22217\n",
            "[1450]\ttrain-rmse:252.86457+4.00620\ttest-rmse:830.59184+67.22177\n",
            "[1500]\ttrain-rmse:244.82756+3.66846\ttest-rmse:830.21123+67.14598\n",
            "[1550]\ttrain-rmse:237.01350+3.56804\ttest-rmse:829.68651+67.30259\n",
            "[1600]\ttrain-rmse:229.73083+3.47277\ttest-rmse:829.38419+67.31555\n",
            "[1635]\ttrain-rmse:224.82118+3.25056\ttest-rmse:829.25885+67.23311\n"
          ]
        },
        {
          "metadata": {
            "tags": null
          },
          "name": "stderr",
          "output_type": "stream",
          "text": [
            "[I 2025-01-28 17:05:58,130] Trial 55 finished with value: 829.2152378701409 and parameters: {'booster': 'gbtree', 'learning_rate': 0.007942321973391736, 'max_depth': 7, 'gamma': 0.0051033832824187286, 'subsample': 0.602686486783961, 'reg_alpha': 1.66637075581787e-07, 'reg_lambda': 0.0003101874337736538, 'colsample_bytree': 0.9506544313203132, 'min_child_weight': 1, 'n_estimators': 2580}. Best is trial 35 with value: 827.7384825403853.\n"
          ]
        },
        {
          "metadata": {
            "tags": null
          },
          "name": "stdout",
          "output_type": "stream",
          "text": [
            "[0]\ttrain-rmse:1526.83690+13.50537\ttest-rmse:1562.42642+113.43410\n",
            "[39]\ttrain-rmse:239.02379+11.62951\ttest-rmse:945.83824+56.00216\n"
          ]
        },
        {
          "metadata": {
            "tags": null
          },
          "name": "stderr",
          "output_type": "stream",
          "text": [
            "[I 2025-01-28 17:05:59,282] Trial 56 finished with value: 939.1475051076219 and parameters: {'booster': 'gbtree', 'learning_rate': 0.29287270779894636, 'max_depth': 8, 'gamma': 0.005147881571455862, 'subsample': 0.6020711612358645, 'reg_alpha': 1.8796037095350408e-06, 'reg_lambda': 0.0002966384248719309, 'colsample_bytree': 0.9963119890896076, 'min_child_weight': 2, 'n_estimators': 2588}. Best is trial 35 with value: 827.7384825403853.\n"
          ]
        },
        {
          "metadata": {
            "tags": null
          },
          "name": "stdout",
          "output_type": "stream",
          "text": [
            "[0]\ttrain-rmse:1814.53370+29.57208\ttest-rmse:1811.25674+121.95685\n",
            "[50]\ttrain-rmse:1451.51474+16.29261\ttest-rmse:1501.68666+81.03016\n",
            "[100]\ttrain-rmse:1202.27721+9.54605\ttest-rmse:1297.37941+66.05353\n",
            "[150]\ttrain-rmse:1027.63915+9.43712\ttest-rmse:1163.19736+62.83143\n",
            "[200]\ttrain-rmse:897.99422+8.77250\ttest-rmse:1071.15115+66.31842\n",
            "[250]\ttrain-rmse:800.66439+9.06329\ttest-rmse:1008.72607+66.48333\n",
            "[300]\ttrain-rmse:721.43846+9.42316\ttest-rmse:962.15791+67.43236\n",
            "[350]\ttrain-rmse:660.19826+9.36786\ttest-rmse:930.89698+68.00442\n",
            "[400]\ttrain-rmse:609.93853+9.79121\ttest-rmse:908.28039+68.16452\n",
            "[450]\ttrain-rmse:568.82065+10.05641\ttest-rmse:892.05120+68.09454\n",
            "[500]\ttrain-rmse:535.28201+10.04570\ttest-rmse:880.58126+67.95336\n",
            "[550]\ttrain-rmse:505.53692+9.49029\ttest-rmse:871.38369+68.50451\n",
            "[600]\ttrain-rmse:479.21354+9.27190\ttest-rmse:863.84423+68.55410\n",
            "[650]\ttrain-rmse:456.28845+9.04003\ttest-rmse:858.79201+68.29119\n",
            "[700]\ttrain-rmse:435.99384+7.94874\ttest-rmse:854.97458+68.23750\n",
            "[750]\ttrain-rmse:417.45123+7.98755\ttest-rmse:851.68925+68.21967\n",
            "[800]\ttrain-rmse:400.10936+7.47620\ttest-rmse:848.51206+68.12987\n",
            "[850]\ttrain-rmse:384.41959+7.34204\ttest-rmse:845.90242+67.58536\n",
            "[900]\ttrain-rmse:369.83815+7.43798\ttest-rmse:844.07997+67.20889\n",
            "[950]\ttrain-rmse:356.21359+6.55699\ttest-rmse:842.09618+67.35135\n",
            "[1000]\ttrain-rmse:342.79882+5.77403\ttest-rmse:840.53318+67.28227\n",
            "[1050]\ttrain-rmse:330.60030+5.47973\ttest-rmse:839.20067+67.04234\n",
            "[1100]\ttrain-rmse:318.77940+5.45643\ttest-rmse:838.34580+67.00615\n",
            "[1150]\ttrain-rmse:307.57828+4.85511\ttest-rmse:837.41420+66.95823\n",
            "[1200]\ttrain-rmse:296.84384+5.04405\ttest-rmse:836.43431+66.83618\n",
            "[1250]\ttrain-rmse:287.20188+4.92316\ttest-rmse:835.65398+66.67169\n",
            "[1300]\ttrain-rmse:277.78956+4.92940\ttest-rmse:834.77759+66.77255\n",
            "[1350]\ttrain-rmse:268.71975+4.59976\ttest-rmse:834.12793+66.79346\n",
            "[1400]\ttrain-rmse:260.37821+4.60057\ttest-rmse:833.61447+66.99392\n",
            "[1450]\ttrain-rmse:251.88598+4.29055\ttest-rmse:833.06089+66.74246\n",
            "[1500]\ttrain-rmse:243.70188+3.99834\ttest-rmse:832.49962+66.69346\n",
            "[1550]\ttrain-rmse:235.79811+3.83418\ttest-rmse:832.01079+66.74026\n",
            "[1600]\ttrain-rmse:228.50241+3.76675\ttest-rmse:831.67826+66.64974\n",
            "[1650]\ttrain-rmse:221.56222+3.65488\ttest-rmse:831.42323+66.54286\n",
            "[1700]\ttrain-rmse:215.00654+3.53438\ttest-rmse:830.96449+66.48889\n",
            "[1750]\ttrain-rmse:208.68595+3.36534\ttest-rmse:830.74114+66.56318\n",
            "[1800]\ttrain-rmse:202.71841+3.35710\ttest-rmse:830.47659+66.53170\n",
            "[1850]\ttrain-rmse:196.94848+3.21190\ttest-rmse:830.18064+66.30645\n",
            "[1879]\ttrain-rmse:193.48573+3.10449\ttest-rmse:830.16301+66.25471\n"
          ]
        },
        {
          "metadata": {
            "tags": null
          },
          "name": "stderr",
          "output_type": "stream",
          "text": [
            "[I 2025-01-28 17:06:49,755] Trial 57 finished with value: 830.1580451889158 and parameters: {'booster': 'gbtree', 'learning_rate': 0.007641790632493172, 'max_depth': 7, 'gamma': 0.0010063610713581096, 'subsample': 0.7011607291812192, 'reg_alpha': 1.56438321796699e-08, 'reg_lambda': 0.0006115081290449518, 'colsample_bytree': 0.8932502252562483, 'min_child_weight': 1, 'n_estimators': 2906}. Best is trial 35 with value: 827.7384825403853.\n"
          ]
        },
        {
          "metadata": {
            "tags": null
          },
          "name": "stdout",
          "output_type": "stream",
          "text": [
            "[0]\ttrain-rmse:1814.03934+29.46876\ttest-rmse:1811.34832+122.74403\n",
            "[50]\ttrain-rmse:1463.46269+18.22964\ttest-rmse:1499.14994+85.01851\n",
            "[100]\ttrain-rmse:1225.86965+12.74162\ttest-rmse:1296.80421+69.39361\n",
            "[150]\ttrain-rmse:1057.00018+12.24952\ttest-rmse:1160.38593+64.04176\n",
            "[200]\ttrain-rmse:935.25106+12.28175\ttest-rmse:1070.50383+63.41947\n",
            "[250]\ttrain-rmse:843.40632+11.98572\ttest-rmse:1009.99719+62.63589\n",
            "[300]\ttrain-rmse:768.64940+13.45305\ttest-rmse:962.61477+62.55997\n",
            "[350]\ttrain-rmse:709.93875+13.39162\ttest-rmse:930.77680+61.96453\n",
            "[400]\ttrain-rmse:662.61358+13.78318\ttest-rmse:908.12776+61.42226\n",
            "[450]\ttrain-rmse:623.67367+13.56049\ttest-rmse:892.00607+61.27820\n",
            "[500]\ttrain-rmse:592.47262+13.76023\ttest-rmse:880.59107+60.99039\n",
            "[550]\ttrain-rmse:565.52846+13.01767\ttest-rmse:871.54782+61.27458\n",
            "[600]\ttrain-rmse:542.36467+12.96157\ttest-rmse:865.30631+60.60373\n",
            "[650]\ttrain-rmse:521.54088+12.21725\ttest-rmse:860.21979+60.43209\n",
            "[700]\ttrain-rmse:503.07726+11.25026\ttest-rmse:855.62524+60.56231\n",
            "[750]\ttrain-rmse:485.89264+11.37541\ttest-rmse:851.98650+60.47165\n",
            "[800]\ttrain-rmse:470.16012+11.08405\ttest-rmse:849.09765+60.97371\n",
            "[850]\ttrain-rmse:455.91277+10.58891\ttest-rmse:846.87473+60.74668\n",
            "[900]\ttrain-rmse:441.96192+10.41858\ttest-rmse:844.77754+60.51426\n",
            "[950]\ttrain-rmse:429.00187+9.91730\ttest-rmse:842.81402+60.53800\n",
            "[1000]\ttrain-rmse:417.02988+9.44980\ttest-rmse:841.33664+60.35631\n",
            "[1050]\ttrain-rmse:405.59222+8.23912\ttest-rmse:839.81100+60.50102\n",
            "[1100]\ttrain-rmse:394.49394+7.76669\ttest-rmse:838.72302+60.49750\n",
            "[1150]\ttrain-rmse:383.48437+7.31968\ttest-rmse:837.55797+60.57440\n",
            "[1200]\ttrain-rmse:373.19011+7.12159\ttest-rmse:836.48694+60.63028\n",
            "[1250]\ttrain-rmse:363.51250+7.57342\ttest-rmse:835.57154+60.52574\n",
            "[1300]\ttrain-rmse:353.58318+7.14099\ttest-rmse:834.59453+60.32200\n",
            "[1350]\ttrain-rmse:344.88431+6.85968\ttest-rmse:834.20505+60.30779\n",
            "[1400]\ttrain-rmse:336.13822+6.48365\ttest-rmse:833.69973+60.22907\n",
            "[1450]\ttrain-rmse:327.95164+6.25887\ttest-rmse:833.23664+60.11019\n",
            "[1500]\ttrain-rmse:319.43311+5.87912\ttest-rmse:832.72141+60.01310\n",
            "[1550]\ttrain-rmse:311.74426+5.63875\ttest-rmse:832.26464+60.00434\n",
            "[1600]\ttrain-rmse:303.98981+5.47407\ttest-rmse:831.95440+60.08357\n",
            "[1650]\ttrain-rmse:296.48581+5.36686\ttest-rmse:831.64500+60.13527\n",
            "[1683]\ttrain-rmse:291.87031+5.19731\ttest-rmse:831.53201+60.07267\n"
          ]
        },
        {
          "metadata": {
            "tags": null
          },
          "name": "stderr",
          "output_type": "stream",
          "text": [
            "[I 2025-01-28 17:07:21,363] Trial 58 finished with value: 831.5156891211391 and parameters: {'booster': 'gbtree', 'learning_rate': 0.007586498096881698, 'max_depth': 7, 'gamma': 0.00019439340023008614, 'subsample': 0.7973475697859633, 'reg_alpha': 2.1044558747262007e-08, 'reg_lambda': 0.0018458190236154235, 'colsample_bytree': 0.7765955473166531, 'min_child_weight': 4, 'n_estimators': 2871}. Best is trial 35 with value: 827.7384825403853.\n"
          ]
        },
        {
          "metadata": {
            "tags": null
          },
          "name": "stdout",
          "output_type": "stream",
          "text": [
            "[0]\ttrain-rmse:1816.63033+29.29801\ttest-rmse:1813.28687+122.44216\n",
            "[50]\ttrain-rmse:1509.97466+19.54646\ttest-rmse:1545.36808+92.19830\n",
            "[100]\ttrain-rmse:1279.12436+13.57412\ttest-rmse:1348.97013+77.89314\n",
            "[150]\ttrain-rmse:1106.57612+12.16564\ttest-rmse:1210.99204+69.85450\n",
            "[200]\ttrain-rmse:972.86049+10.65844\ttest-rmse:1111.26806+68.85486\n",
            "[250]\ttrain-rmse:869.54237+10.64353\ttest-rmse:1041.41826+68.13232\n",
            "[300]\ttrain-rmse:784.71178+10.59492\ttest-rmse:988.47146+68.60205\n",
            "[350]\ttrain-rmse:717.14239+10.58280\ttest-rmse:950.08038+68.64611\n",
            "[400]\ttrain-rmse:660.50615+10.06042\ttest-rmse:922.14200+68.24055\n",
            "[450]\ttrain-rmse:612.18539+10.93441\ttest-rmse:900.69106+67.63660\n",
            "[500]\ttrain-rmse:572.52382+11.99098\ttest-rmse:884.73616+66.91748\n",
            "[550]\ttrain-rmse:538.58263+11.33635\ttest-rmse:873.30498+66.31060\n",
            "[600]\ttrain-rmse:508.82798+11.33713\ttest-rmse:864.37839+66.09780\n",
            "[650]\ttrain-rmse:482.80157+11.45988\ttest-rmse:858.47029+65.34609\n",
            "[700]\ttrain-rmse:460.19141+10.28551\ttest-rmse:853.63782+65.09468\n",
            "[750]\ttrain-rmse:440.27541+9.65768\ttest-rmse:849.71744+65.32071\n",
            "[800]\ttrain-rmse:422.04904+9.28443\ttest-rmse:846.37097+65.41077\n",
            "[850]\ttrain-rmse:405.49836+8.86718\ttest-rmse:843.58299+64.94342\n",
            "[900]\ttrain-rmse:390.18659+8.75529\ttest-rmse:841.62952+64.79079\n",
            "[950]\ttrain-rmse:375.88400+8.31019\ttest-rmse:839.46498+64.74124\n",
            "[1000]\ttrain-rmse:362.61313+7.84184\ttest-rmse:837.72435+64.61274\n",
            "[1050]\ttrain-rmse:350.62522+6.84262\ttest-rmse:836.41305+64.67227\n",
            "[1100]\ttrain-rmse:339.03615+6.89129\ttest-rmse:835.38939+64.52214\n",
            "[1150]\ttrain-rmse:327.88389+6.59223\ttest-rmse:834.35730+64.53678\n",
            "[1200]\ttrain-rmse:317.36889+6.60736\ttest-rmse:833.58244+64.50731\n",
            "[1250]\ttrain-rmse:307.70405+6.73076\ttest-rmse:832.62989+64.49889\n",
            "[1300]\ttrain-rmse:298.04139+6.14558\ttest-rmse:831.78757+64.32783\n",
            "[1350]\ttrain-rmse:289.33851+5.83281\ttest-rmse:831.27462+64.38316\n",
            "[1400]\ttrain-rmse:280.41437+5.55942\ttest-rmse:830.68791+64.55623\n",
            "[1450]\ttrain-rmse:272.05650+5.11488\ttest-rmse:830.26794+64.53494\n",
            "[1500]\ttrain-rmse:263.92794+4.83372\ttest-rmse:829.71567+64.47584\n",
            "[1550]\ttrain-rmse:256.38820+4.63075\ttest-rmse:829.08817+64.53219\n",
            "[1600]\ttrain-rmse:248.94795+4.51706\ttest-rmse:828.59708+64.43214\n",
            "[1650]\ttrain-rmse:241.77368+4.23122\ttest-rmse:828.13618+64.54632\n",
            "[1700]\ttrain-rmse:235.07974+4.14710\ttest-rmse:827.76306+64.41421\n",
            "[1746]\ttrain-rmse:228.94057+4.07497\ttest-rmse:827.61971+64.49081\n"
          ]
        },
        {
          "metadata": {
            "tags": null
          },
          "name": "stderr",
          "output_type": "stream",
          "text": [
            "[I 2025-01-28 17:08:12,684] Trial 59 finished with value: 827.582733057586 and parameters: {'booster': 'gbtree', 'learning_rate': 0.005761182983983303, 'max_depth': 8, 'gamma': 0.0013289904295098788, 'subsample': 0.7590748268892051, 'reg_alpha': 5.1606562795473773e-08, 'reg_lambda': 0.0002492839537261379, 'colsample_bytree': 0.89076982141477, 'min_child_weight': 3, 'n_estimators': 3223}. Best is trial 59 with value: 827.582733057586.\n"
          ]
        },
        {
          "metadata": {
            "tags": null
          },
          "name": "stdout",
          "output_type": "stream",
          "text": [
            "[0]\ttrain-rmse:1819.57591+29.41777\ttest-rmse:1816.08619+122.76982\n",
            "[50]\ttrain-rmse:1656.38141+24.36412\ttest-rmse:1671.50994+104.66739\n",
            "[100]\ttrain-rmse:1516.12177+20.38744\ttest-rmse:1549.02848+90.92883\n",
            "[150]\ttrain-rmse:1393.03864+17.77338\ttest-rmse:1444.13269+81.27208\n",
            "[200]\ttrain-rmse:1286.22319+15.42068\ttest-rmse:1354.61769+75.21713\n",
            "[250]\ttrain-rmse:1194.59001+13.69051\ttest-rmse:1281.58146+70.55300\n",
            "[300]\ttrain-rmse:1112.42451+12.38325\ttest-rmse:1216.47210+68.25845\n",
            "[350]\ttrain-rmse:1040.65347+11.59249\ttest-rmse:1161.88847+67.20868\n",
            "[400]\ttrain-rmse:976.76885+10.71352\ttest-rmse:1115.02011+67.18100\n",
            "[450]\ttrain-rmse:920.39879+9.96926\ttest-rmse:1075.25967+67.54848\n",
            "[500]\ttrain-rmse:871.15591+9.61750\ttest-rmse:1043.09160+67.09609\n",
            "[550]\ttrain-rmse:827.09255+9.04744\ttest-rmse:1014.85864+67.14119\n",
            "[600]\ttrain-rmse:787.09013+9.71150\ttest-rmse:990.35627+66.83312\n",
            "[650]\ttrain-rmse:750.55430+9.69998\ttest-rmse:969.34153+66.84788\n",
            "[700]\ttrain-rmse:718.20279+9.94616\ttest-rmse:952.39199+66.49991\n",
            "[750]\ttrain-rmse:688.91573+10.21233\ttest-rmse:937.43442+66.25552\n",
            "[800]\ttrain-rmse:662.48605+10.42337\ttest-rmse:924.27979+66.00161\n",
            "[850]\ttrain-rmse:637.95041+10.58343\ttest-rmse:913.19374+65.78480\n",
            "[900]\ttrain-rmse:615.68059+10.68514\ttest-rmse:903.84378+65.30111\n",
            "[950]\ttrain-rmse:594.62408+10.56397\ttest-rmse:895.15925+65.13648\n",
            "[1000]\ttrain-rmse:575.62795+10.76807\ttest-rmse:887.82206+64.68109\n",
            "[1050]\ttrain-rmse:557.86872+10.46683\ttest-rmse:881.43909+64.71362\n",
            "[1100]\ttrain-rmse:541.54927+10.41502\ttest-rmse:876.62921+64.51100\n",
            "[1150]\ttrain-rmse:525.88918+10.11759\ttest-rmse:871.75487+64.22615\n",
            "[1200]\ttrain-rmse:511.69871+10.11908\ttest-rmse:867.52172+63.80207\n",
            "[1250]\ttrain-rmse:498.63394+10.17767\ttest-rmse:863.65359+63.77080\n",
            "[1300]\ttrain-rmse:485.64814+10.09883\ttest-rmse:860.29137+63.57104\n",
            "[1350]\ttrain-rmse:474.28066+9.84868\ttest-rmse:857.62501+63.65604\n",
            "[1400]\ttrain-rmse:463.59915+9.79352\ttest-rmse:855.08956+63.65404\n",
            "[1450]\ttrain-rmse:453.61372+9.81260\ttest-rmse:853.04555+63.61513\n",
            "[1500]\ttrain-rmse:443.78291+9.65545\ttest-rmse:850.94484+63.56395\n",
            "[1550]\ttrain-rmse:434.78614+9.72934\ttest-rmse:849.12366+63.53687\n",
            "[1600]\ttrain-rmse:426.03765+9.61173\ttest-rmse:847.52081+63.30032\n",
            "[1650]\ttrain-rmse:417.62552+9.51853\ttest-rmse:846.06332+63.32564\n",
            "[1700]\ttrain-rmse:409.67689+9.18845\ttest-rmse:844.80406+63.21118\n",
            "[1750]\ttrain-rmse:402.29078+9.00791\ttest-rmse:843.78600+63.23393\n",
            "[1800]\ttrain-rmse:394.96597+9.04560\ttest-rmse:842.97530+63.08546\n",
            "[1850]\ttrain-rmse:387.70192+8.89803\ttest-rmse:841.87710+63.10626\n",
            "[1900]\ttrain-rmse:380.70951+8.82512\ttest-rmse:840.92981+63.03303\n",
            "[1950]\ttrain-rmse:374.00920+8.71279\ttest-rmse:840.12427+62.97921\n",
            "[2000]\ttrain-rmse:367.75353+8.56266\ttest-rmse:839.48717+62.86641\n",
            "[2050]\ttrain-rmse:361.71571+8.33342\ttest-rmse:838.79643+62.82427\n",
            "[2100]\ttrain-rmse:355.60720+8.32698\ttest-rmse:837.98302+63.03404\n",
            "[2150]\ttrain-rmse:349.85106+8.26644\ttest-rmse:837.34448+63.00678\n",
            "[2200]\ttrain-rmse:344.16862+8.07684\ttest-rmse:836.57198+63.05672\n",
            "[2250]\ttrain-rmse:338.54501+7.98353\ttest-rmse:836.02227+63.09021\n",
            "[2300]\ttrain-rmse:332.95223+7.65909\ttest-rmse:835.45622+63.13928\n",
            "[2350]\ttrain-rmse:327.66226+7.50195\ttest-rmse:835.02020+63.24699\n",
            "[2400]\ttrain-rmse:322.55057+7.22389\ttest-rmse:834.59837+63.15776\n",
            "[2450]\ttrain-rmse:317.48590+6.99020\ttest-rmse:834.12555+63.09768\n",
            "[2500]\ttrain-rmse:312.58869+6.75479\ttest-rmse:833.76646+62.94458\n",
            "[2550]\ttrain-rmse:307.88994+6.60258\ttest-rmse:833.39434+62.95543\n",
            "[2600]\ttrain-rmse:303.25254+6.38982\ttest-rmse:832.95374+62.92092\n",
            "[2650]\ttrain-rmse:298.66132+6.28196\ttest-rmse:832.58355+62.93286\n",
            "[2700]\ttrain-rmse:294.10785+6.20849\ttest-rmse:832.19635+62.91259\n",
            "[2750]\ttrain-rmse:289.77111+6.04394\ttest-rmse:831.87031+62.81509\n",
            "[2800]\ttrain-rmse:285.48592+6.06996\ttest-rmse:831.59936+62.72090\n",
            "[2850]\ttrain-rmse:281.22504+6.04546\ttest-rmse:831.33366+62.78831\n",
            "[2900]\ttrain-rmse:277.08345+5.96038\ttest-rmse:831.07158+62.73888\n",
            "[2950]\ttrain-rmse:273.05840+5.92363\ttest-rmse:830.83529+62.63221\n",
            "[3000]\ttrain-rmse:269.12298+5.81476\ttest-rmse:830.59211+62.52442\n",
            "[3050]\ttrain-rmse:265.34015+5.58952\ttest-rmse:830.43295+62.55686\n",
            "[3100]\ttrain-rmse:261.60804+5.34475\ttest-rmse:830.21910+62.58915\n",
            "[3150]\ttrain-rmse:257.84900+5.15045\ttest-rmse:830.03572+62.62368\n",
            "[3169]\ttrain-rmse:256.47188+5.11605\ttest-rmse:829.98768+62.59247\n"
          ]
        },
        {
          "metadata": {
            "tags": null
          },
          "name": "stderr",
          "output_type": "stream",
          "text": [
            "[I 2025-01-28 17:09:40,976] Trial 60 finished with value: 829.987683593522 and parameters: {'booster': 'gbtree', 'learning_rate': 0.002883976350182437, 'max_depth': 8, 'gamma': 0.0013767437483761448, 'subsample': 0.754071580939785, 'reg_alpha': 1.7075424146550082e-08, 'reg_lambda': 0.00049593328677919, 'colsample_bytree': 0.7201627986849803, 'min_child_weight': 3, 'n_estimators': 3170}. Best is trial 59 with value: 827.582733057586.\n"
          ]
        },
        {
          "metadata": {
            "tags": null
          },
          "name": "stdout",
          "output_type": "stream",
          "text": [
            "[0]\ttrain-rmse:1821.52024+29.50159\ttest-rmse:1817.93237+122.87918\n",
            "[50]\ttrain-rmse:1738.72537+27.07711\ttest-rmse:1743.67406+113.62298\n",
            "[100]\ttrain-rmse:1662.32481+24.71189\ttest-rmse:1675.42303+105.68412\n",
            "[150]\ttrain-rmse:1590.40049+22.81399\ttest-rmse:1611.61974+98.78428\n",
            "[200]\ttrain-rmse:1523.87625+21.18282\ttest-rmse:1553.17124+92.77535\n",
            "[250]\ttrain-rmse:1463.14591+19.57985\ttest-rmse:1501.10701+87.32480\n",
            "[300]\ttrain-rmse:1404.96708+18.30073\ttest-rmse:1451.20125+83.14515\n",
            "[350]\ttrain-rmse:1350.81206+17.18161\ttest-rmse:1405.13623+79.49810\n",
            "[400]\ttrain-rmse:1299.91338+16.34599\ttest-rmse:1362.32851+76.52935\n",
            "[450]\ttrain-rmse:1251.97141+15.79224\ttest-rmse:1322.43705+74.08715\n",
            "[500]\ttrain-rmse:1207.83805+14.88193\ttest-rmse:1286.68683+71.99717\n",
            "[550]\ttrain-rmse:1167.08926+14.13845\ttest-rmse:1253.63474+70.35277\n",
            "[600]\ttrain-rmse:1127.65293+13.79143\ttest-rmse:1221.86690+69.12604\n",
            "[650]\ttrain-rmse:1090.38630+13.28804\ttest-rmse:1192.63709+68.24478\n",
            "[700]\ttrain-rmse:1057.04722+13.16486\ttest-rmse:1167.32387+66.86894\n",
            "[750]\ttrain-rmse:1025.73279+12.73358\ttest-rmse:1143.87159+66.45206\n",
            "[800]\ttrain-rmse:996.55488+12.63083\ttest-rmse:1122.20890+66.08075\n",
            "[850]\ttrain-rmse:968.18634+12.25726\ttest-rmse:1101.47085+65.88571\n",
            "[900]\ttrain-rmse:942.33860+12.47032\ttest-rmse:1083.32385+65.40021\n",
            "[950]\ttrain-rmse:916.93537+12.37783\ttest-rmse:1065.30560+65.34895\n",
            "[1000]\ttrain-rmse:893.60369+12.43148\ttest-rmse:1049.59947+65.00962\n",
            "[1050]\ttrain-rmse:871.59010+12.27681\ttest-rmse:1034.98689+65.03936\n",
            "[1100]\ttrain-rmse:850.61287+12.50166\ttest-rmse:1021.63342+65.03544\n",
            "[1150]\ttrain-rmse:830.57082+12.31497\ttest-rmse:1008.70811+65.03762\n",
            "[1200]\ttrain-rmse:811.88986+12.55450\ttest-rmse:996.90072+65.03280\n",
            "[1250]\ttrain-rmse:793.85402+12.54814\ttest-rmse:985.59433+65.10805\n",
            "[1300]\ttrain-rmse:776.28867+12.50738\ttest-rmse:974.87395+65.23403\n",
            "[1350]\ttrain-rmse:760.51948+12.70112\ttest-rmse:965.68880+65.21322\n",
            "[1400]\ttrain-rmse:745.00715+12.66519\ttest-rmse:956.84744+65.26858\n",
            "[1450]\ttrain-rmse:730.64436+12.67962\ttest-rmse:949.00294+65.47614\n",
            "[1500]\ttrain-rmse:716.69572+12.87414\ttest-rmse:941.61201+65.35692\n",
            "[1550]\ttrain-rmse:703.47230+12.88863\ttest-rmse:934.52944+65.43677\n",
            "[1600]\ttrain-rmse:690.73305+13.17250\ttest-rmse:928.06287+64.97540\n",
            "[1650]\ttrain-rmse:678.24426+13.17487\ttest-rmse:921.83990+65.02773\n",
            "[1700]\ttrain-rmse:666.67640+13.12301\ttest-rmse:916.36767+64.71838\n",
            "[1750]\ttrain-rmse:655.47215+13.23808\ttest-rmse:911.38007+64.84081\n",
            "[1800]\ttrain-rmse:644.97286+13.35328\ttest-rmse:906.89715+64.88068\n",
            "[1850]\ttrain-rmse:634.56408+13.34061\ttest-rmse:902.29774+64.80547\n",
            "[1900]\ttrain-rmse:624.90229+13.38196\ttest-rmse:898.20234+64.61753\n",
            "[1950]\ttrain-rmse:615.44287+13.37281\ttest-rmse:894.34567+64.41783\n",
            "[2000]\ttrain-rmse:606.40620+13.30500\ttest-rmse:890.79236+64.32988\n",
            "[2050]\ttrain-rmse:597.69664+13.25724\ttest-rmse:887.41546+64.32095\n",
            "[2100]\ttrain-rmse:589.27886+13.28773\ttest-rmse:884.41564+64.29375\n",
            "[2150]\ttrain-rmse:581.04399+13.36298\ttest-rmse:881.49278+64.25152\n",
            "[2200]\ttrain-rmse:573.34934+13.34557\ttest-rmse:878.84721+64.10408\n",
            "[2250]\ttrain-rmse:565.92132+13.34004\ttest-rmse:876.27198+64.01466\n",
            "[2300]\ttrain-rmse:558.76434+13.18284\ttest-rmse:873.90604+63.79679\n",
            "[2350]\ttrain-rmse:551.64096+13.10792\ttest-rmse:871.89528+63.66156\n",
            "[2400]\ttrain-rmse:544.79033+13.00182\ttest-rmse:869.87634+63.45298\n",
            "[2450]\ttrain-rmse:538.40850+12.90220\ttest-rmse:868.02793+63.43917\n",
            "[2500]\ttrain-rmse:532.03717+12.93680\ttest-rmse:865.99199+63.37936\n",
            "[2550]\ttrain-rmse:525.98806+12.79987\ttest-rmse:864.26057+63.26303\n",
            "[2600]\ttrain-rmse:520.13904+12.82657\ttest-rmse:862.79834+63.13140\n",
            "[2650]\ttrain-rmse:514.43747+12.85369\ttest-rmse:861.36930+62.90522\n",
            "[2700]\ttrain-rmse:508.89072+12.64449\ttest-rmse:859.83882+62.92466\n",
            "[2750]\ttrain-rmse:503.47493+12.68616\ttest-rmse:858.41505+63.00389\n",
            "[2800]\ttrain-rmse:498.31816+12.63548\ttest-rmse:857.20260+62.74325\n",
            "[2850]\ttrain-rmse:493.30262+12.60858\ttest-rmse:856.07387+62.75166\n",
            "[2900]\ttrain-rmse:488.42487+12.51493\ttest-rmse:854.96365+62.83005\n",
            "[2950]\ttrain-rmse:483.88000+12.42842\ttest-rmse:853.94209+62.72970\n",
            "[3000]\ttrain-rmse:479.23960+12.40659\ttest-rmse:852.89668+62.66813\n",
            "[3050]\ttrain-rmse:474.62882+12.22436\ttest-rmse:851.90952+62.62419\n",
            "[3100]\ttrain-rmse:470.10876+12.11085\ttest-rmse:850.94548+62.57157\n",
            "[3150]\ttrain-rmse:465.96438+11.99891\ttest-rmse:850.12756+62.46967\n",
            "[3200]\ttrain-rmse:461.83249+11.91391\ttest-rmse:849.28221+62.44151\n",
            "[3250]\ttrain-rmse:457.81021+11.92183\ttest-rmse:848.57548+62.48442\n",
            "[3300]\ttrain-rmse:453.85109+11.65542\ttest-rmse:847.87205+62.44147\n",
            "[3339]\ttrain-rmse:450.81300+11.62197\ttest-rmse:847.35482+62.44972\n"
          ]
        },
        {
          "metadata": {
            "tags": null
          },
          "name": "stderr",
          "output_type": "stream",
          "text": [
            "[I 2025-01-28 17:11:13,034] Trial 61 finished with value: 847.3548221821533 and parameters: {'booster': 'gbtree', 'learning_rate': 0.0014316071432135798, 'max_depth': 8, 'gamma': 0.0010781227789484454, 'subsample': 0.762874622958541, 'reg_alpha': 1.142577005052255e-08, 'reg_lambda': 0.0006599108484443819, 'colsample_bytree': 0.7089460689010602, 'min_child_weight': 4, 'n_estimators': 3340}. Best is trial 59 with value: 827.582733057586.\n"
          ]
        },
        {
          "metadata": {
            "tags": null
          },
          "name": "stdout",
          "output_type": "stream",
          "text": [
            "[0]\ttrain-rmse:1819.44160+29.26385\ttest-rmse:1815.96769+122.78068\n",
            "[50]\ttrain-rmse:1634.46847+23.33343\ttest-rmse:1653.18785+102.80866\n",
            "[100]\ttrain-rmse:1477.17342+18.03143\ttest-rmse:1517.25582+90.96535\n",
            "[150]\ttrain-rmse:1343.67311+15.70589\ttest-rmse:1404.85985+80.90233\n",
            "[200]\ttrain-rmse:1227.96534+13.83633\ttest-rmse:1309.41021+75.97173\n",
            "[250]\ttrain-rmse:1131.31922+12.08965\ttest-rmse:1233.84185+72.83101\n",
            "[300]\ttrain-rmse:1046.25160+11.89944\ttest-rmse:1169.50178+71.96329\n",
            "[350]\ttrain-rmse:972.84964+10.92663\ttest-rmse:1115.96514+72.02682\n",
            "[400]\ttrain-rmse:910.01528+9.85498\ttest-rmse:1071.65028+72.78709\n",
            "[450]\ttrain-rmse:853.45798+9.75366\ttest-rmse:1033.92351+72.39067\n",
            "[500]\ttrain-rmse:804.46844+9.88895\ttest-rmse:1003.12945+72.19195\n",
            "[550]\ttrain-rmse:761.48589+9.99772\ttest-rmse:978.02686+71.98430\n",
            "[600]\ttrain-rmse:722.03692+10.43508\ttest-rmse:955.98682+71.92273\n",
            "[650]\ttrain-rmse:686.15677+10.46022\ttest-rmse:937.46474+71.62469\n",
            "[700]\ttrain-rmse:654.41620+10.52769\ttest-rmse:922.49563+70.67622\n",
            "[750]\ttrain-rmse:626.47709+10.80152\ttest-rmse:910.35133+70.26659\n",
            "[800]\ttrain-rmse:600.46041+10.87682\ttest-rmse:899.70773+70.11960\n",
            "[850]\ttrain-rmse:576.66353+10.91553\ttest-rmse:890.61915+69.85798\n",
            "[900]\ttrain-rmse:555.21703+10.98449\ttest-rmse:883.15656+69.49512\n",
            "[950]\ttrain-rmse:535.66409+10.75268\ttest-rmse:876.63474+69.44439\n",
            "[1000]\ttrain-rmse:517.28160+10.94263\ttest-rmse:871.29666+68.98127\n",
            "[1050]\ttrain-rmse:500.11553+10.42341\ttest-rmse:866.39513+68.73415\n",
            "[1100]\ttrain-rmse:484.59990+9.92467\ttest-rmse:862.71250+68.83219\n",
            "[1150]\ttrain-rmse:470.07072+9.66233\ttest-rmse:859.21199+68.63523\n",
            "[1200]\ttrain-rmse:456.57093+9.49386\ttest-rmse:856.00666+68.42770\n",
            "[1250]\ttrain-rmse:444.65450+9.77145\ttest-rmse:853.36576+68.25970\n",
            "[1300]\ttrain-rmse:432.82497+9.94599\ttest-rmse:851.11019+67.96567\n",
            "[1350]\ttrain-rmse:422.19137+10.11218\ttest-rmse:849.40005+67.81183\n",
            "[1400]\ttrain-rmse:412.12472+9.84429\ttest-rmse:847.61341+67.70788\n",
            "[1450]\ttrain-rmse:402.47588+9.79175\ttest-rmse:846.06505+67.51879\n",
            "[1500]\ttrain-rmse:393.29587+9.45083\ttest-rmse:844.57549+67.26248\n",
            "[1550]\ttrain-rmse:384.52180+9.33509\ttest-rmse:843.45736+67.16058\n",
            "[1600]\ttrain-rmse:376.18521+9.16813\ttest-rmse:842.32142+67.22644\n",
            "[1650]\ttrain-rmse:368.31872+9.14031\ttest-rmse:841.32520+67.28310\n",
            "[1700]\ttrain-rmse:360.71899+9.06852\ttest-rmse:840.47096+67.19178\n",
            "[1750]\ttrain-rmse:353.17898+9.01423\ttest-rmse:839.57948+67.22309\n",
            "[1800]\ttrain-rmse:346.12662+8.95347\ttest-rmse:838.84119+67.07239\n",
            "[1850]\ttrain-rmse:339.64244+8.76183\ttest-rmse:838.04991+66.99438\n",
            "[1900]\ttrain-rmse:332.91554+8.56782\ttest-rmse:837.45563+66.97926\n",
            "[1950]\ttrain-rmse:326.81963+8.39626\ttest-rmse:836.94427+66.70079\n",
            "[2000]\ttrain-rmse:320.64426+8.18168\ttest-rmse:836.48249+66.75118\n",
            "[2050]\ttrain-rmse:314.40288+7.92464\ttest-rmse:835.91383+66.81139\n",
            "[2100]\ttrain-rmse:308.34529+7.77861\ttest-rmse:835.37410+66.70734\n",
            "[2150]\ttrain-rmse:302.77137+7.48506\ttest-rmse:834.93517+66.67777\n",
            "[2200]\ttrain-rmse:297.14725+7.17932\ttest-rmse:834.59781+66.60363\n",
            "[2250]\ttrain-rmse:292.07877+6.94529\ttest-rmse:834.26163+66.54474\n",
            "[2300]\ttrain-rmse:286.73475+6.84571\ttest-rmse:833.91652+66.48133\n",
            "[2350]\ttrain-rmse:281.62620+6.60508\ttest-rmse:833.54932+66.48346\n",
            "[2400]\ttrain-rmse:276.86963+6.43826\ttest-rmse:833.30073+66.45705\n",
            "[2450]\ttrain-rmse:272.02184+6.21483\ttest-rmse:832.93724+66.40396\n",
            "[2500]\ttrain-rmse:267.25756+6.01144\ttest-rmse:832.55280+66.41471\n",
            "[2550]\ttrain-rmse:262.71415+5.98439\ttest-rmse:832.30895+66.45376\n",
            "[2600]\ttrain-rmse:258.28945+5.81962\ttest-rmse:832.03630+66.43629\n",
            "[2650]\ttrain-rmse:253.77373+5.77937\ttest-rmse:831.81108+66.41792\n",
            "[2700]\ttrain-rmse:249.50165+5.60497\ttest-rmse:831.56936+66.39020\n",
            "[2750]\ttrain-rmse:245.25520+5.47545\ttest-rmse:831.36212+66.39619\n",
            "[2800]\ttrain-rmse:241.11332+5.44050\ttest-rmse:831.05762+66.38033\n",
            "[2850]\ttrain-rmse:237.04672+5.35531\ttest-rmse:830.97683+66.38685\n",
            "[2900]\ttrain-rmse:233.02463+5.23033\ttest-rmse:830.80914+66.33064\n",
            "[2950]\ttrain-rmse:229.35114+5.20789\ttest-rmse:830.64691+66.30369\n",
            "[3000]\ttrain-rmse:225.62763+5.16965\ttest-rmse:830.56250+66.29750\n",
            "[3050]\ttrain-rmse:221.99889+5.05057\ttest-rmse:830.51490+66.24668\n",
            "[3100]\ttrain-rmse:218.38702+4.66262\ttest-rmse:830.36662+66.22339\n",
            "[3150]\ttrain-rmse:214.92034+4.52964\ttest-rmse:830.26662+66.28955\n",
            "[3200]\ttrain-rmse:211.33416+4.50192\ttest-rmse:830.21800+66.23522\n",
            "[3228]\ttrain-rmse:209.39896+4.44425\ttest-rmse:830.18070+66.26978\n"
          ]
        },
        {
          "metadata": {
            "tags": null
          },
          "name": "stderr",
          "output_type": "stream",
          "text": [
            "[I 2025-01-28 17:12:48,668] Trial 62 finished with value: 830.1807011148425 and parameters: {'booster': 'gbtree', 'learning_rate': 0.0032541927619121804, 'max_depth': 8, 'gamma': 8.139539615245001e-05, 'subsample': 0.8306219129492636, 'reg_alpha': 1.0486117655540809e-08, 'reg_lambda': 5.175157087243272e-05, 'colsample_bytree': 0.8972850481726329, 'min_child_weight': 3, 'n_estimators': 3229}. Best is trial 59 with value: 827.582733057586.\n"
          ]
        },
        {
          "metadata": {
            "tags": null
          },
          "name": "stdout",
          "output_type": "stream",
          "text": [
            "[0]\ttrain-rmse:1816.79268+29.41405\ttest-rmse:1813.60178+122.65700\n",
            "[50]\ttrain-rmse:1531.69135+22.45729\ttest-rmse:1564.09874+93.86486\n",
            "[100]\ttrain-rmse:1309.50045+17.25594\ttest-rmse:1377.37380+78.24373\n",
            "[150]\ttrain-rmse:1136.34793+14.06792\ttest-rmse:1242.19327+71.38705\n",
            "[200]\ttrain-rmse:997.55805+11.76920\ttest-rmse:1139.28472+69.53239\n",
            "[250]\ttrain-rmse:888.77711+10.44417\ttest-rmse:1067.05567+68.02081\n",
            "[300]\ttrain-rmse:799.28455+10.92524\ttest-rmse:1011.95408+68.27465\n",
            "[350]\ttrain-rmse:726.29167+10.89391\ttest-rmse:970.34912+68.82043\n",
            "[400]\ttrain-rmse:664.72552+9.98772\ttest-rmse:938.41188+69.62482\n",
            "[450]\ttrain-rmse:612.88540+9.68927\ttest-rmse:915.76732+68.66658\n",
            "[500]\ttrain-rmse:569.75291+9.90885\ttest-rmse:899.00593+67.37245\n",
            "[550]\ttrain-rmse:533.17131+9.12869\ttest-rmse:885.89625+66.86162\n",
            "[600]\ttrain-rmse:500.90899+9.54679\ttest-rmse:875.62030+66.11254\n",
            "[650]\ttrain-rmse:471.80761+9.24407\ttest-rmse:868.27031+65.01001\n",
            "[700]\ttrain-rmse:447.12296+8.39311\ttest-rmse:862.58067+64.84279\n",
            "[750]\ttrain-rmse:424.88487+8.10584\ttest-rmse:856.84459+64.38710\n",
            "[800]\ttrain-rmse:404.90725+7.91419\ttest-rmse:852.51028+64.18003\n",
            "[850]\ttrain-rmse:387.22745+8.17921\ttest-rmse:849.84133+64.30712\n",
            "[900]\ttrain-rmse:370.97680+8.18681\ttest-rmse:847.48738+64.17182\n",
            "[950]\ttrain-rmse:356.69837+8.10367\ttest-rmse:845.27122+64.02263\n",
            "[1000]\ttrain-rmse:343.01111+7.68427\ttest-rmse:843.28368+63.76576\n",
            "[1050]\ttrain-rmse:330.41230+7.09512\ttest-rmse:841.55509+63.80833\n",
            "[1100]\ttrain-rmse:318.57489+7.09894\ttest-rmse:840.12330+63.52350\n",
            "[1150]\ttrain-rmse:307.31615+6.67102\ttest-rmse:838.98139+63.20323\n",
            "[1200]\ttrain-rmse:296.63514+6.62940\ttest-rmse:838.04138+62.92872\n",
            "[1250]\ttrain-rmse:286.74440+6.56721\ttest-rmse:837.09974+63.01955\n",
            "[1300]\ttrain-rmse:277.10698+6.04394\ttest-rmse:836.36738+62.87916\n",
            "[1350]\ttrain-rmse:268.14928+5.59165\ttest-rmse:835.77629+62.72164\n",
            "[1400]\ttrain-rmse:259.65321+5.43748\ttest-rmse:835.33270+62.53019\n",
            "[1450]\ttrain-rmse:251.54423+5.13170\ttest-rmse:834.92811+62.49152\n",
            "[1500]\ttrain-rmse:243.51922+4.83499\ttest-rmse:834.38014+62.28750\n",
            "[1550]\ttrain-rmse:236.02490+4.44129\ttest-rmse:833.88010+62.50455\n",
            "[1600]\ttrain-rmse:228.89181+4.21121\ttest-rmse:833.50369+62.51992\n",
            "[1650]\ttrain-rmse:221.88460+3.80726\ttest-rmse:833.25571+62.55703\n",
            "[1659]\ttrain-rmse:220.68653+3.75665\ttest-rmse:833.32403+62.60593\n"
          ]
        },
        {
          "metadata": {
            "tags": null
          },
          "name": "stderr",
          "output_type": "stream",
          "text": [
            "[I 2025-01-28 17:13:44,257] Trial 63 finished with value: 833.2315473199087 and parameters: {'booster': 'gbtree', 'learning_rate': 0.005081702543192708, 'max_depth': 9, 'gamma': 0.0018284313863001012, 'subsample': 0.7112143694215218, 'reg_alpha': 8.177350210520814e-08, 'reg_lambda': 0.00017765649171533083, 'colsample_bytree': 0.6520510978854394, 'min_child_weight': 3, 'n_estimators': 2724}. Best is trial 59 with value: 827.582733057586.\n"
          ]
        },
        {
          "metadata": {
            "tags": null
          },
          "name": "stdout",
          "output_type": "stream",
          "text": [
            "[0]\ttrain-rmse:1817.72424+29.36126\ttest-rmse:1814.47206+122.68153\n",
            "[50]\ttrain-rmse:1587.87126+22.61140\ttest-rmse:1609.79148+98.39419\n",
            "[100]\ttrain-rmse:1404.17276+18.48338\ttest-rmse:1449.28295+81.70376\n",
            "[150]\ttrain-rmse:1256.02583+15.80572\ttest-rmse:1325.43644+71.90416\n",
            "[200]\ttrain-rmse:1133.01179+13.84004\ttest-rmse:1224.74461+67.05804\n",
            "[250]\ttrain-rmse:1035.55388+12.47468\ttest-rmse:1150.14134+63.83287\n",
            "[300]\ttrain-rmse:952.22062+12.66309\ttest-rmse:1089.05217+62.37550\n",
            "[350]\ttrain-rmse:882.84954+12.66024\ttest-rmse:1040.26212+62.57661\n",
            "[400]\ttrain-rmse:823.52627+12.82524\ttest-rmse:1001.17211+61.89412\n",
            "[450]\ttrain-rmse:774.06083+13.04379\ttest-rmse:972.07239+61.68711\n",
            "[500]\ttrain-rmse:730.69347+13.71535\ttest-rmse:948.37147+61.38324\n",
            "[550]\ttrain-rmse:693.14715+14.24709\ttest-rmse:929.57872+61.01339\n",
            "[600]\ttrain-rmse:660.06449+14.65440\ttest-rmse:913.92107+61.02899\n",
            "[650]\ttrain-rmse:629.40038+14.54843\ttest-rmse:900.48088+60.70736\n",
            "[700]\ttrain-rmse:603.01313+14.59323\ttest-rmse:890.61877+60.38346\n",
            "[750]\ttrain-rmse:578.69263+14.51078\ttest-rmse:881.76913+59.97758\n",
            "[800]\ttrain-rmse:557.42969+14.15388\ttest-rmse:874.77799+59.65121\n",
            "[850]\ttrain-rmse:538.13893+14.30576\ttest-rmse:869.50946+59.08474\n",
            "[900]\ttrain-rmse:521.35594+14.11881\ttest-rmse:865.32191+58.79120\n",
            "[950]\ttrain-rmse:505.75367+13.91464\ttest-rmse:861.00225+58.52890\n",
            "[1000]\ttrain-rmse:491.81525+14.07987\ttest-rmse:857.69781+58.52567\n",
            "[1050]\ttrain-rmse:479.25933+13.94233\ttest-rmse:854.92781+58.39231\n",
            "[1100]\ttrain-rmse:467.16683+13.90167\ttest-rmse:852.54099+58.03818\n",
            "[1150]\ttrain-rmse:456.25320+13.73414\ttest-rmse:850.35052+57.94905\n",
            "[1200]\ttrain-rmse:445.57677+13.81326\ttest-rmse:848.42559+57.73574\n",
            "[1250]\ttrain-rmse:436.09495+13.43844\ttest-rmse:846.63784+57.60364\n",
            "[1300]\ttrain-rmse:426.75652+13.31915\ttest-rmse:845.17397+57.50593\n",
            "[1350]\ttrain-rmse:417.79869+12.93660\ttest-rmse:843.80617+57.26914\n",
            "[1400]\ttrain-rmse:409.49555+12.53546\ttest-rmse:842.90330+56.99424\n",
            "[1450]\ttrain-rmse:401.55110+12.23711\ttest-rmse:841.88020+56.92360\n",
            "[1500]\ttrain-rmse:393.22968+11.74531\ttest-rmse:840.93118+56.85179\n",
            "[1550]\ttrain-rmse:385.73324+11.53151\ttest-rmse:839.95155+56.93569\n",
            "[1600]\ttrain-rmse:378.36502+11.07739\ttest-rmse:839.39549+56.80560\n",
            "[1650]\ttrain-rmse:371.00425+10.60830\ttest-rmse:838.74467+56.76794\n",
            "[1700]\ttrain-rmse:364.17329+10.14017\ttest-rmse:837.98873+56.64595\n",
            "[1750]\ttrain-rmse:357.65066+10.16564\ttest-rmse:837.55019+56.65888\n",
            "[1800]\ttrain-rmse:351.00543+9.93596\ttest-rmse:837.05143+56.72714\n",
            "[1850]\ttrain-rmse:344.74075+9.72240\ttest-rmse:836.45782+56.65181\n",
            "[1900]\ttrain-rmse:338.42190+9.30999\ttest-rmse:835.95884+56.50279\n",
            "[1950]\ttrain-rmse:332.72520+9.12098\ttest-rmse:835.62420+56.46011\n",
            "[2000]\ttrain-rmse:326.92815+8.84261\ttest-rmse:835.23733+56.39461\n",
            "[2050]\ttrain-rmse:321.39327+8.48714\ttest-rmse:834.95759+56.32074\n",
            "[2100]\ttrain-rmse:315.71139+8.39787\ttest-rmse:834.65764+56.20446\n",
            "[2150]\ttrain-rmse:310.14139+7.92806\ttest-rmse:834.23416+56.30334\n",
            "[2200]\ttrain-rmse:304.87418+7.61700\ttest-rmse:833.76644+56.32913\n",
            "[2250]\ttrain-rmse:300.03213+7.17995\ttest-rmse:833.61750+56.13082\n",
            "[2300]\ttrain-rmse:295.09981+7.07002\ttest-rmse:833.33204+56.05791\n",
            "[2350]\ttrain-rmse:290.21973+6.92966\ttest-rmse:833.15358+55.99901\n",
            "[2400]\ttrain-rmse:285.38269+6.79049\ttest-rmse:832.78689+55.96208\n",
            "[2450]\ttrain-rmse:280.65056+6.62991\ttest-rmse:832.59075+55.94281\n",
            "[2500]\ttrain-rmse:276.29247+6.30705\ttest-rmse:832.45671+55.99909\n",
            "[2550]\ttrain-rmse:271.98350+6.05040\ttest-rmse:832.32509+56.03050\n",
            "[2600]\ttrain-rmse:267.74727+5.92021\ttest-rmse:832.12439+55.94146\n",
            "[2650]\ttrain-rmse:263.45488+5.76008\ttest-rmse:831.99508+56.00060\n",
            "[2700]\ttrain-rmse:259.28399+5.70106\ttest-rmse:831.72911+55.98388\n",
            "[2750]\ttrain-rmse:255.52890+5.57164\ttest-rmse:831.57053+55.95246\n",
            "[2800]\ttrain-rmse:251.54338+5.37666\ttest-rmse:831.47638+55.98561\n",
            "[2818]\ttrain-rmse:250.08271+5.24214\ttest-rmse:831.49970+55.98452\n"
          ]
        },
        {
          "metadata": {
            "tags": null
          },
          "name": "stderr",
          "output_type": "stream",
          "text": [
            "[I 2025-01-28 17:14:44,339] Trial 64 finished with value: 831.4678589742074 and parameters: {'booster': 'gbtree', 'learning_rate': 0.004320116901902915, 'max_depth': 8, 'gamma': 0.00036220930779364116, 'subsample': 0.8852347489715092, 'reg_alpha': 2.5849293144193154e-08, 'reg_lambda': 0.006254832075104023, 'colsample_bytree': 0.6162955036406478, 'min_child_weight': 5, 'n_estimators': 3619}. Best is trial 59 with value: 827.582733057586.\n"
          ]
        },
        {
          "metadata": {
            "tags": null
          },
          "name": "stdout",
          "output_type": "stream",
          "text": [
            "[0]\ttrain-rmse:1815.92957+29.38531\ttest-rmse:1812.56952+122.24771\n",
            "[50]\ttrain-rmse:1492.92549+17.86115\ttest-rmse:1532.30321+86.74677\n",
            "[100]\ttrain-rmse:1260.71887+11.64742\ttest-rmse:1337.17260+71.04417\n",
            "[150]\ttrain-rmse:1093.61766+10.41901\ttest-rmse:1204.81495+65.10869\n",
            "[200]\ttrain-rmse:965.47823+9.02454\ttest-rmse:1110.67404+65.87036\n",
            "[250]\ttrain-rmse:867.43976+9.23827\ttest-rmse:1045.12909+66.37145\n",
            "[300]\ttrain-rmse:787.70978+10.88299\ttest-rmse:995.74491+66.99451\n",
            "[350]\ttrain-rmse:724.59759+12.05398\ttest-rmse:959.20081+66.55660\n",
            "[400]\ttrain-rmse:671.80872+11.98429\ttest-rmse:932.23483+65.83008\n",
            "[450]\ttrain-rmse:627.17156+12.25026\ttest-rmse:912.76261+65.80646\n",
            "[500]\ttrain-rmse:590.11416+11.90878\ttest-rmse:898.94714+65.48907\n",
            "[550]\ttrain-rmse:558.99839+11.49460\ttest-rmse:888.30612+65.44529\n",
            "[600]\ttrain-rmse:531.85137+11.58243\ttest-rmse:879.52145+65.52949\n",
            "[650]\ttrain-rmse:507.80937+11.05493\ttest-rmse:872.74660+65.29466\n",
            "[700]\ttrain-rmse:487.01459+9.86953\ttest-rmse:868.11418+65.37451\n",
            "[750]\ttrain-rmse:467.47149+9.42115\ttest-rmse:864.27904+65.69516\n",
            "[800]\ttrain-rmse:449.82278+9.20932\ttest-rmse:860.66699+65.55738\n",
            "[850]\ttrain-rmse:433.81426+8.75793\ttest-rmse:857.34649+65.20544\n",
            "[900]\ttrain-rmse:418.88683+8.54793\ttest-rmse:854.72435+65.11103\n",
            "[950]\ttrain-rmse:404.69660+7.98028\ttest-rmse:852.48052+64.84354\n",
            "[1000]\ttrain-rmse:391.19759+7.47544\ttest-rmse:850.59556+64.87221\n",
            "[1050]\ttrain-rmse:379.15085+6.92225\ttest-rmse:848.83194+64.85462\n",
            "[1100]\ttrain-rmse:367.11561+6.74984\ttest-rmse:847.66937+64.61738\n",
            "[1150]\ttrain-rmse:355.91323+6.37846\ttest-rmse:846.33062+64.54615\n",
            "[1200]\ttrain-rmse:345.04783+6.16292\ttest-rmse:845.29110+64.58585\n",
            "[1250]\ttrain-rmse:335.05099+6.12282\ttest-rmse:844.09734+64.54807\n",
            "[1300]\ttrain-rmse:325.07171+5.83553\ttest-rmse:843.36960+64.33390\n",
            "[1350]\ttrain-rmse:316.12269+5.51425\ttest-rmse:842.68888+64.47848\n",
            "[1400]\ttrain-rmse:307.21371+5.22855\ttest-rmse:842.01021+64.19082\n",
            "[1450]\ttrain-rmse:298.72512+4.83487\ttest-rmse:841.14394+64.06562\n",
            "[1500]\ttrain-rmse:290.27177+4.63454\ttest-rmse:840.53386+64.12343\n",
            "[1550]\ttrain-rmse:282.19993+4.36926\ttest-rmse:839.96539+64.09048\n",
            "[1600]\ttrain-rmse:274.52613+4.28870\ttest-rmse:839.45875+64.01860\n",
            "[1650]\ttrain-rmse:266.86277+4.19004\ttest-rmse:838.85792+64.12037\n",
            "[1700]\ttrain-rmse:260.09040+4.11334\ttest-rmse:838.45425+64.06347\n",
            "[1750]\ttrain-rmse:253.29981+4.09757\ttest-rmse:838.11400+64.21332\n",
            "[1800]\ttrain-rmse:246.72112+4.09399\ttest-rmse:837.76904+64.26895\n",
            "[1850]\ttrain-rmse:240.54621+3.96541\ttest-rmse:837.63661+64.23404\n",
            "[1900]\ttrain-rmse:234.12472+3.88415\ttest-rmse:837.33224+64.16574\n",
            "[1950]\ttrain-rmse:228.06339+3.83203\ttest-rmse:837.11200+64.18087\n",
            "[1968]\ttrain-rmse:226.02077+3.87561\ttest-rmse:837.15203+64.24256\n"
          ]
        },
        {
          "metadata": {
            "tags": null
          },
          "name": "stderr",
          "output_type": "stream",
          "text": [
            "[I 2025-01-28 17:15:32,414] Trial 65 finished with value: 837.1005076709134 and parameters: {'booster': 'gbtree', 'learning_rate': 0.006656904865940809, 'max_depth': 7, 'gamma': 0.00020386501305135079, 'subsample': 0.7482228311804627, 'reg_alpha': 1.3329480565247195e-07, 'reg_lambda': 0.00046255615989488437, 'colsample_bytree': 0.8687882909657775, 'min_child_weight': 2, 'n_estimators': 4245}. Best is trial 59 with value: 827.582733057586.\n"
          ]
        },
        {
          "metadata": {
            "tags": null
          },
          "name": "stdout",
          "output_type": "stream",
          "text": [
            "[0]\ttrain-rmse:1820.08532+29.49446\ttest-rmse:1816.58863+122.68562\n",
            "[50]\ttrain-rmse:1675.80657+24.90504\ttest-rmse:1691.43071+105.41010\n",
            "[100]\ttrain-rmse:1548.97957+20.56393\ttest-rmse:1582.22658+92.89677\n",
            "[150]\ttrain-rmse:1435.90393+17.97762\ttest-rmse:1487.36168+83.06349\n",
            "[200]\ttrain-rmse:1335.66976+15.41877\ttest-rmse:1404.12890+76.52076\n",
            "[250]\ttrain-rmse:1248.11890+12.90524\ttest-rmse:1334.69281+71.28675\n",
            "[300]\ttrain-rmse:1167.62543+11.28468\ttest-rmse:1270.73105+69.08822\n",
            "[350]\ttrain-rmse:1096.43498+10.37097\ttest-rmse:1216.07435+67.72435\n",
            "[400]\ttrain-rmse:1032.40379+9.09428\ttest-rmse:1169.01012+68.14554\n",
            "[450]\ttrain-rmse:974.62799+8.45835\ttest-rmse:1127.24169+68.07313\n",
            "[500]\ttrain-rmse:923.26303+7.58908\ttest-rmse:1092.49911+68.01222\n",
            "[550]\ttrain-rmse:877.44754+7.26692\ttest-rmse:1062.49196+68.23400\n",
            "[600]\ttrain-rmse:834.88171+7.65197\ttest-rmse:1035.25634+68.05971\n",
            "[650]\ttrain-rmse:795.94246+7.94066\ttest-rmse:1011.90760+67.89943\n",
            "[700]\ttrain-rmse:761.64996+7.70034\ttest-rmse:992.86726+67.23080\n",
            "[750]\ttrain-rmse:730.12403+7.86597\ttest-rmse:975.62269+66.94999\n",
            "[800]\ttrain-rmse:701.20375+8.07952\ttest-rmse:960.45948+66.89339\n",
            "[850]\ttrain-rmse:674.01015+8.04309\ttest-rmse:947.19671+66.69090\n",
            "[900]\ttrain-rmse:649.84903+8.18996\ttest-rmse:935.86078+66.57040\n",
            "[950]\ttrain-rmse:626.21148+8.16828\ttest-rmse:925.09843+66.75930\n",
            "[1000]\ttrain-rmse:604.87746+8.38225\ttest-rmse:916.24166+66.31584\n",
            "[1050]\ttrain-rmse:584.98112+8.48871\ttest-rmse:908.42429+65.99261\n",
            "[1100]\ttrain-rmse:566.24354+8.50092\ttest-rmse:901.82041+65.98762\n",
            "[1150]\ttrain-rmse:548.39178+8.67087\ttest-rmse:895.38888+65.96698\n",
            "[1200]\ttrain-rmse:531.99180+8.91301\ttest-rmse:889.80722+65.56195\n",
            "[1250]\ttrain-rmse:516.62918+9.17039\ttest-rmse:884.70866+65.55685\n",
            "[1300]\ttrain-rmse:501.77913+9.27961\ttest-rmse:880.40212+65.26190\n",
            "[1350]\ttrain-rmse:488.51022+8.86366\ttest-rmse:876.65575+65.32589\n",
            "[1400]\ttrain-rmse:475.52882+8.83213\ttest-rmse:873.27674+65.35812\n",
            "[1450]\ttrain-rmse:463.54352+8.78964\ttest-rmse:870.50060+65.11838\n",
            "[1500]\ttrain-rmse:451.85987+8.71832\ttest-rmse:867.91754+64.76286\n",
            "[1550]\ttrain-rmse:441.04213+8.62433\ttest-rmse:865.50036+64.79031\n",
            "[1600]\ttrain-rmse:430.70310+8.31701\ttest-rmse:863.30889+64.67317\n",
            "[1650]\ttrain-rmse:420.75134+8.49395\ttest-rmse:861.21079+64.48017\n",
            "[1700]\ttrain-rmse:411.45440+8.13025\ttest-rmse:859.40752+64.38453\n",
            "[1750]\ttrain-rmse:402.58925+8.00576\ttest-rmse:857.74436+64.34292\n",
            "[1800]\ttrain-rmse:394.26968+8.09573\ttest-rmse:856.30395+64.31931\n",
            "[1850]\ttrain-rmse:386.32447+7.97500\ttest-rmse:854.91954+64.37811\n",
            "[1900]\ttrain-rmse:378.40438+7.95067\ttest-rmse:853.65903+64.28347\n",
            "[1950]\ttrain-rmse:371.13911+8.08846\ttest-rmse:852.60323+64.24793\n",
            "[2000]\ttrain-rmse:364.08873+7.93601\ttest-rmse:851.68044+64.28648\n",
            "[2050]\ttrain-rmse:357.24164+7.73395\ttest-rmse:850.80541+64.36855\n",
            "[2100]\ttrain-rmse:350.59157+7.66032\ttest-rmse:849.82668+64.42331\n",
            "[2150]\ttrain-rmse:344.40912+7.45879\ttest-rmse:848.93622+64.40080\n",
            "[2200]\ttrain-rmse:338.35221+7.34029\ttest-rmse:848.22970+64.35785\n",
            "[2250]\ttrain-rmse:332.55419+7.21149\ttest-rmse:847.53508+64.18155\n",
            "[2300]\ttrain-rmse:326.85936+6.93832\ttest-rmse:846.90630+64.23490\n",
            "[2350]\ttrain-rmse:321.37865+6.85011\ttest-rmse:846.33247+64.30404\n",
            "[2400]\ttrain-rmse:315.99292+6.71739\ttest-rmse:845.71518+64.21047\n",
            "[2450]\ttrain-rmse:310.61325+6.44665\ttest-rmse:845.18195+64.24958\n",
            "[2500]\ttrain-rmse:305.47159+6.25606\ttest-rmse:844.69986+64.29003\n",
            "[2550]\ttrain-rmse:300.61356+6.25175\ttest-rmse:844.20122+64.31380\n",
            "[2600]\ttrain-rmse:295.82804+6.15665\ttest-rmse:843.75843+64.34490\n",
            "[2650]\ttrain-rmse:291.15073+6.10272\ttest-rmse:843.21897+64.34130\n",
            "[2700]\ttrain-rmse:286.66103+6.08508\ttest-rmse:842.87950+64.30514\n",
            "[2750]\ttrain-rmse:282.26534+6.04142\ttest-rmse:842.50433+64.28270\n",
            "[2800]\ttrain-rmse:277.89269+5.75525\ttest-rmse:842.05916+64.18309\n",
            "[2850]\ttrain-rmse:273.44421+5.60261\ttest-rmse:841.70627+64.22630\n",
            "[2900]\ttrain-rmse:269.25348+5.68026\ttest-rmse:841.40119+64.23391\n",
            "[2950]\ttrain-rmse:265.27045+5.62091\ttest-rmse:841.07151+64.20492\n",
            "[3000]\ttrain-rmse:261.23976+5.54404\ttest-rmse:840.79888+64.19805\n",
            "[3050]\ttrain-rmse:257.31403+5.42003\ttest-rmse:840.56962+64.18745\n",
            "[3100]\ttrain-rmse:253.51630+5.24397\ttest-rmse:840.30487+64.23696\n",
            "[3118]\ttrain-rmse:252.14482+5.23454\ttest-rmse:840.22520+64.19598\n"
          ]
        },
        {
          "metadata": {
            "tags": null
          },
          "name": "stderr",
          "output_type": "stream",
          "text": [
            "[I 2025-01-28 17:17:12,889] Trial 66 finished with value: 840.2251976428215 and parameters: {'booster': 'gbtree', 'learning_rate': 0.002482332152788473, 'max_depth': 8, 'gamma': 0.00503471621969222, 'subsample': 0.7876250775715384, 'reg_alpha': 7.264071581120425e-08, 'reg_lambda': 0.0010363535642515214, 'colsample_bytree': 0.7461954507641372, 'min_child_weight': 2, 'n_estimators': 3119}. Best is trial 59 with value: 827.582733057586.\n"
          ]
        },
        {
          "metadata": {
            "tags": null
          },
          "name": "stdout",
          "output_type": "stream",
          "text": [
            "[0]\ttrain-rmse:1811.56349+30.11260\ttest-rmse:1808.57708+122.47519\n",
            "[50]\ttrain-rmse:1324.38034+17.41110\ttest-rmse:1374.46263+88.80088\n",
            "[100]\ttrain-rmse:1044.77981+12.72992\ttest-rmse:1140.52018+77.84207\n",
            "[150]\ttrain-rmse:888.17389+15.50290\ttest-rmse:1022.70215+76.65151\n",
            "[200]\ttrain-rmse:794.98922+15.45297\ttest-rmse:960.98325+76.10748\n",
            "[250]\ttrain-rmse:733.03289+15.74877\ttest-rmse:926.06032+73.66781\n",
            "[300]\ttrain-rmse:688.06526+18.13185\ttest-rmse:906.27553+73.45452\n",
            "[350]\ttrain-rmse:652.21388+17.80625\ttest-rmse:891.35442+74.14001\n",
            "[400]\ttrain-rmse:623.20575+18.15753\ttest-rmse:881.56554+72.79806\n",
            "[450]\ttrain-rmse:596.94777+17.07244\ttest-rmse:875.26609+73.03659\n",
            "[500]\ttrain-rmse:573.54593+17.70572\ttest-rmse:869.88693+72.90089\n",
            "[550]\ttrain-rmse:552.18361+17.40163\ttest-rmse:864.58533+72.64778\n",
            "[600]\ttrain-rmse:532.26411+17.15442\ttest-rmse:860.64427+71.17473\n",
            "[650]\ttrain-rmse:514.88280+16.94439\ttest-rmse:858.27489+70.74895\n",
            "[700]\ttrain-rmse:498.59835+17.18193\ttest-rmse:856.74805+70.74262\n",
            "[750]\ttrain-rmse:482.38377+17.14867\ttest-rmse:855.38114+70.66198\n",
            "[800]\ttrain-rmse:467.75125+16.52083\ttest-rmse:853.57539+70.94955\n",
            "[850]\ttrain-rmse:453.69463+16.73350\ttest-rmse:852.40310+70.55545\n",
            "[897]\ttrain-rmse:441.78848+17.14897\ttest-rmse:851.84079+70.99719\n"
          ]
        },
        {
          "metadata": {
            "tags": null
          },
          "name": "stderr",
          "output_type": "stream",
          "text": [
            "[I 2025-01-28 17:17:32,583] Trial 67 finished with value: 851.692869090382 and parameters: {'booster': 'gbtree', 'learning_rate': 0.012076149623537886, 'max_depth': 10, 'gamma': 0.0013838584010124463, 'subsample': 0.29796050806517616, 'reg_alpha': 1.700861156487335e-08, 'reg_lambda': 0.00014754561430538454, 'colsample_bytree': 0.8297523339221602, 'min_child_weight': 6, 'n_estimators': 2922}. Best is trial 59 with value: 827.582733057586.\n"
          ]
        },
        {
          "metadata": {
            "tags": null
          },
          "name": "stdout",
          "output_type": "stream",
          "text": [
            "[0]\ttrain-rmse:1815.59163+29.25682\ttest-rmse:1812.29486+122.66190\n",
            "[50]\ttrain-rmse:1481.05316+19.36687\ttest-rmse:1521.31054+92.92293\n",
            "[100]\ttrain-rmse:1230.43180+13.82672\ttest-rmse:1313.25070+77.79701\n",
            "[150]\ttrain-rmse:1043.37492+12.50994\ttest-rmse:1170.28571+71.54447\n",
            "[200]\ttrain-rmse:901.10157+11.37138\ttest-rmse:1069.41655+71.01207\n",
            "[250]\ttrain-rmse:793.48958+10.63245\ttest-rmse:1002.00144+70.92503\n",
            "[300]\ttrain-rmse:706.66308+10.11344\ttest-rmse:953.15671+72.49354\n",
            "[350]\ttrain-rmse:638.46088+10.05057\ttest-rmse:919.93153+72.44009\n",
            "[400]\ttrain-rmse:583.47876+8.97773\ttest-rmse:897.48155+72.41514\n",
            "[450]\ttrain-rmse:536.04699+9.71199\ttest-rmse:879.64928+70.83624\n",
            "[500]\ttrain-rmse:497.58887+9.81974\ttest-rmse:868.41947+69.55783\n",
            "[550]\ttrain-rmse:464.45339+9.46419\ttest-rmse:859.12979+68.62944\n",
            "[600]\ttrain-rmse:435.11907+9.36665\ttest-rmse:852.23046+68.18317\n",
            "[650]\ttrain-rmse:410.41948+9.19446\ttest-rmse:848.01958+68.13835\n",
            "[700]\ttrain-rmse:388.46689+7.74767\ttest-rmse:844.87701+67.73600\n",
            "[750]\ttrain-rmse:369.07107+7.56938\ttest-rmse:842.15122+67.71692\n",
            "[800]\ttrain-rmse:351.51496+7.52585\ttest-rmse:840.03905+67.55652\n",
            "[850]\ttrain-rmse:335.80500+7.14888\ttest-rmse:838.35973+67.64477\n",
            "[900]\ttrain-rmse:321.08593+7.02160\ttest-rmse:837.16236+67.33665\n",
            "[950]\ttrain-rmse:307.58332+6.74774\ttest-rmse:835.56670+66.93666\n",
            "[1000]\ttrain-rmse:294.45280+6.19463\ttest-rmse:834.41262+66.73247\n",
            "[1050]\ttrain-rmse:282.57391+5.52893\ttest-rmse:833.52182+66.80477\n",
            "[1100]\ttrain-rmse:271.15662+5.31747\ttest-rmse:832.88457+66.70852\n",
            "[1150]\ttrain-rmse:260.43490+4.97324\ttest-rmse:832.12164+66.66218\n",
            "[1200]\ttrain-rmse:250.09372+4.70560\ttest-rmse:831.31309+66.56317\n",
            "[1250]\ttrain-rmse:240.64269+4.58828\ttest-rmse:830.64322+66.53645\n",
            "[1300]\ttrain-rmse:231.45958+4.43616\ttest-rmse:830.28035+66.28151\n",
            "[1350]\ttrain-rmse:222.75871+4.07627\ttest-rmse:830.02131+66.31289\n",
            "[1400]\ttrain-rmse:214.56056+4.08484\ttest-rmse:829.63350+66.49911\n",
            "[1426]\ttrain-rmse:210.57000+4.01476\ttest-rmse:829.68592+66.54709\n"
          ]
        },
        {
          "metadata": {
            "tags": null
          },
          "name": "stderr",
          "output_type": "stream",
          "text": [
            "[I 2025-01-28 17:18:25,154] Trial 68 finished with value: 829.6150552906638 and parameters: {'booster': 'gbtree', 'learning_rate': 0.005970284370698152, 'max_depth': 9, 'gamma': 0.0028573266518917852, 'subsample': 0.6956074560052942, 'reg_alpha': 3.9034869431210113e-08, 'reg_lambda': 0.0032066331347443944, 'colsample_bytree': 0.8906461456192192, 'min_child_weight': 3, 'n_estimators': 2499}. Best is trial 59 with value: 827.582733057586.\n"
          ]
        },
        {
          "metadata": {
            "tags": null
          },
          "name": "stdout",
          "output_type": "stream",
          "text": [
            "[0]\ttrain-rmse:1819.34051+29.36774\ttest-rmse:1815.78812+122.86476\n",
            "[50]\ttrain-rmse:1635.81732+23.85942\ttest-rmse:1652.55447+106.06581\n",
            "[100]\ttrain-rmse:1478.19719+19.81901\ttest-rmse:1514.08934+93.92204\n",
            "[150]\ttrain-rmse:1343.73971+17.51894\ttest-rmse:1399.76502+84.84625\n",
            "[200]\ttrain-rmse:1227.24704+15.40105\ttest-rmse:1303.40846+78.78306\n",
            "[250]\ttrain-rmse:1129.76214+14.30259\ttest-rmse:1226.50560+75.00048\n",
            "[300]\ttrain-rmse:1043.50386+13.97515\ttest-rmse:1160.66984+73.29607\n",
            "[350]\ttrain-rmse:969.37053+13.54709\ttest-rmse:1106.22943+71.89088\n",
            "[400]\ttrain-rmse:904.94580+13.22368\ttest-rmse:1061.18879+71.21606\n",
            "[450]\ttrain-rmse:848.10864+13.54900\ttest-rmse:1023.34158+71.14500\n",
            "[500]\ttrain-rmse:799.05248+12.87767\ttest-rmse:993.18625+71.32001\n",
            "[550]\ttrain-rmse:756.33027+12.01065\ttest-rmse:968.13849+71.12082\n",
            "[600]\ttrain-rmse:717.46224+12.15537\ttest-rmse:946.29843+70.95779\n",
            "[650]\ttrain-rmse:682.35174+12.37355\ttest-rmse:928.35860+70.80372\n",
            "[700]\ttrain-rmse:651.50667+12.58331\ttest-rmse:913.83820+70.22315\n",
            "[750]\ttrain-rmse:624.45018+12.52746\ttest-rmse:901.15593+70.10604\n",
            "[800]\ttrain-rmse:599.60247+12.60781\ttest-rmse:890.52429+70.18097\n",
            "[850]\ttrain-rmse:576.92074+13.19827\ttest-rmse:881.93624+69.94900\n",
            "[900]\ttrain-rmse:556.54107+13.03730\ttest-rmse:874.73928+69.81245\n",
            "[950]\ttrain-rmse:537.41345+12.85178\ttest-rmse:868.20735+69.76410\n",
            "[1000]\ttrain-rmse:520.07214+12.79423\ttest-rmse:863.18477+69.24895\n",
            "[1050]\ttrain-rmse:504.34657+12.57265\ttest-rmse:858.83143+68.56152\n",
            "[1100]\ttrain-rmse:489.80876+12.47842\ttest-rmse:855.15461+68.05535\n",
            "[1150]\ttrain-rmse:476.01472+12.03560\ttest-rmse:851.73464+67.95024\n",
            "[1200]\ttrain-rmse:463.43975+12.16502\ttest-rmse:849.07489+67.73690\n",
            "[1250]\ttrain-rmse:451.87480+12.40101\ttest-rmse:846.43246+67.69389\n",
            "[1300]\ttrain-rmse:440.60622+12.36144\ttest-rmse:844.34984+67.41085\n",
            "[1350]\ttrain-rmse:430.46289+12.18198\ttest-rmse:842.59077+67.28135\n",
            "[1400]\ttrain-rmse:420.55861+11.77382\ttest-rmse:841.00654+67.14369\n",
            "[1450]\ttrain-rmse:411.45374+11.57897\ttest-rmse:839.58912+66.99824\n",
            "[1500]\ttrain-rmse:402.91202+11.39457\ttest-rmse:838.43771+66.87950\n",
            "[1550]\ttrain-rmse:394.71561+11.39141\ttest-rmse:837.13411+66.91759\n",
            "[1600]\ttrain-rmse:386.56333+11.06588\ttest-rmse:836.10465+67.01461\n",
            "[1650]\ttrain-rmse:378.58738+10.83406\ttest-rmse:835.20998+67.08670\n",
            "[1700]\ttrain-rmse:371.12779+10.71704\ttest-rmse:834.43604+66.77599\n",
            "[1750]\ttrain-rmse:364.07520+10.45003\ttest-rmse:833.74950+66.80266\n",
            "[1800]\ttrain-rmse:357.01690+10.35050\ttest-rmse:832.98562+66.96920\n",
            "[1850]\ttrain-rmse:349.99795+9.99214\ttest-rmse:832.17496+66.84827\n",
            "[1900]\ttrain-rmse:343.13604+9.86937\ttest-rmse:831.54973+66.69347\n",
            "[1950]\ttrain-rmse:336.80730+9.81630\ttest-rmse:830.88782+66.69456\n",
            "[2000]\ttrain-rmse:330.78573+9.71187\ttest-rmse:830.41957+66.61870\n",
            "[2050]\ttrain-rmse:324.86889+9.49209\ttest-rmse:830.02426+66.65081\n",
            "[2100]\ttrain-rmse:318.98124+9.31701\ttest-rmse:829.53975+66.64982\n",
            "[2150]\ttrain-rmse:313.10951+9.18630\ttest-rmse:829.25649+66.73632\n",
            "[2200]\ttrain-rmse:307.46218+8.81831\ttest-rmse:828.85840+66.75890\n",
            "[2250]\ttrain-rmse:302.08548+8.54765\ttest-rmse:828.44641+66.65706\n",
            "[2300]\ttrain-rmse:296.69984+8.25332\ttest-rmse:827.95404+66.75123\n",
            "[2350]\ttrain-rmse:291.43272+7.98991\ttest-rmse:827.69207+66.74774\n",
            "[2400]\ttrain-rmse:286.31270+7.72426\ttest-rmse:827.29872+66.68530\n",
            "[2450]\ttrain-rmse:281.19112+7.53668\ttest-rmse:827.00449+66.63450\n",
            "[2500]\ttrain-rmse:276.40087+7.43229\ttest-rmse:826.72495+66.39555\n",
            "[2535]\ttrain-rmse:273.07646+7.40961\ttest-rmse:826.55927+66.34401\n"
          ]
        },
        {
          "metadata": {
            "tags": null
          },
          "name": "stderr",
          "output_type": "stream",
          "text": [
            "[I 2025-01-28 17:19:51,280] Trial 69 finished with value: 826.559272767818 and parameters: {'booster': 'gbtree', 'learning_rate': 0.0030979259974878, 'max_depth': 9, 'gamma': 0.0030878225142521184, 'subsample': 0.698462874995364, 'reg_alpha': 3.941034236197123e-08, 'reg_lambda': 0.003444284293397402, 'colsample_bytree': 0.899425655310192, 'min_child_weight': 4, 'n_estimators': 2536}. Best is trial 69 with value: 826.559272767818.\n"
          ]
        },
        {
          "metadata": {
            "tags": null
          },
          "name": "stdout",
          "output_type": "stream",
          "text": [
            "[0]\ttrain-rmse:1819.85755+29.22623\ttest-rmse:1816.37988+122.92886\n",
            "[50]\ttrain-rmse:1650.62758+24.35000\ttest-rmse:1665.70115+108.51781\n",
            "[100]\ttrain-rmse:1504.21013+20.38297\ttest-rmse:1536.99747+97.56294\n",
            "[150]\ttrain-rmse:1377.21477+17.95311\ttest-rmse:1428.31862+89.29093\n",
            "[200]\ttrain-rmse:1265.35648+16.15378\ttest-rmse:1334.57687+83.26346\n",
            "[250]\ttrain-rmse:1170.19937+15.29250\ttest-rmse:1256.73272+79.21639\n",
            "[300]\ttrain-rmse:1085.91062+15.30924\ttest-rmse:1191.20948+76.75380\n",
            "[350]\ttrain-rmse:1012.81208+14.29965\ttest-rmse:1135.89212+75.35649\n",
            "[400]\ttrain-rmse:948.68725+13.64426\ttest-rmse:1089.28736+74.42186\n",
            "[450]\ttrain-rmse:891.54843+13.51304\ttest-rmse:1049.81708+74.43182\n",
            "[500]\ttrain-rmse:842.33354+12.91807\ttest-rmse:1017.39805+74.96473\n",
            "[550]\ttrain-rmse:797.71062+12.01599\ttest-rmse:989.24749+75.21459\n",
            "[600]\ttrain-rmse:758.06820+12.07043\ttest-rmse:965.40187+75.02768\n",
            "[650]\ttrain-rmse:722.42695+12.06288\ttest-rmse:945.17075+75.06856\n",
            "[700]\ttrain-rmse:690.36405+12.28683\ttest-rmse:928.60805+75.05799\n",
            "[750]\ttrain-rmse:661.47235+12.61327\ttest-rmse:914.31727+74.86634\n",
            "[800]\ttrain-rmse:635.57680+12.54674\ttest-rmse:902.63675+74.62728\n",
            "[850]\ttrain-rmse:612.00339+12.85660\ttest-rmse:892.25818+74.14939\n",
            "[900]\ttrain-rmse:590.73933+12.93435\ttest-rmse:883.73391+74.36766\n",
            "[950]\ttrain-rmse:570.81561+12.67035\ttest-rmse:876.13979+74.16911\n",
            "[1000]\ttrain-rmse:552.83653+12.71307\ttest-rmse:870.05073+73.79000\n",
            "[1050]\ttrain-rmse:536.59585+12.41697\ttest-rmse:864.99917+73.49720\n",
            "[1100]\ttrain-rmse:521.20269+12.14531\ttest-rmse:860.33878+73.17769\n",
            "[1150]\ttrain-rmse:506.96619+11.83744\ttest-rmse:856.58903+73.01084\n",
            "[1200]\ttrain-rmse:493.79070+11.88928\ttest-rmse:853.54662+72.84546\n",
            "[1250]\ttrain-rmse:481.82012+11.95254\ttest-rmse:850.56661+72.62504\n",
            "[1300]\ttrain-rmse:470.23993+12.12227\ttest-rmse:848.08554+72.02894\n",
            "[1350]\ttrain-rmse:459.61809+12.02035\ttest-rmse:845.84796+71.84913\n",
            "[1400]\ttrain-rmse:449.32283+11.81826\ttest-rmse:843.97063+71.75691\n",
            "[1450]\ttrain-rmse:439.95586+11.83640\ttest-rmse:842.51950+71.61649\n",
            "[1500]\ttrain-rmse:430.93450+11.78388\ttest-rmse:841.09177+71.50751\n",
            "[1550]\ttrain-rmse:422.34336+11.72297\ttest-rmse:839.61909+71.43269\n",
            "[1600]\ttrain-rmse:413.98606+11.45593\ttest-rmse:838.33024+71.12729\n",
            "[1650]\ttrain-rmse:405.93323+11.33187\ttest-rmse:837.26368+70.91238\n",
            "[1700]\ttrain-rmse:398.36009+11.32734\ttest-rmse:836.18942+70.71046\n",
            "[1750]\ttrain-rmse:391.01639+10.94519\ttest-rmse:835.31090+70.62950\n",
            "[1800]\ttrain-rmse:384.05484+10.63588\ttest-rmse:834.67848+70.39064\n",
            "[1850]\ttrain-rmse:377.20351+10.35233\ttest-rmse:833.95637+70.29134\n",
            "[1900]\ttrain-rmse:370.36085+10.11889\ttest-rmse:833.18033+70.11794\n",
            "[1950]\ttrain-rmse:364.00226+10.18153\ttest-rmse:832.65554+70.14678\n",
            "[2000]\ttrain-rmse:357.77166+10.26213\ttest-rmse:832.09962+69.95498\n",
            "[2050]\ttrain-rmse:351.87678+9.99117\ttest-rmse:831.70099+69.81750\n",
            "[2100]\ttrain-rmse:345.82908+9.70790\ttest-rmse:831.07175+69.71121\n",
            "[2150]\ttrain-rmse:339.92501+9.63325\ttest-rmse:830.56565+69.69638\n",
            "[2200]\ttrain-rmse:334.16443+9.25329\ttest-rmse:830.09936+69.59060\n",
            "[2250]\ttrain-rmse:328.71647+8.95673\ttest-rmse:829.64905+69.45275\n",
            "[2300]\ttrain-rmse:323.11885+8.87451\ttest-rmse:829.09030+69.40645\n",
            "[2350]\ttrain-rmse:317.84380+8.80459\ttest-rmse:828.71232+69.37762\n",
            "[2400]\ttrain-rmse:312.55466+8.63228\ttest-rmse:828.37850+69.34361\n",
            "[2450]\ttrain-rmse:307.31090+8.43879\ttest-rmse:828.03096+69.28056\n",
            "[2500]\ttrain-rmse:302.44355+8.36374\ttest-rmse:827.79583+69.05927\n",
            "[2550]\ttrain-rmse:297.73729+8.13688\ttest-rmse:827.44402+68.98658\n",
            "[2598]\ttrain-rmse:293.12714+8.21173\ttest-rmse:827.17392+68.84414\n"
          ]
        },
        {
          "metadata": {
            "tags": null
          },
          "name": "stderr",
          "output_type": "stream",
          "text": [
            "[I 2025-01-28 17:21:23,382] Trial 70 finished with value: 827.1739177474446 and parameters: {'booster': 'gbtree', 'learning_rate': 0.002850076692175664, 'max_depth': 9, 'gamma': 0.002934836297571634, 'subsample': 0.679981611395081, 'reg_alpha': 3.682501843417128e-08, 'reg_lambda': 0.09476310133782054, 'colsample_bytree': 0.912646799468078, 'min_child_weight': 4, 'n_estimators': 2599}. Best is trial 69 with value: 826.559272767818.\n"
          ]
        },
        {
          "metadata": {
            "tags": null
          },
          "name": "stdout",
          "output_type": "stream",
          "text": [
            "[0]\ttrain-rmse:1820.51854+29.41368\ttest-rmse:1817.01023+122.86795\n",
            "[50]\ttrain-rmse:1687.70561+25.40526\ttest-rmse:1698.79022+111.07751\n",
            "[100]\ttrain-rmse:1568.06747+21.99580\ttest-rmse:1593.26129+101.63824\n",
            "[150]\ttrain-rmse:1461.20828+19.51614\ttest-rmse:1501.15097+94.34583\n",
            "[200]\ttrain-rmse:1364.57958+18.14800\ttest-rmse:1418.65756+88.11726\n",
            "[250]\ttrain-rmse:1279.53415+16.35180\ttest-rmse:1347.74782+84.19274\n",
            "[300]\ttrain-rmse:1202.08076+15.54750\ttest-rmse:1284.82232+80.74651\n",
            "[350]\ttrain-rmse:1132.35436+14.61236\ttest-rmse:1229.45169+78.81994\n",
            "[400]\ttrain-rmse:1069.81252+14.64825\ttest-rmse:1181.30642+76.76816\n",
            "[450]\ttrain-rmse:1012.59909+14.50595\ttest-rmse:1138.56804+75.37149\n",
            "[500]\ttrain-rmse:961.80550+14.08655\ttest-rmse:1101.79692+74.70295\n",
            "[550]\ttrain-rmse:915.68107+13.08639\ttest-rmse:1069.58941+74.16275\n",
            "[600]\ttrain-rmse:873.60709+13.03490\ttest-rmse:1040.91619+73.91797\n",
            "[650]\ttrain-rmse:834.98763+12.94980\ttest-rmse:1015.87047+73.98660\n",
            "[700]\ttrain-rmse:800.04122+12.71239\ttest-rmse:994.21126+73.92696\n",
            "[750]\ttrain-rmse:767.79844+12.36631\ttest-rmse:975.15119+74.27518\n",
            "[800]\ttrain-rmse:738.70450+12.31137\ttest-rmse:958.67473+74.44992\n",
            "[850]\ttrain-rmse:711.21175+12.31351\ttest-rmse:943.79081+74.33968\n",
            "[900]\ttrain-rmse:686.47755+12.41826\ttest-rmse:931.03320+74.56371\n",
            "[950]\ttrain-rmse:663.12527+12.43207\ttest-rmse:919.76965+74.55141\n",
            "[1000]\ttrain-rmse:641.99522+12.72975\ttest-rmse:910.18502+74.05829\n",
            "[1050]\ttrain-rmse:622.41707+12.52786\ttest-rmse:901.29379+73.87581\n",
            "[1100]\ttrain-rmse:604.01288+12.53942\ttest-rmse:893.68336+73.64011\n",
            "[1150]\ttrain-rmse:586.76586+12.45379\ttest-rmse:886.99047+73.59686\n",
            "[1200]\ttrain-rmse:570.70999+12.69266\ttest-rmse:880.88816+73.32536\n",
            "[1250]\ttrain-rmse:555.91340+12.96881\ttest-rmse:875.13322+72.94367\n",
            "[1300]\ttrain-rmse:541.72697+12.87602\ttest-rmse:870.55981+72.64277\n",
            "[1350]\ttrain-rmse:528.95101+12.74146\ttest-rmse:866.53820+72.41193\n",
            "[1400]\ttrain-rmse:516.72802+12.71619\ttest-rmse:862.77422+72.12826\n",
            "[1450]\ttrain-rmse:505.25672+12.42546\ttest-rmse:859.71059+71.87558\n",
            "[1500]\ttrain-rmse:494.36188+12.27895\ttest-rmse:856.91565+71.71383\n",
            "[1550]\ttrain-rmse:484.32398+12.28661\ttest-rmse:854.48564+71.52997\n",
            "[1600]\ttrain-rmse:474.60428+12.06227\ttest-rmse:852.14381+71.21705\n",
            "[1650]\ttrain-rmse:465.01377+11.97546\ttest-rmse:850.13361+71.06083\n",
            "[1700]\ttrain-rmse:456.42193+11.82232\ttest-rmse:848.57636+70.55314\n",
            "[1750]\ttrain-rmse:448.28560+11.60136\ttest-rmse:846.89590+70.35180\n",
            "[1800]\ttrain-rmse:440.47957+11.69400\ttest-rmse:845.49887+70.16964\n",
            "[1850]\ttrain-rmse:432.88956+11.63147\ttest-rmse:844.16607+69.97765\n",
            "[1900]\ttrain-rmse:425.26244+11.75439\ttest-rmse:842.87973+69.83652\n",
            "[1950]\ttrain-rmse:418.31657+11.75042\ttest-rmse:841.70403+69.78010\n",
            "[2000]\ttrain-rmse:411.60254+11.77693\ttest-rmse:840.66126+69.61932\n",
            "[2050]\ttrain-rmse:405.07865+11.55740\ttest-rmse:839.84042+69.48168\n",
            "[2100]\ttrain-rmse:398.69313+11.37884\ttest-rmse:838.83325+69.49449\n",
            "[2150]\ttrain-rmse:392.65702+11.19809\ttest-rmse:837.97972+69.51636\n",
            "[2200]\ttrain-rmse:386.55491+11.02871\ttest-rmse:836.96746+69.34507\n",
            "[2250]\ttrain-rmse:380.80451+10.86812\ttest-rmse:836.25028+69.15138\n",
            "[2300]\ttrain-rmse:375.06438+10.55503\ttest-rmse:835.54231+69.05355\n",
            "[2350]\ttrain-rmse:369.55259+10.26282\ttest-rmse:834.95213+68.90869\n",
            "[2400]\ttrain-rmse:364.25791+10.09081\ttest-rmse:834.32871+68.76488\n",
            "[2450]\ttrain-rmse:358.98624+9.84468\ttest-rmse:833.68198+68.65843\n",
            "[2500]\ttrain-rmse:353.93766+9.81478\ttest-rmse:833.21431+68.47686\n",
            "[2523]\ttrain-rmse:351.59874+9.69488\ttest-rmse:832.95621+68.42969\n"
          ]
        },
        {
          "metadata": {
            "tags": null
          },
          "name": "stderr",
          "output_type": "stream",
          "text": [
            "[I 2025-01-28 17:23:00,610] Trial 71 finished with value: 832.9562120772983 and parameters: {'booster': 'gbtree', 'learning_rate': 0.0021920873717298215, 'max_depth': 9, 'gamma': 0.0004805450554105214, 'subsample': 0.7238141506595339, 'reg_alpha': 3.884486525371665e-08, 'reg_lambda': 0.08645032927925153, 'colsample_bytree': 0.912166988850185, 'min_child_weight': 4, 'n_estimators': 2524}. Best is trial 69 with value: 826.559272767818.\n"
          ]
        },
        {
          "metadata": {
            "tags": null
          },
          "name": "stdout",
          "output_type": "stream",
          "text": [
            "[0]\ttrain-rmse:1819.58957+29.29020\ttest-rmse:1816.17102+122.97923\n",
            "[50]\ttrain-rmse:1636.86855+24.07875\ttest-rmse:1654.24663+107.67775\n",
            "[100]\ttrain-rmse:1479.68591+20.28054\ttest-rmse:1517.31883+94.80971\n",
            "[150]\ttrain-rmse:1344.51045+18.02107\ttest-rmse:1403.37996+85.43858\n",
            "[200]\ttrain-rmse:1227.53422+15.84865\ttest-rmse:1307.94295+79.36701\n",
            "[250]\ttrain-rmse:1129.17843+14.32704\ttest-rmse:1230.58931+75.32930\n",
            "[300]\ttrain-rmse:1041.24075+13.83151\ttest-rmse:1164.10207+73.17766\n",
            "[350]\ttrain-rmse:965.30800+13.45208\ttest-rmse:1108.50600+72.26165\n",
            "[400]\ttrain-rmse:898.86794+12.74283\ttest-rmse:1062.31268+71.90142\n",
            "[450]\ttrain-rmse:840.84808+13.18141\ttest-rmse:1024.44713+71.65985\n",
            "[500]\ttrain-rmse:790.71157+13.21052\ttest-rmse:993.27449+71.50431\n",
            "[550]\ttrain-rmse:746.68144+12.56247\ttest-rmse:967.47333+71.48286\n",
            "[600]\ttrain-rmse:707.04494+12.78668\ttest-rmse:945.47855+71.34477\n",
            "[650]\ttrain-rmse:671.48922+12.73276\ttest-rmse:926.66617+71.53618\n",
            "[700]\ttrain-rmse:640.67887+13.01575\ttest-rmse:912.07210+71.33512\n",
            "[750]\ttrain-rmse:613.02606+12.78181\ttest-rmse:899.65934+71.32014\n",
            "[800]\ttrain-rmse:588.29753+12.67661\ttest-rmse:889.63318+71.42051\n",
            "[850]\ttrain-rmse:565.86553+12.74019\ttest-rmse:880.89855+71.60349\n",
            "[900]\ttrain-rmse:545.55975+12.87095\ttest-rmse:873.61446+71.34693\n",
            "[950]\ttrain-rmse:526.60005+12.79047\ttest-rmse:867.10195+71.37712\n",
            "[1000]\ttrain-rmse:509.61993+12.72643\ttest-rmse:861.79795+70.82012\n",
            "[1050]\ttrain-rmse:493.85228+12.53170\ttest-rmse:857.43242+70.48904\n",
            "[1100]\ttrain-rmse:479.68054+12.37665\ttest-rmse:853.66420+70.31262\n",
            "[1150]\ttrain-rmse:466.19512+12.49311\ttest-rmse:850.36814+70.11035\n",
            "[1200]\ttrain-rmse:453.86359+12.64629\ttest-rmse:847.62260+70.04981\n",
            "[1250]\ttrain-rmse:442.60829+12.74363\ttest-rmse:845.09678+70.02762\n",
            "[1300]\ttrain-rmse:431.59949+12.55471\ttest-rmse:843.01595+69.73298\n",
            "[1350]\ttrain-rmse:421.59262+12.56327\ttest-rmse:841.39284+69.61672\n",
            "[1400]\ttrain-rmse:411.92470+12.50696\ttest-rmse:839.98759+69.60282\n",
            "[1450]\ttrain-rmse:402.53426+12.41023\ttest-rmse:838.59396+69.54176\n",
            "[1500]\ttrain-rmse:393.86519+12.25442\ttest-rmse:837.21140+69.51906\n",
            "[1550]\ttrain-rmse:385.44496+12.14111\ttest-rmse:835.73978+69.27660\n",
            "[1600]\ttrain-rmse:377.39520+11.86163\ttest-rmse:834.73532+69.20416\n",
            "[1650]\ttrain-rmse:369.66563+11.61155\ttest-rmse:833.98896+69.17426\n",
            "[1700]\ttrain-rmse:362.29514+11.33482\ttest-rmse:833.16445+68.74366\n",
            "[1750]\ttrain-rmse:355.00933+11.08229\ttest-rmse:832.49300+68.65906\n",
            "[1800]\ttrain-rmse:348.00513+10.86871\ttest-rmse:831.80098+68.61046\n",
            "[1850]\ttrain-rmse:341.30336+10.80275\ttest-rmse:831.04531+68.70118\n",
            "[1900]\ttrain-rmse:334.59802+10.59580\ttest-rmse:830.56077+68.52027\n",
            "[1950]\ttrain-rmse:328.31861+10.51875\ttest-rmse:830.07201+68.51267\n",
            "[2000]\ttrain-rmse:322.26574+10.38777\ttest-rmse:829.63387+68.40503\n",
            "[2050]\ttrain-rmse:316.22715+10.17091\ttest-rmse:829.08910+68.26165\n",
            "[2100]\ttrain-rmse:310.26776+9.94855\ttest-rmse:828.57877+68.24611\n",
            "[2150]\ttrain-rmse:304.56923+9.84096\ttest-rmse:828.26621+68.18529\n",
            "[2188]\ttrain-rmse:300.14901+9.60337\ttest-rmse:828.04934+68.26768\n"
          ]
        },
        {
          "metadata": {
            "tags": null
          },
          "name": "stderr",
          "output_type": "stream",
          "text": [
            "[I 2025-01-28 17:24:24,785] Trial 72 finished with value: 828.0206941784621 and parameters: {'booster': 'gbtree', 'learning_rate': 0.002951286901669203, 'max_depth': 10, 'gamma': 0.0038053743554610202, 'subsample': 0.6190321019740118, 'reg_alpha': 4.3055138921524276e-08, 'reg_lambda': 0.003060816074716298, 'colsample_bytree': 0.8602657106663059, 'min_child_weight': 4, 'n_estimators': 2291}. Best is trial 69 with value: 826.559272767818.\n"
          ]
        },
        {
          "metadata": {
            "tags": null
          },
          "name": "stdout",
          "output_type": "stream",
          "text": [
            "[0]\ttrain-rmse:1819.54178+29.28859\ttest-rmse:1816.12101+122.88165\n",
            "[50]\ttrain-rmse:1641.35352+23.91271\ttest-rmse:1657.79808+108.77817\n",
            "[100]\ttrain-rmse:1487.21612+20.47954\ttest-rmse:1522.44827+96.47101\n",
            "[150]\ttrain-rmse:1354.74871+18.17488\ttest-rmse:1409.91547+87.58738\n",
            "[200]\ttrain-rmse:1239.43332+16.72177\ttest-rmse:1314.54982+80.93396\n",
            "[250]\ttrain-rmse:1141.91085+15.24465\ttest-rmse:1236.50149+76.95054\n",
            "[300]\ttrain-rmse:1055.32830+14.74269\ttest-rmse:1169.85756+74.70314\n",
            "[350]\ttrain-rmse:980.81998+14.18529\ttest-rmse:1114.55245+73.35799\n",
            "[400]\ttrain-rmse:915.76432+13.33020\ttest-rmse:1067.89975+72.66561\n",
            "[450]\ttrain-rmse:858.40757+13.60991\ttest-rmse:1028.81160+72.19380\n",
            "[500]\ttrain-rmse:808.81766+13.07381\ttest-rmse:996.93182+72.71747\n",
            "[550]\ttrain-rmse:765.25190+12.73179\ttest-rmse:970.40179+72.50059\n",
            "[600]\ttrain-rmse:726.21166+13.25128\ttest-rmse:947.51279+72.46043\n",
            "[650]\ttrain-rmse:691.36308+13.28353\ttest-rmse:928.86100+72.40020\n",
            "[700]\ttrain-rmse:661.04169+13.50820\ttest-rmse:913.72486+72.16386\n",
            "[750]\ttrain-rmse:634.02333+13.62360\ttest-rmse:900.99086+71.74444\n",
            "[800]\ttrain-rmse:609.47059+13.57815\ttest-rmse:890.29191+71.94346\n",
            "[850]\ttrain-rmse:587.00763+13.73753\ttest-rmse:881.23995+71.96042\n",
            "[900]\ttrain-rmse:567.05516+14.08155\ttest-rmse:874.00794+71.84066\n",
            "[950]\ttrain-rmse:548.18740+13.90132\ttest-rmse:867.37616+71.62334\n",
            "[1000]\ttrain-rmse:531.19182+13.91891\ttest-rmse:862.18018+71.56895\n",
            "[1050]\ttrain-rmse:515.76488+13.59333\ttest-rmse:857.60099+71.48152\n",
            "[1100]\ttrain-rmse:501.58945+13.73242\ttest-rmse:853.75633+71.10037\n",
            "[1150]\ttrain-rmse:488.30305+13.55096\ttest-rmse:850.35533+70.76909\n",
            "[1200]\ttrain-rmse:476.26668+13.92733\ttest-rmse:847.62976+70.58062\n",
            "[1250]\ttrain-rmse:465.01255+14.12945\ttest-rmse:844.95816+70.38245\n",
            "[1300]\ttrain-rmse:454.26681+14.18701\ttest-rmse:842.87454+69.78744\n",
            "[1350]\ttrain-rmse:444.25754+14.14653\ttest-rmse:841.20449+69.67738\n",
            "[1400]\ttrain-rmse:434.80021+13.82974\ttest-rmse:839.68082+69.60455\n",
            "[1450]\ttrain-rmse:425.95270+13.71317\ttest-rmse:838.30722+69.68774\n",
            "[1500]\ttrain-rmse:417.61726+13.57061\ttest-rmse:837.22615+69.48239\n",
            "[1550]\ttrain-rmse:409.52832+13.38201\ttest-rmse:835.82637+69.69564\n",
            "[1600]\ttrain-rmse:401.67613+13.10790\ttest-rmse:834.73744+69.61059\n",
            "[1650]\ttrain-rmse:394.12802+12.83328\ttest-rmse:833.89741+69.47063\n",
            "[1700]\ttrain-rmse:386.96852+12.83806\ttest-rmse:833.15012+69.05485\n",
            "[1750]\ttrain-rmse:380.03532+12.61557\ttest-rmse:832.45015+68.98048\n",
            "[1800]\ttrain-rmse:373.33034+12.37381\ttest-rmse:831.92903+68.85661\n",
            "[1850]\ttrain-rmse:366.56517+12.12411\ttest-rmse:831.38925+68.86071\n",
            "[1900]\ttrain-rmse:359.83737+11.74776\ttest-rmse:830.74418+68.76514\n",
            "[1950]\ttrain-rmse:353.59068+11.66521\ttest-rmse:830.17318+68.51258\n",
            "[2000]\ttrain-rmse:347.58597+11.48586\ttest-rmse:829.70560+68.49964\n",
            "[2050]\ttrain-rmse:341.84578+11.23399\ttest-rmse:829.38023+68.44188\n",
            "[2100]\ttrain-rmse:336.07636+11.08984\ttest-rmse:828.93415+68.27067\n",
            "[2150]\ttrain-rmse:330.41569+10.95151\ttest-rmse:828.64153+68.31235\n",
            "[2200]\ttrain-rmse:324.81839+10.66365\ttest-rmse:828.39123+68.29379\n",
            "[2238]\ttrain-rmse:320.74860+10.30821\ttest-rmse:828.17181+68.29460\n"
          ]
        },
        {
          "metadata": {
            "tags": null
          },
          "name": "stderr",
          "output_type": "stream",
          "text": [
            "[I 2025-01-28 17:25:49,528] Trial 73 finished with value: 828.1718051256419 and parameters: {'booster': 'gbtree', 'learning_rate': 0.002898634032550026, 'max_depth': 10, 'gamma': 0.003055030268309041, 'subsample': 0.6825052582027109, 'reg_alpha': 4.5175472775545673e-08, 'reg_lambda': 0.003577110652888509, 'colsample_bytree': 0.8546323331720426, 'min_child_weight': 5, 'n_estimators': 2239}. Best is trial 69 with value: 826.559272767818.\n"
          ]
        },
        {
          "metadata": {
            "tags": null
          },
          "name": "stdout",
          "output_type": "stream",
          "text": [
            "[0]\ttrain-rmse:1821.43343+29.36947\ttest-rmse:1817.85809+123.00679\n",
            "[50]\ttrain-rmse:1730.17614+26.67836\ttest-rmse:1736.37880+115.36463\n",
            "[100]\ttrain-rmse:1645.19308+24.42954\ttest-rmse:1660.52284+108.16595\n",
            "[150]\ttrain-rmse:1566.08693+22.51877\ttest-rmse:1591.21277+101.78649\n",
            "[200]\ttrain-rmse:1492.54276+21.01070\ttest-rmse:1527.40763+96.48470\n",
            "[250]\ttrain-rmse:1425.23898+19.75364\ttest-rmse:1469.82333+91.62979\n",
            "[300]\ttrain-rmse:1361.30804+18.69655\ttest-rmse:1416.01994+87.71149\n",
            "[350]\ttrain-rmse:1302.21605+17.61939\ttest-rmse:1366.65200+84.66475\n",
            "[400]\ttrain-rmse:1246.97039+16.67261\ttest-rmse:1320.95853+81.49102\n",
            "[450]\ttrain-rmse:1195.09907+16.13775\ttest-rmse:1278.96747+79.00271\n",
            "[500]\ttrain-rmse:1147.39928+15.21780\ttest-rmse:1240.95257+77.50529\n",
            "[550]\ttrain-rmse:1103.08783+14.61273\ttest-rmse:1206.21392+75.88299\n",
            "[600]\ttrain-rmse:1061.17630+14.50958\ttest-rmse:1173.69639+74.80819\n",
            "[650]\ttrain-rmse:1022.03131+14.29798\ttest-rmse:1144.41929+73.88496\n",
            "[700]\ttrain-rmse:986.36991+14.19502\ttest-rmse:1118.00542+72.62197\n",
            "[750]\ttrain-rmse:952.68789+13.98428\ttest-rmse:1093.73890+71.78396\n",
            "[800]\ttrain-rmse:921.35743+13.85451\ttest-rmse:1071.85619+71.80248\n",
            "[850]\ttrain-rmse:891.93966+13.75649\ttest-rmse:1051.71538+71.50226\n",
            "[900]\ttrain-rmse:864.57434+13.77159\ttest-rmse:1033.16926+71.52695\n",
            "[950]\ttrain-rmse:838.51976+13.60143\ttest-rmse:1016.19747+71.79373\n",
            "[1000]\ttrain-rmse:814.46608+13.49200\ttest-rmse:1000.91478+71.75886\n",
            "[1050]\ttrain-rmse:791.77503+13.06125\ttest-rmse:986.72195+72.05011\n",
            "[1100]\ttrain-rmse:770.39588+13.11735\ttest-rmse:973.79421+71.91947\n",
            "[1150]\ttrain-rmse:750.37212+13.04171\ttest-rmse:962.40752+71.88487\n",
            "[1200]\ttrain-rmse:731.49230+13.19893\ttest-rmse:951.79059+71.84746\n",
            "[1250]\ttrain-rmse:713.86797+13.21528\ttest-rmse:941.80236+71.87291\n",
            "[1300]\ttrain-rmse:696.96399+13.09362\ttest-rmse:932.42222+71.99185\n",
            "[1350]\ttrain-rmse:681.30541+13.21976\ttest-rmse:924.44778+72.18269\n",
            "[1400]\ttrain-rmse:666.27174+13.16341\ttest-rmse:916.88390+72.36251\n",
            "[1450]\ttrain-rmse:652.04728+13.21188\ttest-rmse:910.40039+72.24733\n",
            "[1500]\ttrain-rmse:638.64976+13.11679\ttest-rmse:904.19195+72.23250\n",
            "[1550]\ttrain-rmse:625.92538+13.07332\ttest-rmse:898.31081+72.44271\n",
            "[1600]\ttrain-rmse:613.92439+13.29006\ttest-rmse:893.09574+72.31850\n",
            "[1650]\ttrain-rmse:602.23885+13.26480\ttest-rmse:888.33170+72.30906\n",
            "[1700]\ttrain-rmse:591.29843+13.18996\ttest-rmse:883.90549+72.06780\n",
            "[1750]\ttrain-rmse:580.83497+13.20429\ttest-rmse:879.81372+72.23527\n",
            "[1800]\ttrain-rmse:570.86049+13.19398\ttest-rmse:876.14441+72.27498\n",
            "[1850]\ttrain-rmse:561.30685+13.13517\ttest-rmse:872.37209+72.25608\n",
            "[1900]\ttrain-rmse:552.07498+13.13632\ttest-rmse:869.20338+71.98008\n",
            "[1950]\ttrain-rmse:543.37013+13.27897\ttest-rmse:866.31307+71.93435\n",
            "[2000]\ttrain-rmse:535.03119+13.29635\ttest-rmse:863.55578+71.71106\n",
            "[2050]\ttrain-rmse:527.05398+13.34569\ttest-rmse:860.92327+71.55566\n",
            "[2100]\ttrain-rmse:519.24331+13.39257\ttest-rmse:858.44799+71.49126\n",
            "[2150]\ttrain-rmse:511.64454+13.44131\ttest-rmse:856.23999+71.43222\n",
            "[2200]\ttrain-rmse:504.58076+13.36472\ttest-rmse:854.19204+71.39704\n",
            "[2250]\ttrain-rmse:497.91623+13.28591\ttest-rmse:852.44917+71.35295\n",
            "[2260]\ttrain-rmse:496.57233+13.27722\ttest-rmse:852.07518+71.31435\n"
          ]
        },
        {
          "metadata": {
            "tags": null
          },
          "name": "stderr",
          "output_type": "stream",
          "text": [
            "[I 2025-01-28 17:27:25,214] Trial 74 finished with value: 852.0751833101824 and parameters: {'booster': 'gbtree', 'learning_rate': 0.0014299431580904896, 'max_depth': 10, 'gamma': 0.0028896514184080487, 'subsample': 0.6887303605904224, 'reg_alpha': 4.063721129287643e-08, 'reg_lambda': 0.01568393275955224, 'colsample_bytree': 0.853798949284676, 'min_child_weight': 5, 'n_estimators': 2261}. Best is trial 69 with value: 826.559272767818.\n"
          ]
        },
        {
          "metadata": {
            "tags": null
          },
          "name": "stdout",
          "output_type": "stream",
          "text": [
            "[0]\ttrain-rmse:1818.35282+29.25066\ttest-rmse:1815.28828+123.03836\n",
            "[50]\ttrain-rmse:1596.04333+23.88235\ttest-rmse:1619.40263+103.81922\n",
            "[100]\ttrain-rmse:1412.35727+19.93766\ttest-rmse:1461.00137+88.99758\n",
            "[150]\ttrain-rmse:1259.49357+17.93353\ttest-rmse:1335.30891+78.75206\n",
            "[200]\ttrain-rmse:1131.74900+15.53016\ttest-rmse:1233.93002+73.03275\n",
            "[250]\ttrain-rmse:1026.63594+14.30603\ttest-rmse:1155.93187+69.84621\n",
            "[300]\ttrain-rmse:936.74820+13.84793\ttest-rmse:1091.46164+69.05926\n",
            "[350]\ttrain-rmse:861.42337+13.38170\ttest-rmse:1039.81721+69.09269\n",
            "[400]\ttrain-rmse:796.60744+13.08384\ttest-rmse:999.08762+69.19653\n",
            "[450]\ttrain-rmse:742.02898+13.44056\ttest-rmse:967.17377+69.21403\n",
            "[500]\ttrain-rmse:695.25014+13.35041\ttest-rmse:942.40113+69.35224\n",
            "[550]\ttrain-rmse:655.86158+12.83081\ttest-rmse:923.28854+69.34393\n",
            "[600]\ttrain-rmse:620.16161+13.26239\ttest-rmse:906.23373+68.61457\n",
            "[650]\ttrain-rmse:588.65895+13.44655\ttest-rmse:893.10184+68.38551\n",
            "[700]\ttrain-rmse:561.73844+13.48035\ttest-rmse:883.38185+67.92463\n",
            "[750]\ttrain-rmse:537.06360+13.12970\ttest-rmse:874.62007+67.65125\n",
            "[800]\ttrain-rmse:515.72367+12.92226\ttest-rmse:868.16455+67.61178\n",
            "[850]\ttrain-rmse:495.95433+12.74292\ttest-rmse:862.43795+67.64688\n",
            "[900]\ttrain-rmse:478.46838+12.77886\ttest-rmse:857.70979+67.36069\n",
            "[950]\ttrain-rmse:461.88801+12.51529\ttest-rmse:853.72033+67.20686\n",
            "[1000]\ttrain-rmse:446.93044+12.61032\ttest-rmse:850.37418+66.68397\n",
            "[1050]\ttrain-rmse:433.56089+12.85823\ttest-rmse:847.94014+66.14220\n",
            "[1100]\ttrain-rmse:420.99883+12.78194\ttest-rmse:845.74622+65.83301\n",
            "[1150]\ttrain-rmse:409.22413+12.71617\ttest-rmse:843.70995+65.69242\n",
            "[1200]\ttrain-rmse:398.01953+12.51702\ttest-rmse:841.98134+65.67567\n",
            "[1250]\ttrain-rmse:387.92092+12.33964\ttest-rmse:840.54001+65.56730\n",
            "[1300]\ttrain-rmse:377.77965+12.04530\ttest-rmse:839.14368+65.28022\n",
            "[1350]\ttrain-rmse:368.55067+11.77322\ttest-rmse:838.01866+65.11702\n",
            "[1400]\ttrain-rmse:359.44611+11.53894\ttest-rmse:836.91637+65.18143\n",
            "[1450]\ttrain-rmse:350.59053+11.41864\ttest-rmse:836.30201+65.21430\n",
            "[1500]\ttrain-rmse:342.00506+11.11783\ttest-rmse:835.24405+65.32763\n",
            "[1550]\ttrain-rmse:333.88891+10.71462\ttest-rmse:834.15720+65.53900\n",
            "[1600]\ttrain-rmse:326.22562+10.48334\ttest-rmse:833.65910+65.42638\n",
            "[1650]\ttrain-rmse:318.58697+10.15631\ttest-rmse:833.12390+65.23688\n",
            "[1658]\ttrain-rmse:317.45268+10.10531\ttest-rmse:833.07069+65.16846\n"
          ]
        },
        {
          "metadata": {
            "tags": null
          },
          "name": "stderr",
          "output_type": "stream",
          "text": [
            "[I 2025-01-28 17:28:27,615] Trial 75 finished with value: 833.0488591934791 and parameters: {'booster': 'gbtree', 'learning_rate': 0.00370265370750551, 'max_depth': 10, 'gamma': 4.070030197545781e-05, 'subsample': 0.6165276057873393, 'reg_alpha': 2.0539417331800662e-07, 'reg_lambda': 0.0036232544175334946, 'colsample_bytree': 0.7947518289528614, 'min_child_weight': 4, 'n_estimators': 2355}. Best is trial 69 with value: 826.559272767818.\n"
          ]
        },
        {
          "metadata": {
            "tags": null
          },
          "name": "stdout",
          "output_type": "stream",
          "text": [
            "[0]\ttrain-rmse:1821.01977+29.34827\ttest-rmse:1817.52679+123.02660\n",
            "[50]\ttrain-rmse:1707.57323+26.25825\ttest-rmse:1716.77020+112.76275\n",
            "[100]\ttrain-rmse:1604.09165+23.40517\ttest-rmse:1624.84375+104.11064\n",
            "[150]\ttrain-rmse:1510.19773+21.76475\ttest-rmse:1543.31558+96.16258\n",
            "[200]\ttrain-rmse:1423.99023+19.97993\ttest-rmse:1469.31645+89.83864\n",
            "[250]\ttrain-rmse:1346.99011+18.55225\ttest-rmse:1404.73568+85.41589\n",
            "[300]\ttrain-rmse:1274.68252+17.50852\ttest-rmse:1345.21070+81.34299\n",
            "[350]\ttrain-rmse:1208.78077+16.28316\ttest-rmse:1291.29792+78.75884\n",
            "[400]\ttrain-rmse:1148.03883+15.20124\ttest-rmse:1242.71560+76.25592\n",
            "[450]\ttrain-rmse:1092.37503+14.86097\ttest-rmse:1199.14629+74.43061\n",
            "[500]\ttrain-rmse:1041.67543+14.20587\ttest-rmse:1160.66602+73.22420\n",
            "[550]\ttrain-rmse:995.47807+13.32977\ttest-rmse:1126.42201+72.87927\n",
            "[600]\ttrain-rmse:952.48872+13.23426\ttest-rmse:1095.13659+72.08711\n",
            "[650]\ttrain-rmse:912.95554+12.72772\ttest-rmse:1067.34281+72.23624\n",
            "[700]\ttrain-rmse:877.04396+12.67115\ttest-rmse:1043.23447+71.66396\n",
            "[750]\ttrain-rmse:843.89183+12.41268\ttest-rmse:1021.69900+71.62974\n",
            "[800]\ttrain-rmse:813.50098+12.45118\ttest-rmse:1002.59620+71.67900\n",
            "[850]\ttrain-rmse:785.18501+12.28655\ttest-rmse:985.31253+71.81021\n",
            "[900]\ttrain-rmse:759.14971+12.39638\ttest-rmse:969.80884+72.10474\n",
            "[950]\ttrain-rmse:734.73806+12.21546\ttest-rmse:955.70995+72.48295\n",
            "[1000]\ttrain-rmse:712.20759+12.34226\ttest-rmse:943.27773+72.58038\n",
            "[1050]\ttrain-rmse:691.36274+12.30322\ttest-rmse:932.17967+72.54120\n",
            "[1100]\ttrain-rmse:671.50923+12.30703\ttest-rmse:922.13677+72.21827\n",
            "[1150]\ttrain-rmse:653.21878+12.44149\ttest-rmse:913.18558+72.14231\n",
            "[1200]\ttrain-rmse:636.05437+12.44589\ttest-rmse:904.73947+72.31028\n",
            "[1250]\ttrain-rmse:620.30902+12.28413\ttest-rmse:897.34816+72.32916\n",
            "[1300]\ttrain-rmse:605.25946+12.31035\ttest-rmse:890.73459+72.01561\n",
            "[1350]\ttrain-rmse:591.44983+12.29447\ttest-rmse:885.06384+72.20224\n",
            "[1400]\ttrain-rmse:578.28990+12.27462\ttest-rmse:880.04422+72.07518\n",
            "[1450]\ttrain-rmse:565.72922+12.25142\ttest-rmse:875.71572+72.05774\n",
            "[1500]\ttrain-rmse:554.12703+12.27945\ttest-rmse:871.72185+71.88369\n",
            "[1550]\ttrain-rmse:543.36383+12.36733\ttest-rmse:867.79201+71.78080\n",
            "[1600]\ttrain-rmse:532.82119+12.34163\ttest-rmse:864.31833+71.66808\n",
            "[1650]\ttrain-rmse:522.64968+12.42264\ttest-rmse:861.19872+71.32848\n",
            "[1700]\ttrain-rmse:513.33271+12.43630\ttest-rmse:858.63438+71.06297\n",
            "[1750]\ttrain-rmse:504.33864+12.50015\ttest-rmse:856.12765+70.89655\n",
            "[1800]\ttrain-rmse:495.57831+12.44060\ttest-rmse:853.95772+70.82835\n",
            "[1850]\ttrain-rmse:487.54847+12.45375\ttest-rmse:851.85171+70.95359\n",
            "[1900]\ttrain-rmse:479.83328+12.52382\ttest-rmse:849.98908+70.63673\n",
            "[1950]\ttrain-rmse:472.60097+12.51545\ttest-rmse:848.38214+70.49466\n",
            "[2000]\ttrain-rmse:465.75725+12.55918\ttest-rmse:846.95191+70.20566\n",
            "[2050]\ttrain-rmse:458.99614+12.63273\ttest-rmse:845.52783+70.03367\n",
            "[2100]\ttrain-rmse:452.42063+12.50752\ttest-rmse:844.20751+69.95850\n",
            "[2150]\ttrain-rmse:445.95640+12.58433\ttest-rmse:843.13473+69.68253\n",
            "[2200]\ttrain-rmse:439.69770+12.48770\ttest-rmse:841.92147+69.64759\n",
            "[2250]\ttrain-rmse:433.85836+12.40818\ttest-rmse:840.89233+69.15654\n",
            "[2300]\ttrain-rmse:428.15288+12.26215\ttest-rmse:839.76756+69.09466\n",
            "[2350]\ttrain-rmse:422.56144+12.18291\ttest-rmse:838.95272+68.98594\n",
            "[2400]\ttrain-rmse:417.18963+12.21192\ttest-rmse:838.14975+68.91460\n",
            "[2450]\ttrain-rmse:411.75047+11.97816\ttest-rmse:837.30328+68.74369\n",
            "[2500]\ttrain-rmse:406.67873+11.88307\ttest-rmse:836.58961+68.70125\n",
            "[2550]\ttrain-rmse:401.54581+11.80271\ttest-rmse:835.97560+68.56658\n",
            "[2600]\ttrain-rmse:396.73024+11.85920\ttest-rmse:835.42277+68.47463\n",
            "[2650]\ttrain-rmse:391.82648+11.77747\ttest-rmse:834.72484+68.42806\n",
            "[2700]\ttrain-rmse:386.99613+11.68012\ttest-rmse:834.23791+68.37438\n",
            "[2746]\ttrain-rmse:382.86704+11.57523\ttest-rmse:833.84053+68.23540\n"
          ]
        },
        {
          "metadata": {
            "tags": null
          },
          "name": "stderr",
          "output_type": "stream",
          "text": [
            "[I 2025-01-28 17:30:15,153] Trial 76 finished with value: 833.8405253762133 and parameters: {'booster': 'gbtree', 'learning_rate': 0.001851573929789185, 'max_depth': 10, 'gamma': 0.003425550902626202, 'subsample': 0.583719837327139, 'reg_alpha': 8.048823390761324e-08, 'reg_lambda': 0.2520883185167027, 'colsample_bytree': 0.8883416746489706, 'min_child_weight': 4, 'n_estimators': 2747}. Best is trial 69 with value: 826.559272767818.\n"
          ]
        },
        {
          "metadata": {
            "tags": null
          },
          "name": "stdout",
          "output_type": "stream",
          "text": [
            "[0]\ttrain-rmse:1819.75124+29.26634\ttest-rmse:1816.32072+122.83987\n",
            "[50]\ttrain-rmse:1648.03375+23.43298\ttest-rmse:1661.71835+108.18497\n",
            "[100]\ttrain-rmse:1500.39221+19.06186\ttest-rmse:1530.05176+95.65698\n",
            "[150]\ttrain-rmse:1374.47068+17.17731\ttest-rmse:1421.20637+86.42849\n",
            "[200]\ttrain-rmse:1265.16399+15.15892\ttest-rmse:1327.98075+80.21906\n",
            "[250]\ttrain-rmse:1173.47644+13.71569\ttest-rmse:1252.39353+76.57254\n",
            "[300]\ttrain-rmse:1092.65299+13.19514\ttest-rmse:1188.35459+73.73496\n",
            "[350]\ttrain-rmse:1022.02325+12.82118\ttest-rmse:1132.83497+72.29072\n",
            "[400]\ttrain-rmse:960.97919+11.99486\ttest-rmse:1086.89599+71.92692\n",
            "[450]\ttrain-rmse:907.27594+12.12976\ttest-rmse:1047.81149+71.29752\n",
            "[500]\ttrain-rmse:860.37064+12.30098\ttest-rmse:1014.75413+71.38896\n",
            "[550]\ttrain-rmse:819.78599+12.03242\ttest-rmse:988.14900+72.01293\n",
            "[600]\ttrain-rmse:783.14352+12.48546\ttest-rmse:964.54266+71.70364\n",
            "[650]\ttrain-rmse:750.58247+12.44319\ttest-rmse:944.99085+72.53820\n",
            "[700]\ttrain-rmse:722.13331+12.82798\ttest-rmse:928.66998+72.85329\n",
            "[750]\ttrain-rmse:696.31478+12.85551\ttest-rmse:914.44934+72.63224\n",
            "[800]\ttrain-rmse:673.40305+12.83793\ttest-rmse:902.87894+72.92609\n",
            "[850]\ttrain-rmse:652.54219+12.95555\ttest-rmse:892.86376+73.38801\n",
            "[900]\ttrain-rmse:633.83987+13.20636\ttest-rmse:884.84015+73.23866\n",
            "[950]\ttrain-rmse:616.70596+13.48980\ttest-rmse:877.85714+73.14750\n",
            "[1000]\ttrain-rmse:601.00087+13.66398\ttest-rmse:872.08169+72.72828\n",
            "[1050]\ttrain-rmse:587.34454+13.90926\ttest-rmse:867.47097+72.57274\n",
            "[1100]\ttrain-rmse:573.99728+14.00037\ttest-rmse:863.20617+72.23107\n",
            "[1150]\ttrain-rmse:561.82522+14.04011\ttest-rmse:859.82018+71.98414\n",
            "[1200]\ttrain-rmse:550.68895+14.36942\ttest-rmse:856.52102+71.89081\n",
            "[1250]\ttrain-rmse:540.25149+14.13287\ttest-rmse:853.79281+71.67739\n",
            "[1300]\ttrain-rmse:530.16580+14.10296\ttest-rmse:851.11294+71.51475\n",
            "[1350]\ttrain-rmse:520.95498+14.05865\ttest-rmse:848.73776+71.39043\n",
            "[1400]\ttrain-rmse:511.89252+14.36494\ttest-rmse:846.76611+71.15561\n",
            "[1450]\ttrain-rmse:503.18150+14.10708\ttest-rmse:845.24551+71.12173\n",
            "[1500]\ttrain-rmse:494.94088+13.78285\ttest-rmse:843.42635+71.16274\n",
            "[1550]\ttrain-rmse:486.91592+13.78478\ttest-rmse:841.74342+71.25074\n",
            "[1600]\ttrain-rmse:479.16849+13.95374\ttest-rmse:840.45913+71.34533\n",
            "[1650]\ttrain-rmse:471.78564+13.82149\ttest-rmse:839.42197+71.09656\n",
            "[1700]\ttrain-rmse:464.76002+13.81005\ttest-rmse:838.44056+70.85986\n",
            "[1750]\ttrain-rmse:457.75667+13.56734\ttest-rmse:837.53774+70.88129\n",
            "[1800]\ttrain-rmse:450.97088+13.52610\ttest-rmse:836.55497+70.78051\n",
            "[1850]\ttrain-rmse:444.54885+13.31647\ttest-rmse:835.82800+71.07097\n",
            "[1900]\ttrain-rmse:438.03505+12.94648\ttest-rmse:835.17123+71.14157\n",
            "[1950]\ttrain-rmse:431.86629+12.94526\ttest-rmse:834.33380+71.07636\n",
            "[2000]\ttrain-rmse:425.69262+13.07818\ttest-rmse:833.60871+70.88675\n",
            "[2050]\ttrain-rmse:419.58552+12.95922\ttest-rmse:833.00318+70.92701\n",
            "[2100]\ttrain-rmse:413.73052+12.75939\ttest-rmse:832.38452+71.09737\n",
            "[2150]\ttrain-rmse:408.10020+12.68449\ttest-rmse:831.61063+71.05010\n",
            "[2153]\ttrain-rmse:407.75177+12.66470\ttest-rmse:831.62637+71.07605\n"
          ]
        },
        {
          "metadata": {
            "tags": null
          },
          "name": "stderr",
          "output_type": "stream",
          "text": [
            "[I 2025-01-28 17:31:21,610] Trial 77 finished with value: 831.6263693342186 and parameters: {'booster': 'gbtree', 'learning_rate': 0.0029727450848223945, 'max_depth': 9, 'gamma': 0.010420042904666808, 'subsample': 0.5588109231688523, 'reg_alpha': 5.187943132683598e-08, 'reg_lambda': 0.008369257867684688, 'colsample_bytree': 0.9670757196315768, 'min_child_weight': 5, 'n_estimators': 2154}. Best is trial 69 with value: 826.559272767818.\n"
          ]
        },
        {
          "metadata": {
            "tags": null
          },
          "name": "stdout",
          "output_type": "stream",
          "text": [
            "[0]\ttrain-rmse:1816.12822+29.16534\ttest-rmse:1812.76834+122.77600\n",
            "[50]\ttrain-rmse:1498.18036+19.71013\ttest-rmse:1532.00509+95.98623\n",
            "[100]\ttrain-rmse:1259.28956+14.97452\ttest-rmse:1328.80722+80.57613\n",
            "[150]\ttrain-rmse:1079.70828+14.10120\ttest-rmse:1186.57859+73.75219\n",
            "[200]\ttrain-rmse:942.57029+13.17068\ttest-rmse:1085.94830+71.39079\n",
            "[250]\ttrain-rmse:837.71797+12.86505\ttest-rmse:1016.12283+69.97884\n",
            "[300]\ttrain-rmse:753.29939+12.73104\ttest-rmse:964.50877+70.72586\n",
            "[350]\ttrain-rmse:687.03128+12.57687\ttest-rmse:928.75393+70.40323\n",
            "[400]\ttrain-rmse:632.88782+12.22484\ttest-rmse:903.96923+70.37826\n",
            "[450]\ttrain-rmse:587.72106+12.90340\ttest-rmse:885.43569+70.49429\n",
            "[500]\ttrain-rmse:550.34274+13.24472\ttest-rmse:872.19238+69.87454\n",
            "[550]\ttrain-rmse:518.72827+12.83751\ttest-rmse:862.45225+68.88204\n",
            "[600]\ttrain-rmse:491.14744+12.46614\ttest-rmse:854.61711+68.24398\n",
            "[650]\ttrain-rmse:467.73529+12.45548\ttest-rmse:849.42976+68.02947\n",
            "[700]\ttrain-rmse:446.93900+11.26639\ttest-rmse:845.41215+67.38913\n",
            "[750]\ttrain-rmse:427.95954+10.72223\ttest-rmse:842.33314+67.11876\n",
            "[800]\ttrain-rmse:410.97228+10.78747\ttest-rmse:839.81767+66.93812\n",
            "[850]\ttrain-rmse:395.07675+10.41690\ttest-rmse:837.73469+66.61046\n",
            "[900]\ttrain-rmse:380.81742+10.38806\ttest-rmse:835.91502+66.16317\n",
            "[950]\ttrain-rmse:367.26046+10.05547\ttest-rmse:834.18247+66.10122\n",
            "[1000]\ttrain-rmse:354.48689+9.67455\ttest-rmse:832.79873+66.20013\n",
            "[1050]\ttrain-rmse:341.97646+9.03823\ttest-rmse:831.53295+66.00785\n",
            "[1100]\ttrain-rmse:330.27264+8.66533\ttest-rmse:830.41264+65.79924\n",
            "[1150]\ttrain-rmse:319.41013+8.32625\ttest-rmse:829.51644+65.76913\n",
            "[1200]\ttrain-rmse:308.87045+8.13699\ttest-rmse:828.74925+65.74933\n",
            "[1250]\ttrain-rmse:299.25739+8.03909\ttest-rmse:827.95880+65.46798\n",
            "[1300]\ttrain-rmse:289.55738+7.95300\ttest-rmse:827.41960+65.23752\n",
            "[1350]\ttrain-rmse:280.80938+7.50563\ttest-rmse:827.09429+65.17061\n",
            "[1365]\ttrain-rmse:278.04152+7.49367\ttest-rmse:827.13588+65.24597\n"
          ]
        },
        {
          "metadata": {
            "tags": null
          },
          "name": "stderr",
          "output_type": "stream",
          "text": [
            "[I 2025-01-28 17:32:08,241] Trial 78 finished with value: 827.0858463015365 and parameters: {'booster': 'gbtree', 'learning_rate': 0.005757757982556402, 'max_depth': 9, 'gamma': 0.006862195508018871, 'subsample': 0.6827991312500973, 'reg_alpha': 4.395738780545736e-07, 'reg_lambda': 0.03918546035286291, 'colsample_bytree': 0.8230131992283357, 'min_child_weight': 4, 'n_estimators': 2472}. Best is trial 69 with value: 826.559272767818.\n"
          ]
        },
        {
          "metadata": {
            "tags": null
          },
          "name": "stdout",
          "output_type": "stream",
          "text": [
            "[0]\ttrain-rmse:1817.92763+29.18874\ttest-rmse:1814.67609+122.85385\n",
            "[50]\ttrain-rmse:1567.42393+22.43335\ttest-rmse:1592.74180+102.42199\n",
            "[100]\ttrain-rmse:1365.25807+18.51612\ttest-rmse:1418.03306+87.14700\n",
            "[150]\ttrain-rmse:1202.38205+16.62212\ttest-rmse:1284.53276+78.44842\n",
            "[200]\ttrain-rmse:1069.41231+14.85275\ttest-rmse:1179.96622+73.66053\n",
            "[250]\ttrain-rmse:964.02367+14.06398\ttest-rmse:1102.16390+71.35580\n",
            "[300]\ttrain-rmse:875.50472+13.90592\ttest-rmse:1040.70485+71.18515\n",
            "[350]\ttrain-rmse:802.96446+13.54695\ttest-rmse:993.35073+71.85822\n",
            "[400]\ttrain-rmse:742.94564+13.52615\ttest-rmse:957.47135+72.42861\n",
            "[450]\ttrain-rmse:692.00035+14.43611\ttest-rmse:929.51377+72.05107\n",
            "[500]\ttrain-rmse:649.17654+14.22061\ttest-rmse:908.73519+72.42191\n",
            "[550]\ttrain-rmse:612.77007+13.95775\ttest-rmse:892.52249+72.59108\n",
            "[600]\ttrain-rmse:580.71668+13.87479\ttest-rmse:879.51880+72.80362\n",
            "[650]\ttrain-rmse:552.74398+13.80802\ttest-rmse:869.69403+72.19900\n",
            "[700]\ttrain-rmse:528.75969+13.72466\ttest-rmse:862.50321+71.76255\n",
            "[750]\ttrain-rmse:507.56230+13.65458\ttest-rmse:856.37408+71.31040\n",
            "[800]\ttrain-rmse:488.69751+13.57833\ttest-rmse:851.74239+70.88895\n",
            "[850]\ttrain-rmse:471.67563+13.57436\ttest-rmse:847.92033+70.58596\n",
            "[900]\ttrain-rmse:456.02349+13.69132\ttest-rmse:844.67109+70.57844\n",
            "[950]\ttrain-rmse:442.00530+13.36362\ttest-rmse:842.05096+70.42576\n",
            "[1000]\ttrain-rmse:428.97534+13.11640\ttest-rmse:839.71090+70.39280\n",
            "[1050]\ttrain-rmse:416.67398+12.56371\ttest-rmse:837.94358+70.19650\n",
            "[1100]\ttrain-rmse:405.11334+12.19460\ttest-rmse:836.32930+70.29303\n",
            "[1150]\ttrain-rmse:393.96821+11.95333\ttest-rmse:835.24313+70.04347\n",
            "[1200]\ttrain-rmse:383.65597+11.94655\ttest-rmse:833.88247+69.85098\n",
            "[1250]\ttrain-rmse:374.00381+11.81161\ttest-rmse:832.73568+69.75149\n",
            "[1300]\ttrain-rmse:364.39370+11.72839\ttest-rmse:831.58999+69.15253\n",
            "[1350]\ttrain-rmse:355.21854+11.45945\ttest-rmse:830.81059+69.17856\n",
            "[1400]\ttrain-rmse:346.45452+10.94519\ttest-rmse:830.26882+69.31482\n",
            "[1450]\ttrain-rmse:338.12423+10.59847\ttest-rmse:829.76295+69.23149\n",
            "[1500]\ttrain-rmse:329.86206+10.21739\ttest-rmse:828.98133+69.29984\n",
            "[1550]\ttrain-rmse:321.91657+9.95760\ttest-rmse:828.40157+69.45584\n",
            "[1600]\ttrain-rmse:314.23754+9.68785\ttest-rmse:827.74201+69.45538\n",
            "[1650]\ttrain-rmse:306.86433+9.42988\ttest-rmse:827.29349+69.53879\n",
            "[1700]\ttrain-rmse:299.87833+9.28997\ttest-rmse:826.84625+69.38885\n",
            "[1718]\ttrain-rmse:297.37451+9.27288\ttest-rmse:826.88846+69.35861\n"
          ]
        },
        {
          "metadata": {
            "tags": null
          },
          "name": "stderr",
          "output_type": "stream",
          "text": [
            "[I 2025-01-28 17:33:10,989] Trial 79 finished with value: 826.8176967946641 and parameters: {'booster': 'gbtree', 'learning_rate': 0.004246172433141182, 'max_depth': 10, 'gamma': 0.007303875984601458, 'subsample': 0.6738583907981112, 'reg_alpha': 3.784308532168078e-07, 'reg_lambda': 0.07693333524135218, 'colsample_bytree': 0.8412376480472354, 'min_child_weight': 5, 'n_estimators': 2631}. Best is trial 69 with value: 826.559272767818.\n"
          ]
        },
        {
          "metadata": {
            "tags": null
          },
          "name": "stdout",
          "output_type": "stream",
          "text": [
            "[0]\ttrain-rmse:1820.46334+29.31834\ttest-rmse:1816.97806+122.93888\n",
            "[50]\ttrain-rmse:1683.50915+25.28602\ttest-rmse:1694.99236+111.74145\n",
            "[100]\ttrain-rmse:1560.86071+22.42170\ttest-rmse:1586.22266+101.53516\n",
            "[150]\ttrain-rmse:1451.42834+20.07313\ttest-rmse:1491.84323+93.38147\n",
            "[200]\ttrain-rmse:1352.97106+18.46769\ttest-rmse:1408.35403+87.00130\n",
            "[250]\ttrain-rmse:1266.61166+16.96497\ttest-rmse:1336.95870+82.13402\n",
            "[300]\ttrain-rmse:1187.44080+16.14944\ttest-rmse:1273.14460+78.54097\n",
            "[350]\ttrain-rmse:1117.14846+15.27959\ttest-rmse:1217.46649+76.25293\n",
            "[400]\ttrain-rmse:1053.47502+14.31458\ttest-rmse:1168.39672+74.62798\n",
            "[450]\ttrain-rmse:995.73331+14.43758\ttest-rmse:1125.12187+72.77301\n",
            "[500]\ttrain-rmse:944.40620+13.67831\ttest-rmse:1087.90118+72.43459\n",
            "[550]\ttrain-rmse:898.41884+13.45808\ttest-rmse:1055.93624+71.82974\n",
            "[600]\ttrain-rmse:856.36238+13.70565\ttest-rmse:1027.43773+71.71194\n",
            "[650]\ttrain-rmse:818.09201+13.60396\ttest-rmse:1002.69778+71.71114\n",
            "[700]\ttrain-rmse:784.01050+13.51066\ttest-rmse:981.79866+71.36237\n",
            "[750]\ttrain-rmse:753.01763+13.55504\ttest-rmse:963.65258+71.18303\n",
            "[800]\ttrain-rmse:724.82119+13.37724\ttest-rmse:947.94020+71.56541\n",
            "[850]\ttrain-rmse:698.55427+13.23896\ttest-rmse:933.85481+71.96198\n",
            "[900]\ttrain-rmse:674.93928+13.22807\ttest-rmse:921.86401+72.29009\n",
            "[950]\ttrain-rmse:652.63657+13.00188\ttest-rmse:911.16292+72.62099\n",
            "[1000]\ttrain-rmse:632.54217+13.15522\ttest-rmse:901.90488+72.56812\n",
            "[1050]\ttrain-rmse:613.86337+13.02665\ttest-rmse:893.46633+72.88279\n",
            "[1100]\ttrain-rmse:596.42400+13.15986\ttest-rmse:886.07150+72.63095\n",
            "[1150]\ttrain-rmse:580.24757+13.19015\ttest-rmse:879.87212+72.45824\n",
            "[1200]\ttrain-rmse:565.26706+13.35420\ttest-rmse:874.34334+72.28292\n",
            "[1250]\ttrain-rmse:551.23132+13.37128\ttest-rmse:869.08059+72.20350\n",
            "[1300]\ttrain-rmse:537.93554+13.36248\ttest-rmse:864.75098+71.97155\n",
            "[1350]\ttrain-rmse:525.86905+13.35843\ttest-rmse:861.14773+71.97670\n",
            "[1400]\ttrain-rmse:514.36278+13.31807\ttest-rmse:857.90215+71.86221\n",
            "[1450]\ttrain-rmse:503.86418+13.26315\ttest-rmse:855.11196+71.62639\n",
            "[1500]\ttrain-rmse:493.85805+13.20958\ttest-rmse:852.51056+71.46098\n",
            "[1550]\ttrain-rmse:484.66125+13.19368\ttest-rmse:850.21599+71.45758\n",
            "[1600]\ttrain-rmse:475.75752+13.10846\ttest-rmse:848.12713+71.15390\n",
            "[1650]\ttrain-rmse:467.04340+13.19299\ttest-rmse:846.37243+70.89316\n",
            "[1700]\ttrain-rmse:459.05401+13.04177\ttest-rmse:844.84712+70.46617\n",
            "[1750]\ttrain-rmse:451.21732+12.95605\ttest-rmse:843.48217+70.38573\n",
            "[1800]\ttrain-rmse:443.94348+12.97689\ttest-rmse:842.30204+70.22374\n",
            "[1850]\ttrain-rmse:436.72126+12.90344\ttest-rmse:840.90765+70.11846\n",
            "[1900]\ttrain-rmse:429.72911+12.79831\ttest-rmse:839.71676+69.97961\n",
            "[1921]\ttrain-rmse:426.90332+12.79239\ttest-rmse:839.26893+69.85781\n"
          ]
        },
        {
          "metadata": {
            "tags": null
          },
          "name": "stderr",
          "output_type": "stream",
          "text": [
            "[I 2025-01-28 17:34:27,976] Trial 80 finished with value: 839.268925395669 and parameters: {'booster': 'gbtree', 'learning_rate': 0.0021949107802439103, 'max_depth': 10, 'gamma': 0.006882048348918105, 'subsample': 0.6798686919175392, 'reg_alpha': 4.2210461833670107e-07, 'reg_lambda': 0.04340118162100358, 'colsample_bytree': 0.811484554472618, 'min_child_weight': 5, 'n_estimators': 1922}. Best is trial 69 with value: 826.559272767818.\n"
          ]
        },
        {
          "metadata": {
            "tags": null
          },
          "name": "stdout",
          "output_type": "stream",
          "text": [
            "[0]\ttrain-rmse:1818.31349+29.17238\ttest-rmse:1814.94919+122.88638\n",
            "[50]\ttrain-rmse:1583.98641+22.45339\ttest-rmse:1605.15660+103.82617\n",
            "[100]\ttrain-rmse:1392.13174+17.81878\ttest-rmse:1436.90803+89.55756\n",
            "[150]\ttrain-rmse:1236.73645+15.72893\ttest-rmse:1307.01229+79.84048\n",
            "[200]\ttrain-rmse:1109.09127+13.63309\ttest-rmse:1203.86695+75.14550\n",
            "[250]\ttrain-rmse:1007.36683+12.24869\ttest-rmse:1126.64913+72.47517\n",
            "[300]\ttrain-rmse:921.08928+12.29700\ttest-rmse:1063.82463+72.02767\n",
            "[350]\ttrain-rmse:851.02939+12.34262\ttest-rmse:1014.99562+72.10298\n",
            "[400]\ttrain-rmse:791.87890+12.08311\ttest-rmse:977.24909+72.77235\n",
            "[450]\ttrain-rmse:741.79495+12.87817\ttest-rmse:946.94967+73.14464\n",
            "[500]\ttrain-rmse:699.30401+12.94536\ttest-rmse:924.38230+74.22849\n",
            "[550]\ttrain-rmse:663.37390+12.65205\ttest-rmse:905.87782+74.33519\n",
            "[600]\ttrain-rmse:631.69467+13.18811\ttest-rmse:890.77920+74.64396\n",
            "[650]\ttrain-rmse:604.11476+13.53173\ttest-rmse:879.29426+74.44363\n",
            "[700]\ttrain-rmse:580.52236+13.98521\ttest-rmse:870.59373+74.12069\n",
            "[750]\ttrain-rmse:559.38194+14.11232\ttest-rmse:863.08316+74.08591\n",
            "[800]\ttrain-rmse:541.06985+13.99411\ttest-rmse:857.55724+73.99475\n",
            "[850]\ttrain-rmse:524.52560+14.00389\ttest-rmse:853.34834+73.84193\n",
            "[900]\ttrain-rmse:509.10410+14.14684\ttest-rmse:849.47017+73.76368\n",
            "[950]\ttrain-rmse:495.13207+14.05870\ttest-rmse:846.01766+73.77736\n",
            "[1000]\ttrain-rmse:481.86123+13.54712\ttest-rmse:843.27443+73.43852\n",
            "[1050]\ttrain-rmse:469.53067+13.08991\ttest-rmse:841.13104+73.36802\n",
            "[1100]\ttrain-rmse:458.15728+12.79539\ttest-rmse:839.07316+73.11125\n",
            "[1150]\ttrain-rmse:447.66740+12.65323\ttest-rmse:837.68226+73.03584\n",
            "[1200]\ttrain-rmse:437.31473+12.59771\ttest-rmse:835.81788+72.95290\n",
            "[1250]\ttrain-rmse:427.77710+12.67877\ttest-rmse:834.48093+72.65846\n",
            "[1300]\ttrain-rmse:418.53139+12.29651\ttest-rmse:833.21364+72.49136\n",
            "[1350]\ttrain-rmse:409.58608+11.88456\ttest-rmse:832.22387+72.45827\n",
            "[1400]\ttrain-rmse:400.74261+11.77804\ttest-rmse:831.31376+72.60480\n",
            "[1450]\ttrain-rmse:392.24732+11.55522\ttest-rmse:830.59010+72.65883\n",
            "[1500]\ttrain-rmse:384.15128+11.35978\ttest-rmse:829.67215+73.07017\n",
            "[1550]\ttrain-rmse:376.33372+11.13279\ttest-rmse:828.82262+72.97276\n",
            "[1600]\ttrain-rmse:368.86486+10.57014\ttest-rmse:828.02224+72.93761\n",
            "[1650]\ttrain-rmse:361.47501+10.59467\ttest-rmse:827.54875+72.81582\n",
            "[1700]\ttrain-rmse:354.51541+10.63687\ttest-rmse:827.09462+72.45371\n",
            "[1750]\ttrain-rmse:347.48447+10.41419\ttest-rmse:826.87921+72.54244\n",
            "[1800]\ttrain-rmse:340.82518+10.17799\ttest-rmse:826.62069+72.52176\n",
            "[1850]\ttrain-rmse:334.13527+9.95557\ttest-rmse:826.19954+72.57279\n",
            "[1900]\ttrain-rmse:327.59888+9.67599\ttest-rmse:825.66632+72.54155\n",
            "[1950]\ttrain-rmse:321.42754+9.80179\ttest-rmse:825.23999+72.56238\n",
            "[2000]\ttrain-rmse:315.51383+9.71231\ttest-rmse:825.00896+72.51123\n",
            "[2050]\ttrain-rmse:309.59330+9.28209\ttest-rmse:824.76340+72.43085\n",
            "[2100]\ttrain-rmse:303.95852+9.16677\ttest-rmse:824.49631+72.42871\n",
            "[2104]\ttrain-rmse:303.52488+9.13162\ttest-rmse:824.49674+72.40314\n"
          ]
        },
        {
          "metadata": {
            "tags": null
          },
          "name": "stderr",
          "output_type": "stream",
          "text": [
            "[I 2025-01-28 17:35:35,140] Trial 81 finished with value: 824.4628515991941 and parameters: {'booster': 'gbtree', 'learning_rate': 0.0040751963751115144, 'max_depth': 10, 'gamma': 0.008338509647870581, 'subsample': 0.6584376405681474, 'reg_alpha': 1.3777338698349477e-07, 'reg_lambda': 0.1832875513658512, 'colsample_bytree': 0.8476093651732993, 'min_child_weight': 6, 'n_estimators': 2626}. Best is trial 81 with value: 824.4628515991941.\n"
          ]
        },
        {
          "metadata": {
            "tags": null
          },
          "name": "stdout",
          "output_type": "stream",
          "text": [
            "[0]\ttrain-rmse:1818.39643+29.14394\ttest-rmse:1815.06074+122.91873\n",
            "[50]\ttrain-rmse:1586.45251+22.15902\ttest-rmse:1607.10386+104.16498\n",
            "[100]\ttrain-rmse:1396.27465+17.42234\ttest-rmse:1440.27204+90.05436\n",
            "[150]\ttrain-rmse:1242.27113+15.80032\ttest-rmse:1310.92484+80.65814\n",
            "[200]\ttrain-rmse:1115.56261+14.35570\ttest-rmse:1208.66496+75.68993\n",
            "[250]\ttrain-rmse:1014.05534+13.01802\ttest-rmse:1131.39004+72.97937\n",
            "[300]\ttrain-rmse:927.98884+12.81547\ttest-rmse:1068.61748+72.27666\n",
            "[350]\ttrain-rmse:857.73638+12.97787\ttest-rmse:1019.71829+71.91452\n",
            "[400]\ttrain-rmse:798.39225+12.75975\ttest-rmse:981.25280+72.69983\n",
            "[450]\ttrain-rmse:748.11087+13.48816\ttest-rmse:950.61633+73.00569\n",
            "[500]\ttrain-rmse:705.37445+13.45279\ttest-rmse:927.31573+74.15641\n",
            "[550]\ttrain-rmse:669.45861+13.23637\ttest-rmse:908.54978+74.48885\n",
            "[600]\ttrain-rmse:637.48651+13.66795\ttest-rmse:893.15398+74.12950\n",
            "[650]\ttrain-rmse:609.76638+13.81497\ttest-rmse:880.93466+73.62815\n",
            "[700]\ttrain-rmse:585.87412+14.16488\ttest-rmse:871.99524+73.53511\n",
            "[750]\ttrain-rmse:564.68143+14.24822\ttest-rmse:864.14190+73.34177\n",
            "[800]\ttrain-rmse:545.98676+14.25306\ttest-rmse:858.05129+72.89408\n",
            "[850]\ttrain-rmse:529.03527+14.32011\ttest-rmse:853.88030+72.67573\n",
            "[900]\ttrain-rmse:513.49117+14.46023\ttest-rmse:850.02895+72.73350\n",
            "[950]\ttrain-rmse:499.27051+14.16466\ttest-rmse:846.59915+72.48761\n",
            "[1000]\ttrain-rmse:486.23801+13.95857\ttest-rmse:843.95447+72.29838\n",
            "[1050]\ttrain-rmse:474.16534+13.71084\ttest-rmse:841.70402+72.06573\n",
            "[1100]\ttrain-rmse:462.80332+13.34764\ttest-rmse:839.75848+71.78940\n",
            "[1150]\ttrain-rmse:452.01274+13.14446\ttest-rmse:838.14670+71.89160\n",
            "[1200]\ttrain-rmse:441.72967+13.11798\ttest-rmse:836.35339+71.63513\n",
            "[1250]\ttrain-rmse:432.05225+13.12895\ttest-rmse:835.14271+71.50044\n",
            "[1300]\ttrain-rmse:422.77601+12.88176\ttest-rmse:834.04282+71.40390\n",
            "[1350]\ttrain-rmse:413.84190+12.64800\ttest-rmse:832.98423+71.54227\n",
            "[1400]\ttrain-rmse:404.86847+12.50558\ttest-rmse:832.34708+71.65564\n",
            "[1450]\ttrain-rmse:396.45259+12.13002\ttest-rmse:831.55038+71.73894\n",
            "[1500]\ttrain-rmse:388.20430+11.90261\ttest-rmse:830.69480+71.94249\n",
            "[1550]\ttrain-rmse:380.47418+11.66783\ttest-rmse:829.99926+71.75987\n",
            "[1600]\ttrain-rmse:373.15349+11.39259\ttest-rmse:829.41600+71.78009\n",
            "[1650]\ttrain-rmse:365.88272+11.25253\ttest-rmse:828.91852+71.71690\n",
            "[1700]\ttrain-rmse:359.04083+11.04785\ttest-rmse:828.31647+71.52166\n",
            "[1750]\ttrain-rmse:352.08104+10.87447\ttest-rmse:827.87392+71.72676\n",
            "[1800]\ttrain-rmse:345.43774+10.63211\ttest-rmse:827.65672+71.75846\n",
            "[1850]\ttrain-rmse:338.72373+10.37777\ttest-rmse:827.27592+71.83906\n",
            "[1900]\ttrain-rmse:332.34777+10.31089\ttest-rmse:826.93663+71.60910\n",
            "[1950]\ttrain-rmse:326.28421+10.35595\ttest-rmse:826.49909+71.63549\n",
            "[2000]\ttrain-rmse:320.30731+10.11422\ttest-rmse:826.23191+71.54763\n",
            "[2050]\ttrain-rmse:314.54585+9.63576\ttest-rmse:825.99274+71.58573\n",
            "[2100]\ttrain-rmse:308.80587+9.34980\ttest-rmse:825.69249+71.66603\n",
            "[2150]\ttrain-rmse:303.16005+9.30422\ttest-rmse:825.48471+71.66677\n",
            "[2200]\ttrain-rmse:297.73439+9.13463\ttest-rmse:825.24597+71.54592\n",
            "[2250]\ttrain-rmse:292.37680+9.07694\ttest-rmse:825.05702+71.43096\n",
            "[2300]\ttrain-rmse:287.24633+8.93998\ttest-rmse:824.90794+71.46921\n",
            "[2350]\ttrain-rmse:282.13337+8.74977\ttest-rmse:824.76533+71.57029\n",
            "[2400]\ttrain-rmse:277.17793+8.66841\ttest-rmse:824.59214+71.44585\n",
            "[2435]\ttrain-rmse:273.63338+8.61759\ttest-rmse:824.57276+71.40978\n"
          ]
        },
        {
          "metadata": {
            "tags": null
          },
          "name": "stderr",
          "output_type": "stream",
          "text": [
            "[I 2025-01-28 17:36:52,869] Trial 82 finished with value: 824.5375525989633 and parameters: {'booster': 'gbtree', 'learning_rate': 0.0040919891984123324, 'max_depth': 10, 'gamma': 0.019685262269940405, 'subsample': 0.6518198096940442, 'reg_alpha': 9.918519922448854e-08, 'reg_lambda': 0.36499361907599354, 'colsample_bytree': 0.821774908608695, 'min_child_weight': 6, 'n_estimators': 2683}. Best is trial 81 with value: 824.4628515991941.\n"
          ]
        },
        {
          "metadata": {
            "tags": null
          },
          "name": "stdout",
          "output_type": "stream",
          "text": [
            "[0]\ttrain-rmse:1818.22019+29.19511\ttest-rmse:1814.86723+122.87956\n",
            "[50]\ttrain-rmse:1580.59818+22.40691\ttest-rmse:1602.96086+103.86632\n",
            "[100]\ttrain-rmse:1387.46420+18.11828\ttest-rmse:1433.62860+89.08036\n",
            "[150]\ttrain-rmse:1231.44609+16.18026\ttest-rmse:1303.18353+79.92673\n",
            "[200]\ttrain-rmse:1103.55331+14.25509\ttest-rmse:1199.86092+75.24148\n",
            "[250]\ttrain-rmse:1001.71614+12.94192\ttest-rmse:1122.49970+72.49341\n",
            "[300]\ttrain-rmse:915.98235+12.98406\ttest-rmse:1060.23038+72.16004\n",
            "[350]\ttrain-rmse:846.14245+12.94837\ttest-rmse:1012.18171+71.99262\n",
            "[400]\ttrain-rmse:787.36151+12.70200\ttest-rmse:974.55439+72.66309\n",
            "[450]\ttrain-rmse:737.54058+13.32662\ttest-rmse:944.38188+73.34234\n",
            "[500]\ttrain-rmse:695.32130+13.49276\ttest-rmse:922.23243+74.30659\n",
            "[550]\ttrain-rmse:659.63862+13.16209\ttest-rmse:904.39208+74.41157\n",
            "[600]\ttrain-rmse:628.15206+13.53552\ttest-rmse:889.64842+74.46118\n",
            "[650]\ttrain-rmse:600.93000+14.04539\ttest-rmse:878.27749+74.10372\n",
            "[700]\ttrain-rmse:577.31020+14.15871\ttest-rmse:869.68450+73.85202\n",
            "[750]\ttrain-rmse:556.41923+14.20192\ttest-rmse:862.28594+73.66484\n",
            "[800]\ttrain-rmse:538.14837+14.36233\ttest-rmse:856.69147+73.29608\n",
            "[850]\ttrain-rmse:521.48843+14.36209\ttest-rmse:852.64776+72.85372\n",
            "[900]\ttrain-rmse:506.38647+14.64503\ttest-rmse:849.01030+72.96696\n",
            "[950]\ttrain-rmse:492.55950+14.16338\ttest-rmse:845.68855+72.82670\n",
            "[1000]\ttrain-rmse:479.48716+13.70292\ttest-rmse:842.97195+72.57213\n",
            "[1050]\ttrain-rmse:467.32631+13.39021\ttest-rmse:840.73562+72.27934\n",
            "[1100]\ttrain-rmse:455.81057+13.09458\ttest-rmse:838.70633+72.20271\n",
            "[1150]\ttrain-rmse:444.90218+12.91021\ttest-rmse:837.18039+72.11097\n",
            "[1200]\ttrain-rmse:434.61288+12.81081\ttest-rmse:835.47246+71.88330\n",
            "[1250]\ttrain-rmse:425.06512+12.87591\ttest-rmse:834.23009+71.60624\n",
            "[1300]\ttrain-rmse:415.54846+12.48609\ttest-rmse:833.08648+71.38308\n",
            "[1350]\ttrain-rmse:406.49201+12.21012\ttest-rmse:832.34491+71.52776\n",
            "[1400]\ttrain-rmse:397.57479+11.82076\ttest-rmse:831.50656+71.85948\n",
            "[1450]\ttrain-rmse:389.20816+11.60711\ttest-rmse:830.80641+71.85895\n",
            "[1500]\ttrain-rmse:380.96245+11.34225\ttest-rmse:830.11256+72.02351\n",
            "[1550]\ttrain-rmse:373.06490+11.05087\ttest-rmse:829.28121+71.94218\n",
            "[1600]\ttrain-rmse:365.52313+10.67298\ttest-rmse:828.67224+71.84679\n",
            "[1650]\ttrain-rmse:357.98669+10.65398\ttest-rmse:828.24729+71.85266\n",
            "[1700]\ttrain-rmse:350.91724+10.62340\ttest-rmse:827.70299+71.51798\n",
            "[1721]\ttrain-rmse:347.83156+10.54573\ttest-rmse:827.72239+71.56216\n"
          ]
        },
        {
          "metadata": {
            "tags": null
          },
          "name": "stderr",
          "output_type": "stream",
          "text": [
            "[I 2025-01-28 17:37:48,432] Trial 83 finished with value: 827.6823219392867 and parameters: {'booster': 'gbtree', 'learning_rate': 0.004334114100133144, 'max_depth': 10, 'gamma': 0.020076573350470105, 'subsample': 0.6599741255648185, 'reg_alpha': 9.700038398018552e-08, 'reg_lambda': 0.7835423228967842, 'colsample_bytree': 0.8260667873535592, 'min_child_weight': 6, 'n_estimators': 2676}. Best is trial 81 with value: 824.4628515991941.\n"
          ]
        },
        {
          "metadata": {
            "tags": null
          },
          "name": "stdout",
          "output_type": "stream",
          "text": [
            "[0]\ttrain-rmse:1818.09889+29.10929\ttest-rmse:1814.67561+122.90108\n",
            "[50]\ttrain-rmse:1572.49999+21.35162\ttest-rmse:1593.99623+102.33908\n",
            "[100]\ttrain-rmse:1376.16639+16.02842\ttest-rmse:1420.85571+88.25269\n",
            "[150]\ttrain-rmse:1220.79499+14.83621\ttest-rmse:1289.36935+78.23971\n",
            "[200]\ttrain-rmse:1095.61514+12.93021\ttest-rmse:1187.46747+74.00010\n",
            "[250]\ttrain-rmse:997.24452+11.61504\ttest-rmse:1112.73509+71.94957\n",
            "[300]\ttrain-rmse:913.87295+11.72169\ttest-rmse:1051.60076+71.76266\n",
            "[350]\ttrain-rmse:847.18635+11.93829\ttest-rmse:1005.35164+72.67069\n",
            "[400]\ttrain-rmse:791.14522+11.97442\ttest-rmse:969.67983+73.02896\n",
            "[450]\ttrain-rmse:743.89936+12.89920\ttest-rmse:941.04295+73.02888\n",
            "[500]\ttrain-rmse:703.87647+13.26242\ttest-rmse:919.54811+73.80019\n",
            "[550]\ttrain-rmse:670.36145+13.19092\ttest-rmse:902.60406+73.91264\n",
            "[600]\ttrain-rmse:641.04604+13.31413\ttest-rmse:889.62686+73.87605\n",
            "[650]\ttrain-rmse:615.57213+13.50882\ttest-rmse:879.39827+73.60358\n",
            "[700]\ttrain-rmse:593.92471+13.90822\ttest-rmse:871.20916+73.42283\n",
            "[750]\ttrain-rmse:574.69904+14.13864\ttest-rmse:864.53223+73.06254\n",
            "[800]\ttrain-rmse:557.37934+14.58231\ttest-rmse:858.89636+72.76766\n",
            "[850]\ttrain-rmse:541.62250+14.61151\ttest-rmse:854.99802+72.38707\n",
            "[900]\ttrain-rmse:527.13378+14.98561\ttest-rmse:851.29938+72.34298\n",
            "[950]\ttrain-rmse:513.54944+14.56578\ttest-rmse:848.12680+72.21922\n",
            "[1000]\ttrain-rmse:500.44100+14.24154\ttest-rmse:845.52607+72.42133\n",
            "[1050]\ttrain-rmse:488.57460+14.01188\ttest-rmse:843.59658+72.09406\n",
            "[1100]\ttrain-rmse:477.15679+13.63941\ttest-rmse:841.65725+71.74031\n",
            "[1150]\ttrain-rmse:466.20141+13.42246\ttest-rmse:839.97789+71.84600\n",
            "[1200]\ttrain-rmse:455.89940+12.95538\ttest-rmse:838.32959+71.87612\n",
            "[1250]\ttrain-rmse:446.16582+13.01621\ttest-rmse:837.04415+71.67077\n",
            "[1300]\ttrain-rmse:436.69142+12.75910\ttest-rmse:835.73192+71.50500\n",
            "[1350]\ttrain-rmse:427.76530+12.42725\ttest-rmse:834.79916+71.67511\n",
            "[1400]\ttrain-rmse:418.88207+12.25108\ttest-rmse:833.81821+71.82288\n",
            "[1450]\ttrain-rmse:410.14761+11.73380\ttest-rmse:833.11498+71.77143\n",
            "[1500]\ttrain-rmse:401.90277+11.22581\ttest-rmse:832.27159+71.94325\n",
            "[1550]\ttrain-rmse:393.89179+10.89888\ttest-rmse:831.49713+72.05483\n",
            "[1600]\ttrain-rmse:386.31429+10.49211\ttest-rmse:830.93653+71.91939\n",
            "[1650]\ttrain-rmse:378.89360+10.44007\ttest-rmse:830.37105+71.80831\n",
            "[1700]\ttrain-rmse:371.68498+10.35110\ttest-rmse:829.77420+71.51671\n",
            "[1750]\ttrain-rmse:364.60932+10.20750\ttest-rmse:829.43346+71.61799\n",
            "[1800]\ttrain-rmse:357.74904+9.94556\ttest-rmse:829.14239+71.41594\n",
            "[1850]\ttrain-rmse:350.99664+9.72219\ttest-rmse:828.66141+71.52138\n",
            "[1900]\ttrain-rmse:344.34218+9.48349\ttest-rmse:828.34803+71.17896\n",
            "[1950]\ttrain-rmse:338.23051+9.51337\ttest-rmse:827.89404+71.20818\n",
            "[2000]\ttrain-rmse:332.08507+9.33528\ttest-rmse:827.58208+71.07970\n",
            "[2036]\ttrain-rmse:327.82104+8.99297\ttest-rmse:827.49591+71.03545\n"
          ]
        },
        {
          "metadata": {
            "tags": null
          },
          "name": "stderr",
          "output_type": "stream",
          "text": [
            "[I 2025-01-28 17:38:45,596] Trial 84 finished with value: 827.4633880828853 and parameters: {'booster': 'gbtree', 'learning_rate': 0.004755379501100345, 'max_depth': 9, 'gamma': 0.018445102032378948, 'subsample': 0.6539181918424196, 'reg_alpha': 1.1316534337178768e-07, 'reg_lambda': 0.9275338217206925, 'colsample_bytree': 0.8302390443920356, 'min_child_weight': 6, 'n_estimators': 2680}. Best is trial 81 with value: 824.4628515991941.\n"
          ]
        },
        {
          "metadata": {
            "tags": null
          },
          "name": "stdout",
          "output_type": "stream",
          "text": [
            "[0]\ttrain-rmse:1818.53557+29.35199\ttest-rmse:1815.27971+122.79650\n",
            "[50]\ttrain-rmse:1608.19372+22.61399\ttest-rmse:1625.62739+104.31763\n",
            "[100]\ttrain-rmse:1434.91258+17.96394\ttest-rmse:1472.29847+90.12901\n",
            "[150]\ttrain-rmse:1291.51366+16.05527\ttest-rmse:1349.37404+80.42954\n",
            "[200]\ttrain-rmse:1173.27015+13.84660\ttest-rmse:1251.07740+75.41057\n",
            "[250]\ttrain-rmse:1077.01062+12.44618\ttest-rmse:1175.26572+72.33956\n",
            "[300]\ttrain-rmse:993.29430+12.51241\ttest-rmse:1111.51254+71.18169\n",
            "[350]\ttrain-rmse:923.97011+12.65419\ttest-rmse:1060.32821+70.43543\n",
            "[400]\ttrain-rmse:864.07351+12.20413\ttest-rmse:1018.18040+70.57571\n",
            "[450]\ttrain-rmse:814.02729+12.57562\ttest-rmse:984.89429+71.10759\n",
            "[500]\ttrain-rmse:770.95550+12.83512\ttest-rmse:959.20010+71.27475\n",
            "[550]\ttrain-rmse:734.66565+12.68424\ttest-rmse:937.72293+71.77377\n",
            "[600]\ttrain-rmse:701.89831+13.18098\ttest-rmse:919.74227+71.55580\n",
            "[650]\ttrain-rmse:673.08160+13.41429\ttest-rmse:905.02661+71.31273\n",
            "[700]\ttrain-rmse:648.30655+13.81975\ttest-rmse:894.20949+70.95724\n",
            "[750]\ttrain-rmse:626.15600+13.78699\ttest-rmse:884.37577+70.80255\n",
            "[800]\ttrain-rmse:606.64816+13.93412\ttest-rmse:876.41987+70.38634\n",
            "[850]\ttrain-rmse:589.00520+14.43367\ttest-rmse:870.71738+70.52403\n",
            "[900]\ttrain-rmse:572.96644+14.65738\ttest-rmse:865.68803+70.60710\n",
            "[950]\ttrain-rmse:557.83650+14.41760\ttest-rmse:860.70802+70.69577\n",
            "[1000]\ttrain-rmse:544.27968+14.18313\ttest-rmse:857.19130+70.75343\n",
            "[1050]\ttrain-rmse:531.93481+14.17100\ttest-rmse:854.05477+70.51747\n",
            "[1100]\ttrain-rmse:520.30827+13.75568\ttest-rmse:851.44791+70.38036\n",
            "[1150]\ttrain-rmse:509.36677+13.64256\ttest-rmse:849.16024+70.31269\n",
            "[1200]\ttrain-rmse:498.98071+13.33865\ttest-rmse:847.04602+70.31574\n",
            "[1250]\ttrain-rmse:489.36229+13.49687\ttest-rmse:845.08537+69.95226\n",
            "[1300]\ttrain-rmse:479.78978+13.14595\ttest-rmse:843.33539+69.69414\n",
            "[1350]\ttrain-rmse:470.69847+12.88302\ttest-rmse:841.78773+69.56923\n",
            "[1400]\ttrain-rmse:462.06264+12.81774\ttest-rmse:840.34730+69.55084\n",
            "[1450]\ttrain-rmse:453.62597+12.55261\ttest-rmse:839.17855+69.39700\n",
            "[1500]\ttrain-rmse:445.51835+12.38351\ttest-rmse:838.03786+69.32726\n",
            "[1550]\ttrain-rmse:437.61308+12.06404\ttest-rmse:836.96171+69.42113\n",
            "[1600]\ttrain-rmse:430.18442+11.77339\ttest-rmse:836.12568+69.25712\n",
            "[1650]\ttrain-rmse:422.83867+11.74262\ttest-rmse:835.47938+69.19524\n",
            "[1700]\ttrain-rmse:415.82163+11.76850\ttest-rmse:834.62499+69.15475\n",
            "[1750]\ttrain-rmse:408.79713+11.56530\ttest-rmse:834.03451+69.37628\n",
            "[1800]\ttrain-rmse:402.00104+11.16421\ttest-rmse:833.28279+69.50890\n",
            "[1850]\ttrain-rmse:395.31853+10.95901\ttest-rmse:832.45270+69.49707\n",
            "[1900]\ttrain-rmse:388.83445+10.76349\ttest-rmse:832.11206+69.23591\n",
            "[1950]\ttrain-rmse:382.52420+10.55398\ttest-rmse:831.49443+69.34170\n",
            "[2000]\ttrain-rmse:376.45573+10.49467\ttest-rmse:830.91352+69.26362\n",
            "[2050]\ttrain-rmse:370.50068+9.98327\ttest-rmse:830.22543+69.14106\n",
            "[2100]\ttrain-rmse:364.67376+9.77393\ttest-rmse:829.87127+68.99937\n",
            "[2150]\ttrain-rmse:358.98998+9.71040\ttest-rmse:829.54521+68.95993\n",
            "[2200]\ttrain-rmse:353.41597+9.53684\ttest-rmse:829.24874+68.91325\n",
            "[2243]\ttrain-rmse:348.68403+9.44094\ttest-rmse:829.16224+68.94565\n"
          ]
        },
        {
          "metadata": {
            "tags": null
          },
          "name": "stderr",
          "output_type": "stream",
          "text": [
            "[I 2025-01-28 17:39:43,964] Trial 85 finished with value: 829.0847332900248 and parameters: {'booster': 'gbtree', 'learning_rate': 0.004010111688423629, 'max_depth': 9, 'gamma': 0.024138788183623493, 'subsample': 0.6513642114833293, 'reg_alpha': 1.1168368339282766e-07, 'reg_lambda': 0.7504935667146728, 'colsample_bytree': 0.7849769895074441, 'min_child_weight': 6, 'n_estimators': 2676}. Best is trial 81 with value: 824.4628515991941.\n"
          ]
        },
        {
          "metadata": {
            "tags": null
          },
          "name": "stdout",
          "output_type": "stream",
          "text": [
            "[0]\ttrain-rmse:1818.00346+29.20483\ttest-rmse:1814.69642+122.87305\n",
            "[50]\ttrain-rmse:1571.87377+21.98966\ttest-rmse:1593.73808+103.37785\n",
            "[100]\ttrain-rmse:1374.78156+17.14764\ttest-rmse:1420.21625+89.07101\n",
            "[150]\ttrain-rmse:1218.26973+15.31736\ttest-rmse:1288.80507+79.96442\n",
            "[200]\ttrain-rmse:1091.48952+13.47651\ttest-rmse:1186.40989+75.79419\n",
            "[250]\ttrain-rmse:992.18006+12.18212\ttest-rmse:1111.11285+72.95179\n",
            "[300]\ttrain-rmse:908.63817+11.97980\ttest-rmse:1050.24843+72.93722\n",
            "[350]\ttrain-rmse:841.65752+11.88380\ttest-rmse:1004.21096+73.69499\n",
            "[400]\ttrain-rmse:785.97654+12.07494\ttest-rmse:968.61495+74.39795\n",
            "[450]\ttrain-rmse:739.04620+12.99494\ttest-rmse:940.13460+74.99556\n",
            "[500]\ttrain-rmse:698.86512+13.12529\ttest-rmse:919.04617+75.75521\n",
            "[550]\ttrain-rmse:665.31246+13.18457\ttest-rmse:902.33542+75.86576\n",
            "[600]\ttrain-rmse:635.95266+13.52628\ttest-rmse:888.39695+75.28556\n",
            "[650]\ttrain-rmse:610.21640+13.81863\ttest-rmse:877.93063+75.19186\n",
            "[700]\ttrain-rmse:588.42377+14.17225\ttest-rmse:870.01581+74.97142\n",
            "[750]\ttrain-rmse:568.92904+14.50471\ttest-rmse:863.05729+74.84288\n",
            "[800]\ttrain-rmse:551.68911+14.68204\ttest-rmse:857.77638+74.61835\n",
            "[850]\ttrain-rmse:536.17276+14.83565\ttest-rmse:853.96655+74.01815\n",
            "[900]\ttrain-rmse:521.45706+15.07421\ttest-rmse:850.39018+74.12454\n",
            "[950]\ttrain-rmse:508.18523+14.71509\ttest-rmse:847.39082+74.02286\n",
            "[1000]\ttrain-rmse:495.41690+14.43148\ttest-rmse:845.05814+73.91509\n",
            "[1050]\ttrain-rmse:483.57987+14.38041\ttest-rmse:842.78954+73.66927\n",
            "[1100]\ttrain-rmse:472.55204+13.80296\ttest-rmse:840.96013+73.54282\n",
            "[1150]\ttrain-rmse:462.15242+13.69192\ttest-rmse:839.51689+73.46306\n",
            "[1200]\ttrain-rmse:452.09513+13.63181\ttest-rmse:837.83471+73.36369\n",
            "[1250]\ttrain-rmse:442.55615+13.72805\ttest-rmse:836.49874+73.13706\n",
            "[1300]\ttrain-rmse:433.35424+13.47946\ttest-rmse:835.08944+72.87644\n",
            "[1350]\ttrain-rmse:424.55413+13.29930\ttest-rmse:834.22260+72.86072\n",
            "[1400]\ttrain-rmse:415.94521+13.30291\ttest-rmse:833.24330+72.88944\n",
            "[1450]\ttrain-rmse:407.76699+12.96292\ttest-rmse:832.63292+72.93339\n",
            "[1500]\ttrain-rmse:399.68794+12.73905\ttest-rmse:831.99782+73.10948\n",
            "[1550]\ttrain-rmse:392.04092+12.46098\ttest-rmse:831.29384+73.12416\n",
            "[1600]\ttrain-rmse:384.68518+12.17455\ttest-rmse:830.65558+73.06328\n",
            "[1650]\ttrain-rmse:377.52257+12.38396\ttest-rmse:830.25301+72.99686\n",
            "[1658]\ttrain-rmse:376.38913+12.34557\ttest-rmse:830.23445+72.91630\n"
          ]
        },
        {
          "metadata": {
            "tags": null
          },
          "name": "stderr",
          "output_type": "stream",
          "text": [
            "[I 2025-01-28 17:40:35,545] Trial 86 finished with value: 830.2043924424297 and parameters: {'booster': 'gbtree', 'learning_rate': 0.004456036945234772, 'max_depth': 10, 'gamma': 0.014939112791983672, 'subsample': 0.6582866162892624, 'reg_alpha': 0.001550940549164714, 'reg_lambda': 0.44810327959966406, 'colsample_bytree': 0.835982388909836, 'min_child_weight': 7, 'n_estimators': 2820}. Best is trial 81 with value: 824.4628515991941.\n"
          ]
        },
        {
          "metadata": {
            "tags": null
          },
          "name": "stdout",
          "output_type": "stream",
          "text": [
            "[0]\ttrain-rmse:1817.08613+29.29522\ttest-rmse:1813.85942+122.58065\n",
            "[50]\ttrain-rmse:1540.64790+21.43767\ttest-rmse:1566.65742+98.72152\n",
            "[100]\ttrain-rmse:1325.88070+16.72605\ttest-rmse:1378.99971+83.15156\n",
            "[150]\ttrain-rmse:1159.73587+13.78629\ttest-rmse:1241.73703+76.42610\n",
            "[200]\ttrain-rmse:1029.77969+12.29966\ttest-rmse:1139.53650+73.33125\n",
            "[250]\ttrain-rmse:929.73073+12.06072\ttest-rmse:1066.69657+72.34284\n",
            "[300]\ttrain-rmse:847.27797+11.84574\ttest-rmse:1009.99247+73.34159\n",
            "[350]\ttrain-rmse:781.38771+12.30743\ttest-rmse:967.49093+74.36148\n",
            "[400]\ttrain-rmse:727.39709+11.95263\ttest-rmse:936.87782+75.18732\n",
            "[450]\ttrain-rmse:681.70217+12.55373\ttest-rmse:912.37296+75.61772\n",
            "[500]\ttrain-rmse:643.71376+13.29836\ttest-rmse:894.63732+74.84658\n",
            "[550]\ttrain-rmse:612.36720+13.62947\ttest-rmse:881.56131+74.53839\n",
            "[600]\ttrain-rmse:584.84547+13.90004\ttest-rmse:870.67765+74.26474\n",
            "[650]\ttrain-rmse:560.78358+13.51226\ttest-rmse:862.98113+73.42167\n",
            "[700]\ttrain-rmse:540.22247+13.32256\ttest-rmse:857.42801+73.10367\n",
            "[750]\ttrain-rmse:522.32592+13.67547\ttest-rmse:852.74335+72.90722\n",
            "[800]\ttrain-rmse:505.81668+13.77813\ttest-rmse:849.03027+72.72035\n",
            "[850]\ttrain-rmse:490.79098+13.64302\ttest-rmse:846.04349+71.95519\n",
            "[900]\ttrain-rmse:476.53785+13.85449\ttest-rmse:843.34165+71.85750\n",
            "[950]\ttrain-rmse:463.64835+13.62404\ttest-rmse:841.05492+71.85133\n",
            "[1000]\ttrain-rmse:450.94820+13.19394\ttest-rmse:839.23939+71.54757\n",
            "[1050]\ttrain-rmse:439.15260+12.46777\ttest-rmse:837.57240+71.58167\n",
            "[1100]\ttrain-rmse:428.10875+11.93091\ttest-rmse:836.08464+71.37660\n",
            "[1150]\ttrain-rmse:417.29318+11.45501\ttest-rmse:834.72984+71.42349\n",
            "[1200]\ttrain-rmse:406.94249+10.86736\ttest-rmse:833.21288+71.31644\n",
            "[1250]\ttrain-rmse:397.05939+10.75590\ttest-rmse:832.02419+71.02410\n",
            "[1300]\ttrain-rmse:387.59521+10.70611\ttest-rmse:830.93884+70.90064\n",
            "[1350]\ttrain-rmse:378.70805+10.34915\ttest-rmse:830.22828+70.87043\n",
            "[1400]\ttrain-rmse:369.89365+9.94613\ttest-rmse:829.77164+70.79244\n",
            "[1450]\ttrain-rmse:361.52097+9.83937\ttest-rmse:829.51755+70.79097\n",
            "[1500]\ttrain-rmse:353.39941+9.39587\ttest-rmse:828.88334+70.95939\n",
            "[1550]\ttrain-rmse:345.34106+9.29623\ttest-rmse:828.37078+71.26478\n",
            "[1600]\ttrain-rmse:337.79785+9.14044\ttest-rmse:827.64629+71.25738\n",
            "[1650]\ttrain-rmse:330.28494+8.83167\ttest-rmse:827.56407+71.34343\n",
            "[1659]\ttrain-rmse:328.96461+8.70611\ttest-rmse:827.50388+71.36230\n"
          ]
        },
        {
          "metadata": {
            "tags": null
          },
          "name": "stderr",
          "output_type": "stream",
          "text": [
            "[I 2025-01-28 17:41:24,024] Trial 87 finished with value: 827.441125642504 and parameters: {'booster': 'gbtree', 'learning_rate': 0.005095638856926325, 'max_depth': 9, 'gamma': 0.007996961600216105, 'subsample': 0.7114445634334801, 'reg_alpha': 1.8671099849692162e-07, 'reg_lambda': 0.1882253289222293, 'colsample_bytree': 0.8167131806820846, 'min_child_weight': 6, 'n_estimators': 3062}. Best is trial 81 with value: 824.4628515991941.\n"
          ]
        },
        {
          "metadata": {
            "tags": null
          },
          "name": "stdout",
          "output_type": "stream",
          "text": [
            "[0]\ttrain-rmse:1819.02241+29.36960\ttest-rmse:1815.68599+122.73372\n",
            "[50]\ttrain-rmse:1622.99370+22.72652\ttest-rmse:1638.63293+105.93907\n",
            "[100]\ttrain-rmse:1457.86387+19.07657\ttest-rmse:1491.26979+92.29971\n",
            "[150]\ttrain-rmse:1320.75272+15.85559\ttest-rmse:1373.40903+84.03999\n",
            "[200]\ttrain-rmse:1205.04545+14.21913\ttest-rmse:1275.79844+78.60223\n",
            "[250]\ttrain-rmse:1111.31954+12.77299\ttest-rmse:1200.22162+75.18258\n",
            "[300]\ttrain-rmse:1029.19880+11.92130\ttest-rmse:1135.33393+74.34113\n",
            "[350]\ttrain-rmse:960.08406+11.72701\ttest-rmse:1082.30734+73.59922\n",
            "[400]\ttrain-rmse:901.22808+11.57056\ttest-rmse:1039.96545+73.60536\n",
            "[450]\ttrain-rmse:849.65657+12.08803\ttest-rmse:1004.38150+73.90017\n",
            "[500]\ttrain-rmse:806.16213+12.14536\ttest-rmse:976.46307+74.80638\n",
            "[550]\ttrain-rmse:768.27770+12.34200\ttest-rmse:953.10338+75.44964\n",
            "[600]\ttrain-rmse:734.26906+12.68947\ttest-rmse:932.96483+76.51127\n",
            "[650]\ttrain-rmse:704.55198+12.82223\ttest-rmse:916.47829+77.11613\n",
            "[700]\ttrain-rmse:678.45999+13.20805\ttest-rmse:903.63236+77.02298\n",
            "[750]\ttrain-rmse:656.00700+13.40314\ttest-rmse:892.34388+76.93597\n",
            "[800]\ttrain-rmse:635.54972+13.78651\ttest-rmse:883.29386+77.06038\n",
            "[850]\ttrain-rmse:617.05789+14.49120\ttest-rmse:876.11563+76.85925\n",
            "[900]\ttrain-rmse:600.57245+14.70990\ttest-rmse:870.24654+76.77584\n",
            "[950]\ttrain-rmse:585.36217+14.78399\ttest-rmse:864.91467+76.55027\n",
            "[1000]\ttrain-rmse:571.67639+14.71633\ttest-rmse:860.88050+76.18035\n",
            "[1050]\ttrain-rmse:558.91166+14.47062\ttest-rmse:857.20186+76.01161\n",
            "[1100]\ttrain-rmse:547.13135+14.37732\ttest-rmse:853.98151+75.69619\n",
            "[1150]\ttrain-rmse:536.05976+14.50423\ttest-rmse:851.03855+75.74464\n",
            "[1200]\ttrain-rmse:525.49440+14.30424\ttest-rmse:848.48247+75.70922\n",
            "[1250]\ttrain-rmse:515.61429+14.70180\ttest-rmse:846.06270+75.38340\n",
            "[1300]\ttrain-rmse:505.94329+14.59247\ttest-rmse:843.93211+75.15286\n",
            "[1350]\ttrain-rmse:497.05707+14.20046\ttest-rmse:842.37183+75.16459\n",
            "[1400]\ttrain-rmse:488.30938+13.79172\ttest-rmse:840.74895+75.10809\n",
            "[1450]\ttrain-rmse:480.04378+13.41420\ttest-rmse:839.47515+75.11900\n",
            "[1500]\ttrain-rmse:472.12471+13.09036\ttest-rmse:838.18197+74.94446\n",
            "[1550]\ttrain-rmse:464.45985+12.99106\ttest-rmse:837.26912+74.98603\n",
            "[1600]\ttrain-rmse:457.09929+12.62189\ttest-rmse:836.03671+74.87735\n",
            "[1650]\ttrain-rmse:449.77456+12.56518\ttest-rmse:835.20703+74.78741\n",
            "[1700]\ttrain-rmse:442.66748+12.33505\ttest-rmse:834.14603+74.52891\n",
            "[1750]\ttrain-rmse:435.66749+12.02915\ttest-rmse:833.30759+74.63839\n",
            "[1800]\ttrain-rmse:429.34623+11.63516\ttest-rmse:832.73913+74.72902\n",
            "[1850]\ttrain-rmse:422.59544+11.38583\ttest-rmse:831.97238+74.53936\n",
            "[1900]\ttrain-rmse:416.04807+11.09471\ttest-rmse:831.32296+74.41893\n",
            "[1950]\ttrain-rmse:410.05259+10.94709\ttest-rmse:830.69028+74.19653\n",
            "[2000]\ttrain-rmse:404.07890+10.87491\ttest-rmse:830.24054+74.02989\n",
            "[2050]\ttrain-rmse:398.39331+10.54339\ttest-rmse:829.70176+73.90471\n",
            "[2100]\ttrain-rmse:392.76198+10.24146\ttest-rmse:829.22305+73.97155\n",
            "[2150]\ttrain-rmse:387.14337+10.25067\ttest-rmse:828.94071+74.00888\n",
            "[2200]\ttrain-rmse:381.91735+10.11632\ttest-rmse:828.51507+74.06512\n",
            "[2250]\ttrain-rmse:376.66719+9.84456\ttest-rmse:828.12745+74.05906\n",
            "[2300]\ttrain-rmse:371.31211+9.69398\ttest-rmse:827.66712+74.09064\n",
            "[2350]\ttrain-rmse:366.09785+9.48741\ttest-rmse:827.21960+74.18852\n",
            "[2400]\ttrain-rmse:361.07743+9.40166\ttest-rmse:827.03058+73.87135\n",
            "[2450]\ttrain-rmse:356.08552+9.19423\ttest-rmse:826.66560+73.76505\n",
            "[2500]\ttrain-rmse:351.17494+9.15597\ttest-rmse:826.50377+73.59606\n",
            "[2550]\ttrain-rmse:346.41234+8.98799\ttest-rmse:826.18575+73.45961\n",
            "[2600]\ttrain-rmse:341.82838+9.08678\ttest-rmse:825.88969+73.34799\n",
            "[2650]\ttrain-rmse:337.22569+8.97377\ttest-rmse:825.55182+73.13130\n",
            "[2700]\ttrain-rmse:332.67172+8.88714\ttest-rmse:825.37334+73.11512\n",
            "[2750]\ttrain-rmse:328.32239+8.87304\ttest-rmse:825.11912+73.20799\n",
            "[2800]\ttrain-rmse:324.11788+8.86207\ttest-rmse:824.73744+73.11237\n",
            "[2850]\ttrain-rmse:319.89035+8.73851\ttest-rmse:824.55135+73.10446\n",
            "[2900]\ttrain-rmse:315.67759+8.56257\ttest-rmse:824.41420+73.12896\n",
            "[2950]\ttrain-rmse:311.44322+8.55148\ttest-rmse:824.17464+73.16320\n",
            "[3000]\ttrain-rmse:307.48669+8.44788\ttest-rmse:824.02257+73.11034\n",
            "[3040]\ttrain-rmse:304.13281+8.31895\ttest-rmse:823.93929+73.14257\n"
          ]
        },
        {
          "metadata": {
            "tags": null
          },
          "name": "stderr",
          "output_type": "stream",
          "text": [
            "[I 2025-01-28 17:42:43,631] Trial 88 finished with value: 823.939288240677 and parameters: {'booster': 'gbtree', 'learning_rate': 0.0035209961607260945, 'max_depth': 9, 'gamma': 0.009596716772915171, 'subsample': 0.709187029135732, 'reg_alpha': 1.6638871630185252e-07, 'reg_lambda': 0.1951894062259646, 'colsample_bytree': 0.816001373149942, 'min_child_weight': 7, 'n_estimators': 3041}. Best is trial 88 with value: 823.939288240677.\n"
          ]
        },
        {
          "metadata": {
            "tags": null
          },
          "name": "stdout",
          "output_type": "stream",
          "text": [
            "[0]\ttrain-rmse:1819.15897+29.36940\ttest-rmse:1815.81939+122.75821\n",
            "[50]\ttrain-rmse:1627.98405+23.21127\ttest-rmse:1643.25666+106.22758\n",
            "[100]\ttrain-rmse:1465.87844+18.91935\ttest-rmse:1498.17006+93.24014\n",
            "[150]\ttrain-rmse:1330.73156+16.01907\ttest-rmse:1381.62381+84.37454\n",
            "[200]\ttrain-rmse:1216.26776+14.70408\ttest-rmse:1284.82086+78.59366\n",
            "[250]\ttrain-rmse:1122.76986+13.23282\ttest-rmse:1209.58648+74.99096\n",
            "[300]\ttrain-rmse:1040.63630+12.25373\ttest-rmse:1144.53250+74.47402\n",
            "[350]\ttrain-rmse:971.47625+11.91905\ttest-rmse:1091.40469+73.45646\n",
            "[400]\ttrain-rmse:912.00738+11.48510\ttest-rmse:1048.06926+74.20297\n",
            "[450]\ttrain-rmse:859.92045+11.77604\ttest-rmse:1011.49957+74.56948\n",
            "[500]\ttrain-rmse:816.02643+11.64548\ttest-rmse:982.78501+75.59528\n",
            "[550]\ttrain-rmse:778.04501+11.77243\ttest-rmse:958.74678+75.95079\n",
            "[600]\ttrain-rmse:743.53820+12.14897\ttest-rmse:938.04634+76.72177\n",
            "[650]\ttrain-rmse:713.14248+12.55353\ttest-rmse:920.71181+76.86391\n",
            "[700]\ttrain-rmse:686.55686+12.92958\ttest-rmse:907.14859+76.91955\n",
            "[750]\ttrain-rmse:663.53470+13.18701\ttest-rmse:895.75798+76.69883\n",
            "[800]\ttrain-rmse:642.70051+13.69338\ttest-rmse:886.19049+76.88743\n",
            "[850]\ttrain-rmse:623.80944+14.06655\ttest-rmse:878.45070+76.97859\n",
            "[900]\ttrain-rmse:606.77765+14.34057\ttest-rmse:872.32713+76.84188\n",
            "[950]\ttrain-rmse:591.13431+14.33870\ttest-rmse:866.35611+76.90061\n",
            "[1000]\ttrain-rmse:577.18710+14.51629\ttest-rmse:861.91578+76.45745\n",
            "[1050]\ttrain-rmse:564.06886+14.34992\ttest-rmse:858.09803+76.46938\n",
            "[1100]\ttrain-rmse:552.24110+14.26904\ttest-rmse:854.86099+76.44360\n",
            "[1150]\ttrain-rmse:541.08741+14.36286\ttest-rmse:851.68636+76.34371\n",
            "[1200]\ttrain-rmse:530.40622+14.28410\ttest-rmse:849.09259+76.21994\n",
            "[1250]\ttrain-rmse:520.59613+14.74346\ttest-rmse:846.65203+75.75723\n",
            "[1300]\ttrain-rmse:511.05642+14.69495\ttest-rmse:844.65093+75.64632\n",
            "[1350]\ttrain-rmse:502.17884+14.46562\ttest-rmse:843.06675+75.55501\n",
            "[1400]\ttrain-rmse:493.53258+14.08603\ttest-rmse:841.45258+75.57698\n",
            "[1450]\ttrain-rmse:485.40250+13.80791\ttest-rmse:840.14701+75.61665\n",
            "[1500]\ttrain-rmse:477.48891+13.53868\ttest-rmse:838.88855+75.48667\n",
            "[1550]\ttrain-rmse:469.84074+13.54621\ttest-rmse:837.67382+75.46133\n",
            "[1600]\ttrain-rmse:462.33695+13.04856\ttest-rmse:836.45648+75.23771\n",
            "[1650]\ttrain-rmse:454.99439+13.23495\ttest-rmse:835.62809+75.12277\n",
            "[1700]\ttrain-rmse:447.91729+13.05887\ttest-rmse:834.67906+74.77704\n",
            "[1750]\ttrain-rmse:441.15675+12.86442\ttest-rmse:834.03743+75.10464\n",
            "[1800]\ttrain-rmse:434.62578+12.66422\ttest-rmse:833.57726+75.12476\n",
            "[1850]\ttrain-rmse:428.11864+12.46849\ttest-rmse:832.83264+74.95197\n",
            "[1900]\ttrain-rmse:421.67889+12.17906\ttest-rmse:832.14393+74.90557\n",
            "[1950]\ttrain-rmse:415.66846+11.97464\ttest-rmse:831.52845+74.71821\n",
            "[2000]\ttrain-rmse:409.72269+11.78141\ttest-rmse:831.13203+74.63990\n",
            "[2050]\ttrain-rmse:403.98759+11.59209\ttest-rmse:830.50564+74.57145\n",
            "[2100]\ttrain-rmse:398.01495+11.33798\ttest-rmse:829.92183+74.74608\n",
            "[2150]\ttrain-rmse:392.33112+11.15858\ttest-rmse:829.71647+74.69419\n",
            "[2200]\ttrain-rmse:387.02325+10.89226\ttest-rmse:829.19167+74.80442\n",
            "[2250]\ttrain-rmse:381.81514+10.79352\ttest-rmse:828.83780+74.75146\n",
            "[2300]\ttrain-rmse:376.50470+10.67416\ttest-rmse:828.37583+74.61292\n",
            "[2350]\ttrain-rmse:371.12175+10.44183\ttest-rmse:828.06061+74.76210\n",
            "[2400]\ttrain-rmse:366.06009+10.38668\ttest-rmse:827.73176+74.52719\n",
            "[2450]\ttrain-rmse:360.96246+10.27210\ttest-rmse:827.41712+74.45753\n",
            "[2500]\ttrain-rmse:355.97436+10.19240\ttest-rmse:827.22620+74.31709\n",
            "[2550]\ttrain-rmse:351.32892+10.04334\ttest-rmse:826.97407+74.07573\n",
            "[2600]\ttrain-rmse:346.75512+10.13786\ttest-rmse:826.70839+73.97522\n",
            "[2650]\ttrain-rmse:342.21774+10.00608\ttest-rmse:826.48959+73.83364\n",
            "[2700]\ttrain-rmse:337.66835+10.00299\ttest-rmse:826.24793+73.83818\n",
            "[2750]\ttrain-rmse:333.17807+9.87712\ttest-rmse:826.04097+73.96292\n",
            "[2800]\ttrain-rmse:328.91653+9.80650\ttest-rmse:825.67161+73.89879\n",
            "[2850]\ttrain-rmse:324.59403+9.64807\ttest-rmse:825.45044+73.92555\n",
            "[2900]\ttrain-rmse:320.26852+9.48514\ttest-rmse:825.33838+73.88774\n",
            "[2950]\ttrain-rmse:316.05406+9.44294\ttest-rmse:825.20340+73.87931\n",
            "[3000]\ttrain-rmse:312.04240+9.34172\ttest-rmse:824.96860+73.79944\n",
            "[3026]\ttrain-rmse:309.87750+9.32223\ttest-rmse:824.89027+73.72638\n"
          ]
        },
        {
          "metadata": {
            "tags": null
          },
          "name": "stderr",
          "output_type": "stream",
          "text": [
            "[I 2025-01-28 17:44:03,306] Trial 89 finished with value: 824.8902746295905 and parameters: {'booster': 'gbtree', 'learning_rate': 0.003430212342335517, 'max_depth': 9, 'gamma': 0.009965311082116946, 'subsample': 0.7163830098396876, 'reg_alpha': 6.227612768510319e-07, 'reg_lambda': 0.2212607413060238, 'colsample_bytree': 0.8111297568212548, 'min_child_weight': 7, 'n_estimators': 3027}. Best is trial 88 with value: 823.939288240677.\n"
          ]
        },
        {
          "metadata": {
            "tags": null
          },
          "name": "stdout",
          "output_type": "stream",
          "text": [
            "[0]\ttrain-rmse:1819.18166+29.36443\ttest-rmse:1815.74462+122.78222\n",
            "[50]\ttrain-rmse:1632.50035+23.33392\ttest-rmse:1647.33141+105.72628\n",
            "[100]\ttrain-rmse:1475.04882+19.54852\ttest-rmse:1506.77853+91.71224\n",
            "[150]\ttrain-rmse:1341.77800+16.65630\ttest-rmse:1391.67896+83.19833\n",
            "[200]\ttrain-rmse:1228.71114+14.56675\ttest-rmse:1295.97536+77.41760\n",
            "[250]\ttrain-rmse:1135.50644+12.84646\ttest-rmse:1220.32197+73.04849\n",
            "[300]\ttrain-rmse:1053.82646+12.10747\ttest-rmse:1155.20272+71.55748\n",
            "[350]\ttrain-rmse:984.43388+11.78297\ttest-rmse:1102.33508+70.58561\n",
            "[400]\ttrain-rmse:923.90302+11.74485\ttest-rmse:1058.26546+70.46519\n",
            "[450]\ttrain-rmse:872.18226+11.99264\ttest-rmse:1021.64625+70.88423\n",
            "[500]\ttrain-rmse:827.77960+12.32457\ttest-rmse:993.19623+70.98038\n",
            "[550]\ttrain-rmse:789.23716+12.10053\ttest-rmse:968.48980+71.72333\n",
            "[600]\ttrain-rmse:754.69894+12.28799\ttest-rmse:947.48730+72.66058\n",
            "[650]\ttrain-rmse:723.74993+12.45289\ttest-rmse:929.68271+72.89591\n",
            "[700]\ttrain-rmse:696.94132+12.74986\ttest-rmse:915.92163+72.91868\n",
            "[750]\ttrain-rmse:673.22697+13.05581\ttest-rmse:904.06355+72.85919\n",
            "[800]\ttrain-rmse:651.84599+13.47701\ttest-rmse:894.02583+73.14094\n",
            "[850]\ttrain-rmse:632.49163+13.69964\ttest-rmse:885.84382+73.37226\n",
            "[900]\ttrain-rmse:615.02479+13.66444\ttest-rmse:878.82161+73.33277\n",
            "[950]\ttrain-rmse:598.84253+13.55250\ttest-rmse:872.57008+73.31601\n",
            "[1000]\ttrain-rmse:584.30667+13.49849\ttest-rmse:867.78093+73.25270\n",
            "[1050]\ttrain-rmse:570.84188+13.52779\ttest-rmse:863.99225+73.01820\n",
            "[1100]\ttrain-rmse:558.64182+13.75834\ttest-rmse:860.62291+72.86130\n",
            "[1150]\ttrain-rmse:547.38863+13.90231\ttest-rmse:857.22896+72.77758\n",
            "[1200]\ttrain-rmse:536.84023+13.86379\ttest-rmse:854.31425+72.58034\n",
            "[1250]\ttrain-rmse:526.84621+14.34043\ttest-rmse:851.52606+72.21284\n",
            "[1300]\ttrain-rmse:517.12975+14.24758\ttest-rmse:849.05641+71.92696\n",
            "[1350]\ttrain-rmse:508.38578+14.12760\ttest-rmse:847.13738+71.80686\n",
            "[1400]\ttrain-rmse:499.75864+13.95193\ttest-rmse:845.34898+71.91531\n",
            "[1450]\ttrain-rmse:491.50783+13.74979\ttest-rmse:844.02947+71.93616\n",
            "[1500]\ttrain-rmse:483.50626+13.55347\ttest-rmse:842.50169+71.97744\n",
            "[1550]\ttrain-rmse:475.88864+13.41044\ttest-rmse:841.43394+71.98152\n",
            "[1600]\ttrain-rmse:468.46134+13.00804\ttest-rmse:840.11479+71.98884\n",
            "[1650]\ttrain-rmse:461.23510+12.90580\ttest-rmse:839.27166+71.98483\n",
            "[1700]\ttrain-rmse:454.40721+12.77633\ttest-rmse:838.35455+71.75945\n",
            "[1750]\ttrain-rmse:447.63086+12.56637\ttest-rmse:837.68646+71.68274\n",
            "[1800]\ttrain-rmse:441.27421+12.22192\ttest-rmse:837.09089+71.67818\n",
            "[1850]\ttrain-rmse:434.66650+12.05883\ttest-rmse:836.27716+71.48291\n",
            "[1900]\ttrain-rmse:428.26912+11.76794\ttest-rmse:835.48296+71.38846\n",
            "[1950]\ttrain-rmse:422.27750+11.68372\ttest-rmse:834.69430+71.24237\n",
            "[2000]\ttrain-rmse:416.25753+11.58393\ttest-rmse:834.25688+71.13623\n",
            "[2050]\ttrain-rmse:410.51332+11.19711\ttest-rmse:833.75008+70.92505\n",
            "[2100]\ttrain-rmse:404.83884+11.03462\ttest-rmse:833.20558+71.04287\n",
            "[2150]\ttrain-rmse:399.29040+10.85269\ttest-rmse:832.88627+71.25923\n",
            "[2200]\ttrain-rmse:394.13028+10.69363\ttest-rmse:832.40626+71.33985\n",
            "[2250]\ttrain-rmse:388.89682+10.71643\ttest-rmse:831.95136+71.31767\n",
            "[2300]\ttrain-rmse:383.59388+10.55045\ttest-rmse:831.39140+71.20734\n",
            "[2350]\ttrain-rmse:378.40169+10.35483\ttest-rmse:831.05707+71.32181\n",
            "[2400]\ttrain-rmse:373.37685+10.21607\ttest-rmse:830.58277+71.04589\n",
            "[2450]\ttrain-rmse:368.30149+10.11593\ttest-rmse:830.23177+71.02055\n",
            "[2500]\ttrain-rmse:363.47279+10.08868\ttest-rmse:829.96923+70.85335\n",
            "[2550]\ttrain-rmse:358.66518+10.04941\ttest-rmse:829.61349+70.62123\n",
            "[2600]\ttrain-rmse:354.12481+9.98927\ttest-rmse:829.32140+70.54216\n",
            "[2650]\ttrain-rmse:349.57149+9.81543\ttest-rmse:829.00524+70.42006\n",
            "[2700]\ttrain-rmse:345.07492+9.69690\ttest-rmse:828.65241+70.40373\n",
            "[2750]\ttrain-rmse:340.60903+9.63718\ttest-rmse:828.28583+70.44726\n",
            "[2800]\ttrain-rmse:336.28728+9.57249\ttest-rmse:827.94996+70.30317\n",
            "[2850]\ttrain-rmse:331.95434+9.45716\ttest-rmse:827.70523+70.43703\n",
            "[2900]\ttrain-rmse:327.79011+9.28133\ttest-rmse:827.60734+70.40140\n",
            "[2950]\ttrain-rmse:323.63087+9.39727\ttest-rmse:827.39161+70.39862\n",
            "[2994]\ttrain-rmse:320.11140+9.27758\ttest-rmse:827.21038+70.39971\n"
          ]
        },
        {
          "metadata": {
            "tags": null
          },
          "name": "stderr",
          "output_type": "stream",
          "text": [
            "[I 2025-01-28 17:45:18,886] Trial 90 finished with value: 827.2103817778265 and parameters: {'booster': 'gbtree', 'learning_rate': 0.0033812561571281217, 'max_depth': 9, 'gamma': 0.011115139015478441, 'subsample': 0.7113410436258176, 'reg_alpha': 4.1467203910017984e-07, 'reg_lambda': 0.16372562317072337, 'colsample_bytree': 0.7664502277101927, 'min_child_weight': 7, 'n_estimators': 2995}. Best is trial 88 with value: 823.939288240677.\n"
          ]
        },
        {
          "output_type": "stream",
          "name": "stdout",
          "text": [
            "[0]\ttrain-rmse:1819.07486+29.36356\ttest-rmse:1815.64452+122.77351\n",
            "[50]\ttrain-rmse:1627.96795+23.26831\ttest-rmse:1643.28165+105.31422\n",
            "[100]\ttrain-rmse:1467.38713+19.29341\ttest-rmse:1500.01576+91.27214\n",
            "[150]\ttrain-rmse:1332.17204+16.35970\ttest-rmse:1383.46749+82.72377\n",
            "[200]\ttrain-rmse:1218.03444+14.22457\ttest-rmse:1287.05738+77.08312\n",
            "[250]\ttrain-rmse:1124.35373+12.52435\ttest-rmse:1211.43231+72.87785\n",
            "[300]\ttrain-rmse:1042.20394+11.78728\ttest-rmse:1146.43545+71.32745\n",
            "[350]\ttrain-rmse:972.76182+11.56140\ttest-rmse:1093.89198+70.45462\n",
            "[400]\ttrain-rmse:912.41190+11.44558\ttest-rmse:1050.29442+70.43683\n",
            "[450]\ttrain-rmse:861.05675+11.70783\ttest-rmse:1014.21412+71.07529\n",
            "[500]\ttrain-rmse:816.98127+12.02887\ttest-rmse:986.36027+71.16875\n",
            "[550]\ttrain-rmse:778.61932+11.84283\ttest-rmse:962.21263+71.86490\n",
            "[600]\ttrain-rmse:744.51517+12.00167\ttest-rmse:941.93356+72.73190\n",
            "[650]\ttrain-rmse:714.05179+12.36643\ttest-rmse:924.89238+73.00361\n",
            "[700]\ttrain-rmse:687.82588+12.58589\ttest-rmse:911.81315+72.75996\n",
            "[750]\ttrain-rmse:664.57856+12.81956\ttest-rmse:900.31990+72.53099\n",
            "[800]\ttrain-rmse:643.49962+13.12937\ttest-rmse:890.77257+72.98287\n",
            "[850]\ttrain-rmse:624.38558+13.32589\ttest-rmse:882.98028+73.29900\n",
            "[900]\ttrain-rmse:607.18135+13.28768\ttest-rmse:876.47755+73.23701\n",
            "[950]\ttrain-rmse:591.35735+13.13482\ttest-rmse:870.36606+73.40345\n",
            "[1000]\ttrain-rmse:577.12845+13.10308\ttest-rmse:865.66365+73.33517\n",
            "[1050]\ttrain-rmse:563.89963+12.94472\ttest-rmse:862.05682+73.09400\n",
            "[1100]\ttrain-rmse:551.96848+13.11016\ttest-rmse:858.99031+72.94885\n",
            "[1150]\ttrain-rmse:540.85101+13.31196\ttest-rmse:855.73570+72.75152\n",
            "[1200]\ttrain-rmse:530.29313+13.16387\ttest-rmse:852.92825+72.59594\n",
            "[1250]\ttrain-rmse:520.34704+13.67469\ttest-rmse:850.31968+72.17542\n",
            "[1300]\ttrain-rmse:510.57911+13.60334\ttest-rmse:847.94400+71.97595\n",
            "[1350]\ttrain-rmse:501.87100+13.51494\ttest-rmse:846.12397+71.77854\n",
            "[1400]\ttrain-rmse:493.29142+13.37352\ttest-rmse:844.53446+71.84836\n",
            "[1450]\ttrain-rmse:485.03324+13.14845\ttest-rmse:843.16960+71.95394\n",
            "[1500]\ttrain-rmse:476.97223+12.98489\ttest-rmse:841.66877+71.99116\n",
            "[1550]\ttrain-rmse:469.28186+12.85262\ttest-rmse:840.53368+72.13867\n",
            "[1600]\ttrain-rmse:461.86392+12.38986\ttest-rmse:839.30421+72.13094\n",
            "[1650]\ttrain-rmse:454.71161+12.39053\ttest-rmse:838.49872+72.14016\n",
            "[1700]\ttrain-rmse:447.84766+12.29758\ttest-rmse:837.58485+71.78321\n",
            "[1750]\ttrain-rmse:441.07005+11.96735\ttest-rmse:836.99256+71.65626\n",
            "[1800]\ttrain-rmse:434.71173+11.56668\ttest-rmse:836.52151+71.65174\n",
            "[1850]\ttrain-rmse:428.09018+11.49967\ttest-rmse:835.53338+71.55630\n",
            "[1900]\ttrain-rmse:421.67465+11.27770\ttest-rmse:834.76164+71.50997\n",
            "[1950]\ttrain-rmse:415.76700+11.15442\ttest-rmse:834.00670+71.37166\n",
            "[2000]\ttrain-rmse:409.75893+11.15582\ttest-rmse:833.68023+71.18579\n",
            "[2050]\ttrain-rmse:404.04822+10.86252\ttest-rmse:833.13982+70.95023\n",
            "[2100]\ttrain-rmse:398.46758+10.73580\ttest-rmse:832.71953+71.01793\n",
            "[2150]\ttrain-rmse:392.89506+10.64452\ttest-rmse:832.33850+71.14350\n",
            "[2200]\ttrain-rmse:387.77445+10.52401\ttest-rmse:831.87038+71.23623\n",
            "[2250]\ttrain-rmse:382.53187+10.47035\ttest-rmse:831.43782+71.21249\n",
            "[2300]\ttrain-rmse:377.28381+10.25510\ttest-rmse:830.93403+71.02472\n",
            "[2350]\ttrain-rmse:372.07260+10.05980\ttest-rmse:830.63448+71.17281\n",
            "[2400]\ttrain-rmse:367.04042+9.84835\ttest-rmse:830.18482+70.91891\n",
            "[2450]\ttrain-rmse:361.96028+9.69514\ttest-rmse:829.91970+70.91794\n",
            "[2500]\ttrain-rmse:357.24737+9.71203\ttest-rmse:829.68289+70.80538\n",
            "[2550]\ttrain-rmse:352.44425+9.68127\ttest-rmse:829.31401+70.54243\n",
            "[2600]\ttrain-rmse:347.90817+9.68199\ttest-rmse:829.08899+70.41262\n",
            "[2650]\ttrain-rmse:343.29259+9.55767\ttest-rmse:828.68844+70.41303\n",
            "[2700]\ttrain-rmse:338.84961+9.46785\ttest-rmse:828.44738+70.33128\n",
            "[2750]\ttrain-rmse:334.44605+9.38215\ttest-rmse:828.03858+70.40760\n",
            "[2800]\ttrain-rmse:330.22424+9.28166\ttest-rmse:827.79823+70.30430\n",
            "[2850]\ttrain-rmse:325.84285+9.19859\ttest-rmse:827.60672+70.43000\n",
            "[2879]\ttrain-rmse:323.41630+9.07239\ttest-rmse:827.59956+70.46331\n"
          ]
        },
        {
          "output_type": "stream",
          "name": "stderr",
          "text": [
            "[I 2025-01-28 17:46:29,391] Trial 91 finished with value: 827.5640394589831 and parameters: {'booster': 'gbtree', 'learning_rate': 0.003471532335540939, 'max_depth': 9, 'gamma': 0.007614262363155113, 'subsample': 0.7114087859103595, 'reg_alpha': 6.878075487265966e-07, 'reg_lambda': 0.172340192186735, 'colsample_bytree': 0.7748393722344191, 'min_child_weight': 7, 'n_estimators': 3023}. Best is trial 88 with value: 823.939288240677.\n"
          ]
        },
        {
          "output_type": "stream",
          "name": "stdout",
          "text": [
            "[0]\ttrain-rmse:1820.09349+29.40480\ttest-rmse:1816.63856+122.79857\n",
            "[50]\ttrain-rmse:1670.72985+24.58110\ttest-rmse:1681.84329+109.90840\n",
            "[100]\ttrain-rmse:1539.33164+20.77146\ttest-rmse:1563.32485+98.82898\n",
            "[150]\ttrain-rmse:1426.19475+18.05794\ttest-rmse:1464.11361+91.00870\n",
            "[200]\ttrain-rmse:1326.84646+15.92225\ttest-rmse:1377.66284+85.17235\n",
            "[250]\ttrain-rmse:1242.07416+14.19212\ttest-rmse:1306.44504+80.68764\n",
            "[300]\ttrain-rmse:1165.65890+13.36506\ttest-rmse:1242.89698+77.40329\n",
            "[350]\ttrain-rmse:1098.94497+12.53259\ttest-rmse:1188.27846+75.26573\n",
            "[400]\ttrain-rmse:1040.03251+12.38987\ttest-rmse:1141.47135+73.96765\n",
            "[450]\ttrain-rmse:987.51068+12.73552\ttest-rmse:1100.64105+73.29687\n",
            "[500]\ttrain-rmse:941.65689+12.30563\ttest-rmse:1066.73447+73.37564\n",
            "[550]\ttrain-rmse:901.37876+12.24793\ttest-rmse:1037.95108+73.68853\n",
            "[600]\ttrain-rmse:864.58879+12.41959\ttest-rmse:1012.02629+74.30399\n",
            "[650]\ttrain-rmse:830.83529+12.78994\ttest-rmse:989.12900+74.05693\n",
            "[700]\ttrain-rmse:801.63741+13.03657\ttest-rmse:970.54184+74.27742\n",
            "[750]\ttrain-rmse:775.23777+13.59211\ttest-rmse:954.48812+74.56082\n",
            "[800]\ttrain-rmse:751.36722+13.86391\ttest-rmse:940.13989+75.38779\n",
            "[850]\ttrain-rmse:728.68306+14.44060\ttest-rmse:927.15605+75.65022\n",
            "[900]\ttrain-rmse:708.76970+14.79143\ttest-rmse:916.49913+75.99006\n",
            "[950]\ttrain-rmse:690.12966+15.04554\ttest-rmse:906.68887+76.02488\n",
            "[1000]\ttrain-rmse:673.25774+15.68502\ttest-rmse:898.80464+75.74437\n",
            "[1050]\ttrain-rmse:657.72323+15.63181\ttest-rmse:891.31979+76.29220\n",
            "[1100]\ttrain-rmse:643.29734+15.34864\ttest-rmse:885.21384+76.50915\n",
            "[1150]\ttrain-rmse:629.88606+15.58104\ttest-rmse:879.46750+76.59585\n",
            "[1200]\ttrain-rmse:617.70622+15.78502\ttest-rmse:874.81605+76.66784\n",
            "[1250]\ttrain-rmse:606.32703+16.11585\ttest-rmse:870.30030+76.56561\n",
            "[1300]\ttrain-rmse:595.42850+16.17503\ttest-rmse:866.61069+76.44589\n",
            "[1350]\ttrain-rmse:585.65869+16.24570\ttest-rmse:863.54226+76.35049\n",
            "[1400]\ttrain-rmse:576.37085+16.26607\ttest-rmse:860.50595+76.19360\n",
            "[1450]\ttrain-rmse:567.49932+16.24730\ttest-rmse:858.13035+75.95973\n",
            "[1500]\ttrain-rmse:559.08759+16.14555\ttest-rmse:856.05832+75.77549\n",
            "[1550]\ttrain-rmse:551.25452+16.23491\ttest-rmse:854.00270+75.83528\n",
            "[1600]\ttrain-rmse:543.59761+16.00746\ttest-rmse:852.03028+75.82857\n",
            "[1650]\ttrain-rmse:536.15258+15.90544\ttest-rmse:850.44947+75.96030\n",
            "[1700]\ttrain-rmse:529.12261+15.66484\ttest-rmse:848.74025+75.91619\n",
            "[1750]\ttrain-rmse:522.33200+15.45235\ttest-rmse:847.38094+75.90442\n",
            "[1800]\ttrain-rmse:515.78582+15.30034\ttest-rmse:846.22803+76.05015\n",
            "[1850]\ttrain-rmse:509.15047+15.12911\ttest-rmse:844.75418+75.79609\n",
            "[1900]\ttrain-rmse:502.58427+15.06187\ttest-rmse:843.46761+75.76874\n",
            "[1950]\ttrain-rmse:496.61789+15.12115\ttest-rmse:842.21746+75.61109\n",
            "[2000]\ttrain-rmse:490.64736+15.11863\ttest-rmse:841.20509+75.43959\n",
            "[2050]\ttrain-rmse:484.92013+14.80303\ttest-rmse:840.35704+75.43213\n",
            "[2100]\ttrain-rmse:479.18367+14.59490\ttest-rmse:839.33478+75.45099\n",
            "[2150]\ttrain-rmse:473.80305+14.45764\ttest-rmse:838.58596+75.58569\n",
            "[2200]\ttrain-rmse:468.47704+14.29618\ttest-rmse:837.82192+75.62915\n",
            "[2250]\ttrain-rmse:463.41790+14.09027\ttest-rmse:837.02273+75.54939\n",
            "[2300]\ttrain-rmse:458.02697+13.93125\ttest-rmse:836.26969+75.54005\n",
            "[2350]\ttrain-rmse:452.77991+13.58184\ttest-rmse:835.71563+75.61406\n",
            "[2400]\ttrain-rmse:447.91729+13.45611\ttest-rmse:835.06459+75.54699\n",
            "[2450]\ttrain-rmse:443.10879+13.48594\ttest-rmse:834.43295+75.41067\n",
            "[2500]\ttrain-rmse:438.14958+13.27581\ttest-rmse:833.88352+75.19380\n",
            "[2550]\ttrain-rmse:433.54639+13.20635\ttest-rmse:833.34176+75.04496\n",
            "[2600]\ttrain-rmse:429.06002+13.04903\ttest-rmse:832.87106+75.05411\n",
            "[2650]\ttrain-rmse:424.56407+12.93267\ttest-rmse:832.52640+74.94884\n",
            "[2700]\ttrain-rmse:419.92545+12.87264\ttest-rmse:831.94125+75.00145\n",
            "[2750]\ttrain-rmse:415.57107+12.72062\ttest-rmse:831.53803+74.88397\n",
            "[2800]\ttrain-rmse:411.39804+12.63151\ttest-rmse:831.12223+74.76937\n",
            "[2850]\ttrain-rmse:407.23024+12.59247\ttest-rmse:830.68479+74.70360\n",
            "[2900]\ttrain-rmse:403.09831+12.44243\ttest-rmse:830.34315+74.62938\n",
            "[2950]\ttrain-rmse:399.03005+12.26286\ttest-rmse:829.90730+74.74965\n",
            "[3000]\ttrain-rmse:395.01299+12.20666\ttest-rmse:829.64172+74.74668\n",
            "[3004]\ttrain-rmse:394.69833+12.17403\ttest-rmse:829.57709+74.74780\n"
          ]
        },
        {
          "output_type": "stream",
          "name": "stderr",
          "text": [
            "[I 2025-01-28 17:47:48,212] Trial 92 finished with value: 829.5770915887597 and parameters: {'booster': 'gbtree', 'learning_rate': 0.002616568391073592, 'max_depth': 9, 'gamma': 0.010951698281482698, 'subsample': 0.7360874744766931, 'reg_alpha': 4.3288939983548577e-07, 'reg_lambda': 0.07248306754584495, 'colsample_bytree': 0.8121965645744601, 'min_child_weight': 8, 'n_estimators': 3005}. Best is trial 88 with value: 823.939288240677.\n"
          ]
        },
        {
          "output_type": "stream",
          "name": "stdout",
          "text": [
            "[0]\ttrain-rmse:1819.04582+29.42412\ttest-rmse:1815.63836+122.68374\n",
            "[50]\ttrain-rmse:1625.17059+23.39074\ttest-rmse:1640.76134+105.14411\n",
            "[100]\ttrain-rmse:1462.82248+19.39610\ttest-rmse:1496.04640+90.78081\n",
            "[150]\ttrain-rmse:1326.52835+16.38458\ttest-rmse:1378.77922+81.98920\n",
            "[200]\ttrain-rmse:1211.42281+14.61512\ttest-rmse:1281.85579+76.06774\n",
            "[250]\ttrain-rmse:1117.60788+12.83482\ttest-rmse:1206.41515+72.13235\n",
            "[300]\ttrain-rmse:1035.58954+12.01174\ttest-rmse:1141.50632+71.11567\n",
            "[350]\ttrain-rmse:966.13265+11.72124\ttest-rmse:1088.89745+70.51948\n",
            "[400]\ttrain-rmse:905.98665+11.42541\ttest-rmse:1045.65673+70.43164\n",
            "[450]\ttrain-rmse:854.56822+11.83407\ttest-rmse:1009.69622+71.05471\n",
            "[500]\ttrain-rmse:810.74597+12.21471\ttest-rmse:982.29440+71.39367\n",
            "[550]\ttrain-rmse:772.85173+12.23158\ttest-rmse:958.69211+72.08560\n",
            "[600]\ttrain-rmse:738.77968+12.69145\ttest-rmse:938.50829+72.69711\n",
            "[650]\ttrain-rmse:708.47328+12.96632\ttest-rmse:921.79168+72.81854\n",
            "[700]\ttrain-rmse:682.43633+13.37538\ttest-rmse:909.02419+72.56510\n",
            "[750]\ttrain-rmse:659.28981+13.49642\ttest-rmse:898.05162+72.53967\n",
            "[800]\ttrain-rmse:638.23358+13.69353\ttest-rmse:888.50405+72.56458\n",
            "[850]\ttrain-rmse:619.44913+14.00485\ttest-rmse:881.00571+72.57479\n",
            "[900]\ttrain-rmse:602.39581+14.06279\ttest-rmse:874.50447+72.63026\n",
            "[950]\ttrain-rmse:586.72073+13.92721\ttest-rmse:869.00987+72.69349\n",
            "[1000]\ttrain-rmse:572.69429+13.84819\ttest-rmse:864.67367+72.68661\n",
            "[1050]\ttrain-rmse:559.62960+13.63816\ttest-rmse:860.94554+72.53238\n",
            "[1100]\ttrain-rmse:547.83971+13.79668\ttest-rmse:857.90118+72.29340\n",
            "[1150]\ttrain-rmse:536.71936+13.89700\ttest-rmse:854.64385+72.09529\n",
            "[1200]\ttrain-rmse:526.20330+13.73264\ttest-rmse:851.99070+71.86296\n",
            "[1250]\ttrain-rmse:516.35703+14.09471\ttest-rmse:849.40355+71.53826\n",
            "[1300]\ttrain-rmse:506.69551+13.88291\ttest-rmse:847.18701+71.39851\n",
            "[1350]\ttrain-rmse:498.02351+13.80675\ttest-rmse:845.44163+71.21636\n",
            "[1400]\ttrain-rmse:489.40016+13.69771\ttest-rmse:843.86414+71.21671\n",
            "[1450]\ttrain-rmse:481.23107+13.43984\ttest-rmse:842.57568+71.34425\n",
            "[1500]\ttrain-rmse:473.19647+13.11552\ttest-rmse:841.12080+71.41181\n",
            "[1550]\ttrain-rmse:465.55566+13.10819\ttest-rmse:840.14626+71.42441\n",
            "[1600]\ttrain-rmse:458.15666+12.60502\ttest-rmse:838.91581+71.49412\n",
            "[1650]\ttrain-rmse:450.95475+12.60928\ttest-rmse:838.25186+71.45002\n",
            "[1700]\ttrain-rmse:444.03304+12.49760\ttest-rmse:837.25317+71.15663\n",
            "[1750]\ttrain-rmse:437.20024+12.23021\ttest-rmse:836.58355+71.20582\n",
            "[1800]\ttrain-rmse:430.77714+11.95257\ttest-rmse:836.03703+71.19147\n",
            "[1850]\ttrain-rmse:424.14012+11.86419\ttest-rmse:835.23923+71.03427\n",
            "[1900]\ttrain-rmse:417.72452+11.51393\ttest-rmse:834.51004+70.89552\n",
            "[1950]\ttrain-rmse:411.71016+11.41657\ttest-rmse:833.78360+70.76002\n",
            "[2000]\ttrain-rmse:405.80354+11.34052\ttest-rmse:833.30365+70.57234\n",
            "[2050]\ttrain-rmse:400.09539+10.98130\ttest-rmse:832.80206+70.46484\n",
            "[2100]\ttrain-rmse:394.46839+10.89380\ttest-rmse:832.33050+70.60564\n",
            "[2150]\ttrain-rmse:388.85322+10.80861\ttest-rmse:832.00591+70.53917\n",
            "[2200]\ttrain-rmse:383.75310+10.62438\ttest-rmse:831.65581+70.56923\n",
            "[2250]\ttrain-rmse:378.52641+10.63334\ttest-rmse:831.27463+70.49268\n",
            "[2300]\ttrain-rmse:373.24722+10.31029\ttest-rmse:830.71361+70.30954\n",
            "[2350]\ttrain-rmse:368.11134+10.14527\ttest-rmse:830.39329+70.52011\n",
            "[2400]\ttrain-rmse:363.01199+9.92605\ttest-rmse:829.92054+70.26633\n",
            "[2450]\ttrain-rmse:357.95582+9.80717\ttest-rmse:829.66837+70.18187\n",
            "[2500]\ttrain-rmse:353.11998+9.81720\ttest-rmse:829.29190+69.99713\n",
            "[2550]\ttrain-rmse:348.29051+9.75066\ttest-rmse:829.01455+69.76832\n",
            "[2600]\ttrain-rmse:343.64080+9.80001\ttest-rmse:828.77371+69.62004\n",
            "[2650]\ttrain-rmse:339.14120+9.63254\ttest-rmse:828.60004+69.53242\n",
            "[2700]\ttrain-rmse:334.56414+9.59951\ttest-rmse:828.25985+69.48218\n",
            "[2750]\ttrain-rmse:330.17943+9.47003\ttest-rmse:827.85272+69.52270\n",
            "[2800]\ttrain-rmse:325.90178+9.42235\ttest-rmse:827.58000+69.40121\n",
            "[2850]\ttrain-rmse:321.59284+9.31734\ttest-rmse:827.44792+69.44118\n",
            "[2878]\ttrain-rmse:319.30162+9.17389\ttest-rmse:827.40675+69.48864\n"
          ]
        },
        {
          "output_type": "stream",
          "name": "stderr",
          "text": [
            "[I 2025-01-28 17:49:01,681] Trial 93 finished with value: 827.3870772595268 and parameters: {'booster': 'gbtree', 'learning_rate': 0.0035215353904984345, 'max_depth': 9, 'gamma': 0.030932730728671975, 'subsample': 0.7128116794870388, 'reg_alpha': 2.0550362011576093e-07, 'reg_lambda': 0.16451850743099286, 'colsample_bytree': 0.7638819489976443, 'min_child_weight': 7, 'n_estimators': 3388}. Best is trial 88 with value: 823.939288240677.\n"
          ]
        },
        {
          "output_type": "stream",
          "name": "stdout",
          "text": [
            "[0]\ttrain-rmse:1819.28045+29.35801\ttest-rmse:1815.98189+122.85589\n",
            "[50]\ttrain-rmse:1638.96449+23.57255\ttest-rmse:1653.07750+107.20529\n",
            "[100]\ttrain-rmse:1487.54533+18.86865\ttest-rmse:1517.72583+94.06280\n",
            "[150]\ttrain-rmse:1358.82900+16.84487\ttest-rmse:1405.43552+84.49537\n",
            "[200]\ttrain-rmse:1249.69339+14.97571\ttest-rmse:1312.71402+78.53584\n",
            "[250]\ttrain-rmse:1158.71244+12.94557\ttest-rmse:1238.11768+74.55146\n",
            "[300]\ttrain-rmse:1078.65809+12.34769\ttest-rmse:1174.49248+72.33833\n",
            "[350]\ttrain-rmse:1010.49346+11.96058\ttest-rmse:1120.73535+71.05692\n",
            "[400]\ttrain-rmse:951.27119+11.48757\ttest-rmse:1076.38522+70.12050\n",
            "[450]\ttrain-rmse:899.99318+12.17316\ttest-rmse:1039.04949+70.08308\n",
            "[500]\ttrain-rmse:856.29190+12.27111\ttest-rmse:1009.77822+70.39297\n",
            "[550]\ttrain-rmse:818.17999+12.01478\ttest-rmse:984.33780+71.22123\n",
            "[600]\ttrain-rmse:783.45852+12.57364\ttest-rmse:962.06128+71.36664\n",
            "[650]\ttrain-rmse:752.48872+13.35188\ttest-rmse:943.25114+71.45954\n",
            "[700]\ttrain-rmse:726.25412+13.68370\ttest-rmse:929.14134+71.87947\n",
            "[750]\ttrain-rmse:702.36229+13.68093\ttest-rmse:916.51871+71.86405\n",
            "[800]\ttrain-rmse:681.29037+13.96505\ttest-rmse:905.57575+72.32334\n",
            "[850]\ttrain-rmse:662.12300+14.41177\ttest-rmse:896.69628+72.61079\n",
            "[900]\ttrain-rmse:644.91979+14.90207\ttest-rmse:889.43666+72.97950\n",
            "[950]\ttrain-rmse:628.93484+14.96351\ttest-rmse:882.38262+73.09318\n",
            "[1000]\ttrain-rmse:614.33786+14.89058\ttest-rmse:876.94225+73.47557\n",
            "[1050]\ttrain-rmse:601.16229+15.00601\ttest-rmse:872.63772+73.34785\n",
            "[1100]\ttrain-rmse:589.06992+14.83230\ttest-rmse:868.76120+73.47210\n",
            "[1150]\ttrain-rmse:577.79650+15.01583\ttest-rmse:865.08581+73.26831\n",
            "[1200]\ttrain-rmse:567.12427+14.95193\ttest-rmse:862.09487+73.05454\n",
            "[1250]\ttrain-rmse:557.38226+15.23745\ttest-rmse:859.23724+73.01060\n",
            "[1300]\ttrain-rmse:547.66719+14.85237\ttest-rmse:856.38429+73.06601\n",
            "[1350]\ttrain-rmse:538.59959+14.85629\ttest-rmse:854.30653+72.86988\n",
            "[1400]\ttrain-rmse:529.94972+14.88618\ttest-rmse:852.19872+72.96544\n",
            "[1450]\ttrain-rmse:521.55617+14.87244\ttest-rmse:850.64285+73.09002\n",
            "[1500]\ttrain-rmse:513.75749+14.68673\ttest-rmse:849.17975+73.19907\n",
            "[1550]\ttrain-rmse:506.01669+14.58082\ttest-rmse:847.65549+73.27338\n",
            "[1600]\ttrain-rmse:498.74722+14.42857\ttest-rmse:846.27388+73.10941\n",
            "[1650]\ttrain-rmse:491.39009+14.22615\ttest-rmse:845.17364+73.06050\n",
            "[1700]\ttrain-rmse:484.67121+14.26358\ttest-rmse:843.96194+72.96949\n",
            "[1750]\ttrain-rmse:477.74856+14.11045\ttest-rmse:843.09398+73.31030\n",
            "[1800]\ttrain-rmse:471.24730+13.92050\ttest-rmse:842.13054+73.25114\n",
            "[1850]\ttrain-rmse:464.84126+13.77023\ttest-rmse:841.03035+73.36858\n",
            "[1900]\ttrain-rmse:458.46360+13.52077\ttest-rmse:840.38842+73.15454\n",
            "[1950]\ttrain-rmse:452.30580+13.47294\ttest-rmse:839.62198+73.15896\n",
            "[2000]\ttrain-rmse:446.36471+13.41323\ttest-rmse:839.04008+73.03541\n",
            "[2050]\ttrain-rmse:440.70823+13.03793\ttest-rmse:838.21932+72.87837\n",
            "[2100]\ttrain-rmse:435.04718+12.86622\ttest-rmse:837.44556+72.92034\n",
            "[2150]\ttrain-rmse:429.45307+12.70236\ttest-rmse:836.84427+72.99527\n",
            "[2200]\ttrain-rmse:424.00410+12.70938\ttest-rmse:836.36909+73.05513\n",
            "[2250]\ttrain-rmse:418.66452+12.45654\ttest-rmse:835.95082+72.87399\n",
            "[2300]\ttrain-rmse:413.37141+12.14841\ttest-rmse:835.44926+72.77707\n",
            "[2350]\ttrain-rmse:408.22122+11.93711\ttest-rmse:835.04642+72.72388\n",
            "[2400]\ttrain-rmse:403.20749+11.82226\ttest-rmse:834.61684+72.53300\n",
            "[2450]\ttrain-rmse:397.87013+11.55047\ttest-rmse:834.21666+72.55487\n",
            "[2500]\ttrain-rmse:393.13708+11.57158\ttest-rmse:833.98431+72.50925\n",
            "[2550]\ttrain-rmse:388.41557+11.42399\ttest-rmse:833.47274+72.37083\n",
            "[2600]\ttrain-rmse:383.88257+11.54125\ttest-rmse:833.30944+72.43434\n",
            "[2650]\ttrain-rmse:379.18348+11.42998\ttest-rmse:832.93087+72.35785\n",
            "[2679]\ttrain-rmse:376.47792+11.45548\ttest-rmse:832.87058+72.43094\n"
          ]
        },
        {
          "output_type": "stream",
          "name": "stderr",
          "text": [
            "[I 2025-01-28 17:50:06,664] Trial 94 finished with value: 832.854220094489 and parameters: {'booster': 'gbtree', 'learning_rate': 0.003338310531097053, 'max_depth': 9, 'gamma': 0.030140399743761676, 'subsample': 0.6350172506920543, 'reg_alpha': 9.28032518724189e-07, 'reg_lambda': 0.35390073648829984, 'colsample_bytree': 0.7609601106095103, 'min_child_weight': 7, 'n_estimators': 2841}. Best is trial 88 with value: 823.939288240677.\n"
          ]
        },
        {
          "output_type": "stream",
          "name": "stdout",
          "text": [
            "[0]\ttrain-rmse:1818.53630+29.46265\ttest-rmse:1815.40510+122.82964\n",
            "[50]\ttrain-rmse:1612.95736+22.80011\ttest-rmse:1630.22409+104.49737\n",
            "[100]\ttrain-rmse:1443.38296+17.91046\ttest-rmse:1479.95563+90.00299\n",
            "[150]\ttrain-rmse:1302.68441+15.15053\ttest-rmse:1359.28631+80.61275\n",
            "[200]\ttrain-rmse:1186.33153+13.25576\ttest-rmse:1261.34617+75.33022\n",
            "[250]\ttrain-rmse:1091.81092+12.04885\ttest-rmse:1186.11878+71.51945\n",
            "[300]\ttrain-rmse:1009.72452+11.67674\ttest-rmse:1122.07321+70.69372\n",
            "[350]\ttrain-rmse:941.56331+11.60586\ttest-rmse:1070.68065+70.87900\n",
            "[400]\ttrain-rmse:883.17324+12.01741\ttest-rmse:1029.03371+71.32526\n",
            "[450]\ttrain-rmse:833.53908+12.07455\ttest-rmse:995.10634+72.35220\n",
            "[500]\ttrain-rmse:790.75299+12.78625\ttest-rmse:968.37583+72.90796\n",
            "[550]\ttrain-rmse:754.76391+13.06915\ttest-rmse:946.58296+73.78306\n",
            "[600]\ttrain-rmse:722.10730+13.67394\ttest-rmse:927.78352+74.21002\n",
            "[650]\ttrain-rmse:692.83221+14.24337\ttest-rmse:912.63392+74.17125\n",
            "[700]\ttrain-rmse:667.73556+14.48373\ttest-rmse:900.82997+74.24852\n",
            "[750]\ttrain-rmse:645.19298+14.65058\ttest-rmse:890.78747+74.40979\n",
            "[800]\ttrain-rmse:625.24762+14.93817\ttest-rmse:882.39462+74.61930\n",
            "[850]\ttrain-rmse:607.33033+15.30698\ttest-rmse:875.69118+74.58759\n",
            "[900]\ttrain-rmse:591.12302+15.37313\ttest-rmse:869.99941+74.70133\n",
            "[950]\ttrain-rmse:576.48550+15.65597\ttest-rmse:865.00014+74.68516\n",
            "[1000]\ttrain-rmse:563.09392+15.65609\ttest-rmse:861.06027+74.60796\n",
            "[1050]\ttrain-rmse:550.91461+15.22166\ttest-rmse:857.78861+74.38424\n",
            "[1100]\ttrain-rmse:539.56276+15.14284\ttest-rmse:855.03545+73.89042\n",
            "[1150]\ttrain-rmse:528.72010+15.07651\ttest-rmse:852.46553+73.57158\n",
            "[1200]\ttrain-rmse:518.64009+15.13422\ttest-rmse:849.98871+73.31735\n",
            "[1250]\ttrain-rmse:509.21882+15.42561\ttest-rmse:847.97404+73.19989\n",
            "[1300]\ttrain-rmse:499.69913+15.05102\ttest-rmse:845.95962+73.01177\n",
            "[1350]\ttrain-rmse:490.98113+14.86395\ttest-rmse:844.41460+72.90506\n",
            "[1400]\ttrain-rmse:482.51636+14.63305\ttest-rmse:842.98018+72.88641\n",
            "[1450]\ttrain-rmse:474.59988+14.54546\ttest-rmse:841.82136+72.82133\n",
            "[1500]\ttrain-rmse:466.44793+14.33439\ttest-rmse:840.53247+72.54763\n",
            "[1550]\ttrain-rmse:459.14532+14.08527\ttest-rmse:839.55091+72.57892\n",
            "[1600]\ttrain-rmse:451.72623+13.44864\ttest-rmse:838.52718+72.58086\n",
            "[1650]\ttrain-rmse:444.77054+13.39470\ttest-rmse:837.78201+72.62126\n",
            "[1700]\ttrain-rmse:437.94797+13.25279\ttest-rmse:836.98051+72.31036\n",
            "[1750]\ttrain-rmse:431.12140+12.87330\ttest-rmse:836.38449+72.53449\n",
            "[1800]\ttrain-rmse:424.47313+12.51458\ttest-rmse:835.76487+72.55229\n",
            "[1850]\ttrain-rmse:418.18854+12.17046\ttest-rmse:834.81290+72.52874\n",
            "[1900]\ttrain-rmse:411.89548+11.96606\ttest-rmse:834.15856+72.36766\n",
            "[1950]\ttrain-rmse:405.98456+11.96320\ttest-rmse:833.60925+72.19043\n",
            "[2000]\ttrain-rmse:400.14870+11.82934\ttest-rmse:833.09235+72.19836\n",
            "[2050]\ttrain-rmse:394.44183+11.47299\ttest-rmse:832.63297+72.14074\n",
            "[2100]\ttrain-rmse:388.76650+11.52287\ttest-rmse:832.29852+72.10361\n",
            "[2150]\ttrain-rmse:383.54114+11.10807\ttest-rmse:831.86345+72.16585\n",
            "[2200]\ttrain-rmse:378.45375+10.82925\ttest-rmse:831.57293+72.16260\n",
            "[2250]\ttrain-rmse:373.27340+10.79596\ttest-rmse:831.14128+72.18464\n",
            "[2300]\ttrain-rmse:367.99526+10.62968\ttest-rmse:830.76058+71.93678\n",
            "[2350]\ttrain-rmse:362.84793+10.39839\ttest-rmse:830.45385+71.89532\n",
            "[2400]\ttrain-rmse:357.99816+10.16436\ttest-rmse:830.09131+71.69174\n",
            "[2450]\ttrain-rmse:353.16499+9.98743\ttest-rmse:829.74678+71.72666\n",
            "[2455]\ttrain-rmse:352.65431+9.99262\ttest-rmse:829.74285+71.74865\n"
          ]
        },
        {
          "output_type": "stream",
          "name": "stderr",
          "text": [
            "[I 2025-01-28 17:51:07,818] Trial 95 finished with value: 829.7428463167282 and parameters: {'booster': 'gbtree', 'learning_rate': 0.003741148739760142, 'max_depth': 9, 'gamma': 0.07238317059691873, 'subsample': 0.7768366789190541, 'reg_alpha': 1.8364285954909686e-06, 'reg_lambda': 0.0482686152510471, 'colsample_bytree': 0.7383274017240121, 'min_child_weight': 8, 'n_estimators': 2456}. Best is trial 88 with value: 823.939288240677.\n"
          ]
        },
        {
          "output_type": "stream",
          "name": "stdout",
          "text": [
            "[0]\ttrain-rmse:1820.36327+29.41800\ttest-rmse:1816.84899+122.82815\n",
            "[50]\ttrain-rmse:1685.85460+25.44084\ttest-rmse:1695.87483+110.93933\n",
            "[100]\ttrain-rmse:1565.31497+22.42345\ttest-rmse:1588.25290+99.94020\n",
            "[150]\ttrain-rmse:1458.25886+19.69310\ttest-rmse:1495.05850+92.02967\n",
            "[200]\ttrain-rmse:1362.95227+17.62367\ttest-rmse:1413.36445+85.83897\n",
            "[250]\ttrain-rmse:1279.53893+15.77664\ttest-rmse:1343.79678+80.90895\n",
            "[300]\ttrain-rmse:1202.39413+14.52969\ttest-rmse:1280.26671+77.57874\n",
            "[350]\ttrain-rmse:1133.96044+13.46759\ttest-rmse:1225.01182+75.02470\n",
            "[400]\ttrain-rmse:1071.99989+13.11803\ttest-rmse:1176.18000+72.97013\n",
            "[450]\ttrain-rmse:1016.58636+12.74749\ttest-rmse:1133.38716+72.06606\n",
            "[500]\ttrain-rmse:967.49960+12.22627\ttest-rmse:1097.28491+71.75796\n",
            "[550]\ttrain-rmse:923.89306+12.13157\ttest-rmse:1065.69349+71.36284\n",
            "[600]\ttrain-rmse:883.85303+12.04601\ttest-rmse:1037.56177+71.45232\n",
            "[650]\ttrain-rmse:847.00598+11.86480\ttest-rmse:1012.77487+71.55713\n",
            "[700]\ttrain-rmse:814.97836+11.98410\ttest-rmse:992.36690+71.38335\n",
            "[750]\ttrain-rmse:785.69251+11.70767\ttest-rmse:974.22188+71.91808\n",
            "[800]\ttrain-rmse:758.99153+11.64253\ttest-rmse:958.15922+72.35636\n",
            "[850]\ttrain-rmse:733.84715+11.46442\ttest-rmse:943.76706+72.82612\n",
            "[900]\ttrain-rmse:711.35235+11.57351\ttest-rmse:931.61783+73.08750\n",
            "[950]\ttrain-rmse:689.97583+11.62273\ttest-rmse:920.14588+73.44832\n",
            "[1000]\ttrain-rmse:670.63941+11.81519\ttest-rmse:910.87764+73.78134\n",
            "[1050]\ttrain-rmse:653.12461+11.84722\ttest-rmse:902.71283+74.10724\n",
            "[1100]\ttrain-rmse:636.53469+12.02080\ttest-rmse:895.39840+74.06226\n",
            "[1150]\ttrain-rmse:620.74061+12.17140\ttest-rmse:888.60442+74.16260\n",
            "[1200]\ttrain-rmse:606.40019+12.26182\ttest-rmse:882.71040+74.31179\n",
            "[1250]\ttrain-rmse:593.02137+12.68663\ttest-rmse:877.40814+74.23169\n",
            "[1300]\ttrain-rmse:580.35842+12.64770\ttest-rmse:872.43546+74.14600\n",
            "[1350]\ttrain-rmse:568.82090+12.96588\ttest-rmse:868.45722+74.33107\n",
            "[1400]\ttrain-rmse:557.86560+12.97986\ttest-rmse:864.65527+74.14765\n",
            "[1450]\ttrain-rmse:547.96685+13.03851\ttest-rmse:861.64576+74.09497\n",
            "[1500]\ttrain-rmse:538.33813+13.07452\ttest-rmse:858.80832+74.05191\n",
            "[1550]\ttrain-rmse:529.40491+13.31560\ttest-rmse:856.33679+73.98744\n",
            "[1600]\ttrain-rmse:520.88725+13.41771\ttest-rmse:853.94839+73.73428\n",
            "[1650]\ttrain-rmse:512.65081+13.49707\ttest-rmse:852.03135+73.76005\n",
            "[1700]\ttrain-rmse:504.95239+13.56251\ttest-rmse:850.12980+73.56194\n",
            "[1750]\ttrain-rmse:497.61067+13.50133\ttest-rmse:848.56853+73.69495\n",
            "[1800]\ttrain-rmse:490.44867+13.43932\ttest-rmse:847.09685+73.73513\n",
            "[1850]\ttrain-rmse:483.54308+13.48403\ttest-rmse:845.57728+73.63792\n",
            "[1900]\ttrain-rmse:476.88524+13.46446\ttest-rmse:844.41921+73.55144\n",
            "[1950]\ttrain-rmse:470.59792+13.69692\ttest-rmse:843.31363+73.49356\n",
            "[2000]\ttrain-rmse:464.51158+13.60014\ttest-rmse:842.30646+73.44394\n",
            "[2050]\ttrain-rmse:458.67290+13.49568\ttest-rmse:841.44454+73.32424\n",
            "[2100]\ttrain-rmse:452.84706+13.44582\ttest-rmse:840.47688+73.22818\n",
            "[2150]\ttrain-rmse:447.29207+13.41212\ttest-rmse:839.67319+73.33939\n",
            "[2200]\ttrain-rmse:441.97727+13.41376\ttest-rmse:838.89314+73.31113\n",
            "[2250]\ttrain-rmse:436.79537+13.34123\ttest-rmse:838.16714+73.10450\n",
            "[2300]\ttrain-rmse:431.46427+13.18658\ttest-rmse:837.37691+72.96188\n",
            "[2350]\ttrain-rmse:426.33558+12.93751\ttest-rmse:836.75016+73.01253\n",
            "[2400]\ttrain-rmse:421.36373+12.86888\ttest-rmse:836.04941+72.85204\n",
            "[2450]\ttrain-rmse:416.24932+12.74773\ttest-rmse:835.53670+72.85200\n",
            "[2500]\ttrain-rmse:411.38880+12.47789\ttest-rmse:834.98339+72.70308\n",
            "[2550]\ttrain-rmse:406.78008+12.34570\ttest-rmse:834.43189+72.56781\n",
            "[2600]\ttrain-rmse:402.26058+12.23115\ttest-rmse:833.92867+72.44134\n",
            "[2650]\ttrain-rmse:397.61511+12.05701\ttest-rmse:833.45686+72.41113\n",
            "[2700]\ttrain-rmse:393.08740+11.96370\ttest-rmse:833.08538+72.45426\n",
            "[2750]\ttrain-rmse:388.69282+11.76867\ttest-rmse:832.62706+72.32287\n",
            "[2800]\ttrain-rmse:384.39525+11.60141\ttest-rmse:832.34478+72.29338\n",
            "[2850]\ttrain-rmse:380.12547+11.50035\ttest-rmse:831.98810+72.24542\n",
            "[2900]\ttrain-rmse:376.02639+11.38817\ttest-rmse:831.60532+72.24988\n",
            "[2950]\ttrain-rmse:372.05242+11.30226\ttest-rmse:831.28009+72.18080\n",
            "[3000]\ttrain-rmse:368.02670+11.19809\ttest-rmse:830.90657+72.07043\n",
            "[3050]\ttrain-rmse:364.02312+10.93876\ttest-rmse:830.58251+72.09236\n",
            "[3100]\ttrain-rmse:360.22826+10.71615\ttest-rmse:830.35212+72.04612\n",
            "[3150]\ttrain-rmse:356.53401+10.47323\ttest-rmse:829.97477+72.10775\n",
            "[3200]\ttrain-rmse:352.85869+10.36838\ttest-rmse:829.67287+72.09861\n",
            "[3250]\ttrain-rmse:349.27484+10.12958\ttest-rmse:829.43079+72.30394\n",
            "[3300]\ttrain-rmse:345.76320+9.99800\ttest-rmse:829.20841+72.24106\n",
            "[3350]\ttrain-rmse:342.13892+9.77044\ttest-rmse:829.03464+72.12067\n",
            "[3400]\ttrain-rmse:338.62834+9.65660\ttest-rmse:828.95496+72.11757\n",
            "[3450]\ttrain-rmse:335.13558+9.51351\ttest-rmse:828.85010+72.12356\n",
            "[3455]\ttrain-rmse:334.78731+9.49220\ttest-rmse:828.82238+72.10639\n"
          ]
        },
        {
          "output_type": "stream",
          "name": "stderr",
          "text": [
            "[I 2025-01-28 17:52:51,570] Trial 96 finished with value: 828.7888472641756 and parameters: {'booster': 'gbtree', 'learning_rate': 0.002250218803974745, 'max_depth': 10, 'gamma': 0.03510645085333587, 'subsample': 0.7375396660359665, 'reg_alpha': 3.732584530221533e-07, 'reg_lambda': 0.12248410116387136, 'colsample_bytree': 0.7942628595868506, 'min_child_weight': 7, 'n_estimators': 3719}. Best is trial 88 with value: 823.939288240677.\n"
          ]
        },
        {
          "output_type": "stream",
          "name": "stdout",
          "text": [
            "[0]\ttrain-rmse:1821.27219+29.34646\ttest-rmse:1817.73838+122.99177\n",
            "[50]\ttrain-rmse:1724.36249+25.94429\ttest-rmse:1729.70615+114.46895\n",
            "[100]\ttrain-rmse:1635.84150+23.28611\ttest-rmse:1649.41061+106.22953\n",
            "[150]\ttrain-rmse:1554.38429+21.15214\ttest-rmse:1576.83134+99.56598\n",
            "[200]\ttrain-rmse:1479.61172+19.11046\ttest-rmse:1511.00500+94.32369\n",
            "[250]\ttrain-rmse:1412.91807+17.60060\ttest-rmse:1453.38380+89.19657\n",
            "[300]\ttrain-rmse:1349.06745+16.09892\ttest-rmse:1398.68019+85.25388\n",
            "[350]\ttrain-rmse:1290.92383+14.85690\ttest-rmse:1348.74056+81.93036\n",
            "[400]\ttrain-rmse:1236.60941+13.82054\ttest-rmse:1302.60374+78.88653\n",
            "[450]\ttrain-rmse:1186.73459+13.62208\ttest-rmse:1260.75448+76.32908\n",
            "[500]\ttrain-rmse:1141.23901+13.01201\ttest-rmse:1223.93915+74.46399\n",
            "[550]\ttrain-rmse:1099.76954+12.83594\ttest-rmse:1190.38346+72.79211\n",
            "[600]\ttrain-rmse:1060.51417+12.56862\ttest-rmse:1159.27649+71.95737\n",
            "[650]\ttrain-rmse:1023.72336+12.35665\ttest-rmse:1130.19975+71.15775\n",
            "[700]\ttrain-rmse:991.20343+12.30706\ttest-rmse:1105.72525+70.05884\n",
            "[750]\ttrain-rmse:960.98585+12.10899\ttest-rmse:1083.12766+69.77237\n",
            "[800]\ttrain-rmse:932.82400+12.02379\ttest-rmse:1062.67399+69.79715\n",
            "[850]\ttrain-rmse:906.31111+11.78670\ttest-rmse:1043.54569+70.15045\n",
            "[900]\ttrain-rmse:882.26333+12.04604\ttest-rmse:1026.82884+70.33197\n",
            "[950]\ttrain-rmse:858.59578+12.13064\ttest-rmse:1010.59608+70.59337\n",
            "[1000]\ttrain-rmse:837.33667+11.94025\ttest-rmse:996.43265+71.07246\n",
            "[1050]\ttrain-rmse:817.50720+11.92624\ttest-rmse:983.77270+71.30857\n",
            "[1100]\ttrain-rmse:798.73836+12.18758\ttest-rmse:971.78852+71.62267\n",
            "[1150]\ttrain-rmse:780.90227+12.38785\ttest-rmse:960.75702+71.94553\n",
            "[1200]\ttrain-rmse:764.47177+12.81557\ttest-rmse:950.90879+72.17770\n",
            "[1250]\ttrain-rmse:748.71477+12.94596\ttest-rmse:941.52592+72.49160\n",
            "[1300]\ttrain-rmse:733.66890+12.99616\ttest-rmse:932.96382+72.77307\n",
            "[1350]\ttrain-rmse:720.14213+12.97538\ttest-rmse:925.42568+73.14397\n",
            "[1400]\ttrain-rmse:706.88918+13.12384\ttest-rmse:918.21367+73.47493\n",
            "[1450]\ttrain-rmse:694.85836+13.26055\ttest-rmse:912.08396+73.65118\n",
            "[1500]\ttrain-rmse:683.32187+13.29370\ttest-rmse:906.47174+73.66068\n",
            "[1550]\ttrain-rmse:672.45681+13.40077\ttest-rmse:901.03614+73.65765\n",
            "[1600]\ttrain-rmse:661.97738+13.64059\ttest-rmse:896.11257+73.55325\n",
            "[1650]\ttrain-rmse:651.87573+13.70614\ttest-rmse:891.63328+73.74587\n",
            "[1700]\ttrain-rmse:642.51935+13.81866\ttest-rmse:887.37541+73.51260\n",
            "[1750]\ttrain-rmse:633.67370+13.83992\ttest-rmse:883.74294+73.71301\n",
            "[1800]\ttrain-rmse:625.16247+13.84480\ttest-rmse:880.43176+73.87764\n",
            "[1850]\ttrain-rmse:617.03565+14.08392\ttest-rmse:877.16145+73.76157\n",
            "[1900]\ttrain-rmse:609.36273+14.25364\ttest-rmse:874.13187+73.60070\n",
            "[1950]\ttrain-rmse:602.14756+14.45628\ttest-rmse:871.67092+73.77512\n",
            "[2000]\ttrain-rmse:595.08736+14.63163\ttest-rmse:869.30397+73.54595\n",
            "[2050]\ttrain-rmse:588.32729+14.68742\ttest-rmse:866.83399+73.40866\n",
            "[2100]\ttrain-rmse:581.89238+14.90417\ttest-rmse:864.65421+73.40146\n",
            "[2150]\ttrain-rmse:575.60459+14.93806\ttest-rmse:862.87913+73.63099\n",
            "[2200]\ttrain-rmse:569.70149+15.02295\ttest-rmse:861.22182+73.63740\n",
            "[2250]\ttrain-rmse:563.99062+15.09855\ttest-rmse:859.60464+73.69543\n",
            "[2300]\ttrain-rmse:558.39665+15.06668\ttest-rmse:858.09320+73.66812\n",
            "[2350]\ttrain-rmse:553.15281+15.17843\ttest-rmse:856.75076+73.71320\n",
            "[2400]\ttrain-rmse:547.87976+15.11329\ttest-rmse:855.20906+73.45414\n",
            "[2450]\ttrain-rmse:542.68268+15.04539\ttest-rmse:853.92196+73.39697\n",
            "[2500]\ttrain-rmse:537.80061+15.07017\ttest-rmse:852.65355+73.27044\n",
            "[2550]\ttrain-rmse:533.04482+14.94493\ttest-rmse:851.49487+73.17298\n",
            "[2600]\ttrain-rmse:528.39741+14.94787\ttest-rmse:850.49526+73.01202\n",
            "[2650]\ttrain-rmse:523.82000+14.98623\ttest-rmse:849.39572+72.93387\n",
            "[2700]\ttrain-rmse:519.32720+14.98842\ttest-rmse:848.47190+72.80424\n",
            "[2750]\ttrain-rmse:514.99239+14.93105\ttest-rmse:847.47128+72.75033\n",
            "[2800]\ttrain-rmse:510.63430+14.85693\ttest-rmse:846.44893+72.64351\n",
            "[2850]\ttrain-rmse:506.47781+14.85972\ttest-rmse:845.72870+72.61709\n",
            "[2900]\ttrain-rmse:502.28459+14.82649\ttest-rmse:844.99602+72.74888\n",
            "[2950]\ttrain-rmse:498.23442+14.67611\ttest-rmse:844.25475+72.70809\n",
            "[3000]\ttrain-rmse:494.26569+14.60798\ttest-rmse:843.57633+72.67010\n",
            "[3050]\ttrain-rmse:490.23445+14.48812\ttest-rmse:843.01502+72.56543\n",
            "[3100]\ttrain-rmse:486.43566+14.41167\ttest-rmse:842.22106+72.38828\n",
            "[3150]\ttrain-rmse:482.80997+14.24049\ttest-rmse:841.55228+72.35335\n",
            "[3200]\ttrain-rmse:479.12704+14.19127\ttest-rmse:840.89906+72.24608\n",
            "[3250]\ttrain-rmse:475.57912+14.05961\ttest-rmse:840.41248+72.28676\n",
            "[3300]\ttrain-rmse:472.00045+14.01491\ttest-rmse:839.89498+72.17793\n",
            "[3329]\ttrain-rmse:469.93118+13.93421\ttest-rmse:839.53972+72.14042\n"
          ]
        },
        {
          "output_type": "stream",
          "name": "stderr",
          "text": [
            "[I 2025-01-28 17:54:19,825] Trial 97 finished with value: 839.5397214520232 and parameters: {'booster': 'gbtree', 'learning_rate': 0.0016749245917796612, 'max_depth': 9, 'gamma': 0.012709447657119243, 'subsample': 0.6759069192585172, 'reg_alpha': 5.862902724474507e-07, 'reg_lambda': 0.02733919004970345, 'colsample_bytree': 0.7932587212267739, 'min_child_weight': 7, 'n_estimators': 3330}. Best is trial 88 with value: 823.939288240677.\n"
          ]
        },
        {
          "output_type": "stream",
          "name": "stdout",
          "text": [
            "[0]\ttrain-rmse:1818.37770+29.32343\ttest-rmse:1814.86778+122.73613\n",
            "[50]\ttrain-rmse:1615.94393+22.39380\ttest-rmse:1634.21414+104.48891\n",
            "[100]\ttrain-rmse:1444.92646+18.70339\ttest-rmse:1481.68032+89.16045\n",
            "[150]\ttrain-rmse:1310.35866+16.78941\ttest-rmse:1368.29713+78.47677\n",
            "[200]\ttrain-rmse:1196.71401+15.29741\ttest-rmse:1276.28153+71.65312\n",
            "[250]\ttrain-rmse:1105.27266+14.38184\ttest-rmse:1206.85028+66.62631\n",
            "[300]\ttrain-rmse:1023.80348+13.75335\ttest-rmse:1146.08206+64.14263\n",
            "[350]\ttrain-rmse:954.76716+13.39293\ttest-rmse:1095.29835+62.54677\n",
            "[400]\ttrain-rmse:893.94311+13.08047\ttest-rmse:1052.21964+61.88015\n",
            "[450]\ttrain-rmse:843.40257+13.39618\ttest-rmse:1020.51582+61.32041\n",
            "[500]\ttrain-rmse:799.23785+13.49578\ttest-rmse:991.71042+61.39881\n",
            "[550]\ttrain-rmse:761.33121+13.84154\ttest-rmse:969.94320+61.25445\n",
            "[600]\ttrain-rmse:727.73457+13.80977\ttest-rmse:952.21301+61.29283\n",
            "[650]\ttrain-rmse:697.18380+13.61497\ttest-rmse:937.06752+61.42873\n",
            "[700]\ttrain-rmse:671.52670+13.63890\ttest-rmse:925.16432+61.74014\n",
            "[750]\ttrain-rmse:647.65876+13.71038\ttest-rmse:914.84095+61.95939\n",
            "[800]\ttrain-rmse:626.08952+13.47657\ttest-rmse:906.22587+62.15826\n",
            "[850]\ttrain-rmse:606.55025+13.43502\ttest-rmse:899.43044+62.16704\n",
            "[900]\ttrain-rmse:589.22503+13.67881\ttest-rmse:893.67166+62.19410\n",
            "[950]\ttrain-rmse:572.37687+13.59643\ttest-rmse:888.06517+62.16637\n",
            "[1000]\ttrain-rmse:556.93005+13.48908\ttest-rmse:883.02177+61.73532\n",
            "[1050]\ttrain-rmse:542.45606+13.27565\ttest-rmse:878.98639+61.72896\n",
            "[1100]\ttrain-rmse:528.89413+13.11807\ttest-rmse:875.76444+61.77125\n",
            "[1150]\ttrain-rmse:516.18870+13.02189\ttest-rmse:872.83377+61.69451\n",
            "[1200]\ttrain-rmse:504.48784+12.95052\ttest-rmse:870.15157+61.89324\n",
            "[1250]\ttrain-rmse:493.45902+13.11165\ttest-rmse:867.63267+61.81733\n",
            "[1300]\ttrain-rmse:483.53165+12.95295\ttest-rmse:865.34338+61.75440\n",
            "[1350]\ttrain-rmse:474.13159+12.89256\ttest-rmse:863.49233+61.73485\n",
            "[1400]\ttrain-rmse:464.65063+12.75704\ttest-rmse:861.79184+61.87979\n",
            "[1450]\ttrain-rmse:455.83313+12.52606\ttest-rmse:860.62470+61.72605\n",
            "[1500]\ttrain-rmse:447.06203+12.13905\ttest-rmse:859.41538+61.73953\n",
            "[1550]\ttrain-rmse:438.93418+11.82774\ttest-rmse:858.34384+61.87373\n",
            "[1600]\ttrain-rmse:431.43050+11.64095\ttest-rmse:857.49978+61.61383\n",
            "[1650]\ttrain-rmse:423.53307+11.54410\ttest-rmse:856.73233+61.55469\n",
            "[1700]\ttrain-rmse:416.20816+11.42228\ttest-rmse:855.83317+61.29205\n",
            "[1750]\ttrain-rmse:409.15807+11.40317\ttest-rmse:855.09548+61.25563\n",
            "[1800]\ttrain-rmse:402.06584+11.23441\ttest-rmse:854.78637+61.31637\n",
            "[1850]\ttrain-rmse:395.61045+11.11470\ttest-rmse:854.14352+61.32531\n",
            "[1900]\ttrain-rmse:389.14261+10.93029\ttest-rmse:853.50641+61.05601\n",
            "[1950]\ttrain-rmse:382.89642+10.84357\ttest-rmse:852.95991+61.12580\n",
            "[2000]\ttrain-rmse:376.79486+10.63606\ttest-rmse:852.48499+60.99083\n",
            "[2050]\ttrain-rmse:371.03237+10.30439\ttest-rmse:851.85745+60.98596\n",
            "[2100]\ttrain-rmse:365.12991+10.21303\ttest-rmse:851.43552+61.12601\n",
            "[2150]\ttrain-rmse:359.40508+10.07422\ttest-rmse:850.90841+61.05601\n",
            "[2185]\ttrain-rmse:355.46389+9.91978\ttest-rmse:850.79941+61.09784\n"
          ]
        },
        {
          "output_type": "stream",
          "name": "stderr",
          "text": [
            "[I 2025-01-28 17:55:09,908] Trial 98 finished with value: 850.798892326927 and parameters: {'booster': 'gbtree', 'learning_rate': 0.004055036456389516, 'max_depth': 10, 'gamma': 0.002007459350804415, 'subsample': 0.702287964776115, 'reg_alpha': 2.235454968993667e-07, 'reg_lambda': 0.5279218833635717, 'colsample_bytree': 0.469751878832235, 'min_child_weight': 7, 'n_estimators': 3430}. Best is trial 88 with value: 823.939288240677.\n"
          ]
        },
        {
          "output_type": "stream",
          "name": "stdout",
          "text": [
            "[0]\ttrain-rmse:1819.42608+29.24845\ttest-rmse:1815.94282+122.93704\n",
            "[50]\ttrain-rmse:1631.91451+23.49806\ttest-rmse:1647.47816+107.41180\n",
            "[100]\ttrain-rmse:1472.72499+19.56530\ttest-rmse:1506.69297+94.62484\n",
            "[150]\ttrain-rmse:1338.00624+17.11444\ttest-rmse:1391.05492+84.95759\n",
            "[200]\ttrain-rmse:1222.64788+15.24362\ttest-rmse:1294.57767+78.54952\n",
            "[250]\ttrain-rmse:1127.28934+13.69476\ttest-rmse:1218.36197+74.62693\n",
            "[300]\ttrain-rmse:1043.25303+13.41855\ttest-rmse:1153.38795+72.37669\n",
            "[350]\ttrain-rmse:971.98091+12.91367\ttest-rmse:1099.36607+71.30992\n",
            "[400]\ttrain-rmse:909.69870+12.51565\ttest-rmse:1054.50913+70.94366\n",
            "[450]\ttrain-rmse:855.93704+12.79865\ttest-rmse:1017.24716+70.94947\n",
            "[500]\ttrain-rmse:809.86638+12.55421\ttest-rmse:987.00878+72.30148\n",
            "[550]\ttrain-rmse:770.32605+12.16681\ttest-rmse:962.51241+72.62099\n",
            "[600]\ttrain-rmse:734.48999+12.68991\ttest-rmse:941.20454+72.59865\n",
            "[650]\ttrain-rmse:702.80790+12.61252\ttest-rmse:923.56614+73.01688\n",
            "[700]\ttrain-rmse:675.60661+12.77190\ttest-rmse:910.51547+73.25355\n",
            "[750]\ttrain-rmse:651.15570+12.84889\ttest-rmse:898.89573+73.00419\n",
            "[800]\ttrain-rmse:629.51206+12.91074\ttest-rmse:889.00860+73.43928\n",
            "[850]\ttrain-rmse:609.74525+13.07572\ttest-rmse:880.97326+74.01493\n",
            "[900]\ttrain-rmse:592.01211+13.26478\ttest-rmse:873.71807+74.29739\n",
            "[950]\ttrain-rmse:575.53149+13.21600\ttest-rmse:867.51927+74.47151\n",
            "[1000]\ttrain-rmse:560.67586+13.40764\ttest-rmse:862.69858+74.21585\n",
            "[1050]\ttrain-rmse:547.26509+13.47148\ttest-rmse:858.60081+74.28496\n",
            "[1100]\ttrain-rmse:534.96300+13.55070\ttest-rmse:855.11843+74.25363\n",
            "[1150]\ttrain-rmse:523.49293+13.61395\ttest-rmse:852.11256+74.06289\n",
            "[1200]\ttrain-rmse:512.53360+13.68576\ttest-rmse:849.34852+73.95040\n",
            "[1250]\ttrain-rmse:502.38228+13.93269\ttest-rmse:847.10484+73.75649\n",
            "[1300]\ttrain-rmse:492.55241+13.92511\ttest-rmse:845.03981+73.48280\n",
            "[1350]\ttrain-rmse:483.43938+13.73802\ttest-rmse:843.40569+73.55498\n",
            "[1400]\ttrain-rmse:474.53650+13.72598\ttest-rmse:841.95777+73.48004\n",
            "[1450]\ttrain-rmse:465.96175+13.56339\ttest-rmse:840.67959+73.60060\n",
            "[1500]\ttrain-rmse:457.82401+13.39505\ttest-rmse:839.52066+73.74842\n",
            "[1550]\ttrain-rmse:450.02558+13.22273\ttest-rmse:838.15379+73.80046\n",
            "[1600]\ttrain-rmse:442.30889+12.94418\ttest-rmse:837.00483+73.72821\n",
            "[1650]\ttrain-rmse:435.05589+12.96977\ttest-rmse:836.43409+73.62958\n",
            "[1700]\ttrain-rmse:428.04323+12.85231\ttest-rmse:835.52108+73.28295\n",
            "[1750]\ttrain-rmse:420.96879+12.66720\ttest-rmse:834.61124+73.35282\n",
            "[1800]\ttrain-rmse:414.34167+12.41240\ttest-rmse:833.78788+73.39196\n",
            "[1850]\ttrain-rmse:407.75232+12.16452\ttest-rmse:833.21421+73.53855\n",
            "[1900]\ttrain-rmse:401.35417+12.08009\ttest-rmse:832.57885+73.44312\n",
            "[1950]\ttrain-rmse:395.17039+11.85136\ttest-rmse:831.95867+73.40110\n",
            "[2000]\ttrain-rmse:389.11355+11.61561\ttest-rmse:831.40370+73.24217\n",
            "[2050]\ttrain-rmse:383.28432+11.41381\ttest-rmse:830.72441+73.16152\n",
            "[2100]\ttrain-rmse:377.47313+11.21192\ttest-rmse:830.24975+72.98485\n",
            "[2150]\ttrain-rmse:371.80002+11.00936\ttest-rmse:829.88699+72.93171\n",
            "[2200]\ttrain-rmse:366.26377+10.83446\ttest-rmse:829.56526+72.86962\n",
            "[2250]\ttrain-rmse:360.98410+10.48765\ttest-rmse:829.33265+72.76379\n",
            "[2300]\ttrain-rmse:355.86185+10.38459\ttest-rmse:828.88347+72.68971\n",
            "[2345]\ttrain-rmse:351.07645+10.24889\ttest-rmse:828.69788+72.62616\n"
          ]
        },
        {
          "output_type": "stream",
          "name": "stderr",
          "text": [
            "[I 2025-01-28 17:56:24,449] Trial 99 finished with value: 828.6769339591692 and parameters: {'booster': 'gbtree', 'learning_rate': 0.003231974549321658, 'max_depth': 10, 'gamma': 0.006205134437723041, 'subsample': 0.6179305125490046, 'reg_alpha': 1.2427185646027823e-06, 'reg_lambda': 0.2865774729961961, 'colsample_bytree': 0.8486046984969484, 'min_child_weight': 6, 'n_estimators': 2799}. Best is trial 88 with value: 823.939288240677.\n"
          ]
        },
        {
          "output_type": "stream",
          "name": "stdout",
          "text": [
            "Best hyperparameters: {'booster': 'gbtree', 'learning_rate': 0.0035209961607260945, 'max_depth': 9, 'gamma': 0.009596716772915171, 'subsample': 0.709187029135732, 'reg_alpha': 1.6638871630185252e-07, 'reg_lambda': 0.1951894062259646, 'colsample_bytree': 0.816001373149942, 'min_child_weight': 7, 'n_estimators': 3041}\n"
          ]
        }
      ],
      "source": [
        "\n",
        "# Define the objective function for Optuna\n",
        "def objective(trial):\n",
        "    # Hyperparameter search space\n",
        "    params = {\n",
        "        'verbosity': 0,\n",
        "        'booster': trial.suggest_categorical('booster', ['gbtree']),\n",
        "        'objective': 'reg:squarederror',  # Regression objective\n",
        "        'eval_metric': 'rmse',            # Root Mean Squared Error\n",
        "        'learning_rate': trial.suggest_float('learning_rate', 1e-3, 0.3, log=True),\n",
        "        'max_depth': trial.suggest_int('max_depth', 3, 10),\n",
        "        'gamma': trial.suggest_float('gamma', 1e-8, 1.0, log=True),\n",
        "        'subsample': trial.suggest_float('subsample', 0.2, 1.0),\n",
        "        'reg_alpha': trial.suggest_float('reg_alpha', 1e-8, 1.0, log=True),\n",
        "        'reg_lambda': trial.suggest_float('reg_lambda', 1e-8, 1.0, log=True),\n",
        "        'colsample_bytree': trial.suggest_float('colsample_bytree', 0.2, 1.0),\n",
        "        'min_child_weight': trial.suggest_int('min_child_weight', 0, 10),\n",
        "        'n_estimators': trial.suggest_int('n_estimators', 1000, 5000),\n",
        "    }\n",
        "\n",
        "\n",
        "    # Cross-validation\n",
        "    cv_results = xgb.cv(\n",
        "        params=params,\n",
        "        dtrain=xgb.DMatrix(X_train, label=y_train),\n",
        "        nfold=5,\n",
        "        metrics='rmse',\n",
        "        num_boost_round=params['n_estimators'],\n",
        "        as_pandas=True,\n",
        "        verbose_eval=50,\n",
        "        early_stopping_rounds=20\n",
        "    )\n",
        "\n",
        "    return cv_results['test-rmse-mean'].iloc[-1]\n",
        "\n",
        "# Run Optuna optimization (minization problem)\n",
        "study = optuna.create_study(study_name=\"xgboost_model_study\", direction=\"minimize\")\n",
        "study.optimize(objective, n_trials=100)\n",
        "\n",
        "# Best hyperparameters\n",
        "print(\"Best hyperparameters:\", study.best_params)\n"
      ]
    },
    {
      "cell_type": "code",
      "execution_count": 32,
      "metadata": {
        "id": "JImowLD1Yqqs",
        "colab": {
          "base_uri": "https://localhost:8080/",
          "height": 211
        },
        "outputId": "3012e8fb-62d5-4f8d-e5d9-ecbb1dcb7708"
      },
      "outputs": [
        {
          "output_type": "error",
          "ename": "NameError",
          "evalue": "name 'dtrain_malaria' is not defined",
          "traceback": [
            "\u001b[0;31m---------------------------------------------------------------------------\u001b[0m",
            "\u001b[0;31mNameError\u001b[0m                                 Traceback (most recent call last)",
            "\u001b[0;32m<ipython-input-32-a8c907746ca8>\u001b[0m in \u001b[0;36m<cell line: 0>\u001b[0;34m()\u001b[0m\n\u001b[1;32m      3\u001b[0m     \u001b[0mxgb\u001b[0m\u001b[0;34m.\u001b[0m\u001b[0mDMatrix\u001b[0m\u001b[0;34m(\u001b[0m\u001b[0mX_train\u001b[0m\u001b[0;34m,\u001b[0m \u001b[0mlabel\u001b[0m\u001b[0;34m=\u001b[0m\u001b[0my_train\u001b[0m\u001b[0;34m)\u001b[0m\u001b[0;34m,\u001b[0m\u001b[0;34m\u001b[0m\u001b[0;34m\u001b[0m\u001b[0m\n\u001b[1;32m      4\u001b[0m     \u001b[0mnum_boost_round\u001b[0m\u001b[0;34m=\u001b[0m\u001b[0mstudy\u001b[0m\u001b[0;34m.\u001b[0m\u001b[0mbest_params\u001b[0m\u001b[0;34m[\u001b[0m\u001b[0;34m\"n_estimators\"\u001b[0m\u001b[0;34m]\u001b[0m\u001b[0;34m,\u001b[0m\u001b[0;34m\u001b[0m\u001b[0;34m\u001b[0m\u001b[0m\n\u001b[0;32m----> 5\u001b[0;31m     \u001b[0mevals\u001b[0m\u001b[0;34m=\u001b[0m\u001b[0;34m[\u001b[0m\u001b[0;34m(\u001b[0m\u001b[0mdtrain_malaria\u001b[0m\u001b[0;34m,\u001b[0m \u001b[0;34m'train'\u001b[0m\u001b[0;34m)\u001b[0m\u001b[0;34m,\u001b[0m \u001b[0;34m(\u001b[0m\u001b[0mdval_malaria\u001b[0m\u001b[0;34m,\u001b[0m \u001b[0;34m'val'\u001b[0m\u001b[0;34m)\u001b[0m\u001b[0;34m]\u001b[0m\u001b[0;34m,\u001b[0m\u001b[0;34m\u001b[0m\u001b[0;34m\u001b[0m\u001b[0m\n\u001b[0m\u001b[1;32m      6\u001b[0m     \u001b[0mverbose_eval\u001b[0m\u001b[0;34m=\u001b[0m\u001b[0;36m50\u001b[0m\u001b[0;34m\u001b[0m\u001b[0;34m\u001b[0m\u001b[0m\n\u001b[1;32m      7\u001b[0m )\n",
            "\u001b[0;31mNameError\u001b[0m: name 'dtrain_malaria' is not defined"
          ]
        }
      ],
      "source": [
        "# Here we will use the best parameters to train the model\n",
        "best_model = xgb.train(\n",
        "    study.best_params,\n",
        "    xgb.DMatrix(X_train, label=y_train),\n",
        "    num_boost_round=study.best_params[\"n_estimators\"],\n",
        "    # evals=[(dtrain_malaria, 'train'), (dval_malaria, 'val')],\n",
        "    verbose_eval=50\n",
        ")\n"
      ]
    },
    {
      "cell_type": "code",
      "execution_count": null,
      "metadata": {
        "id": "JlllrQxSYUYx"
      },
      "outputs": [],
      "source": []
    }
  ],
  "metadata": {
    "colab": {
      "provenance": [],
      "authorship_tag": "ABX9TyNt8m5OSzEPalajwICAthJn",
      "include_colab_link": true
    },
    "kernelspec": {
      "display_name": "Python 3",
      "name": "python3"
    },
    "language_info": {
      "name": "python"
    }
  },
  "nbformat": 4,
  "nbformat_minor": 0
}