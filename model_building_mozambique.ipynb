{
  "nbformat": 4,
  "nbformat_minor": 0,
  "metadata": {
    "colab": {
      "provenance": [],
      "authorship_tag": "ABX9TyMXUH+2Tfej7BjNM+BOsyCu",
      "include_colab_link": true
    },
    "kernelspec": {
      "name": "python3",
      "display_name": "Python 3"
    },
    "language_info": {
      "name": "python"
    }
  },
  "cells": [
    {
      "cell_type": "markdown",
      "metadata": {
        "id": "view-in-github",
        "colab_type": "text"
      },
      "source": [
        "<a href=\"https://colab.research.google.com/github/DHarley22/Prediction_case_malaria_mozambique/blob/1-xgboost-predictor-python-version/model_building_mozambique.ipynb\" target=\"_parent\"><img src=\"https://colab.research.google.com/assets/colab-badge.svg\" alt=\"Open In Colab\"/></a>"
      ]
    },
    {
      "cell_type": "code",
      "source": [
        "%%capture\n",
        "!pip install gdown\n"
      ],
      "metadata": {
        "id": "fu6o2lfcAlIL"
      },
      "execution_count": 34,
      "outputs": []
    },
    {
      "cell_type": "code",
      "source": [
        "import pandas as pd\n",
        "import seaborn as sns\n",
        "import matplotlib.pyplot as plt\n",
        "import geopandas as gpd\n",
        "import os\n",
        "import numpy as np\n",
        "import xgboost as xgb\n",
        "import sklearn\n",
        "import gdown\n",
        "from sklearn.metrics import mean_squared_error\n",
        "from sklearn.model_selection import train_test_split as split_into_two\n",
        "from sklearn.model_selection import GridSearchCV\n",
        "from sklearn.model_selection import RandomizedSearchCV\n",
        "from xgboost import XGBRegressor"
      ],
      "metadata": {
        "id": "fsGy-x_dKNg_"
      },
      "execution_count": 35,
      "outputs": []
    },
    {
      "cell_type": "code",
      "source": [
        "%%capture\n",
        "\n",
        "# The mozambique dataset is hosted here\n",
        "# https://drive.google.com/file/d/1uHGOjxlxfDYY5E-aL9HVRGvheDa_wNyq/view?usp=sharing\n",
        "dataset_drive_id = '1uHGOjxlxfDYY5E-aL9HVRGvheDa_wNyq'\n",
        "dataset_output_file = 'downloaded_sheet.xlsx'\n",
        "\n",
        "# The shape file relatd to the dataset is hosted here\n",
        "# https://drive.google.com/drive/folders/14UJ7ZXWmNeL28sYAv6dObNsC42kQr4Ja?usp=sharing\n",
        "shape_file_drive_id = '14UJ7ZXWmNeL28sYAv6dObNsC42kQr4Ja'\n",
        "shape_output_folder = 'shape_files'\n",
        "\n",
        "gdown.download_folder(id=shape_file_drive_id, output=shape_output_folder, quiet=False)\n",
        "gdown.download(id=dataset_drive_id, output=dataset_output_file, quiet=False)\n"
      ],
      "metadata": {
        "id": "J9IVzC6Gs1Ts"
      },
      "execution_count": 36,
      "outputs": []
    },
    {
      "cell_type": "code",
      "source": [
        "dataset = pd.read_csv(f\"/content/{dataset_output_file}\")\n",
        "shape_file = gpd.read_file(f\"/content/{shape_output_folder}/shape_file.shp\")"
      ],
      "metadata": {
        "id": "P9k5GuvpByKZ"
      },
      "execution_count": 37,
      "outputs": []
    },
    {
      "cell_type": "code",
      "source": [
        "# (Left) join the dataset to the shape_file using the \"district\" field\n",
        "shaped_dataset = dataset.merge(\n",
        "    shape_file[[\"district\", \"geometry\"]],\n",
        "    on=\"district\",\n",
        "    how=\"left\"\n",
        ")\n",
        "\n",
        "# Convert the Dataframe into GeoDataframe and add some fields to it\n",
        "shaped_dataset =  gpd.GeoDataFrame(shaped_dataset, geometry=\"geometry\")\n",
        "\n",
        "shaped_dataset[\"area\"] = shaped_dataset.geometry.area\n",
        "shaped_dataset[\"centroid_x\"] = shaped_dataset.geometry.centroid.x\n",
        "shaped_dataset[\"centroid_y\"] = shaped_dataset.geometry.centroid.y"
      ],
      "metadata": {
        "colab": {
          "base_uri": "https://localhost:8080/"
        },
        "id": "tUNZjBi7thRj",
        "outputId": "962a6f60-ee05-416d-fa76-4c2fedec1d04"
      },
      "execution_count": 38,
      "outputs": [
        {
          "output_type": "stream",
          "name": "stderr",
          "text": [
            "<ipython-input-38-6078cb333f54>:11: UserWarning: Geometry is in a geographic CRS. Results from 'area' are likely incorrect. Use 'GeoSeries.to_crs()' to re-project geometries to a projected CRS before this operation.\n",
            "\n",
            "  shaped_dataset[\"area\"] = shaped_dataset.geometry.area\n",
            "<ipython-input-38-6078cb333f54>:12: UserWarning: Geometry is in a geographic CRS. Results from 'centroid' are likely incorrect. Use 'GeoSeries.to_crs()' to re-project geometries to a projected CRS before this operation.\n",
            "\n",
            "  shaped_dataset[\"centroid_x\"] = shaped_dataset.geometry.centroid.x\n",
            "<ipython-input-38-6078cb333f54>:13: UserWarning: Geometry is in a geographic CRS. Results from 'centroid' are likely incorrect. Use 'GeoSeries.to_crs()' to re-project geometries to a projected CRS before this operation.\n",
            "\n",
            "  shaped_dataset[\"centroid_y\"] = shaped_dataset.geometry.centroid.y\n"
          ]
        }
      ]
    },
    {
      "cell_type": "markdown",
      "source": [
        "### Missing data handling\n",
        "\n",
        "Rules:\n",
        "\n",
        "- If {some condition} then {we do this}\n",
        "- If {some condition} then {we do this}"
      ],
      "metadata": {
        "id": "47PSjVojDF-6"
      }
    },
    {
      "cell_type": "code",
      "source": [
        "# Handle missing data\n",
        "# TODO:"
      ],
      "metadata": {
        "id": "A01_UuzSs75x"
      },
      "execution_count": 39,
      "outputs": []
    },
    {
      "cell_type": "markdown",
      "source": [
        "### Test/Val/Test Split\n",
        "\n",
        "Rules:\n",
        "\n",
        "- We will use\n"
      ],
      "metadata": {
        "id": "NCmA-ipMEWFE"
      }
    },
    {
      "cell_type": "code",
      "source": [
        "TARGET_DISEASE_FIELD = \"malaria_cases_u5\"\n",
        "\n",
        "\n",
        "# Relevant features\n",
        "relevant_features = [\n",
        "    # Environemental features\n",
        "    'tmin', 'tmax', 'precipitation', 'ndvi','RH',\n",
        "    # Socio-economic features\n",
        "    'prop_poor', 'prop_Rural', 'prop_drinking_TreatedWater',\n",
        "    # Spatial features\n",
        "     'centroid_x', 'centroid_y'\n",
        "]\n",
        "\n",
        "# Test dataset predicate; use lines between March and June for testing\n",
        "test_data_predicate = (shaped_dataset['year'] == 2018) & (shaped_dataset['month'].between(3, 6))\n",
        "\n",
        "# Test dataset\n",
        "X_test = shaped_dataset[test_data_predicate][relevant_features]\n",
        "y_test = shaped_dataset[test_data_predicate][TARGET_DISEASE_FIELD]\n",
        "\n",
        "# The rest of the dataset separated as X, y\n",
        "X = shaped_dataset[~test_data_predicate][relevant_features]\n",
        "y = shaped_dataset[~test_data_predicate][TARGET_DISEASE_FIELD]\n",
        "\n",
        "print(X.shape, y.shape)\n",
        "X_train, X_val, y_train, y_val = split_into_two(X, y, test_size=0.3, random_state=42)\n",
        "\n",
        "\n"
      ],
      "metadata": {
        "colab": {
          "base_uri": "https://localhost:8080/"
        },
        "id": "Cb7_FcyEs5MR",
        "outputId": "fe2e47ed-2a94-4407-c43f-942e0c70c627"
      },
      "execution_count": 43,
      "outputs": [
        {
          "output_type": "stream",
          "name": "stdout",
          "text": [
            "(5088, 10) (5088,)\n"
          ]
        }
      ]
    },
    {
      "cell_type": "code",
      "source": [
        "!pip install --upgrade xgboost scikit-learn"
      ],
      "metadata": {
        "colab": {
          "base_uri": "https://localhost:8080/"
        },
        "id": "xQK_JQDJbInS",
        "outputId": "a0184a13-e41e-435d-ae8d-d4d0fec7ae5e"
      },
      "execution_count": 46,
      "outputs": [
        {
          "output_type": "stream",
          "name": "stdout",
          "text": [
            "Requirement already satisfied: xgboost in /usr/local/lib/python3.11/dist-packages (2.1.3)\n",
            "Requirement already satisfied: scikit-learn in /usr/local/lib/python3.11/dist-packages (1.6.1)\n",
            "Requirement already satisfied: numpy in /usr/local/lib/python3.11/dist-packages (from xgboost) (1.26.4)\n",
            "Requirement already satisfied: nvidia-nccl-cu12 in /usr/local/lib/python3.11/dist-packages (from xgboost) (2.21.5)\n",
            "Requirement already satisfied: scipy in /usr/local/lib/python3.11/dist-packages (from xgboost) (1.13.1)\n",
            "Requirement already satisfied: joblib>=1.2.0 in /usr/local/lib/python3.11/dist-packages (from scikit-learn) (1.4.2)\n",
            "Requirement already satisfied: threadpoolctl>=3.1.0 in /usr/local/lib/python3.11/dist-packages (from scikit-learn) (3.5.0)\n"
          ]
        }
      ]
    },
    {
      "cell_type": "code",
      "source": [
        "import xgboost as xgb\n",
        "\n",
        "# Convert data to DMatrix\n",
        "dtrain = xgb.DMatrix(X_train, label=y_train)\n",
        "\n",
        "# Set parameter grid\n",
        "param_grid = [\n",
        "    {'max_depth': 3, 'learning_rate': 0.1, 'n_estimators': 100},\n",
        "    {'max_depth': 5, 'learning_rate': 0.01, 'n_estimators': 500},\n",
        "    # Add more combinations as needed\n",
        "]\n",
        "\n",
        "# Evaluate models\n",
        "best_params = None\n",
        "best_rmse = float('inf')\n",
        "for params in param_grid:\n",
        "    cv_results = xgb.cv(\n",
        "        params=params,\n",
        "        dtrain=dtrain,\n",
        "        num_boost_round=500,\n",
        "        nfold=5,\n",
        "        metrics='rmse',\n",
        "        early_stopping_rounds=50\n",
        "    )\n",
        "    mean_rmse = cv_results['test-rmse-mean'].min()\n",
        "    if mean_rmse < best_rmse:\n",
        "        best_rmse = mean_rmse\n",
        "        best_params = params\n",
        "\n",
        "print(\"Best Parameters:\", best_params)\n",
        "print(\"Best RMSE:\", best_rmse)\n"
      ],
      "metadata": {
        "colab": {
          "base_uri": "https://localhost:8080/"
        },
        "id": "MYdLvVWsUPo4",
        "outputId": "aee16663-25b6-48ab-c077-b307d9a496d6"
      },
      "execution_count": 52,
      "outputs": [
        {
          "output_type": "stream",
          "name": "stderr",
          "text": [
            "/usr/local/lib/python3.11/dist-packages/xgboost/core.py:158: UserWarning: [01:15:51] WARNING: /workspace/src/learner.cc:740: \n",
            "Parameters: { \"n_estimators\" } are not used.\n",
            "\n",
            "  warnings.warn(smsg, UserWarning)\n",
            "/usr/local/lib/python3.11/dist-packages/xgboost/core.py:158: UserWarning: [01:15:55] WARNING: /workspace/src/learner.cc:740: \n",
            "Parameters: { \"n_estimators\" } are not used.\n",
            "\n",
            "  warnings.warn(smsg, UserWarning)\n"
          ]
        },
        {
          "output_type": "stream",
          "name": "stdout",
          "text": [
            "Best Parameters: {'max_depth': 3, 'learning_rate': 0.1, 'n_estimators': 100}\n",
            "Best RMSE: 879.7314672992077\n"
          ]
        }
      ]
    },
    {
      "cell_type": "code",
      "source": [
        "# xgb_cv_malaria = xgb.cv(\n",
        "#     params=params,\n",
        "#     dtrain=dtrain_malaria,\n",
        "#     nfold=5,                      # 5-fold cross-validation\n",
        "#     num_boost_round=5000,         # Maximum boosting rounds\n",
        "#     early_stopping_rounds=150,    # Stop if no improvement for 150 rounds\n",
        "#     metrics='rmse',               # Use RMSE for evaluation\n",
        "#     as_pandas=True,               # Return results as a DataFrame\n",
        "#     seed=0,\n",
        "#     verbose_eval=50               # Print evaluation every 50 rounds\n",
        "# )\n",
        "\n",
        "# # Optimal number of boosting rounds\n",
        "# best_boost_rounds = len(xgb_cv_malaria)\n",
        "# print(f\"Optimal Number of Rounds: {best_boost_rounds}\")\n",
        "\n",
        "# # Train final model with early stopping results\n",
        "# bst_malaria = xgb.train(\n",
        "#     params,\n",
        "#     dtrain_malaria,\n",
        "#     num_boost_round=best_boost_rounds,\n",
        "#     evals=[(dtrain_malaria, 'train'), (dval_malaria, 'val')],\n",
        "#     verbose_eval=50\n",
        "# )\n"
      ],
      "metadata": {
        "id": "JImowLD1Yqqs"
      },
      "execution_count": null,
      "outputs": []
    },
    {
      "cell_type": "code",
      "source": [],
      "metadata": {
        "id": "JlllrQxSYUYx"
      },
      "execution_count": null,
      "outputs": []
    }
  ]
}