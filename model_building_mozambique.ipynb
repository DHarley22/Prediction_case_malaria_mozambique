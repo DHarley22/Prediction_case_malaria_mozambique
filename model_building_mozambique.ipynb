{
  "cells": [
    {
      "cell_type": "markdown",
      "metadata": {
        "id": "view-in-github",
        "colab_type": "text"
      },
      "source": [
        "<a href=\"https://colab.research.google.com/github/DHarley22/Prediction_case_malaria_mozambique/blob/1-xgboost-predictor-python-version/model_building_mozambique.ipynb\" target=\"_parent\"><img src=\"https://colab.research.google.com/assets/colab-badge.svg\" alt=\"Open In Colab\"/></a>"
      ]
    },
    {
      "cell_type": "code",
      "execution_count": 1,
      "metadata": {
        "id": "fu6o2lfcAlIL"
      },
      "outputs": [],
      "source": [
        "%%capture\n",
        "!pip install gdown optuna\n"
      ]
    },
    {
      "cell_type": "code",
      "execution_count": 2,
      "metadata": {
        "id": "fsGy-x_dKNg_"
      },
      "outputs": [],
      "source": [
        "import pandas as pd\n",
        "import seaborn as sns\n",
        "import matplotlib.pyplot as plt\n",
        "import geopandas as gpd\n",
        "import os\n",
        "import numpy as np\n",
        "import xgboost as xgb\n",
        "import sklearn\n",
        "import gdown\n",
        "import optuna\n",
        "from sklearn.metrics import mean_squared_error\n",
        "from sklearn.model_selection import train_test_split as split_into_two\n",
        "from sklearn.model_selection import GridSearchCV\n",
        "from sklearn.model_selection import RandomizedSearchCV\n",
        "from sklearn.model_selection import cross_val_score\n",
        "from sklearn.model_selection import KFold\n",
        "from xgboost import XGBRegressor"
      ]
    },
    {
      "cell_type": "code",
      "execution_count": 3,
      "metadata": {
        "id": "J9IVzC6Gs1Ts"
      },
      "outputs": [],
      "source": [
        "%%capture\n",
        "\n",
        "# The mozambique dataset is hosted here\n",
        "# https://drive.google.com/file/d/1uHGOjxlxfDYY5E-aL9HVRGvheDa_wNyq/view?usp=sharing\n",
        "dataset_drive_id = '1uHGOjxlxfDYY5E-aL9HVRGvheDa_wNyq'\n",
        "dataset_output_file = 'downloaded_sheet.xlsx'\n",
        "\n",
        "# The shape file relatd to the dataset is hosted here\n",
        "# https://drive.google.com/drive/folders/14UJ7ZXWmNeL28sYAv6dObNsC42kQr4Ja?usp=sharing\n",
        "shape_file_drive_id = '14UJ7ZXWmNeL28sYAv6dObNsC42kQr4Ja'\n",
        "shape_output_folder = 'shape_files'\n",
        "\n",
        "gdown.download_folder(id=shape_file_drive_id, output=shape_output_folder, quiet=False)\n",
        "gdown.download(id=dataset_drive_id, output=dataset_output_file, quiet=False)\n"
      ]
    },
    {
      "cell_type": "code",
      "execution_count": 4,
      "metadata": {
        "id": "P9k5GuvpByKZ"
      },
      "outputs": [],
      "source": [
        "dataset = pd.read_csv(f\"/content/{dataset_output_file}\")\n",
        "shape_file = gpd.read_file(f\"/content/{shape_output_folder}/shape_file.shp\")"
      ]
    },
    {
      "cell_type": "code",
      "execution_count": 5,
      "metadata": {
        "id": "tUNZjBi7thRj"
      },
      "outputs": [],
      "source": [
        "# (Left) join the dataset to the shape_file using the \"district\" field\n",
        "shaped_dataset = dataset.merge(\n",
        "    shape_file[[\"district\", \"geometry\"]],\n",
        "    on=\"district\",\n",
        "    how=\"left\"\n",
        ")\n",
        "\n",
        "# Convert the Dataframe into GeoDataframe and add some fields to it\n",
        "shaped_dataset =  gpd.GeoDataFrame(shaped_dataset, geometry=\"geometry\")\n",
        "\n",
        "shaped_dataset = shaped_dataset.to_crs(epsg=3857)\n",
        "\n",
        "# Calculate the area and centroid using the projected CRS\n",
        "shaped_dataset[\"area\"] = shaped_dataset.geometry.area\n",
        "shaped_dataset[\"centroid_x\"] = shaped_dataset.geometry.centroid.x\n",
        "shaped_dataset[\"centroid_y\"] = shaped_dataset.geometry.centroid.y"
      ]
    },
    {
      "cell_type": "markdown",
      "metadata": {
        "id": "47PSjVojDF-6"
      },
      "source": [
        "### Missing data handling\n",
        "\n",
        "Rules:\n",
        "\n",
        "- If {some condition} then {we do this}\n",
        "- If {some condition} then {we do this}"
      ]
    },
    {
      "cell_type": "code",
      "execution_count": 6,
      "metadata": {
        "id": "A01_UuzSs75x"
      },
      "outputs": [],
      "source": [
        "# Handle missing data\n",
        "# TODO:"
      ]
    },
    {
      "cell_type": "markdown",
      "metadata": {
        "id": "NCmA-ipMEWFE"
      },
      "source": [
        "### Test/Val/Test Split\n",
        "\n",
        "Rules:\n",
        "\n",
        "- We will use\n"
      ]
    },
    {
      "cell_type": "code",
      "execution_count": 7,
      "metadata": {
        "colab": {
          "base_uri": "https://localhost:8080/"
        },
        "id": "Cb7_FcyEs5MR",
        "outputId": "c0cf97f6-011d-4f55-fb3e-31b92f7c3169"
      },
      "outputs": [
        {
          "output_type": "stream",
          "name": "stdout",
          "text": [
            "(5088, 10) (5088,)\n"
          ]
        }
      ],
      "source": [
        "TARGET_DISEASE_FIELD = \"malaria_cases_u5\"\n",
        "\n",
        "\n",
        "# Relevant features\n",
        "relevant_features = [\n",
        "    # Environemental features\n",
        "    'tmin', 'tmax', 'precipitation', 'ndvi','RH',\n",
        "    # Socio-economic features\n",
        "    'prop_poor', 'prop_Rural', 'prop_drinking_TreatedWater',\n",
        "    # Spatial features\n",
        "     'centroid_x', 'centroid_y'\n",
        "]\n",
        "\n",
        "# Test dataset predicate; use lines between March and June for testing\n",
        "test_data_predicate = (shaped_dataset['year'] == 2018) & (shaped_dataset['month'].between(3, 6))\n",
        "\n",
        "# Test dataset\n",
        "X_test = shaped_dataset[test_data_predicate][relevant_features]\n",
        "y_test = shaped_dataset[test_data_predicate][TARGET_DISEASE_FIELD]\n",
        "\n",
        "# The rest of the dataset separated as X, y\n",
        "X = shaped_dataset[~test_data_predicate][relevant_features]\n",
        "y = shaped_dataset[~test_data_predicate][TARGET_DISEASE_FIELD]\n",
        "\n",
        "print(X.shape, y.shape)\n",
        "X_train, X_val, y_train, y_val = split_into_two(X, y, test_size=0.3, random_state=42)\n",
        "\n",
        "\n"
      ]
    },
    {
      "cell_type": "code",
      "source": [
        "def objective(trial: optuna.Trial) -> float:\n",
        "    x = trial.suggest_float(\"x\", -5, 5)\n",
        "    y = trial.suggest_float(\"y\", -5, 5)\n",
        "    return x**2 + y**2\n",
        "\n",
        "\n",
        "# module = optunahub.load_module(package=\"samplers/auto_sampler\")\n",
        "# study = optuna.create_study(sampler=module.AutoSampler())\n",
        "study = optuna.create_study()\n",
        "\n",
        "study.optimize(objective, n_trials=10)\n",
        "\n",
        "print(study.best_trial.value, study.best_trial.params)"
      ],
      "metadata": {
        "colab": {
          "base_uri": "https://localhost:8080/"
        },
        "id": "E5d8liAMSxIA",
        "outputId": "c56f32af-3069-4571-f5a7-d0f5c879dc2f"
      },
      "execution_count": 9,
      "outputs": [
        {
          "output_type": "stream",
          "name": "stderr",
          "text": [
            "[I 2025-01-28 14:24:22,943] A new study created in memory with name: no-name-55269359-6bf0-48a3-92f7-7bb08cd63e67\n",
            "[I 2025-01-28 14:24:22,948] Trial 0 finished with value: 22.49027132418556 and parameters: {'x': 0.7306398637570002, 'y': 4.6857695967337865}. Best is trial 0 with value: 22.49027132418556.\n",
            "[I 2025-01-28 14:24:22,952] Trial 1 finished with value: 14.056700057359325 and parameters: {'x': 3.3899831368128694, 'y': 1.6014725690700118}. Best is trial 1 with value: 14.056700057359325.\n",
            "[I 2025-01-28 14:24:22,956] Trial 2 finished with value: 18.992867507613074 and parameters: {'x': -3.3314086394111717, 'y': -2.8097302334689855}. Best is trial 1 with value: 14.056700057359325.\n",
            "[I 2025-01-28 14:24:22,958] Trial 3 finished with value: 1.9205653153291942 and parameters: {'x': -1.1102004951576072, 'y': 0.8294698161361858}. Best is trial 3 with value: 1.9205653153291942.\n",
            "[I 2025-01-28 14:24:22,961] Trial 4 finished with value: 8.344014770453134 and parameters: {'x': 2.5562116575678413, 'y': -1.3452868586912614}. Best is trial 3 with value: 1.9205653153291942.\n",
            "[I 2025-01-28 14:24:22,964] Trial 5 finished with value: 4.138905200505872 and parameters: {'x': 1.4571520481330102, 'y': 1.4197228987121555}. Best is trial 3 with value: 1.9205653153291942.\n",
            "[I 2025-01-28 14:24:22,966] Trial 6 finished with value: 29.498504062974106 and parameters: {'x': -4.569022351251136, 'y': -2.936415981556708}. Best is trial 3 with value: 1.9205653153291942.\n",
            "[I 2025-01-28 14:24:22,969] Trial 7 finished with value: 17.39608970711435 and parameters: {'x': -3.8260721439992142, 'y': -1.6605004233747147}. Best is trial 3 with value: 1.9205653153291942.\n",
            "[I 2025-01-28 14:24:22,974] Trial 8 finished with value: 5.963089197868884 and parameters: {'x': 0.8745211409815292, 'y': -2.279978502496295}. Best is trial 3 with value: 1.9205653153291942.\n",
            "[I 2025-01-28 14:24:22,976] Trial 9 finished with value: 12.648300722818579 and parameters: {'x': 2.1509932770776086, 'y': 2.832230330461403}. Best is trial 3 with value: 1.9205653153291942.\n"
          ]
        },
        {
          "output_type": "stream",
          "name": "stdout",
          "text": [
            "1.9205653153291942 {'x': -1.1102004951576072, 'y': 0.8294698161361858}\n"
          ]
        }
      ]
    },
    {
      "cell_type": "code",
      "source": [
        "# Base parameters for regression\n",
        "base_params = {\n",
        "    'verbosity': 0,\n",
        "    'booster': 'gbtree',\n",
        "    'objective': 'reg:squarederror',  # Regression objective\n",
        "    'eval_metric': 'rmse',            # Root Mean Squared Error\n",
        "}\n",
        "\n",
        "# Provided hyperparameters\n",
        "params = {\n",
        "    'learning_rate': 0.09963558437961703,\n",
        "    'max_depth': 4,\n",
        "    'gamma': 6.140489891496016e-05,\n",
        "    'subsample': 0.7329970919203579,\n",
        "    'reg_alpha': 1.5492015574694834e-05,\n",
        "    'reg_lambda': 0.002889192981174229,\n",
        "    'colsample_bytree': 0.7341652208091972,\n",
        "    'min_child_weight': 0,\n",
        "    'n_estimators': 443\n",
        "}\n",
        "\n",
        "# Update with base parameters\n",
        "params.update(base_params)\n",
        "print(\"Final Parameters:\", params)\n",
        "\n",
        "\n",
        "cv_results = xgb.cv(\n",
        "        params=params,\n",
        "        dtrain=xgb.DMatrix(X_train, label=y_train),\n",
        "        folds=KFold(n_splits=5),\n",
        "        metrics='rmse',\n",
        "        num_boost_round=50000,\n",
        "        as_pandas=True,\n",
        "        early_stopping_rounds=10,\n",
        "        verbose_eval=50,\n",
        "        seed=0,\n",
        "    )\n",
        "\n",
        "\n"
      ],
      "metadata": {
        "colab": {
          "base_uri": "https://localhost:8080/"
        },
        "id": "FgJeEa6wUc5Z",
        "outputId": "fa5b37b9-521c-46f8-889a-06dd1c9b9819"
      },
      "execution_count": 12,
      "outputs": [
        {
          "output_type": "stream",
          "name": "stdout",
          "text": [
            "Final Parameters: {'learning_rate': 0.09963558437961703, 'max_depth': 4, 'gamma': 6.140489891496016e-05, 'subsample': 0.7329970919203579, 'reg_alpha': 1.5492015574694834e-05, 'reg_lambda': 0.002889192981174229, 'colsample_bytree': 0.7341652208091972, 'min_child_weight': 0, 'n_estimators': 443, 'verbosity': 0, 'booster': 'gbtree', 'objective': 'reg:squarederror', 'eval_metric': 'rmse'}\n",
            "[0]\ttrain-rmse:1735.63164+29.99006\ttest-rmse:1734.40992+137.68426\n",
            "[50]\ttrain-rmse:866.11104+11.48655\ttest-rmse:1008.84925+56.91576\n",
            "[100]\ttrain-rmse:707.79288+13.81674\ttest-rmse:921.10594+50.70601\n",
            "[150]\ttrain-rmse:615.71407+12.47847\ttest-rmse:889.51619+49.38066\n",
            "[200]\ttrain-rmse:548.94559+10.11135\ttest-rmse:872.32877+49.65981\n",
            "[250]\ttrain-rmse:496.32228+7.22785\ttest-rmse:866.89885+47.99747\n",
            "[300]\ttrain-rmse:452.16041+6.59803\ttest-rmse:863.63021+47.93792\n",
            "[310]\ttrain-rmse:444.39670+6.46992\ttest-rmse:864.11956+47.63337\n"
          ]
        }
      ]
    },
    {
      "cell_type": "code",
      "execution_count": null,
      "metadata": {
        "colab": {
          "base_uri": "https://localhost:8080/"
        },
        "id": "MYdLvVWsUPo4",
        "outputId": "b4643aae-8adf-43a1-dc9c-a80b97132ca3"
      },
      "outputs": [
        {
          "output_type": "stream",
          "name": "stderr",
          "text": [
            "[I 2025-01-28 14:40:56,693] A new study created in memory with name: xgboost_model_study\n"
          ]
        },
        {
          "output_type": "stream",
          "name": "stdout",
          "text": [
            "[0]\ttrain-rmse:1823.06031+36.50767\ttest-rmse:1817.69878+149.91198\n",
            "[50]\ttrain-rmse:1818.67185+36.66557\ttest-rmse:1813.47115+150.02874\n",
            "[100]\ttrain-rmse:1814.94732+36.79940\ttest-rmse:1809.85389+150.36170\n",
            "[150]\ttrain-rmse:1811.65067+36.90678\ttest-rmse:1806.64505+150.73042\n",
            "[200]\ttrain-rmse:1808.70661+36.99169\ttest-rmse:1803.77944+151.08450\n",
            "[250]\ttrain-rmse:1806.06078+37.05793\ttest-rmse:1801.20582+151.41208\n",
            "[300]\ttrain-rmse:1803.66821+37.10868\ttest-rmse:1798.88046+151.71183\n",
            "[350]\ttrain-rmse:1801.49108+37.14671\ttest-rmse:1796.76606+151.98502\n",
            "[400]\ttrain-rmse:1799.49765+37.17424\ttest-rmse:1794.83123+152.23350\n",
            "[450]\ttrain-rmse:1797.66124+37.19320\ttest-rmse:1793.04967+152.45925\n",
            "[500]\ttrain-rmse:1795.95943+37.20513\ttest-rmse:1791.39939+152.66424\n",
            "[542]\ttrain-rmse:1794.62005+37.21068\ttest-rmse:1790.10078+152.82158\n"
          ]
        },
        {
          "output_type": "stream",
          "name": "stderr",
          "text": [
            "[I 2025-01-28 14:40:58,865] Trial 0 finished with value: 1790.100781801315 and parameters: {'booster': 'gblinear', 'learning_rate': 0.002753680942762691, 'max_depth': 10, 'gamma': 0.00220622818381016, 'subsample': 0.4708139065125287, 'reg_alpha': 1.631672431296607e-05, 'reg_lambda': 3.1509989017498665e-06, 'colsample_bytree': 0.22830260137573088, 'min_child_weight': 1, 'n_estimators': 543}. Best is trial 0 with value: 1790.100781801315.\n"
          ]
        },
        {
          "output_type": "stream",
          "name": "stdout",
          "text": [
            "[0]\ttrain-rmse:1809.66580+36.40265\ttest-rmse:1804.77652+147.48467\n",
            "[50]\ttrain-rmse:1423.00643+13.25575\ttest-rmse:1462.73277+96.97814\n",
            "[100]\ttrain-rmse:1190.90471+8.65370\ttest-rmse:1260.43602+74.79056\n",
            "[150]\ttrain-rmse:1049.50473+7.66450\ttest-rmse:1151.88599+65.59548\n",
            "[200]\ttrain-rmse:941.91733+7.73058\ttest-rmse:1071.37299+59.49048\n",
            "[250]\ttrain-rmse:865.27804+8.71239\ttest-rmse:1019.76787+55.69555\n",
            "[300]\ttrain-rmse:806.32393+9.58161\ttest-rmse:981.65656+54.43342\n",
            "[350]\ttrain-rmse:761.20495+9.99372\ttest-rmse:955.35853+53.15081\n",
            "[400]\ttrain-rmse:722.10982+11.34937\ttest-rmse:933.45562+50.89833\n",
            "[450]\ttrain-rmse:691.73653+12.01483\ttest-rmse:920.60522+50.99076\n",
            "[500]\ttrain-rmse:665.71317+11.66290\ttest-rmse:907.95061+50.80302\n"
          ]
        }
      ],
      "source": [
        "\n",
        "# Define the objective function for Optuna\n",
        "def objective(trial):\n",
        "    # Hyperparameter search space\n",
        "    params = {\n",
        "        'verbosity': 0,\n",
        "        'booster': trial.suggest_categorical('booster', ['gbtree', 'gblinear', 'dart']),\n",
        "        'objective': 'reg:squarederror',  # Regression objective\n",
        "        'eval_metric': 'rmse',            # Root Mean Squared Error\n",
        "        'learning_rate': trial.suggest_float('learning_rate', 1e-3, 0.3, log=True),\n",
        "        'max_depth': trial.suggest_int('max_depth', 3, 10),\n",
        "        'gamma': trial.suggest_float('gamma', 1e-8, 1.0, log=True),\n",
        "        'subsample': trial.suggest_float('subsample', 0.2, 1.0),\n",
        "        'reg_alpha': trial.suggest_float('reg_alpha', 1e-8, 1.0, log=True),\n",
        "        'reg_lambda': trial.suggest_float('reg_lambda', 1e-8, 1.0, log=True),\n",
        "        'colsample_bytree': trial.suggest_float('colsample_bytree', 0.2, 1.0),\n",
        "        'min_child_weight': trial.suggest_int('min_child_weight', 0, 10),\n",
        "        'n_estimators': trial.suggest_int('n_estimators', 100, 1000),\n",
        "    }\n",
        "\n",
        "\n",
        "    # Cross-validation\n",
        "    cv_results = xgb.cv(\n",
        "        params=params,\n",
        "        dtrain=xgb.DMatrix(X_train, label=y_train),\n",
        "        folds=KFold(n_splits=5),\n",
        "        metrics='rmse',\n",
        "        num_boost_round=params['n_estimators'],\n",
        "        as_pandas=True,\n",
        "        verbose_eval=50,\n",
        "        early_stopping_rounds=10\n",
        "    )\n",
        "\n",
        "    #Added a try-except block to catch exceptions during a trial\n",
        "    try:\n",
        "        return cv_results['test-rmse-mean'].min() # Return the minimum RMSE\n",
        "    except Exception as e:\n",
        "        # Print or log the exception to understand the issue\n",
        "        print(f\"Trial failed with exception: {e}\")\n",
        "        # Consider returning a large value to indicate trial failure to Optuna\n",
        "        return float('inf')\n",
        "# Run Optuna optimization (minization problem)\n",
        "study = optuna.create_study(study_name=\"xgboost_model_study\", direction=\"minimize\")\n",
        "study.optimize(objective, n_trials=2)\n",
        "\n",
        "# Best hyperparameters\n",
        "# print(\"Best hyperparameters:\", study.best_params)\n"
      ]
    },
    {
      "cell_type": "code",
      "execution_count": null,
      "metadata": {
        "id": "JImowLD1Yqqs"
      },
      "outputs": [],
      "source": [
        "bst_malaria = xgb.train(\n",
        "    params,\n",
        "    dtrain_malaria,\n",
        "    num_boost_round=best_boost_rounds,\n",
        "    evals=[(dtrain_malaria, 'train'), (dval_malaria, 'val')],\n",
        "    verbose_eval=50\n",
        ")\n"
      ]
    },
    {
      "cell_type": "code",
      "execution_count": null,
      "metadata": {
        "id": "JlllrQxSYUYx"
      },
      "outputs": [],
      "source": []
    }
  ],
  "metadata": {
    "colab": {
      "provenance": [],
      "authorship_tag": "ABX9TyMfF3EpPir+5fNxSRUgpilo",
      "include_colab_link": true
    },
    "kernelspec": {
      "display_name": "Python 3",
      "name": "python3"
    },
    "language_info": {
      "name": "python"
    }
  },
  "nbformat": 4,
  "nbformat_minor": 0
}